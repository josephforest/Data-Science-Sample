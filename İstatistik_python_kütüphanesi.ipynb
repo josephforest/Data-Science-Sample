{
 "cells": [
  {
   "cell_type": "code",
   "execution_count": 1,
   "metadata": {},
   "outputs": [],
   "source": [
    "# BURDA KONU ANLATIMI YOK SADECE İSTATİSTİK İLE İLGİLİ PAYTHON KÜTÜPHANESİ VE FONKSİYONLARI VAR.\n",
    "# ilk önce numpy ve pandası import edelim\n",
    "import numpy as np\n",
    "import pandas as pd"
   ]
  },
  {
   "cell_type": "code",
   "execution_count": null,
   "metadata": {},
   "outputs": [],
   "source": [
    "# hem numpy hem pandasta \n",
    "mean() # ortalama\n",
    "var() # varyans değer hesaplar\n",
    "std() # standart sapma değerini hesaplar."
   ]
  },
  {
   "cell_type": "code",
   "execution_count": null,
   "metadata": {},
   "outputs": [],
   "source": [
    "# kovaryans ve korelasyon katsayısı hesaplamak için\n",
    "# kafadan bir dataframe uyduralım ve 2 tane değer uyduralım.\n",
    "df[[\"deg1, deg2\"]].cov() # 2 değişken arasındaki kovaryans değeri hesaplar\n",
    "df[[\"deg1,deg2\"]].corr() # 2 değişken arasındaki korelasyon katsayısını hesaplar."
   ]
  },
  {
   "cell_type": "code",
   "execution_count": 2,
   "metadata": {},
   "outputs": [],
   "source": [
    "# Güven aralıklarını bulmak için yani güven aralık testi yapmak için :\n",
    "import statsmodels.stats.api as sms\n",
    "# kütüphanesini import ederiz. % 95 e göre hesaplayacağız.\n",
    "sms.DescrStatsW(\"deg1\").tconfint_mean() # deg1 deki değerlerin %95 güven aralığını hesaplar."
   ]
  },
  {
   "cell_type": "code",
   "execution_count": 3,
   "metadata": {},
   "outputs": [],
   "source": [
    "# Binom Olasılık hesaplamaları için yani sonucu sadece 2 tane olasılık olacak  : \n",
    "from scipy.stats import binom\n",
    "# ör paranın atıldığı zaman yazı veya tura gelme dışında başka bir olasılığı yoktur. Bu tür olasılıklarda istenen rakam 1 den\n",
    "# fazla ise binom kullanılır. Örneğin paranın 10 defa atılması sonucunda 3 defa yazı gelme olasılığı"
   ]
  },
  {
   "cell_type": "code",
   "execution_count": 4,
   "metadata": {},
   "outputs": [
    {
     "name": "stdout",
     "output_type": "stream",
     "text": [
      "0.11718750000000014\n"
     ]
    }
   ],
   "source": [
    "p=1/2 # tek seferde yazı gelme olasılığını yazdık. \n",
    "n=10 # 10 kere parayı atacağımız için 10 yazdık. \n",
    "rv=binom(n,p) # rv değişkeni oluşturup binom fonksiyonu içine adet sayısı ve gelme olasılığını yazdık.\n",
    "print(rv.pmf(3)) # rv.pmf(3) diyerek 3 kerede kaç"
   ]
  },
  {
   "cell_type": "code",
   "execution_count": 6,
   "metadata": {},
   "outputs": [
    {
     "name": "stdout",
     "output_type": "stream",
     "text": [
      "0.1376769780411257\n"
     ]
    }
   ],
   "source": [
    "# Poison Olasılık için Kullanılacak fonksiyon : Poisson çok nadir gerçekleşen olaylar için kullanılır.\n",
    "# Örnek : Bir kavşakta 4 aylık sürede yaşanan kaza ortalaması 6 dır.\n",
    "# 4 ayda 7 kez kaza olma olasılığı\n",
    "from scipy.stats import poisson\n",
    "rv=poisson(mu=6)\n",
    "print(rv.pmf(k=7))"
   ]
  },
  {
   "cell_type": "code",
   "execution_count": 7,
   "metadata": {},
   "outputs": [],
   "source": [
    "# Normal Dağılım : en çok kullanılan olasılık türü. Normal dağıldığı bilinen sürekli rassal değişkenler \n",
    "# için olasılık hesabında kullanılır. Sürekli olan bir olay üzerinden yapacağımız bir olasılık hesabıdır.\n",
    "from scipy.stats import norm\n",
    "\n",
    "# Ör : Bir toplantı öncesinde gelecek ay ile ilgili satışların belirli değerlerde gerçekleşmesi olasılığı belirlenmek istenir.\n",
    "# Aylık ortalama satışımız 80 tl. standart sapmamız 2.5 tl diyelim. \n",
    "# Aylık 90 tl den fazla satış yapma olasılığımız nedir?\n",
    "\n",
    "# 90 dan fazla olma olasılığı \n",
    "1-norm.cdf(90,80,2.5)\n",
    "\n",
    "# 70 den fazla olma olasılığı\n",
    "1-norm.cdf(70,80,2.5)\n",
    "\n",
    "# 73 den az olması\n",
    "norm.cdf(72,80,2.5)\n",
    "\n",
    "# 85 ile 90 arasında olması : \n",
    "norm.cdf(90,80,2.5)-norm.cdf(85,80,2.5)"
   ]
  },
  {
   "cell_type": "code",
   "execution_count": null,
   "metadata": {},
   "outputs": [],
   "source": [
    "# HİPOTEZ TESTLERİ İÇİN GEREKLİ KÜTÜPHANE VE FONKSİYONLAR : "
   ]
  },
  {
   "cell_type": "code",
   "execution_count": null,
   "metadata": {},
   "outputs": [],
   "source": [
    "# tek örneklem için hipotez testleri : \n",
    "\n",
    "# 1- normallik testi : \n",
    "from scipy.stats import shapiro\n",
    "shapiro(orneklem) # dersek bu örneklemin normallik testini hesaplar\n",
    "\n",
    "# 2- tek örneklem için T testi (hipotez testi) :\n",
    "import scipy.stats as sts\n",
    "sts.ttest_1samp(orneklem, istenen_sayi_degeri)\n",
    "\n",
    "# 3- tek örneklem için nanparametrik hipotez testi : \n",
    "from statsmodels.stats.descriptivestats import sign_test\n",
    "sign_test(orneklem,istenen_sayi_degeri)\n",
    "\n",
    "# 4- tek örneklem oran testi :\n",
    "from statsmodels.stats.proportion import proportions_ztest\n",
    "proportions_ztest(deger,ana_deger,ortalama)"
   ]
  },
  {
   "cell_type": "code",
   "execution_count": null,
   "metadata": {},
   "outputs": [],
   "source": [
    "# 2 tane bağımsız ÖRNEKLEM için hipotez testi : \n",
    "\n",
    "# 1-Normallik testi:\n",
    "shapiro(gelir_concat[\"gelir_eski\"])\n",
    "shapiro(gelir_concat[\"gelir_yeni\"])\n",
    "\n",
    "# 2- Varyans testi : varyans homojen mi değil mi?\n",
    "sts.levene(gelir_concat[\"gelir_eski\"],gelir_concat[\"gelir_yeni\"])\n",
    "\n",
    "# 3-) 2 tane bağımsız değişken için T testi  :\n",
    "sts.ttest_ind(gelir_concat[\"gelir_eski\"],gelir_concat[\"gelir_yeni\"],equal_var=True)\n",
    "# equal_var = True varyans homojenliği var demektir.\n",
    "\n",
    "#4-) 2 tane bağımsız değişken için nanparametrik test : \n",
    "sts.mannwhitneyu(gelir_concat[\"gelir_eski\"],gelir_concat[\"gelir_yeni\"])"
   ]
  },
  {
   "cell_type": "code",
   "execution_count": null,
   "metadata": {},
   "outputs": [],
   "source": [
    "# 2 tane bağımlı ÖRNEKLEM için tüm testler aynı birtek nanparametrik test farklı oda :\n",
    "sts.wilcoxon(sum_performance[\"before\"], sum_performance[\"new\"])"
   ]
  },
  {
   "cell_type": "code",
   "execution_count": null,
   "metadata": {},
   "outputs": [],
   "source": [
    "# 2 tane örneklem için oran testi :\n",
    "from statsmodels.stats.proportion import proportions_ztest\n",
    "proportions_ztest(count=degerler, nobs=gozlem_sayilari)"
   ]
  },
  {
   "cell_type": "code",
   "execution_count": null,
   "metadata": {},
   "outputs": [],
   "source": [
    "# 2 den fazla örneklem için Normallik testi\n",
    "from scipy.stats import shapiro\n",
    "shapiro(veri[\"tablo\"])\n",
    "\n",
    "# 2 den fazla örneklem için Varyans homojenlik testi :\n",
    "import scipy.stats as sts\n",
    "sts.levene(toplam_sure[\"normal\"],toplam_sure[\"yönlendirici\"],toplam_sure[\"ilgi\"] )\n",
    "\n",
    "# 2 den fazla örneklem için hipotez testi : \n",
    "from scipy.stats import f_oneway\n",
    "f_oneway(toplam_sure[\"normal\"],toplam_sure[\"yönlendirici\"],toplam_sure[\"ilgi\"])\n",
    "\n",
    "# 2 den fazla örneklem için nanparametrik testi : \n",
    "from scipy.stats import kruskal\n",
    "kruskal(toplam_sure[\"normal\"],toplam_sure[\"yönlendirici\"],toplam_sure[\"ilgi\"])"
   ]
  },
  {
   "cell_type": "code",
   "execution_count": null,
   "metadata": {},
   "outputs": [],
   "source": [
    " "
   ]
  }
 ],
 "metadata": {
  "kernelspec": {
   "display_name": "Python 3",
   "language": "python",
   "name": "python3"
  },
  "language_info": {
   "codemirror_mode": {
    "name": "ipython",
    "version": 3
   },
   "file_extension": ".py",
   "mimetype": "text/x-python",
   "name": "python",
   "nbconvert_exporter": "python",
   "pygments_lexer": "ipython3",
   "version": "3.8.5"
  }
 },
 "nbformat": 4,
 "nbformat_minor": 4
}
