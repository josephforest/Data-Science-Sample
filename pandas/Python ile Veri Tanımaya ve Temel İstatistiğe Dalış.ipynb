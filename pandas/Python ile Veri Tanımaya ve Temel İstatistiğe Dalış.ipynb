{
 "cells": [
  {
   "cell_type": "markdown",
   "metadata": {},
   "source": [
    "### veri kümesi oluşturmaa"
   ]
  },
  {
   "cell_type": "code",
   "execution_count": 1,
   "metadata": {},
   "outputs": [
    {
     "ename": "SyntaxError",
     "evalue": "invalid syntax (<ipython-input-1-6edbf0bda173>, line 1)",
     "output_type": "error",
     "traceback": [
      "\u001b[1;36m  File \u001b[1;32m\"<ipython-input-1-6edbf0bda173>\"\u001b[1;36m, line \u001b[1;32m1\u001b[0m\n\u001b[1;33m    kaynak: https://medium.com/@denizkilinc/python-ile-veri-tan%C4%B1maya-ve-temel-i%CC%87statisti%C4%9Fe-dal%C4%B1%C5%9F-7e1028270ac\u001b[0m\n\u001b[1;37m                 ^\u001b[0m\n\u001b[1;31mSyntaxError\u001b[0m\u001b[1;31m:\u001b[0m invalid syntax\n"
     ]
    }
   ],
   "source": [
    "kaynak: https://medium.com/@denizkilinc/python-ile-veri-tan%C4%B1maya-ve-temel-i%CC%87statisti%C4%9Fe-dal%C4%B1%C5%9F-7e1028270ac"
   ]
  },
  {
   "cell_type": "code",
   "execution_count": 4,
   "metadata": {},
   "outputs": [
    {
     "data": {
      "text/html": [
       "<div>\n",
       "<style scoped>\n",
       "    .dataframe tbody tr th:only-of-type {\n",
       "        vertical-align: middle;\n",
       "    }\n",
       "\n",
       "    .dataframe tbody tr th {\n",
       "        vertical-align: top;\n",
       "    }\n",
       "\n",
       "    .dataframe thead th {\n",
       "        text-align: right;\n",
       "    }\n",
       "</style>\n",
       "<table border=\"1\" class=\"dataframe\">\n",
       "  <thead>\n",
       "    <tr style=\"text-align: right;\">\n",
       "      <th></th>\n",
       "      <th>İsim</th>\n",
       "      <th>Meslek</th>\n",
       "      <th>Tarih</th>\n",
       "      <th>Yaş</th>\n",
       "      <th>ÇocukSayısı</th>\n",
       "      <th>Puan</th>\n",
       "    </tr>\n",
       "  </thead>\n",
       "  <tbody>\n",
       "    <tr>\n",
       "      <th>0</th>\n",
       "      <td>Ada</td>\n",
       "      <td>işçi</td>\n",
       "      <td>11.11.2010</td>\n",
       "      <td>21</td>\n",
       "      <td>NaN</td>\n",
       "      <td>89</td>\n",
       "    </tr>\n",
       "    <tr>\n",
       "      <th>1</th>\n",
       "      <td>Cem</td>\n",
       "      <td>işçi</td>\n",
       "      <td>11.11.2010</td>\n",
       "      <td>24</td>\n",
       "      <td>NaN</td>\n",
       "      <td>87</td>\n",
       "    </tr>\n",
       "    <tr>\n",
       "      <th>2</th>\n",
       "      <td>Sibel</td>\n",
       "      <td>memur</td>\n",
       "      <td>11.11.2010</td>\n",
       "      <td>25</td>\n",
       "      <td>NaN</td>\n",
       "      <td>77</td>\n",
       "    </tr>\n",
       "    <tr>\n",
       "      <th>3</th>\n",
       "      <td>Ahmet</td>\n",
       "      <td>serbest</td>\n",
       "      <td>18.11.2011</td>\n",
       "      <td>44</td>\n",
       "      <td>NaN</td>\n",
       "      <td>55</td>\n",
       "    </tr>\n",
       "    <tr>\n",
       "      <th>4</th>\n",
       "      <td>Mehmet</td>\n",
       "      <td>serbest</td>\n",
       "      <td>18.11.2011</td>\n",
       "      <td>31</td>\n",
       "      <td>NaN</td>\n",
       "      <td>70</td>\n",
       "    </tr>\n",
       "    <tr>\n",
       "      <th>5</th>\n",
       "      <td>Ali</td>\n",
       "      <td>None</td>\n",
       "      <td>None</td>\n",
       "      <td>27</td>\n",
       "      <td>1.0</td>\n",
       "      <td>79</td>\n",
       "    </tr>\n",
       "    <tr>\n",
       "      <th>6</th>\n",
       "      <td>Veli</td>\n",
       "      <td>None</td>\n",
       "      <td>None</td>\n",
       "      <td>35</td>\n",
       "      <td>2.0</td>\n",
       "      <td>73</td>\n",
       "    </tr>\n",
       "    <tr>\n",
       "      <th>7</th>\n",
       "      <td>Ayşe</td>\n",
       "      <td>sigortacı</td>\n",
       "      <td>None</td>\n",
       "      <td>33</td>\n",
       "      <td>0.0</td>\n",
       "      <td>79</td>\n",
       "    </tr>\n",
       "    <tr>\n",
       "      <th>8</th>\n",
       "      <td>Hüseyin</td>\n",
       "      <td>işsiz</td>\n",
       "      <td>11.11.2010</td>\n",
       "      <td>42</td>\n",
       "      <td>NaN</td>\n",
       "      <td>54</td>\n",
       "    </tr>\n",
       "    <tr>\n",
       "      <th>9</th>\n",
       "      <td>Necmi</td>\n",
       "      <td>None</td>\n",
       "      <td>None</td>\n",
       "      <td>29</td>\n",
       "      <td>NaN</td>\n",
       "      <td>92</td>\n",
       "    </tr>\n",
       "    <tr>\n",
       "      <th>10</th>\n",
       "      <td>Nalan</td>\n",
       "      <td>None</td>\n",
       "      <td>18.11.2011</td>\n",
       "      <td>41</td>\n",
       "      <td>NaN</td>\n",
       "      <td>61</td>\n",
       "    </tr>\n",
       "    <tr>\n",
       "      <th>11</th>\n",
       "      <td>Namık</td>\n",
       "      <td>memur</td>\n",
       "      <td>18.11.2011</td>\n",
       "      <td>43</td>\n",
       "      <td>NaN</td>\n",
       "      <td>69</td>\n",
       "    </tr>\n",
       "  </tbody>\n",
       "</table>\n",
       "</div>"
      ],
      "text/plain": [
       "       İsim     Meslek       Tarih  Yaş  ÇocukSayısı  Puan\n",
       "0       Ada       işçi  11.11.2010   21          NaN    89\n",
       "1       Cem       işçi  11.11.2010   24          NaN    87\n",
       "2     Sibel      memur  11.11.2010   25          NaN    77\n",
       "3     Ahmet    serbest  18.11.2011   44          NaN    55\n",
       "4    Mehmet    serbest  18.11.2011   31          NaN    70\n",
       "5       Ali       None        None   27          1.0    79\n",
       "6      Veli       None        None   35          2.0    73\n",
       "7      Ayşe  sigortacı        None   33          0.0    79\n",
       "8   Hüseyin      işsiz  11.11.2010   42          NaN    54\n",
       "9     Necmi       None        None   29          NaN    92\n",
       "10    Nalan       None  18.11.2011   41          NaN    61\n",
       "11    Namık      memur  18.11.2011   43          NaN    69"
      ]
     },
     "execution_count": 4,
     "metadata": {},
     "output_type": "execute_result"
    }
   ],
   "source": [
    "import pandas as pd\n",
    "import numpy as np\n",
    "\n",
    "sozluk = {'İsim':pd.Series(['Ada','Cem','Sibel','Ahmet','Mehmet','Ali','Veli',\n",
    "          'Ayşe','Hüseyin','Necmi','Nalan','Namık']),\n",
    "          'Meslek':pd.Series(['işçi','işçi','memur','serbest','serbest',None,None,\n",
    "          'sigortacı','işsiz',None,None,'memur']),\n",
    "          'Tarih':pd.Series(['11.11.2010','11.11.2010','11.11.2010','18.11.2011','18.11.2011',None,None,\n",
    "          None,'11.11.2010',None,'18.11.2011','18.11.2011']),          \n",
    "          'Yaş':pd.Series([21, 24, 25, 44, 31, 27, 35, 33, 42, 29, 41, 43]),\n",
    "          'ÇocukSayısı':pd.Series([None, None, None, None, None, 1, 2, 0, None, None, None, None]),\n",
    "          'Puan':pd.Series([89, 87, 77, 55, 70, 79, 73, 79, 54, 92, 61, 69])}\n",
    "df = pd.DataFrame(sozluk)\n",
    "df"
   ]
  },
  {
   "cell_type": "markdown",
   "metadata": {},
   "source": [
    "2. Pandas DataFrame Kullanarak Veri Tanıma ve Filtreleme\n",
    "Veri kümesi üzerinde veri tanıma ve filtreleme amacıyla kullanılabilecek temel fonksiyonlar bu bölümde anlatılmıştır."
   ]
  },
  {
   "cell_type": "code",
   "execution_count": null,
   "metadata": {},
   "outputs": [],
   "source": [
    "2.1. İlk 5 satırı görüntüleme\n",
    "df.head()"
   ]
  },
  {
   "cell_type": "code",
   "execution_count": null,
   "metadata": {},
   "outputs": [],
   "source": [
    "df.head()"
   ]
  },
  {
   "cell_type": "code",
   "execution_count": null,
   "metadata": {},
   "outputs": [],
   "source": [
    "2.2. Son 5 satırı görüntüleme\n",
    "df.tail()"
   ]
  },
  {
   "cell_type": "code",
   "execution_count": null,
   "metadata": {},
   "outputs": [],
   "source": [
    "df.tail()"
   ]
  },
  {
   "cell_type": "code",
   "execution_count": null,
   "metadata": {},
   "outputs": [],
   "source": [
    "2.3. Rasgele 5 satırı görüntüleme\n",
    "df.sample(5)"
   ]
  },
  {
   "cell_type": "code",
   "execution_count": 2,
   "metadata": {},
   "outputs": [
    {
     "ename": "NameError",
     "evalue": "name 'df' is not defined",
     "output_type": "error",
     "traceback": [
      "\u001b[1;31m---------------------------------------------------------------------------\u001b[0m",
      "\u001b[1;31mNameError\u001b[0m                                 Traceback (most recent call last)",
      "\u001b[1;32m<ipython-input-2-38b0ab1240ac>\u001b[0m in \u001b[0;36m<module>\u001b[1;34m\u001b[0m\n\u001b[1;32m----> 1\u001b[1;33m \u001b[0mdf\u001b[0m\u001b[1;33m.\u001b[0m\u001b[0msample\u001b[0m\u001b[1;33m(\u001b[0m\u001b[1;33m)\u001b[0m\u001b[1;33m\u001b[0m\u001b[1;33m\u001b[0m\u001b[0m\n\u001b[0m",
      "\u001b[1;31mNameError\u001b[0m: name 'df' is not defined"
     ]
    }
   ],
   "source": [
    "df.sample()"
   ]
  },
  {
   "cell_type": "code",
   "execution_count": null,
   "metadata": {},
   "outputs": [],
   "source": [
    "2.4. Satır ve sütun (öznitelik) sayısını görüntüleme\n",
    "df.shape\n",
    "#Sonuç: (12, 6)"
   ]
  },
  {
   "cell_type": "code",
   "execution_count": null,
   "metadata": {},
   "outputs": [],
   "source": [
    "df.shape"
   ]
  },
  {
   "cell_type": "code",
   "execution_count": null,
   "metadata": {},
   "outputs": [],
   "source": [
    "2.5. Özniteliklerin veri türleri, içerdikleri kayıt sayıları ve bellek kullanımı hakkında bilgi edinme\n",
    "df.info()"
   ]
  },
  {
   "cell_type": "code",
   "execution_count": null,
   "metadata": {},
   "outputs": [],
   "source": [
    "df.info()"
   ]
  },
  {
   "cell_type": "code",
   "execution_count": null,
   "metadata": {},
   "outputs": [],
   "source": [
    "2.6. Öznitelik seçerek kayıtları gösterme (projection)\n",
    "df['Yaş']"
   ]
  },
  {
   "cell_type": "code",
   "execution_count": null,
   "metadata": {},
   "outputs": [],
   "source": [
    "df['Yaş']"
   ]
  },
  {
   "cell_type": "code",
   "execution_count": null,
   "metadata": {},
   "outputs": [],
   "source": [
    "2.7. Öznitelik seçerek ilk 5 kaydı gösterme (top)\n",
    "df['İsim'][:5]"
   ]
  },
  {
   "cell_type": "code",
   "execution_count": null,
   "metadata": {},
   "outputs": [],
   "source": [
    "df['Yaş'][:5]"
   ]
  },
  {
   "cell_type": "code",
   "execution_count": null,
   "metadata": {},
   "outputs": [],
   "source": [
    "2.8. Birden fazla öznitelik seçme\n",
    "df[['Yaş', 'İsim']]"
   ]
  },
  {
   "cell_type": "code",
   "execution_count": null,
   "metadata": {},
   "outputs": [],
   "source": [
    "df[['Yaş','İsim']]"
   ]
  },
  {
   "cell_type": "code",
   "execution_count": null,
   "metadata": {},
   "outputs": [],
   "source": [
    "2.9. Kayıtlar üzerinde mantıksal koşul uygulayarak (and, or) filtreleme\n",
    "Yaşı 30'dan büyük ve (and) Puanı 50'den büyük kayıtları getir.\n",
    "df[(df['Yaş']>30) & (df['Puan']>50)]\n",
    "Yukarıdaki kod parçasını çalıştırdığımızda aşağıdaki çıktıyı elde ederiz. \n",
    "30 yaşından büyük olan ve sınavda 50 puandan yüksek alan 7 kayıt listeleniyor."
   ]
  },
  {
   "cell_type": "code",
   "execution_count": null,
   "metadata": {},
   "outputs": [],
   "source": [
    "df[(df['Yaş']>30) & (df['Puan']>50)]"
   ]
  },
  {
   "cell_type": "code",
   "execution_count": null,
   "metadata": {},
   "outputs": [],
   "source": [
    "Mesleği ‘işçi’ olan veya (or) Puanı 90'dan büyük olan kayıtları getir."
   ]
  },
  {
   "cell_type": "code",
   "execution_count": null,
   "metadata": {},
   "outputs": [],
   "source": [
    "df[(df['Meslek'] == \"işçi\") | (df['Puan'] > 90)]"
   ]
  },
  {
   "cell_type": "code",
   "execution_count": null,
   "metadata": {},
   "outputs": [],
   "source": [
    "2.10. Sıralama (sorting)\n",
    "Puan bilgisine göre azalan şekilde sırala (büyükten → küçüğe)."
   ]
  },
  {
   "cell_type": "code",
   "execution_count": null,
   "metadata": {},
   "outputs": [],
   "source": [
    "df.sort_values('Puan', axis=0, ascending=False)"
   ]
  },
  {
   "cell_type": "code",
   "execution_count": null,
   "metadata": {},
   "outputs": [],
   "source": [
    "df.sort_values('Puan', axis = 0, ascending = False)\n",
    "sort_values() fonksiyonu kullanılarak gerçekleştirilen sıralama işleminin sonucu (ekran çıktısı) \n",
    "ve fonksiyonun parametre değerlerinin anlamları aşağıdaki gibidir.\n",
    "“axis = 0” → satırların sıralanacağı anlamına gelir.\n",
    "“ascending = false” → azalan şekilde sıralama yapılmasını sağlar.\n"
   ]
  },
  {
   "cell_type": "code",
   "execution_count": null,
   "metadata": {},
   "outputs": [],
   "source": [
    "2.11. Koşul ve sıralamayı birlikte kullanma\n",
    "Yaşı 30'dan ve Puanı 50'den büyük olan kayıtları, puan bilgisine göre azalan şekilde sırala.\n",
    "df[(df['Yaş']>30) & (df['Puan']>50)].sort_values('Puan', axis=0, ascending=False)"
   ]
  },
  {
   "cell_type": "code",
   "execution_count": null,
   "metadata": {},
   "outputs": [],
   "source": [
    "df[(df['Yaş']>30) & (df['Puan'] > 50)].sort_values('Puan', axis=0, ascending = False)"
   ]
  },
  {
   "cell_type": "code",
   "execution_count": null,
   "metadata": {},
   "outputs": [],
   "source": [
    "2.12. Gruplama: Meslek bazında kayıt sayısı görüntüleme (groupby)\n"
   ]
  },
  {
   "cell_type": "code",
   "execution_count": null,
   "metadata": {},
   "outputs": [],
   "source": [
    "df.groupby('Meslek').size()"
   ]
  },
  {
   "cell_type": "code",
   "execution_count": null,
   "metadata": {},
   "outputs": [],
   "source": [
    "Mesleği girilmeyen ya da None olan kayıtları gruplamaya dahil etmek için aşağıdaki kod parçasını kullanabiliriz. \n",
    "Aşağıdaki kod parçasında olduğu gibi gruplama yapmadan hemen önce astype(str) ile tip dönüşümü yapabiliriz."
   ]
  },
  {
   "cell_type": "code",
   "execution_count": null,
   "metadata": {},
   "outputs": [],
   "source": [
    "df['Meslek'] = df['Meslek'].astype(str)"
   ]
  },
  {
   "cell_type": "code",
   "execution_count": null,
   "metadata": {},
   "outputs": [],
   "source": [
    "df['Meslek'] = df['Meslek'].astype(str)\n",
    "df.groupby('Meslek').size()"
   ]
  },
  {
   "cell_type": "code",
   "execution_count": null,
   "metadata": {},
   "outputs": [],
   "source": [
    "2.13. Gruplama: Meslek bazında alınan puanların ortalamasını görüntüleme (groupby)\n",
    "lambda ve apply() fonksiyonunu birlikte kullanıyoruz."
   ]
  },
  {
   "cell_type": "code",
   "execution_count": null,
   "metadata": {},
   "outputs": [],
   "source": [
    "df.groupby('Meslek')['Puan'].mean()"
   ]
  },
  {
   "cell_type": "code",
   "execution_count": null,
   "metadata": {},
   "outputs": [],
   "source": [
    "df.groupby('Meslek')['Puan'].apply(lambda x: np.mean(x))"
   ]
  },
  {
   "cell_type": "markdown",
   "metadata": {},
   "source": [
    "3. Pandas DataFrame Kullanarak Temel İstatistik Bilgisi Edinme\n",
    "Bu bölümde hem aşağıdaki temel istatistik terimlerini anlamaya çalışacağız hem de terimlerle ilgili\n",
    "veri kümesi üzerinden örnekler vereceğiz.\n",
    "***Merkezi eğilim ölçüleri: mod, medyan, aritmetik ortalama\n",
    "---Dağılım ölçüleri: standart sapma, varyans, kovaryans, korelasyon"
   ]
  },
  {
   "cell_type": "code",
   "execution_count": null,
   "metadata": {},
   "outputs": [],
   "source": [
    "3.1. Mod (Tepe Değer)\n",
    "Sayısal bir veri serisi içindeki en çok tekrar eden sayı, o serinin modu olarak adlandırılır. \n",
    "\n",
    "Bazı serilerde maksimum tekrar sayısına sahip birden fazla seri elemanı olabilir. Bu durumda, serinin birden fazla modu olur. Veri kümesindeki “Puan” özniteliğinin (bu öznitelik değerleri aynı zamanda sayısal değerlere sahip bir seridir) mod değeri aşağıdaki kod parçası kullanılarak elde edilebilir.\n",
    "#Puan özniteliğinin modu\n",
    "df['Puan'].mode()\n",
    "#Sonuç: 79"
   ]
  },
  {
   "cell_type": "code",
   "execution_count": null,
   "metadata": {},
   "outputs": [],
   "source": [
    "df['Puan'].mode()"
   ]
  },
  {
   "cell_type": "code",
   "execution_count": null,
   "metadata": {},
   "outputs": [],
   "source": [
    "3.2. Medyan (Ortanca)\n",
    "Sayısal bir veri serisi sıralandığında ortada kalan sayıdır. \n",
    "Veri kümesindeki “Puan” özniteliğinin medyanı aşağıdaki kod parçası kullanılarak elde edilebilir.\n",
    "#Puan özniteliğinin medyanı\n",
    "df['Puan'].median()\n",
    "#Sonuç: 75.0"
   ]
  },
  {
   "cell_type": "code",
   "execution_count": null,
   "metadata": {},
   "outputs": [],
   "source": [
    "df.median()"
   ]
  },
  {
   "cell_type": "code",
   "execution_count": null,
   "metadata": {},
   "outputs": [],
   "source": [
    "df['Yaş'].median()"
   ]
  },
  {
   "cell_type": "code",
   "execution_count": null,
   "metadata": {},
   "outputs": [],
   "source": [
    "Bir serideki sayıların toplamının serinin eleman adedine bölünmesi ile elde edilen değerdir ve aşağıdaki gibi hesaplanır.\n",
    "#Puan özniteliğinin ortalaması\n",
    "df['Puan'].mean()\n",
    "#Sonuç: 73.75"
   ]
  },
  {
   "cell_type": "code",
   "execution_count": null,
   "metadata": {},
   "outputs": [],
   "source": [
    "df.mean()"
   ]
  },
  {
   "cell_type": "code",
   "execution_count": null,
   "metadata": {},
   "outputs": [],
   "source": [
    "Sayısal tüm özniteliklerin ortalaması el edilmek istenirse aşağıdaki kod parçasından yararlanılabilir.\n",
    "#Sayısal tüm özniteliklerin ortalamaları\n",
    "df.mean(axis = 0, skipna = True)"
   ]
  },
  {
   "cell_type": "code",
   "execution_count": 12,
   "metadata": {},
   "outputs": [
    {
     "data": {
      "text/plain": [
       "Yaş            32.916667\n",
       "ÇocukSayısı     1.000000\n",
       "Puan           73.750000\n",
       "dtype: float64"
      ]
     },
     "execution_count": 12,
     "metadata": {},
     "output_type": "execute_result"
    }
   ],
   "source": [
    "df.mean(axis=0, skipna=True)"
   ]
  },
  {
   "cell_type": "code",
   "execution_count": null,
   "metadata": {},
   "outputs": [],
   "source": [
    "3.4. Standart Sapma\n",
    "Bir serideki sayıların, serinin aritmetik ortalamasından farklarının karelerinin toplamının, \n",
    "serinin eleman sayısının bir eksiğine bölümünün kareköküdür. Standart sapma ile verilerin ne \n",
    "kadarının ortalamaya yakın olduğunu buluruz. Eğer standart sapma küçükse veriler ortalamaya yakın yerlerde dağılmışlardır.\n",
    "Tam tersi durumda, standart sapma büyükse, veriler ortalamadan uzak yerlerde dağılmışlardır. Bütün değerler aynı olursa \n",
    "standart sapma sıfır olur."
   ]
  },
  {
   "cell_type": "code",
   "execution_count": 7,
   "metadata": {},
   "outputs": [
    {
     "data": {
      "text/plain": [
       "8.061787906067998"
      ]
     },
     "execution_count": 7,
     "metadata": {},
     "output_type": "execute_result"
    }
   ],
   "source": [
    "df.std()\n",
    "df['Yaş'].std()"
   ]
  },
  {
   "cell_type": "code",
   "execution_count": null,
   "metadata": {},
   "outputs": [],
   "source": [
    "3.5. Varyans\n",
    "Standart sapmanın karesidir."
   ]
  },
  {
   "cell_type": "code",
   "execution_count": 6,
   "metadata": {},
   "outputs": [
    {
     "data": {
      "text/plain": [
       "Yaş             64.992424\n",
       "ÇocukSayısı      1.000000\n",
       "Puan           158.931818\n",
       "dtype: float64"
      ]
     },
     "execution_count": 6,
     "metadata": {},
     "output_type": "execute_result"
    }
   ],
   "source": [
    "np.power(df.std(),2)  "
   ]
  },
  {
   "cell_type": "code",
   "execution_count": null,
   "metadata": {},
   "outputs": [],
   "source": [
    "3.6. Kovaryans\n",
    "Sayısal değere sahip değişkenlerin/özniteliklerin (Örn: Puan ile Yaş) birlikte nasıl değiştiğini diğer\n",
    "bir tabirle ilişkilerini araştırır. İlişkinin yönü +(pozitif, aynı yönlü),\n",
    "-(negatif, ters yönlü) ya da 0 (sıfır)olabilir. Formülü aşağıdaki gibidir.\n",
    "\n",
    "X ve y değişkenleri arasındaki kovaryans değeri hesaplama formülü\n",
    "Veri kümesinde yer alan tüm öznitelikler arasındaki kovaryans değerlerini içeren\n",
    "matris aşağıdaki kod parçasıyla hesaplanabilir.\n",
    "#Kovaryans matrisi hesapla\n",
    "df.cov()"
   ]
  },
  {
   "cell_type": "code",
   "execution_count": null,
   "metadata": {},
   "outputs": [],
   "source": [
    "df[['Yaş','Puan']].cov()"
   ]
  },
  {
   "cell_type": "code",
   "execution_count": null,
   "metadata": {},
   "outputs": [],
   "source": [
    "df.cov()"
   ]
  },
  {
   "cell_type": "code",
   "execution_count": null,
   "metadata": {},
   "outputs": [],
   "source": [
    "Not: Kovaryans matrisi bize; Puan ile Yaş arasında negatif,\n",
    "    Puan ile ÇocukSayısı arasında negatif, Yaş ile ÇocukSayısı \n",
    "    arasında pozitif bir ilişkinin var olduğunu göstermektedir.\n",
    "    Ancak ilişkinin şiddeti hakkında bir yorum yapamayız."
   ]
  },
  {
   "cell_type": "code",
   "execution_count": null,
   "metadata": {},
   "outputs": [],
   "source": [
    "3.7. Korelasyon\n",
    "İki veya daha fazla bağımsız değişken (öznitelik)arasındaki ilişkinin varlığı, \n",
    "bu ilişkinin yönü ve şiddeti korelasyon analizi ve sonucunda elde edilen korelasyon katsayısı ile belirlenir.\n",
    "\n",
    "\n",
    "X ve y değişkenleri arasındaki korelasyon katsayı değeri hesaplama formülü\n",
    "Korelasyon katsayısı “r”, “-1” ve “1” arasında değişen değerler alır. \n",
    "Değer sonuçları ile ilgili yorumlar aşağıdaki gibidir.\n",
    "r = -1 → negatif yönlü mükemmel bir ilişki\n",
    "r = 1 → pozitif yönlü mükemmel bir ilişki\n",
    "r = 0 → ilişki yok\n",
    "r = 0.8 → pozitif yönlü iyi bir ilişki\n",
    "r = -0.6 → negatif yönlü orta seviye bir ilişki\n",
    "Veri kümesinde yer alan tüm öznitelikler arasındaki korelasyon katsayısı değerlerini\n",
    "içeren matrisi hesaplamak için aşağıdaki kod parçası kullanılabilir."
   ]
  },
  {
   "cell_type": "code",
   "execution_count": null,
   "metadata": {},
   "outputs": [],
   "source": [
    "# korelasyon hesapla\n",
    "df.corr()"
   ]
  },
  {
   "cell_type": "code",
   "execution_count": null,
   "metadata": {},
   "outputs": [],
   "source": [
    "Not: Korelasyon matrisine göre Puan ile Yaş arasında negatif (ters yönlü) güçlü bir ilişki, \n",
    "    Puan ile ÇocukSayısı arasında yine negatif (ters yönlü) güçlü bir ilişki, \n",
    "    Yaş ile ÇocukSayısı arasında pozitif (aynı yönlü) zayıf bir ilişki vardır.\n",
    "* Yaş arttıkça sınavdan alınan puan düşmektedir.\n",
    "* Çocuk sayısı arttıkça puan düşmektedir.\n",
    "Yaş ile puan arasındaki ters yönlü ilişkiyi basitçe çizdirerek,\n",
    "mevcut durumu görmek istersek aşağıdaki gibi kod parçasını kullanabiliriz."
   ]
  },
  {
   "cell_type": "code",
   "execution_count": 5,
   "metadata": {},
   "outputs": [
    {
     "data": {
      "image/png": "[encoded data removed]",
      "text/plain": [
       "<Figure size 432x288 with 1 Axes>"
      ]
     },
     "metadata": {
      "needs_background": "light"
     },
     "output_type": "display_data"
    }
   ],
   "source": [
    "df.plot(x = \"Yaş\", y = \"Puan\", style = \".\");\n"
   ]
  },
  {
   "cell_type": "code",
   "execution_count": null,
   "metadata": {},
   "outputs": [],
   "source": [
    "import seaborn as sns"
   ]
  },
  {
   "cell_type": "code",
   "execution_count": null,
   "metadata": {},
   "outputs": [],
   "source": [
    "sns.barplot(x = 'Yaş', y = 'Puan', data = df);"
   ]
  }
 ],
 "metadata": {
  "kernelspec": {
   "display_name": "Python 3",
   "language": "python",
   "name": "python3"
  },
  "language_info": {
   "codemirror_mode": {
    "name": "ipython",
    "version": 3
   },
   "file_extension": ".py",
   "mimetype": "text/x-python",
   "name": "python",
   "nbconvert_exporter": "python",
   "pygments_lexer": "ipython3",
   "version": "3.8.5"
  }
 },
 "nbformat": 4,
 "nbformat_minor": 4
}
