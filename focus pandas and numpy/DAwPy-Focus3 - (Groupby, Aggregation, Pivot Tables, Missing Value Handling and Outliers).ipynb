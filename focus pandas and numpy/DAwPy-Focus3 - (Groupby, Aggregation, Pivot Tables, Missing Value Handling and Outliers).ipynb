{
 "cells": [
  {
   "cell_type": "markdown",
   "metadata": {
    "id": "hwXN7av6QhlX"
   },
   "source": [
    "___\n",
    "\n",
    "<p style=\"text-align: center;\"><img src=\"https://docs.google.com/uc?id=1lY0Uj5R04yMY3-ZppPWxqCr5pvBLYPnV\" class=\"img-fluid\" alt=\"CLRSWY\"></p>\n",
    "\n",
    "___"
   ]
  },
  {
   "cell_type": "markdown",
   "metadata": {
    "collapsed": true,
    "id": "oK6Sr7bqQhle"
   },
   "source": [
    "# Aggregation & Groupby\n",
    "\n",
    "The ``groupby`` method allows you to group rows of data together and call aggregate functions"
   ]
  },
  {
   "cell_type": "markdown",
   "metadata": {
    "id": "m-P4HnRXQhle"
   },
   "source": [
    "### Basic aggregation methods:\n",
    "\n",
    "* ``count()``\n",
    "* ``mean()``\n",
    "* ``median()``\n",
    "* ``min()``\n",
    "* ``max()``\n",
    "* ``std()``\n",
    "* ``var()``\n",
    "* ``sum()``\n"
   ]
  },
  {
   "cell_type": "code",
   "execution_count": 1,
   "metadata": {
    "id": "9fK0LEmHQhle"
   },
   "outputs": [],
   "source": [
    "import seaborn as sns\n",
    "import pandas as pd\n",
    "import numpy as np"
   ]
  },
  {
   "cell_type": "markdown",
   "metadata": {
    "id": "QQjezVhdQhll"
   },
   "source": [
    " - # ``df.groupby()``"
   ]
  },
  {
   "cell_type": "code",
   "execution_count": 2,
   "metadata": {},
   "outputs": [
    {
     "data": {
      "text/html": [
       "<div>\n",
       "<style scoped>\n",
       "    .dataframe tbody tr th:only-of-type {\n",
       "        vertical-align: middle;\n",
       "    }\n",
       "\n",
       "    .dataframe tbody tr th {\n",
       "        vertical-align: top;\n",
       "    }\n",
       "\n",
       "    .dataframe thead th {\n",
       "        text-align: right;\n",
       "    }\n",
       "</style>\n",
       "<table border=\"1\" class=\"dataframe\">\n",
       "  <thead>\n",
       "    <tr style=\"text-align: right;\">\n",
       "      <th></th>\n",
       "      <th>method</th>\n",
       "      <th>number</th>\n",
       "      <th>orbital_period</th>\n",
       "      <th>mass</th>\n",
       "      <th>distance</th>\n",
       "      <th>year</th>\n",
       "    </tr>\n",
       "  </thead>\n",
       "  <tbody>\n",
       "    <tr>\n",
       "      <th>0</th>\n",
       "      <td>Radial Velocity</td>\n",
       "      <td>1</td>\n",
       "      <td>269.300</td>\n",
       "      <td>7.10</td>\n",
       "      <td>77.40</td>\n",
       "      <td>2006</td>\n",
       "    </tr>\n",
       "    <tr>\n",
       "      <th>1</th>\n",
       "      <td>Radial Velocity</td>\n",
       "      <td>1</td>\n",
       "      <td>874.774</td>\n",
       "      <td>2.21</td>\n",
       "      <td>56.95</td>\n",
       "      <td>2008</td>\n",
       "    </tr>\n",
       "    <tr>\n",
       "      <th>2</th>\n",
       "      <td>Radial Velocity</td>\n",
       "      <td>1</td>\n",
       "      <td>763.000</td>\n",
       "      <td>2.60</td>\n",
       "      <td>19.84</td>\n",
       "      <td>2011</td>\n",
       "    </tr>\n",
       "    <tr>\n",
       "      <th>3</th>\n",
       "      <td>Radial Velocity</td>\n",
       "      <td>1</td>\n",
       "      <td>326.030</td>\n",
       "      <td>19.40</td>\n",
       "      <td>110.62</td>\n",
       "      <td>2007</td>\n",
       "    </tr>\n",
       "    <tr>\n",
       "      <th>4</th>\n",
       "      <td>Radial Velocity</td>\n",
       "      <td>1</td>\n",
       "      <td>516.220</td>\n",
       "      <td>10.50</td>\n",
       "      <td>119.47</td>\n",
       "      <td>2009</td>\n",
       "    </tr>\n",
       "  </tbody>\n",
       "</table>\n",
       "</div>"
      ],
      "text/plain": [
       "            method  number  orbital_period   mass  distance  year\n",
       "0  Radial Velocity       1         269.300   7.10     77.40  2006\n",
       "1  Radial Velocity       1         874.774   2.21     56.95  2008\n",
       "2  Radial Velocity       1         763.000   2.60     19.84  2011\n",
       "3  Radial Velocity       1         326.030  19.40    110.62  2007\n",
       "4  Radial Velocity       1         516.220  10.50    119.47  2009"
      ]
     },
     "execution_count": 2,
     "metadata": {},
     "output_type": "execute_result"
    }
   ],
   "source": [
    "df = sns.load_dataset(\"planets\")\n",
    "df.head()"
   ]
  },
  {
   "cell_type": "code",
   "execution_count": 3,
   "metadata": {
    "id": "oLcbQSnFQhlm",
    "outputId": "5aecce17-4a8c-486b-89b4-a62a48c8b9cd"
   },
   "outputs": [
    {
     "data": {
      "text/plain": [
       "Radial Velocity                  553\n",
       "Transit                          397\n",
       "Imaging                           38\n",
       "Microlensing                      23\n",
       "Eclipse Timing Variations          9\n",
       "Pulsar Timing                      5\n",
       "Transit Timing Variations          4\n",
       "Orbital Brightness Modulation      3\n",
       "Astrometry                         2\n",
       "Pulsation Timing Variations        1\n",
       "Name: method, dtype: int64"
      ]
     },
     "execution_count": 3,
     "metadata": {},
     "output_type": "execute_result"
    }
   ],
   "source": [
    "df['method'].value_counts()"
   ]
  },
  {
   "cell_type": "code",
   "execution_count": 4,
   "metadata": {
    "id": "iPoJyMr2Qhlm",
    "outputId": "721265ba-43ca-41b1-f820-d3fc9ac40c34",
    "scrolled": true
   },
   "outputs": [
    {
     "data": {
      "text/html": [
       "<div>\n",
       "<style scoped>\n",
       "    .dataframe tbody tr th:only-of-type {\n",
       "        vertical-align: middle;\n",
       "    }\n",
       "\n",
       "    .dataframe tbody tr th {\n",
       "        vertical-align: top;\n",
       "    }\n",
       "\n",
       "    .dataframe thead th {\n",
       "        text-align: right;\n",
       "    }\n",
       "</style>\n",
       "<table border=\"1\" class=\"dataframe\">\n",
       "  <thead>\n",
       "    <tr style=\"text-align: right;\">\n",
       "      <th></th>\n",
       "      <th>distance</th>\n",
       "    </tr>\n",
       "    <tr>\n",
       "      <th>method</th>\n",
       "      <th></th>\n",
       "    </tr>\n",
       "  </thead>\n",
       "  <tbody>\n",
       "    <tr>\n",
       "      <th>Astrometry</th>\n",
       "      <td>17.875000</td>\n",
       "    </tr>\n",
       "    <tr>\n",
       "      <th>Eclipse Timing Variations</th>\n",
       "      <td>315.360000</td>\n",
       "    </tr>\n",
       "    <tr>\n",
       "      <th>Imaging</th>\n",
       "      <td>67.715937</td>\n",
       "    </tr>\n",
       "    <tr>\n",
       "      <th>Microlensing</th>\n",
       "      <td>4144.000000</td>\n",
       "    </tr>\n",
       "    <tr>\n",
       "      <th>Orbital Brightness Modulation</th>\n",
       "      <td>1180.000000</td>\n",
       "    </tr>\n",
       "    <tr>\n",
       "      <th>Pulsar Timing</th>\n",
       "      <td>1200.000000</td>\n",
       "    </tr>\n",
       "    <tr>\n",
       "      <th>Pulsation Timing Variations</th>\n",
       "      <td>NaN</td>\n",
       "    </tr>\n",
       "    <tr>\n",
       "      <th>Radial Velocity</th>\n",
       "      <td>51.600208</td>\n",
       "    </tr>\n",
       "    <tr>\n",
       "      <th>Transit</th>\n",
       "      <td>599.298080</td>\n",
       "    </tr>\n",
       "    <tr>\n",
       "      <th>Transit Timing Variations</th>\n",
       "      <td>1104.333333</td>\n",
       "    </tr>\n",
       "  </tbody>\n",
       "</table>\n",
       "</div>"
      ],
      "text/plain": [
       "                                  distance\n",
       "method                                    \n",
       "Astrometry                       17.875000\n",
       "Eclipse Timing Variations       315.360000\n",
       "Imaging                          67.715937\n",
       "Microlensing                   4144.000000\n",
       "Orbital Brightness Modulation  1180.000000\n",
       "Pulsar Timing                  1200.000000\n",
       "Pulsation Timing Variations            NaN\n",
       "Radial Velocity                  51.600208\n",
       "Transit                         599.298080\n",
       "Transit Timing Variations      1104.333333"
      ]
     },
     "execution_count": 4,
     "metadata": {},
     "output_type": "execute_result"
    }
   ],
   "source": [
    "df.groupby(\"method\")[[\"distance\"]].mean()"
   ]
  },
  {
   "cell_type": "code",
   "execution_count": 5,
   "metadata": {},
   "outputs": [
    {
     "data": {
      "text/plain": [
       "Index(['method', 'number', 'orbital_period', 'mass', 'distance', 'year'], dtype='object')"
      ]
     },
     "execution_count": 5,
     "metadata": {},
     "output_type": "execute_result"
    }
   ],
   "source": [
    "df.columns"
   ]
  },
  {
   "cell_type": "code",
   "execution_count": 6,
   "metadata": {
    "id": "bb5cC956Qhln",
    "outputId": "55762cee-488f-48ef-d442-0ac3be966d5b"
   },
   "outputs": [
    {
     "data": {
      "text/html": [
       "<div>\n",
       "<style scoped>\n",
       "    .dataframe tbody tr th:only-of-type {\n",
       "        vertical-align: middle;\n",
       "    }\n",
       "\n",
       "    .dataframe tbody tr th {\n",
       "        vertical-align: top;\n",
       "    }\n",
       "\n",
       "    .dataframe thead th {\n",
       "        text-align: right;\n",
       "    }\n",
       "</style>\n",
       "<table border=\"1\" class=\"dataframe\">\n",
       "  <thead>\n",
       "    <tr style=\"text-align: right;\">\n",
       "      <th></th>\n",
       "      <th>distance</th>\n",
       "    </tr>\n",
       "    <tr>\n",
       "      <th>method</th>\n",
       "      <th></th>\n",
       "    </tr>\n",
       "  </thead>\n",
       "  <tbody>\n",
       "    <tr>\n",
       "      <th>Astrometry</th>\n",
       "      <td>35.75</td>\n",
       "    </tr>\n",
       "    <tr>\n",
       "      <th>Eclipse Timing Variations</th>\n",
       "      <td>1261.44</td>\n",
       "    </tr>\n",
       "    <tr>\n",
       "      <th>Imaging</th>\n",
       "      <td>2166.91</td>\n",
       "    </tr>\n",
       "    <tr>\n",
       "      <th>Microlensing</th>\n",
       "      <td>41440.00</td>\n",
       "    </tr>\n",
       "    <tr>\n",
       "      <th>Orbital Brightness Modulation</th>\n",
       "      <td>2360.00</td>\n",
       "    </tr>\n",
       "    <tr>\n",
       "      <th>Pulsar Timing</th>\n",
       "      <td>1200.00</td>\n",
       "    </tr>\n",
       "    <tr>\n",
       "      <th>Pulsation Timing Variations</th>\n",
       "      <td>0.00</td>\n",
       "    </tr>\n",
       "    <tr>\n",
       "      <th>Radial Velocity</th>\n",
       "      <td>27348.11</td>\n",
       "    </tr>\n",
       "    <tr>\n",
       "      <th>Transit</th>\n",
       "      <td>134242.77</td>\n",
       "    </tr>\n",
       "    <tr>\n",
       "      <th>Transit Timing Variations</th>\n",
       "      <td>3313.00</td>\n",
       "    </tr>\n",
       "  </tbody>\n",
       "</table>\n",
       "</div>"
      ],
      "text/plain": [
       "                                distance\n",
       "method                                  \n",
       "Astrometry                         35.75\n",
       "Eclipse Timing Variations        1261.44\n",
       "Imaging                          2166.91\n",
       "Microlensing                    41440.00\n",
       "Orbital Brightness Modulation    2360.00\n",
       "Pulsar Timing                    1200.00\n",
       "Pulsation Timing Variations         0.00\n",
       "Radial Velocity                 27348.11\n",
       "Transit                        134242.77\n",
       "Transit Timing Variations        3313.00"
      ]
     },
     "execution_count": 6,
     "metadata": {},
     "output_type": "execute_result"
    }
   ],
   "source": [
    "df.groupby('method')[['distance']].sum()"
   ]
  },
  {
   "cell_type": "code",
   "execution_count": 7,
   "metadata": {
    "id": "9UH9jGJZQhln",
    "outputId": "72e81973-3f6d-46e8-b83f-7120f6616e73"
   },
   "outputs": [
    {
     "data": {
      "text/plain": [
       "array([2006, 2008, 2011, 2007, 2009, 2002, 1996, 2010, 2001, 1995, 2004,\n",
       "       2012, 2013, 2005, 2000, 2003, 1997, 1999, 2014, 1998, 1989, 1992,\n",
       "       1994], dtype=int64)"
      ]
     },
     "execution_count": 7,
     "metadata": {},
     "output_type": "execute_result"
    }
   ],
   "source": [
    "df.year.unique()"
   ]
  },
  {
   "cell_type": "code",
   "execution_count": 8,
   "metadata": {
    "id": "IRsSDv0SQhlo",
    "outputId": "1c8dd397-f2ee-4355-c6f0-b753b6325a32",
    "scrolled": true
   },
   "outputs": [
    {
     "data": {
      "text/plain": [
       "year\n",
       "1989     1\n",
       "1992     0\n",
       "1994     0\n",
       "1995     1\n",
       "1996     4\n",
       "1997     1\n",
       "1998     5\n",
       "1999    14\n",
       "2000    14\n",
       "2001    11\n",
       "2002    31\n",
       "2003    22\n",
       "2004    15\n",
       "2005    34\n",
       "2006    20\n",
       "2007    32\n",
       "2008    43\n",
       "2009    74\n",
       "2010    41\n",
       "2011    91\n",
       "2012    24\n",
       "2013    30\n",
       "2014     5\n",
       "Name: mass, dtype: int64"
      ]
     },
     "execution_count": 8,
     "metadata": {},
     "output_type": "execute_result"
    }
   ],
   "source": [
    "df.groupby('year')['mass'].count()"
   ]
  },
  {
   "cell_type": "code",
   "execution_count": 9,
   "metadata": {},
   "outputs": [
    {
     "data": {
      "text/html": [
       "<div>\n",
       "<style scoped>\n",
       "    .dataframe tbody tr th:only-of-type {\n",
       "        vertical-align: middle;\n",
       "    }\n",
       "\n",
       "    .dataframe tbody tr th {\n",
       "        vertical-align: top;\n",
       "    }\n",
       "\n",
       "    .dataframe thead th {\n",
       "        text-align: right;\n",
       "    }\n",
       "</style>\n",
       "<table border=\"1\" class=\"dataframe\">\n",
       "  <thead>\n",
       "    <tr style=\"text-align: right;\">\n",
       "      <th></th>\n",
       "      <th>number</th>\n",
       "      <th>orbital_period</th>\n",
       "      <th>mass</th>\n",
       "      <th>distance</th>\n",
       "      <th>year</th>\n",
       "    </tr>\n",
       "  </thead>\n",
       "  <tbody>\n",
       "    <tr>\n",
       "      <th>number</th>\n",
       "      <td>1.000000</td>\n",
       "      <td>-0.012570</td>\n",
       "      <td>-0.241429</td>\n",
       "      <td>-0.033638</td>\n",
       "      <td>0.147849</td>\n",
       "    </tr>\n",
       "    <tr>\n",
       "      <th>orbital_period</th>\n",
       "      <td>-0.012570</td>\n",
       "      <td>1.000000</td>\n",
       "      <td>0.173725</td>\n",
       "      <td>-0.034365</td>\n",
       "      <td>-0.032333</td>\n",
       "    </tr>\n",
       "    <tr>\n",
       "      <th>mass</th>\n",
       "      <td>-0.241429</td>\n",
       "      <td>0.173725</td>\n",
       "      <td>1.000000</td>\n",
       "      <td>0.274082</td>\n",
       "      <td>-0.123787</td>\n",
       "    </tr>\n",
       "    <tr>\n",
       "      <th>distance</th>\n",
       "      <td>-0.033638</td>\n",
       "      <td>-0.034365</td>\n",
       "      <td>0.274082</td>\n",
       "      <td>1.000000</td>\n",
       "      <td>0.178922</td>\n",
       "    </tr>\n",
       "    <tr>\n",
       "      <th>year</th>\n",
       "      <td>0.147849</td>\n",
       "      <td>-0.032333</td>\n",
       "      <td>-0.123787</td>\n",
       "      <td>0.178922</td>\n",
       "      <td>1.000000</td>\n",
       "    </tr>\n",
       "  </tbody>\n",
       "</table>\n",
       "</div>"
      ],
      "text/plain": [
       "                  number  orbital_period      mass  distance      year\n",
       "number          1.000000       -0.012570 -0.241429 -0.033638  0.147849\n",
       "orbital_period -0.012570        1.000000  0.173725 -0.034365 -0.032333\n",
       "mass           -0.241429        0.173725  1.000000  0.274082 -0.123787\n",
       "distance       -0.033638       -0.034365  0.274082  1.000000  0.178922\n",
       "year            0.147849       -0.032333 -0.123787  0.178922  1.000000"
      ]
     },
     "execution_count": 9,
     "metadata": {},
     "output_type": "execute_result"
    }
   ],
   "source": [
    "df.corr()"
   ]
  },
  {
   "cell_type": "markdown",
   "metadata": {
    "id": "lQtetNiWQhlw"
   },
   "source": [
    " - # ``DataFrame`` Operations"
   ]
  },
  {
   "cell_type": "markdown",
   "metadata": {
    "id": "dvx5euJsQhlw"
   },
   "source": [
    "There are lots of operations with pandas that will be really useful to you, but don't fall into any distinct category. Let's show **Common Operations** here in this lecture:"
   ]
  },
  {
   "cell_type": "markdown",
   "metadata": {
    "id": "Nq63sxbcQhlw"
   },
   "source": [
    "- Quick review and refresh"
   ]
  },
  {
   "cell_type": "code",
   "execution_count": 10,
   "metadata": {
    "id": "xFuAXuxwQhlx",
    "outputId": "b2526c90-9498-48d0-d05f-cb80b820a7af",
    "scrolled": true
   },
   "outputs": [
    {
     "data": {
      "text/html": [
       "<div>\n",
       "<style scoped>\n",
       "    .dataframe tbody tr th:only-of-type {\n",
       "        vertical-align: middle;\n",
       "    }\n",
       "\n",
       "    .dataframe tbody tr th {\n",
       "        vertical-align: top;\n",
       "    }\n",
       "\n",
       "    .dataframe thead th {\n",
       "        text-align: right;\n",
       "    }\n",
       "</style>\n",
       "<table border=\"1\" class=\"dataframe\">\n",
       "  <thead>\n",
       "    <tr style=\"text-align: right;\">\n",
       "      <th></th>\n",
       "      <th>col1</th>\n",
       "      <th>col2</th>\n",
       "      <th>col3</th>\n",
       "      <th>col4</th>\n",
       "    </tr>\n",
       "  </thead>\n",
       "  <tbody>\n",
       "    <tr>\n",
       "      <th>0</th>\n",
       "      <td>1</td>\n",
       "      <td>444</td>\n",
       "      <td>abc</td>\n",
       "      <td>AbC</td>\n",
       "    </tr>\n",
       "    <tr>\n",
       "      <th>1</th>\n",
       "      <td>2</td>\n",
       "      <td>555</td>\n",
       "      <td>def</td>\n",
       "      <td>dh</td>\n",
       "    </tr>\n",
       "    <tr>\n",
       "      <th>2</th>\n",
       "      <td>3</td>\n",
       "      <td>666</td>\n",
       "      <td>ghi</td>\n",
       "      <td>Dh</td>\n",
       "    </tr>\n",
       "    <tr>\n",
       "      <th>3</th>\n",
       "      <td>4</td>\n",
       "      <td>444</td>\n",
       "      <td>xyz</td>\n",
       "      <td>ASD</td>\n",
       "    </tr>\n",
       "  </tbody>\n",
       "</table>\n",
       "</div>"
      ],
      "text/plain": [
       "   col1  col2 col3 col4\n",
       "0     1   444  abc  AbC\n",
       "1     2   555  def   dh\n",
       "2     3   666  ghi   Dh\n",
       "3     4   444  xyz  ASD"
      ]
     },
     "execution_count": 10,
     "metadata": {},
     "output_type": "execute_result"
    }
   ],
   "source": [
    "df2 = pd.DataFrame({'col1':[1,2,3,4],'col2':[444,555,666,444],'col3':['abc','def','ghi','xyz'],\n",
    "                    'col4':['AbC','dh','Dh','ASD']})\n",
    "df2.head()"
   ]
  },
  {
   "cell_type": "markdown",
   "metadata": {
    "id": "YlSdPehDQhlz"
   },
   "source": [
    "**Get column and index names:**"
   ]
  },
  {
   "cell_type": "code",
   "execution_count": 11,
   "metadata": {
    "id": "ujGc26AAQhlz",
    "outputId": "efb5ab1e-11fb-4756-842f-813c68981c48"
   },
   "outputs": [
    {
     "data": {
      "text/plain": [
       "Index(['col1', 'col2', 'col3', 'col4'], dtype='object')"
      ]
     },
     "execution_count": 11,
     "metadata": {},
     "output_type": "execute_result"
    }
   ],
   "source": [
    "df2.columns"
   ]
  },
  {
   "cell_type": "code",
   "execution_count": 12,
   "metadata": {
    "id": "yhii6OM8Qhlz",
    "outputId": "1a65491c-9ad2-4cea-b8a6-1784942cd4f5"
   },
   "outputs": [
    {
     "data": {
      "text/plain": [
       "RangeIndex(start=0, stop=4, step=1)"
      ]
     },
     "execution_count": 12,
     "metadata": {},
     "output_type": "execute_result"
    }
   ],
   "source": [
    "df2.index"
   ]
  },
  {
   "cell_type": "markdown",
   "metadata": {
    "id": "wgZUaee3Qhlz"
   },
   "source": [
    "**Sorting and Ordering a DataFrame:**"
   ]
  },
  {
   "cell_type": "code",
   "execution_count": 14,
   "metadata": {
    "id": "iK0jgMHuQhlz",
    "outputId": "7e20b534-10ec-4d5c-9105-1b6069335cf8"
   },
   "outputs": [
    {
     "data": {
      "text/html": [
       "<div>\n",
       "<style scoped>\n",
       "    .dataframe tbody tr th:only-of-type {\n",
       "        vertical-align: middle;\n",
       "    }\n",
       "\n",
       "    .dataframe tbody tr th {\n",
       "        vertical-align: top;\n",
       "    }\n",
       "\n",
       "    .dataframe thead th {\n",
       "        text-align: right;\n",
       "    }\n",
       "</style>\n",
       "<table border=\"1\" class=\"dataframe\">\n",
       "  <thead>\n",
       "    <tr style=\"text-align: right;\">\n",
       "      <th></th>\n",
       "      <th>col1</th>\n",
       "      <th>col2</th>\n",
       "      <th>col3</th>\n",
       "      <th>col4</th>\n",
       "    </tr>\n",
       "  </thead>\n",
       "  <tbody>\n",
       "    <tr>\n",
       "      <th>0</th>\n",
       "      <td>1</td>\n",
       "      <td>444</td>\n",
       "      <td>abc</td>\n",
       "      <td>AbC</td>\n",
       "    </tr>\n",
       "    <tr>\n",
       "      <th>1</th>\n",
       "      <td>2</td>\n",
       "      <td>555</td>\n",
       "      <td>def</td>\n",
       "      <td>dh</td>\n",
       "    </tr>\n",
       "    <tr>\n",
       "      <th>2</th>\n",
       "      <td>3</td>\n",
       "      <td>666</td>\n",
       "      <td>ghi</td>\n",
       "      <td>Dh</td>\n",
       "    </tr>\n",
       "    <tr>\n",
       "      <th>3</th>\n",
       "      <td>4</td>\n",
       "      <td>444</td>\n",
       "      <td>xyz</td>\n",
       "      <td>ASD</td>\n",
       "    </tr>\n",
       "  </tbody>\n",
       "</table>\n",
       "</div>"
      ],
      "text/plain": [
       "   col1  col2 col3 col4\n",
       "0     1   444  abc  AbC\n",
       "1     2   555  def   dh\n",
       "2     3   666  ghi   Dh\n",
       "3     4   444  xyz  ASD"
      ]
     },
     "execution_count": 14,
     "metadata": {},
     "output_type": "execute_result"
    }
   ],
   "source": [
    "df2"
   ]
  },
  {
   "cell_type": "code",
   "execution_count": 15,
   "metadata": {
    "id": "5wMY5aepQhlz",
    "outputId": "fe98fec4-c8bb-4cef-a81c-b424840f3841"
   },
   "outputs": [
    {
     "data": {
      "text/html": [
       "<div>\n",
       "<style scoped>\n",
       "    .dataframe tbody tr th:only-of-type {\n",
       "        vertical-align: middle;\n",
       "    }\n",
       "\n",
       "    .dataframe tbody tr th {\n",
       "        vertical-align: top;\n",
       "    }\n",
       "\n",
       "    .dataframe thead th {\n",
       "        text-align: right;\n",
       "    }\n",
       "</style>\n",
       "<table border=\"1\" class=\"dataframe\">\n",
       "  <thead>\n",
       "    <tr style=\"text-align: right;\">\n",
       "      <th></th>\n",
       "      <th>col1</th>\n",
       "      <th>col2</th>\n",
       "      <th>col3</th>\n",
       "      <th>col4</th>\n",
       "    </tr>\n",
       "  </thead>\n",
       "  <tbody>\n",
       "    <tr>\n",
       "      <th>0</th>\n",
       "      <td>1</td>\n",
       "      <td>444</td>\n",
       "      <td>abc</td>\n",
       "      <td>AbC</td>\n",
       "    </tr>\n",
       "    <tr>\n",
       "      <th>1</th>\n",
       "      <td>2</td>\n",
       "      <td>555</td>\n",
       "      <td>def</td>\n",
       "      <td>dh</td>\n",
       "    </tr>\n",
       "    <tr>\n",
       "      <th>2</th>\n",
       "      <td>3</td>\n",
       "      <td>666</td>\n",
       "      <td>ghi</td>\n",
       "      <td>Dh</td>\n",
       "    </tr>\n",
       "    <tr>\n",
       "      <th>3</th>\n",
       "      <td>4</td>\n",
       "      <td>444</td>\n",
       "      <td>xyz</td>\n",
       "      <td>ASD</td>\n",
       "    </tr>\n",
       "  </tbody>\n",
       "</table>\n",
       "</div>"
      ],
      "text/plain": [
       "   col1  col2 col3 col4\n",
       "0     1   444  abc  AbC\n",
       "1     2   555  def   dh\n",
       "2     3   666  ghi   Dh\n",
       "3     4   444  xyz  ASD"
      ]
     },
     "execution_count": 15,
     "metadata": {},
     "output_type": "execute_result"
    }
   ],
   "source": [
    "df2.sort_values(by=['col1'])\n",
    "# inplace=False by default"
   ]
  },
  {
   "cell_type": "markdown",
   "metadata": {},
   "source": [
    "**Map / Replace**"
   ]
  },
  {
   "cell_type": "code",
   "execution_count": null,
   "metadata": {},
   "outputs": [],
   "source": [
    "data = {'Company':['GOOGLE', 'GOOGLE', 'MICROSOFT', 'MICROSOFT', 'FACE', 'FACE'],\n",
    "       'Person':['PB', 'Chandler', 'Ross', 'Joey', 'Rachel', 'Monica'],\n",
    "       'Sales':[100, 140, 150, 99, 102, 110]}"
   ]
  },
  {
   "cell_type": "code",
   "execution_count": null,
   "metadata": {},
   "outputs": [],
   "source": [
    "df4=pd.DataFrame(data)"
   ]
  },
  {
   "cell_type": "code",
   "execution_count": null,
   "metadata": {},
   "outputs": [],
   "source": [
    "df4"
   ]
  },
  {
   "cell_type": "code",
   "execution_count": null,
   "metadata": {},
   "outputs": [],
   "source": [
    "my_map={'GOOGLE':'GOO','MICROSOFT':'MIC','FACE':'FB'}"
   ]
  },
  {
   "cell_type": "code",
   "execution_count": null,
   "metadata": {},
   "outputs": [],
   "source": [
    "df_m=df4.copy()"
   ]
  },
  {
   "cell_type": "code",
   "execution_count": null,
   "metadata": {},
   "outputs": [],
   "source": [
    "df_m.Company=df_m.Company.map(my_map)"
   ]
  },
  {
   "cell_type": "code",
   "execution_count": null,
   "metadata": {},
   "outputs": [],
   "source": [
    "df_m"
   ]
  },
  {
   "cell_type": "code",
   "execution_count": null,
   "metadata": {},
   "outputs": [],
   "source": [
    "df_m['Sales']=df_m.Sales.map(lambda x: x*1000)\n",
    "df_m"
   ]
  },
  {
   "cell_type": "code",
   "execution_count": null,
   "metadata": {},
   "outputs": [],
   "source": [
    "df_m['Company'].replace(to_replace='GOO',value='Google')"
   ]
  },
  {
   "cell_type": "markdown",
   "metadata": {},
   "source": [
    "**Duplicate / Between**"
   ]
  },
  {
   "cell_type": "code",
   "execution_count": 16,
   "metadata": {},
   "outputs": [
    {
     "data": {
      "text/html": [
       "<div>\n",
       "<style scoped>\n",
       "    .dataframe tbody tr th:only-of-type {\n",
       "        vertical-align: middle;\n",
       "    }\n",
       "\n",
       "    .dataframe tbody tr th {\n",
       "        vertical-align: top;\n",
       "    }\n",
       "\n",
       "    .dataframe thead th {\n",
       "        text-align: right;\n",
       "    }\n",
       "</style>\n",
       "<table border=\"1\" class=\"dataframe\">\n",
       "  <thead>\n",
       "    <tr style=\"text-align: right;\">\n",
       "      <th></th>\n",
       "      <th>0</th>\n",
       "    </tr>\n",
       "  </thead>\n",
       "  <tbody>\n",
       "    <tr>\n",
       "      <th>a</th>\n",
       "      <td>5</td>\n",
       "    </tr>\n",
       "    <tr>\n",
       "      <th>b</th>\n",
       "      <td>5</td>\n",
       "    </tr>\n",
       "    <tr>\n",
       "      <th>c</th>\n",
       "      <td>6</td>\n",
       "    </tr>\n",
       "    <tr>\n",
       "      <th>d</th>\n",
       "      <td>7</td>\n",
       "    </tr>\n",
       "    <tr>\n",
       "      <th>e</th>\n",
       "      <td>8</td>\n",
       "    </tr>\n",
       "    <tr>\n",
       "      <th>f</th>\n",
       "      <td>8</td>\n",
       "    </tr>\n",
       "    <tr>\n",
       "      <th>g</th>\n",
       "      <td>7</td>\n",
       "    </tr>\n",
       "  </tbody>\n",
       "</table>\n",
       "</div>"
      ],
      "text/plain": [
       "   0\n",
       "a  5\n",
       "b  5\n",
       "c  6\n",
       "d  7\n",
       "e  8\n",
       "f  8\n",
       "g  7"
      ]
     },
     "execution_count": 16,
     "metadata": {},
     "output_type": "execute_result"
    }
   ],
   "source": [
    "dup_df = pd.DataFrame([5,5,6,7,8,8,7],['a','b','c','d','e','f','g'])\n",
    "dup_df"
   ]
  },
  {
   "cell_type": "code",
   "execution_count": 17,
   "metadata": {},
   "outputs": [
    {
     "data": {
      "text/html": [
       "<div>\n",
       "<style scoped>\n",
       "    .dataframe tbody tr th:only-of-type {\n",
       "        vertical-align: middle;\n",
       "    }\n",
       "\n",
       "    .dataframe tbody tr th {\n",
       "        vertical-align: top;\n",
       "    }\n",
       "\n",
       "    .dataframe thead th {\n",
       "        text-align: right;\n",
       "    }\n",
       "</style>\n",
       "<table border=\"1\" class=\"dataframe\">\n",
       "  <thead>\n",
       "    <tr style=\"text-align: right;\">\n",
       "      <th></th>\n",
       "      <th>0</th>\n",
       "    </tr>\n",
       "  </thead>\n",
       "  <tbody>\n",
       "    <tr>\n",
       "      <th>a</th>\n",
       "      <td>5</td>\n",
       "    </tr>\n",
       "    <tr>\n",
       "      <th>c</th>\n",
       "      <td>6</td>\n",
       "    </tr>\n",
       "    <tr>\n",
       "      <th>d</th>\n",
       "      <td>7</td>\n",
       "    </tr>\n",
       "    <tr>\n",
       "      <th>e</th>\n",
       "      <td>8</td>\n",
       "    </tr>\n",
       "  </tbody>\n",
       "</table>\n",
       "</div>"
      ],
      "text/plain": [
       "   0\n",
       "a  5\n",
       "c  6\n",
       "d  7\n",
       "e  8"
      ]
     },
     "execution_count": 17,
     "metadata": {},
     "output_type": "execute_result"
    }
   ],
   "source": [
    "dup_df.drop_duplicates()"
   ]
  },
  {
   "cell_type": "code",
   "execution_count": 18,
   "metadata": {
    "scrolled": true
   },
   "outputs": [
    {
     "data": {
      "text/plain": [
       "a    False\n",
       "b    False\n",
       "c    False\n",
       "d     True\n",
       "e     True\n",
       "f     True\n",
       "g     True\n",
       "Name: 0, dtype: bool"
      ]
     },
     "execution_count": 18,
     "metadata": {},
     "output_type": "execute_result"
    }
   ],
   "source": [
    "dup_df[0].between(7,9, inclusive=True)"
   ]
  },
  {
   "cell_type": "markdown",
   "metadata": {
    "id": "F32Bfl4oQhl1"
   },
   "source": [
    "- ### `.aggregate()`\n",
    "- ### `.filter()`\n",
    "- ### `.transform()`\n",
    "- ### `.apply()`\n",
    "- ### `.pivot_table()`"
   ]
  },
  {
   "cell_type": "code",
   "execution_count": 19,
   "metadata": {
    "id": "LxJEFpYOQhl1",
    "outputId": "dcbf09c4-3a53-426d-ebd7-ff9a28bd4f74"
   },
   "outputs": [
    {
     "data": {
      "text/html": [
       "<div>\n",
       "<style scoped>\n",
       "    .dataframe tbody tr th:only-of-type {\n",
       "        vertical-align: middle;\n",
       "    }\n",
       "\n",
       "    .dataframe tbody tr th {\n",
       "        vertical-align: top;\n",
       "    }\n",
       "\n",
       "    .dataframe thead th {\n",
       "        text-align: right;\n",
       "    }\n",
       "</style>\n",
       "<table border=\"1\" class=\"dataframe\">\n",
       "  <thead>\n",
       "    <tr style=\"text-align: right;\">\n",
       "      <th></th>\n",
       "      <th>groups</th>\n",
       "      <th>var1</th>\n",
       "      <th>var2</th>\n",
       "    </tr>\n",
       "  </thead>\n",
       "  <tbody>\n",
       "    <tr>\n",
       "      <th>0</th>\n",
       "      <td>A</td>\n",
       "      <td>10</td>\n",
       "      <td>100</td>\n",
       "    </tr>\n",
       "    <tr>\n",
       "      <th>1</th>\n",
       "      <td>B</td>\n",
       "      <td>20</td>\n",
       "      <td>200</td>\n",
       "    </tr>\n",
       "    <tr>\n",
       "      <th>2</th>\n",
       "      <td>C</td>\n",
       "      <td>30</td>\n",
       "      <td>300</td>\n",
       "    </tr>\n",
       "    <tr>\n",
       "      <th>3</th>\n",
       "      <td>A</td>\n",
       "      <td>50</td>\n",
       "      <td>500</td>\n",
       "    </tr>\n",
       "    <tr>\n",
       "      <th>4</th>\n",
       "      <td>B</td>\n",
       "      <td>52</td>\n",
       "      <td>500</td>\n",
       "    </tr>\n",
       "    <tr>\n",
       "      <th>5</th>\n",
       "      <td>C</td>\n",
       "      <td>100</td>\n",
       "      <td>700</td>\n",
       "    </tr>\n",
       "  </tbody>\n",
       "</table>\n",
       "</div>"
      ],
      "text/plain": [
       "  groups  var1  var2\n",
       "0      A    10   100\n",
       "1      B    20   200\n",
       "2      C    30   300\n",
       "3      A    50   500\n",
       "4      B    52   500\n",
       "5      C   100   700"
      ]
     },
     "execution_count": 19,
     "metadata": {},
     "output_type": "execute_result"
    }
   ],
   "source": [
    "df6 = pd.DataFrame({'groups': ['A', 'B', 'C', 'A', 'B', 'C'],\n",
    "                   'var1': [10,20,30,50,52,100],\n",
    "                   'var2': [100,200,300,500,500,700]})\n",
    "df6"
   ]
  },
  {
   "cell_type": "markdown",
   "metadata": {
    "id": "iGHzZ1-5Qhl1"
   },
   "source": [
    "### ``.aggregate()``"
   ]
  },
  {
   "cell_type": "code",
   "execution_count": null,
   "metadata": {
    "id": "x3LMEycZQhl1",
    "outputId": "fce476d1-fda7-41d0-bad6-3cade20fea74"
   },
   "outputs": [],
   "source": [
    "df6.groupby('groups').mean()"
   ]
  },
  {
   "cell_type": "code",
   "execution_count": null,
   "metadata": {
    "id": "7V7_IGw2Qhl1",
    "outputId": "6ffa77f4-15cd-4ea1-ed9b-0156b0493bdd"
   },
   "outputs": [],
   "source": [
    "df6.groupby('groups').aggregate([np.min,np.median,np.max])"
   ]
  },
  {
   "cell_type": "code",
   "execution_count": null,
   "metadata": {
    "id": "DuDH2AmiQhl1",
    "outputId": "3216ecd4-abeb-43ae-8966-bbc3591fc5f1"
   },
   "outputs": [],
   "source": [
    "df6.groupby('groups').agg([min,'median',max])"
   ]
  },
  {
   "cell_type": "code",
   "execution_count": null,
   "metadata": {
    "id": "Og1leRPvQhl1",
    "outputId": "16303967-180a-4a03-cf23-8a1bf357f7e7"
   },
   "outputs": [],
   "source": [
    "df6.groupby('groups').agg({'var1':('min','max') , 'var2':'median'})"
   ]
  },
  {
   "cell_type": "markdown",
   "metadata": {
    "id": "41pA7VmKQhl2"
   },
   "source": [
    "### ``.filter()``"
   ]
  },
  {
   "cell_type": "code",
   "execution_count": 20,
   "metadata": {
    "id": "hdaXmNQsQhl2",
    "outputId": "e9bd947a-8261-4918-cfbd-9b5d2f784382"
   },
   "outputs": [
    {
     "data": {
      "text/html": [
       "<div>\n",
       "<style scoped>\n",
       "    .dataframe tbody tr th:only-of-type {\n",
       "        vertical-align: middle;\n",
       "    }\n",
       "\n",
       "    .dataframe tbody tr th {\n",
       "        vertical-align: top;\n",
       "    }\n",
       "\n",
       "    .dataframe thead th {\n",
       "        text-align: right;\n",
       "    }\n",
       "</style>\n",
       "<table border=\"1\" class=\"dataframe\">\n",
       "  <thead>\n",
       "    <tr style=\"text-align: right;\">\n",
       "      <th></th>\n",
       "      <th>groups</th>\n",
       "      <th>var1</th>\n",
       "      <th>var2</th>\n",
       "    </tr>\n",
       "  </thead>\n",
       "  <tbody>\n",
       "    <tr>\n",
       "      <th>0</th>\n",
       "      <td>A</td>\n",
       "      <td>10</td>\n",
       "      <td>100</td>\n",
       "    </tr>\n",
       "    <tr>\n",
       "      <th>1</th>\n",
       "      <td>B</td>\n",
       "      <td>20</td>\n",
       "      <td>200</td>\n",
       "    </tr>\n",
       "    <tr>\n",
       "      <th>2</th>\n",
       "      <td>C</td>\n",
       "      <td>30</td>\n",
       "      <td>300</td>\n",
       "    </tr>\n",
       "    <tr>\n",
       "      <th>3</th>\n",
       "      <td>A</td>\n",
       "      <td>50</td>\n",
       "      <td>500</td>\n",
       "    </tr>\n",
       "    <tr>\n",
       "      <th>4</th>\n",
       "      <td>B</td>\n",
       "      <td>52</td>\n",
       "      <td>500</td>\n",
       "    </tr>\n",
       "    <tr>\n",
       "      <th>5</th>\n",
       "      <td>C</td>\n",
       "      <td>100</td>\n",
       "      <td>700</td>\n",
       "    </tr>\n",
       "  </tbody>\n",
       "</table>\n",
       "</div>"
      ],
      "text/plain": [
       "  groups  var1  var2\n",
       "0      A    10   100\n",
       "1      B    20   200\n",
       "2      C    30   300\n",
       "3      A    50   500\n",
       "4      B    52   500\n",
       "5      C   100   700"
      ]
     },
     "execution_count": 20,
     "metadata": {},
     "output_type": "execute_result"
    }
   ],
   "source": [
    "df7 = pd.DataFrame({'groups': ['A', 'B', 'C', 'A', 'B', 'C'],\n",
    "                   'var1': [10,20,30,50,52,100],\n",
    "                   'var2': [100,200,300,500,500,700]})\n",
    "df7"
   ]
  },
  {
   "cell_type": "code",
   "execution_count": 21,
   "metadata": {
    "id": "dqwAguQeQhl2",
    "outputId": "0e4d3d9d-7773-4b84-c93f-e91d3bb30d9e"
   },
   "outputs": [
    {
     "data": {
      "text/plain": [
       "array(['A', 'B', 'C'], dtype=object)"
      ]
     },
     "execution_count": 21,
     "metadata": {},
     "output_type": "execute_result"
    }
   ],
   "source": [
    "df7.groups.unique()"
   ]
  },
  {
   "cell_type": "code",
   "execution_count": 22,
   "metadata": {
    "id": "AcpIhhl9Qhl2",
    "outputId": "1b5cffc6-61b5-421c-ecf9-101dfa293ac9"
   },
   "outputs": [
    {
     "data": {
      "text/html": [
       "<div>\n",
       "<style scoped>\n",
       "    .dataframe tbody tr th:only-of-type {\n",
       "        vertical-align: middle;\n",
       "    }\n",
       "\n",
       "    .dataframe tbody tr th {\n",
       "        vertical-align: top;\n",
       "    }\n",
       "\n",
       "    .dataframe thead th {\n",
       "        text-align: right;\n",
       "    }\n",
       "</style>\n",
       "<table border=\"1\" class=\"dataframe\">\n",
       "  <thead>\n",
       "    <tr style=\"text-align: right;\">\n",
       "      <th></th>\n",
       "      <th>var1</th>\n",
       "      <th>var2</th>\n",
       "    </tr>\n",
       "    <tr>\n",
       "      <th>groups</th>\n",
       "      <th></th>\n",
       "      <th></th>\n",
       "    </tr>\n",
       "  </thead>\n",
       "  <tbody>\n",
       "    <tr>\n",
       "      <th>A</th>\n",
       "      <td>28.284271</td>\n",
       "      <td>282.842712</td>\n",
       "    </tr>\n",
       "    <tr>\n",
       "      <th>B</th>\n",
       "      <td>22.627417</td>\n",
       "      <td>212.132034</td>\n",
       "    </tr>\n",
       "    <tr>\n",
       "      <th>C</th>\n",
       "      <td>49.497475</td>\n",
       "      <td>282.842712</td>\n",
       "    </tr>\n",
       "  </tbody>\n",
       "</table>\n",
       "</div>"
      ],
      "text/plain": [
       "             var1        var2\n",
       "groups                       \n",
       "A       28.284271  282.842712\n",
       "B       22.627417  212.132034\n",
       "C       49.497475  282.842712"
      ]
     },
     "execution_count": 22,
     "metadata": {},
     "output_type": "execute_result"
    }
   ],
   "source": [
    "df7.groupby(\"groups\").std()"
   ]
  },
  {
   "cell_type": "code",
   "execution_count": 31,
   "metadata": {
    "id": "oLZ2mMufQhl2"
   },
   "outputs": [],
   "source": [
    "def filter_func(x):\n",
    "    return x[\"var1\"].mean() < 36"
   ]
  },
  {
   "cell_type": "code",
   "execution_count": 32,
   "metadata": {},
   "outputs": [
    {
     "data": {
      "text/html": [
       "<div>\n",
       "<style scoped>\n",
       "    .dataframe tbody tr th:only-of-type {\n",
       "        vertical-align: middle;\n",
       "    }\n",
       "\n",
       "    .dataframe tbody tr th {\n",
       "        vertical-align: top;\n",
       "    }\n",
       "\n",
       "    .dataframe thead th {\n",
       "        text-align: right;\n",
       "    }\n",
       "</style>\n",
       "<table border=\"1\" class=\"dataframe\">\n",
       "  <thead>\n",
       "    <tr style=\"text-align: right;\">\n",
       "      <th></th>\n",
       "      <th>var1</th>\n",
       "      <th>var2</th>\n",
       "    </tr>\n",
       "    <tr>\n",
       "      <th>groups</th>\n",
       "      <th></th>\n",
       "      <th></th>\n",
       "    </tr>\n",
       "  </thead>\n",
       "  <tbody>\n",
       "    <tr>\n",
       "      <th>A</th>\n",
       "      <td>30</td>\n",
       "      <td>300</td>\n",
       "    </tr>\n",
       "    <tr>\n",
       "      <th>B</th>\n",
       "      <td>36</td>\n",
       "      <td>350</td>\n",
       "    </tr>\n",
       "    <tr>\n",
       "      <th>C</th>\n",
       "      <td>65</td>\n",
       "      <td>500</td>\n",
       "    </tr>\n",
       "  </tbody>\n",
       "</table>\n",
       "</div>"
      ],
      "text/plain": [
       "        var1  var2\n",
       "groups            \n",
       "A         30   300\n",
       "B         36   350\n",
       "C         65   500"
      ]
     },
     "execution_count": 32,
     "metadata": {},
     "output_type": "execute_result"
    }
   ],
   "source": [
    "df7.groupby(\"groups\").mean()"
   ]
  },
  {
   "cell_type": "code",
   "execution_count": 33,
   "metadata": {
    "id": "LscnllRPQhl2",
    "outputId": "cb476930-8957-4661-94f5-f526704b4563"
   },
   "outputs": [
    {
     "data": {
      "text/html": [
       "<div>\n",
       "<style scoped>\n",
       "    .dataframe tbody tr th:only-of-type {\n",
       "        vertical-align: middle;\n",
       "    }\n",
       "\n",
       "    .dataframe tbody tr th {\n",
       "        vertical-align: top;\n",
       "    }\n",
       "\n",
       "    .dataframe thead th {\n",
       "        text-align: right;\n",
       "    }\n",
       "</style>\n",
       "<table border=\"1\" class=\"dataframe\">\n",
       "  <thead>\n",
       "    <tr style=\"text-align: right;\">\n",
       "      <th></th>\n",
       "      <th>groups</th>\n",
       "      <th>var1</th>\n",
       "      <th>var2</th>\n",
       "    </tr>\n",
       "  </thead>\n",
       "  <tbody>\n",
       "    <tr>\n",
       "      <th>0</th>\n",
       "      <td>A</td>\n",
       "      <td>10</td>\n",
       "      <td>100</td>\n",
       "    </tr>\n",
       "    <tr>\n",
       "      <th>3</th>\n",
       "      <td>A</td>\n",
       "      <td>50</td>\n",
       "      <td>500</td>\n",
       "    </tr>\n",
       "  </tbody>\n",
       "</table>\n",
       "</div>"
      ],
      "text/plain": [
       "  groups  var1  var2\n",
       "0      A    10   100\n",
       "3      A    50   500"
      ]
     },
     "execution_count": 33,
     "metadata": {},
     "output_type": "execute_result"
    }
   ],
   "source": [
    "# returns the rows that meet the condition, as a DataFrame\n",
    "df7.groupby('groups').filter(filter_func)"
   ]
  },
  {
   "cell_type": "code",
   "execution_count": 34,
   "metadata": {
    "id": "3YftwOqlQhl2",
    "outputId": "902c975d-ec10-4898-bb56-2c1a44f9e53e"
   },
   "outputs": [
    {
     "data": {
      "text/html": [
       "<div>\n",
       "<style scoped>\n",
       "    .dataframe tbody tr th:only-of-type {\n",
       "        vertical-align: middle;\n",
       "    }\n",
       "\n",
       "    .dataframe tbody tr th {\n",
       "        vertical-align: top;\n",
       "    }\n",
       "\n",
       "    .dataframe thead th {\n",
       "        text-align: right;\n",
       "    }\n",
       "</style>\n",
       "<table border=\"1\" class=\"dataframe\">\n",
       "  <thead>\n",
       "    <tr style=\"text-align: right;\">\n",
       "      <th></th>\n",
       "      <th>var1</th>\n",
       "      <th>var2</th>\n",
       "    </tr>\n",
       "    <tr>\n",
       "      <th>groups</th>\n",
       "      <th></th>\n",
       "      <th></th>\n",
       "    </tr>\n",
       "  </thead>\n",
       "  <tbody>\n",
       "    <tr>\n",
       "      <th>A</th>\n",
       "      <td>60</td>\n",
       "      <td>600</td>\n",
       "    </tr>\n",
       "    <tr>\n",
       "      <th>B</th>\n",
       "      <td>72</td>\n",
       "      <td>700</td>\n",
       "    </tr>\n",
       "    <tr>\n",
       "      <th>C</th>\n",
       "      <td>130</td>\n",
       "      <td>1000</td>\n",
       "    </tr>\n",
       "  </tbody>\n",
       "</table>\n",
       "</div>"
      ],
      "text/plain": [
       "        var1  var2\n",
       "groups            \n",
       "A         60   600\n",
       "B         72   700\n",
       "C        130  1000"
      ]
     },
     "execution_count": 34,
     "metadata": {},
     "output_type": "execute_result"
    }
   ],
   "source": [
    "df7.groupby(\"groups\").sum()"
   ]
  },
  {
   "cell_type": "code",
   "execution_count": 35,
   "metadata": {
    "id": "2a7cL2l9Qhl3",
    "outputId": "f415e9f0-bd34-4e02-b67e-78cfacc3a965"
   },
   "outputs": [
    {
     "data": {
      "text/html": [
       "<div>\n",
       "<style scoped>\n",
       "    .dataframe tbody tr th:only-of-type {\n",
       "        vertical-align: middle;\n",
       "    }\n",
       "\n",
       "    .dataframe tbody tr th {\n",
       "        vertical-align: top;\n",
       "    }\n",
       "\n",
       "    .dataframe thead th {\n",
       "        text-align: right;\n",
       "    }\n",
       "</style>\n",
       "<table border=\"1\" class=\"dataframe\">\n",
       "  <thead>\n",
       "    <tr style=\"text-align: right;\">\n",
       "      <th></th>\n",
       "      <th>groups</th>\n",
       "      <th>var1</th>\n",
       "      <th>var2</th>\n",
       "    </tr>\n",
       "  </thead>\n",
       "  <tbody>\n",
       "    <tr>\n",
       "      <th>0</th>\n",
       "      <td>A</td>\n",
       "      <td>10</td>\n",
       "      <td>100</td>\n",
       "    </tr>\n",
       "    <tr>\n",
       "      <th>1</th>\n",
       "      <td>B</td>\n",
       "      <td>20</td>\n",
       "      <td>200</td>\n",
       "    </tr>\n",
       "    <tr>\n",
       "      <th>3</th>\n",
       "      <td>A</td>\n",
       "      <td>50</td>\n",
       "      <td>500</td>\n",
       "    </tr>\n",
       "    <tr>\n",
       "      <th>4</th>\n",
       "      <td>B</td>\n",
       "      <td>52</td>\n",
       "      <td>500</td>\n",
       "    </tr>\n",
       "  </tbody>\n",
       "</table>\n",
       "</div>"
      ],
      "text/plain": [
       "  groups  var1  var2\n",
       "0      A    10   100\n",
       "1      B    20   200\n",
       "3      A    50   500\n",
       "4      B    52   500"
      ]
     },
     "execution_count": 35,
     "metadata": {},
     "output_type": "execute_result"
    }
   ],
   "source": [
    "df7.groupby('groups').filter(lambda x : x['var2'].sum()<800)"
   ]
  },
  {
   "cell_type": "markdown",
   "metadata": {
    "id": "HsGwIIY9Qhl3"
   },
   "source": [
    "### ``.transform()``"
   ]
  },
  {
   "cell_type": "code",
   "execution_count": 36,
   "metadata": {
    "id": "L1C3Jzg5Qhl3",
    "outputId": "2b89a391-af04-4ec2-cea9-153f42637ef2"
   },
   "outputs": [
    {
     "data": {
      "text/html": [
       "<div>\n",
       "<style scoped>\n",
       "    .dataframe tbody tr th:only-of-type {\n",
       "        vertical-align: middle;\n",
       "    }\n",
       "\n",
       "    .dataframe tbody tr th {\n",
       "        vertical-align: top;\n",
       "    }\n",
       "\n",
       "    .dataframe thead th {\n",
       "        text-align: right;\n",
       "    }\n",
       "</style>\n",
       "<table border=\"1\" class=\"dataframe\">\n",
       "  <thead>\n",
       "    <tr style=\"text-align: right;\">\n",
       "      <th></th>\n",
       "      <th>groups</th>\n",
       "      <th>var1</th>\n",
       "      <th>var2</th>\n",
       "    </tr>\n",
       "  </thead>\n",
       "  <tbody>\n",
       "    <tr>\n",
       "      <th>0</th>\n",
       "      <td>A</td>\n",
       "      <td>10</td>\n",
       "      <td>100</td>\n",
       "    </tr>\n",
       "    <tr>\n",
       "      <th>1</th>\n",
       "      <td>B</td>\n",
       "      <td>20</td>\n",
       "      <td>200</td>\n",
       "    </tr>\n",
       "    <tr>\n",
       "      <th>2</th>\n",
       "      <td>C</td>\n",
       "      <td>30</td>\n",
       "      <td>300</td>\n",
       "    </tr>\n",
       "    <tr>\n",
       "      <th>3</th>\n",
       "      <td>A</td>\n",
       "      <td>50</td>\n",
       "      <td>500</td>\n",
       "    </tr>\n",
       "    <tr>\n",
       "      <th>4</th>\n",
       "      <td>B</td>\n",
       "      <td>52</td>\n",
       "      <td>500</td>\n",
       "    </tr>\n",
       "    <tr>\n",
       "      <th>5</th>\n",
       "      <td>C</td>\n",
       "      <td>100</td>\n",
       "      <td>700</td>\n",
       "    </tr>\n",
       "  </tbody>\n",
       "</table>\n",
       "</div>"
      ],
      "text/plain": [
       "  groups  var1  var2\n",
       "0      A    10   100\n",
       "1      B    20   200\n",
       "2      C    30   300\n",
       "3      A    50   500\n",
       "4      B    52   500\n",
       "5      C   100   700"
      ]
     },
     "execution_count": 36,
     "metadata": {},
     "output_type": "execute_result"
    }
   ],
   "source": [
    "df8 = pd.DataFrame({'groups': ['A', 'B', 'C', 'A', 'B', 'C'],\n",
    "                   'var1': [10,20,30,50,52,100],\n",
    "                   'var2': [100,200,300,500,500,700]})\n",
    "df8"
   ]
  },
  {
   "cell_type": "code",
   "execution_count": 37,
   "metadata": {},
   "outputs": [
    {
     "data": {
      "text/html": [
       "<div>\n",
       "<style scoped>\n",
       "    .dataframe tbody tr th:only-of-type {\n",
       "        vertical-align: middle;\n",
       "    }\n",
       "\n",
       "    .dataframe tbody tr th {\n",
       "        vertical-align: top;\n",
       "    }\n",
       "\n",
       "    .dataframe thead th {\n",
       "        text-align: right;\n",
       "    }\n",
       "</style>\n",
       "<table border=\"1\" class=\"dataframe\">\n",
       "  <thead>\n",
       "    <tr style=\"text-align: right;\">\n",
       "      <th></th>\n",
       "      <th>var1</th>\n",
       "      <th>var2</th>\n",
       "    </tr>\n",
       "  </thead>\n",
       "  <tbody>\n",
       "    <tr>\n",
       "      <th>0</th>\n",
       "      <td>30</td>\n",
       "      <td>300</td>\n",
       "    </tr>\n",
       "    <tr>\n",
       "      <th>1</th>\n",
       "      <td>36</td>\n",
       "      <td>350</td>\n",
       "    </tr>\n",
       "    <tr>\n",
       "      <th>2</th>\n",
       "      <td>65</td>\n",
       "      <td>500</td>\n",
       "    </tr>\n",
       "    <tr>\n",
       "      <th>3</th>\n",
       "      <td>30</td>\n",
       "      <td>300</td>\n",
       "    </tr>\n",
       "    <tr>\n",
       "      <th>4</th>\n",
       "      <td>36</td>\n",
       "      <td>350</td>\n",
       "    </tr>\n",
       "    <tr>\n",
       "      <th>5</th>\n",
       "      <td>65</td>\n",
       "      <td>500</td>\n",
       "    </tr>\n",
       "  </tbody>\n",
       "</table>\n",
       "</div>"
      ],
      "text/plain": [
       "   var1  var2\n",
       "0    30   300\n",
       "1    36   350\n",
       "2    65   500\n",
       "3    30   300\n",
       "4    36   350\n",
       "5    65   500"
      ]
     },
     "execution_count": 37,
     "metadata": {},
     "output_type": "execute_result"
    }
   ],
   "source": [
    "df8.groupby('groups').transform('mean')"
   ]
  },
  {
   "cell_type": "code",
   "execution_count": null,
   "metadata": {
    "scrolled": true
   },
   "outputs": [],
   "source": [
    "df8.groupby('groups').transform(np.log)"
   ]
  },
  {
   "cell_type": "code",
   "execution_count": null,
   "metadata": {},
   "outputs": [],
   "source": [
    "df8.var1.transform(np.exp)"
   ]
  },
  {
   "cell_type": "markdown",
   "metadata": {
    "id": "my3PW9M8Qhl4"
   },
   "source": [
    "### ``.apply()``"
   ]
  },
  {
   "cell_type": "code",
   "execution_count": 40,
   "metadata": {
    "id": "9oJVBQ-bQhl4",
    "outputId": "3cc5e461-fb9f-4401-f4c2-4bbb028748a0"
   },
   "outputs": [
    {
     "data": {
      "text/html": [
       "<div>\n",
       "<style scoped>\n",
       "    .dataframe tbody tr th:only-of-type {\n",
       "        vertical-align: middle;\n",
       "    }\n",
       "\n",
       "    .dataframe tbody tr th {\n",
       "        vertical-align: top;\n",
       "    }\n",
       "\n",
       "    .dataframe thead th {\n",
       "        text-align: right;\n",
       "    }\n",
       "</style>\n",
       "<table border=\"1\" class=\"dataframe\">\n",
       "  <thead>\n",
       "    <tr style=\"text-align: right;\">\n",
       "      <th></th>\n",
       "      <th>groups</th>\n",
       "      <th>var1</th>\n",
       "      <th>var2</th>\n",
       "    </tr>\n",
       "  </thead>\n",
       "  <tbody>\n",
       "    <tr>\n",
       "      <th>0</th>\n",
       "      <td>A</td>\n",
       "      <td>10</td>\n",
       "      <td>100</td>\n",
       "    </tr>\n",
       "    <tr>\n",
       "      <th>1</th>\n",
       "      <td>B</td>\n",
       "      <td>20</td>\n",
       "      <td>200</td>\n",
       "    </tr>\n",
       "    <tr>\n",
       "      <th>2</th>\n",
       "      <td>C</td>\n",
       "      <td>30</td>\n",
       "      <td>300</td>\n",
       "    </tr>\n",
       "    <tr>\n",
       "      <th>3</th>\n",
       "      <td>A</td>\n",
       "      <td>50</td>\n",
       "      <td>500</td>\n",
       "    </tr>\n",
       "    <tr>\n",
       "      <th>4</th>\n",
       "      <td>B</td>\n",
       "      <td>52</td>\n",
       "      <td>500</td>\n",
       "    </tr>\n",
       "    <tr>\n",
       "      <th>5</th>\n",
       "      <td>C</td>\n",
       "      <td>100</td>\n",
       "      <td>700</td>\n",
       "    </tr>\n",
       "  </tbody>\n",
       "</table>\n",
       "</div>"
      ],
      "text/plain": [
       "  groups  var1  var2\n",
       "0      A    10   100\n",
       "1      B    20   200\n",
       "2      C    30   300\n",
       "3      A    50   500\n",
       "4      B    52   500\n",
       "5      C   100   700"
      ]
     },
     "execution_count": 40,
     "metadata": {},
     "output_type": "execute_result"
    }
   ],
   "source": [
    "df9 = pd.DataFrame({'groups': ['A', 'B', 'C', 'A', 'B', 'C'],\n",
    "                   'var1': [10,20,30,50,52,100],\n",
    "                   'var2': [100,200,300,500,500,700]})\n",
    "df9"
   ]
  },
  {
   "cell_type": "code",
   "execution_count": 39,
   "metadata": {
    "id": "MvHv9liJQhl4",
    "outputId": "a91af5f2-c0fe-4736-80cc-31eafc694ab7"
   },
   "outputs": [
    {
     "data": {
      "text/plain": [
       "groups    ABCABC\n",
       "var1         262\n",
       "var2        2300\n",
       "dtype: object"
      ]
     },
     "execution_count": 39,
     "metadata": {},
     "output_type": "execute_result"
    }
   ],
   "source": [
    "df9.apply(np.sum)"
   ]
  },
  {
   "cell_type": "code",
   "execution_count": null,
   "metadata": {
    "id": "XOGJKDsIQhl4",
    "outputId": "fcc17332-23ea-43f3-e672-be3897c07685"
   },
   "outputs": [],
   "source": [
    "df9.var1.sum()"
   ]
  },
  {
   "cell_type": "code",
   "execution_count": null,
   "metadata": {
    "id": "fkLfDorzQhl5"
   },
   "outputs": [],
   "source": [
    "df_numeric = df9.iloc[:,1:3]"
   ]
  },
  {
   "cell_type": "code",
   "execution_count": null,
   "metadata": {
    "id": "cD1Uj69NQhl5",
    "outputId": "c68df9aa-032b-442b-e6ac-4eafa0c4194c"
   },
   "outputs": [],
   "source": [
    "df_numeric"
   ]
  },
  {
   "cell_type": "code",
   "execution_count": null,
   "metadata": {
    "id": "EHQXV7JUQhl5",
    "outputId": "fe31b066-7fa3-4184-d152-7b9adc612c84"
   },
   "outputs": [],
   "source": [
    "df_numeric.apply(np.mean, axis=1)"
   ]
  },
  {
   "cell_type": "code",
   "execution_count": null,
   "metadata": {
    "id": "BlS-qQIZQhl5",
    "outputId": "5945107d-5b20-4962-d678-3392fb46ad79"
   },
   "outputs": [],
   "source": [
    "df9.groupby('groups').apply(np.mean)"
   ]
  },
  {
   "cell_type": "markdown",
   "metadata": {
    "id": "quC-THAlQhl6"
   },
   "source": [
    "### `df.transform() vs df.apply()`"
   ]
  },
  {
   "cell_type": "code",
   "execution_count": 41,
   "metadata": {
    "id": "uAm8Y7MBQhl6",
    "outputId": "492dd7e8-e97f-4b22-b91b-845c6c5f5fd4"
   },
   "outputs": [
    {
     "data": {
      "text/html": [
       "<div>\n",
       "<style scoped>\n",
       "    .dataframe tbody tr th:only-of-type {\n",
       "        vertical-align: middle;\n",
       "    }\n",
       "\n",
       "    .dataframe tbody tr th {\n",
       "        vertical-align: top;\n",
       "    }\n",
       "\n",
       "    .dataframe thead th {\n",
       "        text-align: right;\n",
       "    }\n",
       "</style>\n",
       "<table border=\"1\" class=\"dataframe\">\n",
       "  <thead>\n",
       "    <tr style=\"text-align: right;\">\n",
       "      <th></th>\n",
       "      <th>col1</th>\n",
       "      <th>col2</th>\n",
       "      <th>col3</th>\n",
       "      <th>col4</th>\n",
       "    </tr>\n",
       "  </thead>\n",
       "  <tbody>\n",
       "    <tr>\n",
       "      <th>0</th>\n",
       "      <td>1</td>\n",
       "      <td>444</td>\n",
       "      <td>abc</td>\n",
       "      <td>AbC</td>\n",
       "    </tr>\n",
       "    <tr>\n",
       "      <th>1</th>\n",
       "      <td>2</td>\n",
       "      <td>555</td>\n",
       "      <td>def</td>\n",
       "      <td>dh</td>\n",
       "    </tr>\n",
       "    <tr>\n",
       "      <th>2</th>\n",
       "      <td>3</td>\n",
       "      <td>666</td>\n",
       "      <td>ghi</td>\n",
       "      <td>Dh</td>\n",
       "    </tr>\n",
       "    <tr>\n",
       "      <th>3</th>\n",
       "      <td>4</td>\n",
       "      <td>444</td>\n",
       "      <td>xyz</td>\n",
       "      <td>ASD</td>\n",
       "    </tr>\n",
       "  </tbody>\n",
       "</table>\n",
       "</div>"
      ],
      "text/plain": [
       "   col1  col2 col3 col4\n",
       "0     1   444  abc  AbC\n",
       "1     2   555  def   dh\n",
       "2     3   666  ghi   Dh\n",
       "3     4   444  xyz  ASD"
      ]
     },
     "execution_count": 41,
     "metadata": {},
     "output_type": "execute_result"
    }
   ],
   "source": [
    "df10 = pd.DataFrame({'col1':[1,2,3,4],'col2':[444,555,666,444],'col3':['abc','def','ghi','xyz'],\n",
    "                    'col4':['AbC','dh','Dh','ASD']})\n",
    "df10"
   ]
  },
  {
   "cell_type": "code",
   "execution_count": 42,
   "metadata": {
    "id": "zohtOzIJQhl6",
    "outputId": "dcc50cc8-804f-43e1-8f65-b0573cbcebd5"
   },
   "outputs": [
    {
     "data": {
      "text/plain": [
       "0    3\n",
       "1    2\n",
       "2    2\n",
       "3    3\n",
       "Name: col4, dtype: int64"
      ]
     },
     "execution_count": 42,
     "metadata": {},
     "output_type": "execute_result"
    }
   ],
   "source": [
    "df10[\"col4\"].transform(len)"
   ]
  },
  {
   "cell_type": "code",
   "execution_count": 43,
   "metadata": {
    "id": "YVZwt0-uQhl6",
    "outputId": "995a82a0-b82b-46cf-ccc0-86f097e70561"
   },
   "outputs": [
    {
     "data": {
      "text/plain": [
       "col1    4\n",
       "col2    4\n",
       "col3    4\n",
       "col4    4\n",
       "dtype: int64"
      ]
     },
     "execution_count": 43,
     "metadata": {},
     "output_type": "execute_result"
    }
   ],
   "source": [
    "#returns the length of each variable (columns) separately\n",
    "df10.apply(len)"
   ]
  },
  {
   "cell_type": "code",
   "execution_count": 44,
   "metadata": {
    "id": "h4qLC3sCQhl6",
    "outputId": "6c22d592-216f-47ac-bf5e-e853627f92f4"
   },
   "outputs": [
    {
     "data": {
      "text/html": [
       "<div>\n",
       "<style scoped>\n",
       "    .dataframe tbody tr th:only-of-type {\n",
       "        vertical-align: middle;\n",
       "    }\n",
       "\n",
       "    .dataframe tbody tr th {\n",
       "        vertical-align: top;\n",
       "    }\n",
       "\n",
       "    .dataframe thead th {\n",
       "        text-align: right;\n",
       "    }\n",
       "</style>\n",
       "<table border=\"1\" class=\"dataframe\">\n",
       "  <thead>\n",
       "    <tr style=\"text-align: right;\">\n",
       "      <th></th>\n",
       "      <th>grp</th>\n",
       "      <th>P</th>\n",
       "      <th>Q</th>\n",
       "    </tr>\n",
       "  </thead>\n",
       "  <tbody>\n",
       "    <tr>\n",
       "      <th>0</th>\n",
       "      <td>a</td>\n",
       "      <td>9</td>\n",
       "      <td>25</td>\n",
       "    </tr>\n",
       "    <tr>\n",
       "      <th>1</th>\n",
       "      <td>a</td>\n",
       "      <td>9</td>\n",
       "      <td>25</td>\n",
       "    </tr>\n",
       "    <tr>\n",
       "      <th>2</th>\n",
       "      <td>a</td>\n",
       "      <td>9</td>\n",
       "      <td>25</td>\n",
       "    </tr>\n",
       "    <tr>\n",
       "      <th>3</th>\n",
       "      <td>a</td>\n",
       "      <td>9</td>\n",
       "      <td>25</td>\n",
       "    </tr>\n",
       "    <tr>\n",
       "      <th>4</th>\n",
       "      <td>b</td>\n",
       "      <td>9</td>\n",
       "      <td>25</td>\n",
       "    </tr>\n",
       "    <tr>\n",
       "      <th>5</th>\n",
       "      <td>b</td>\n",
       "      <td>9</td>\n",
       "      <td>25</td>\n",
       "    </tr>\n",
       "    <tr>\n",
       "      <th>6</th>\n",
       "      <td>b</td>\n",
       "      <td>9</td>\n",
       "      <td>25</td>\n",
       "    </tr>\n",
       "  </tbody>\n",
       "</table>\n",
       "</div>"
      ],
      "text/plain": [
       "  grp  P   Q\n",
       "0   a  9  25\n",
       "1   a  9  25\n",
       "2   a  9  25\n",
       "3   a  9  25\n",
       "4   b  9  25\n",
       "5   b  9  25\n",
       "6   b  9  25"
      ]
     },
     "execution_count": 44,
     "metadata": {},
     "output_type": "execute_result"
    }
   ],
   "source": [
    "df1 = pd.DataFrame([[\"a\", 9, 25]] * 4, columns=[\"grp\", 'P', 'Q'])\n",
    "df2 = pd.DataFrame([[\"b\", 9, 25]] * 3, columns=[\"grp\", 'P', 'Q'])\n",
    "df3 = pd.concat([df1, df2], ignore_index=True)\n",
    "df3"
   ]
  },
  {
   "cell_type": "code",
   "execution_count": 45,
   "metadata": {
    "id": "M0eQ5ZipQhl7",
    "outputId": "366db5a0-89c0-493b-a653-242cdd5f02d2"
   },
   "outputs": [
    {
     "data": {
      "text/html": [
       "<div>\n",
       "<style scoped>\n",
       "    .dataframe tbody tr th:only-of-type {\n",
       "        vertical-align: middle;\n",
       "    }\n",
       "\n",
       "    .dataframe tbody tr th {\n",
       "        vertical-align: top;\n",
       "    }\n",
       "\n",
       "    .dataframe thead th {\n",
       "        text-align: right;\n",
       "    }\n",
       "</style>\n",
       "<table border=\"1\" class=\"dataframe\">\n",
       "  <thead>\n",
       "    <tr style=\"text-align: right;\">\n",
       "      <th></th>\n",
       "      <th>grp</th>\n",
       "      <th>P</th>\n",
       "      <th>Q</th>\n",
       "    </tr>\n",
       "    <tr>\n",
       "      <th>grp</th>\n",
       "      <th></th>\n",
       "      <th></th>\n",
       "      <th></th>\n",
       "    </tr>\n",
       "  </thead>\n",
       "  <tbody>\n",
       "    <tr>\n",
       "      <th>a</th>\n",
       "      <td>aaaa</td>\n",
       "      <td>36</td>\n",
       "      <td>100</td>\n",
       "    </tr>\n",
       "    <tr>\n",
       "      <th>b</th>\n",
       "      <td>bbb</td>\n",
       "      <td>27</td>\n",
       "      <td>75</td>\n",
       "    </tr>\n",
       "  </tbody>\n",
       "</table>\n",
       "</div>"
      ],
      "text/plain": [
       "      grp   P    Q\n",
       "grp               \n",
       "a    aaaa  36  100\n",
       "b     bbb  27   75"
      ]
     },
     "execution_count": 45,
     "metadata": {},
     "output_type": "execute_result"
    }
   ],
   "source": [
    "# returns a DataFrame that does not have the same length as itself\n",
    "df3.groupby(\"grp\").apply(sum)"
   ]
  },
  {
   "cell_type": "code",
   "execution_count": 46,
   "metadata": {
    "id": "HWIKMMFmQhl7",
    "outputId": "75622c28-d743-45cc-fab3-aa21119b0091"
   },
   "outputs": [
    {
     "data": {
      "text/html": [
       "<div>\n",
       "<style scoped>\n",
       "    .dataframe tbody tr th:only-of-type {\n",
       "        vertical-align: middle;\n",
       "    }\n",
       "\n",
       "    .dataframe tbody tr th {\n",
       "        vertical-align: top;\n",
       "    }\n",
       "\n",
       "    .dataframe thead th {\n",
       "        text-align: right;\n",
       "    }\n",
       "</style>\n",
       "<table border=\"1\" class=\"dataframe\">\n",
       "  <thead>\n",
       "    <tr style=\"text-align: right;\">\n",
       "      <th></th>\n",
       "      <th>P</th>\n",
       "      <th>Q</th>\n",
       "    </tr>\n",
       "  </thead>\n",
       "  <tbody>\n",
       "    <tr>\n",
       "      <th>0</th>\n",
       "      <td>36</td>\n",
       "      <td>100</td>\n",
       "    </tr>\n",
       "    <tr>\n",
       "      <th>1</th>\n",
       "      <td>36</td>\n",
       "      <td>100</td>\n",
       "    </tr>\n",
       "    <tr>\n",
       "      <th>2</th>\n",
       "      <td>36</td>\n",
       "      <td>100</td>\n",
       "    </tr>\n",
       "    <tr>\n",
       "      <th>3</th>\n",
       "      <td>36</td>\n",
       "      <td>100</td>\n",
       "    </tr>\n",
       "    <tr>\n",
       "      <th>4</th>\n",
       "      <td>27</td>\n",
       "      <td>75</td>\n",
       "    </tr>\n",
       "    <tr>\n",
       "      <th>5</th>\n",
       "      <td>27</td>\n",
       "      <td>75</td>\n",
       "    </tr>\n",
       "    <tr>\n",
       "      <th>6</th>\n",
       "      <td>27</td>\n",
       "      <td>75</td>\n",
       "    </tr>\n",
       "  </tbody>\n",
       "</table>\n",
       "</div>"
      ],
      "text/plain": [
       "    P    Q\n",
       "0  36  100\n",
       "1  36  100\n",
       "2  36  100\n",
       "3  36  100\n",
       "4  27   75\n",
       "5  27   75\n",
       "6  27   75"
      ]
     },
     "execution_count": 46,
     "metadata": {},
     "output_type": "execute_result"
    }
   ],
   "source": [
    "df3.groupby(\"grp\").transform(sum)"
   ]
  },
  {
   "cell_type": "markdown",
   "metadata": {
    "id": "q6VWRSKWQhl7"
   },
   "source": [
    "### Pivot Tables"
   ]
  },
  {
   "cell_type": "code",
   "execution_count": 47,
   "metadata": {
    "id": "D_879aGXQhl7",
    "outputId": "53bf20f1-5e32-49f4-de9f-dcbbda5e9e10"
   },
   "outputs": [
    {
     "data": {
      "text/html": [
       "<div>\n",
       "<style scoped>\n",
       "    .dataframe tbody tr th:only-of-type {\n",
       "        vertical-align: middle;\n",
       "    }\n",
       "\n",
       "    .dataframe tbody tr th {\n",
       "        vertical-align: top;\n",
       "    }\n",
       "\n",
       "    .dataframe thead th {\n",
       "        text-align: right;\n",
       "    }\n",
       "</style>\n",
       "<table border=\"1\" class=\"dataframe\">\n",
       "  <thead>\n",
       "    <tr style=\"text-align: right;\">\n",
       "      <th></th>\n",
       "      <th>survived</th>\n",
       "      <th>pclass</th>\n",
       "      <th>sex</th>\n",
       "      <th>age</th>\n",
       "      <th>sibsp</th>\n",
       "      <th>parch</th>\n",
       "      <th>fare</th>\n",
       "      <th>embarked</th>\n",
       "      <th>class</th>\n",
       "      <th>who</th>\n",
       "      <th>adult_male</th>\n",
       "      <th>deck</th>\n",
       "      <th>embark_town</th>\n",
       "      <th>alive</th>\n",
       "      <th>alone</th>\n",
       "    </tr>\n",
       "  </thead>\n",
       "  <tbody>\n",
       "    <tr>\n",
       "      <th>0</th>\n",
       "      <td>0</td>\n",
       "      <td>3</td>\n",
       "      <td>male</td>\n",
       "      <td>22.0</td>\n",
       "      <td>1</td>\n",
       "      <td>0</td>\n",
       "      <td>7.2500</td>\n",
       "      <td>S</td>\n",
       "      <td>Third</td>\n",
       "      <td>man</td>\n",
       "      <td>True</td>\n",
       "      <td>NaN</td>\n",
       "      <td>Southampton</td>\n",
       "      <td>no</td>\n",
       "      <td>False</td>\n",
       "    </tr>\n",
       "    <tr>\n",
       "      <th>1</th>\n",
       "      <td>1</td>\n",
       "      <td>1</td>\n",
       "      <td>female</td>\n",
       "      <td>38.0</td>\n",
       "      <td>1</td>\n",
       "      <td>0</td>\n",
       "      <td>71.2833</td>\n",
       "      <td>C</td>\n",
       "      <td>First</td>\n",
       "      <td>woman</td>\n",
       "      <td>False</td>\n",
       "      <td>C</td>\n",
       "      <td>Cherbourg</td>\n",
       "      <td>yes</td>\n",
       "      <td>False</td>\n",
       "    </tr>\n",
       "    <tr>\n",
       "      <th>2</th>\n",
       "      <td>1</td>\n",
       "      <td>3</td>\n",
       "      <td>female</td>\n",
       "      <td>26.0</td>\n",
       "      <td>0</td>\n",
       "      <td>0</td>\n",
       "      <td>7.9250</td>\n",
       "      <td>S</td>\n",
       "      <td>Third</td>\n",
       "      <td>woman</td>\n",
       "      <td>False</td>\n",
       "      <td>NaN</td>\n",
       "      <td>Southampton</td>\n",
       "      <td>yes</td>\n",
       "      <td>True</td>\n",
       "    </tr>\n",
       "    <tr>\n",
       "      <th>3</th>\n",
       "      <td>1</td>\n",
       "      <td>1</td>\n",
       "      <td>female</td>\n",
       "      <td>35.0</td>\n",
       "      <td>1</td>\n",
       "      <td>0</td>\n",
       "      <td>53.1000</td>\n",
       "      <td>S</td>\n",
       "      <td>First</td>\n",
       "      <td>woman</td>\n",
       "      <td>False</td>\n",
       "      <td>C</td>\n",
       "      <td>Southampton</td>\n",
       "      <td>yes</td>\n",
       "      <td>False</td>\n",
       "    </tr>\n",
       "    <tr>\n",
       "      <th>4</th>\n",
       "      <td>0</td>\n",
       "      <td>3</td>\n",
       "      <td>male</td>\n",
       "      <td>35.0</td>\n",
       "      <td>0</td>\n",
       "      <td>0</td>\n",
       "      <td>8.0500</td>\n",
       "      <td>S</td>\n",
       "      <td>Third</td>\n",
       "      <td>man</td>\n",
       "      <td>True</td>\n",
       "      <td>NaN</td>\n",
       "      <td>Southampton</td>\n",
       "      <td>no</td>\n",
       "      <td>True</td>\n",
       "    </tr>\n",
       "  </tbody>\n",
       "</table>\n",
       "</div>"
      ],
      "text/plain": [
       "   survived  pclass     sex   age  sibsp  parch     fare embarked  class  \\\n",
       "0         0       3    male  22.0      1      0   7.2500        S  Third   \n",
       "1         1       1  female  38.0      1      0  71.2833        C  First   \n",
       "2         1       3  female  26.0      0      0   7.9250        S  Third   \n",
       "3         1       1  female  35.0      1      0  53.1000        S  First   \n",
       "4         0       3    male  35.0      0      0   8.0500        S  Third   \n",
       "\n",
       "     who  adult_male deck  embark_town alive  alone  \n",
       "0    man        True  NaN  Southampton    no  False  \n",
       "1  woman       False    C    Cherbourg   yes  False  \n",
       "2  woman       False  NaN  Southampton   yes   True  \n",
       "3  woman       False    C  Southampton   yes  False  \n",
       "4    man        True  NaN  Southampton    no   True  "
      ]
     },
     "execution_count": 47,
     "metadata": {},
     "output_type": "execute_result"
    }
   ],
   "source": [
    "titanic = sns.load_dataset('titanic')\n",
    "titanic.head()"
   ]
  },
  {
   "cell_type": "code",
   "execution_count": 48,
   "metadata": {
    "id": "pYgK7GTlQhl8",
    "outputId": "fb75ffb5-d31d-45ad-8dc5-0e77b5c8a1de"
   },
   "outputs": [
    {
     "data": {
      "text/html": [
       "<div>\n",
       "<style scoped>\n",
       "    .dataframe tbody tr th:only-of-type {\n",
       "        vertical-align: middle;\n",
       "    }\n",
       "\n",
       "    .dataframe tbody tr th {\n",
       "        vertical-align: top;\n",
       "    }\n",
       "\n",
       "    .dataframe thead th {\n",
       "        text-align: right;\n",
       "    }\n",
       "</style>\n",
       "<table border=\"1\" class=\"dataframe\">\n",
       "  <thead>\n",
       "    <tr style=\"text-align: right;\">\n",
       "      <th></th>\n",
       "      <th></th>\n",
       "      <th>survived</th>\n",
       "    </tr>\n",
       "    <tr>\n",
       "      <th>sex</th>\n",
       "      <th>class</th>\n",
       "      <th></th>\n",
       "    </tr>\n",
       "  </thead>\n",
       "  <tbody>\n",
       "    <tr>\n",
       "      <th rowspan=\"3\" valign=\"top\">female</th>\n",
       "      <th>First</th>\n",
       "      <td>0.968085</td>\n",
       "    </tr>\n",
       "    <tr>\n",
       "      <th>Second</th>\n",
       "      <td>0.921053</td>\n",
       "    </tr>\n",
       "    <tr>\n",
       "      <th>Third</th>\n",
       "      <td>0.500000</td>\n",
       "    </tr>\n",
       "    <tr>\n",
       "      <th rowspan=\"3\" valign=\"top\">male</th>\n",
       "      <th>First</th>\n",
       "      <td>0.368852</td>\n",
       "    </tr>\n",
       "    <tr>\n",
       "      <th>Second</th>\n",
       "      <td>0.157407</td>\n",
       "    </tr>\n",
       "    <tr>\n",
       "      <th>Third</th>\n",
       "      <td>0.135447</td>\n",
       "    </tr>\n",
       "  </tbody>\n",
       "</table>\n",
       "</div>"
      ],
      "text/plain": [
       "               survived\n",
       "sex    class           \n",
       "female First   0.968085\n",
       "       Second  0.921053\n",
       "       Third   0.500000\n",
       "male   First   0.368852\n",
       "       Second  0.157407\n",
       "       Third   0.135447"
      ]
     },
     "execution_count": 48,
     "metadata": {},
     "output_type": "execute_result"
    }
   ],
   "source": [
    "titanic.groupby([\"sex\",\"class\"])[[\"survived\"]].mean()"
   ]
  },
  {
   "cell_type": "code",
   "execution_count": 49,
   "metadata": {
    "id": "YaJe-e3OQhl8",
    "outputId": "19eb08a2-f110-4b7c-8d97-9ed4a2986cfa"
   },
   "outputs": [
    {
     "data": {
      "text/html": [
       "<div>\n",
       "<style scoped>\n",
       "    .dataframe tbody tr th:only-of-type {\n",
       "        vertical-align: middle;\n",
       "    }\n",
       "\n",
       "    .dataframe tbody tr th {\n",
       "        vertical-align: top;\n",
       "    }\n",
       "\n",
       "    .dataframe thead tr th {\n",
       "        text-align: left;\n",
       "    }\n",
       "\n",
       "    .dataframe thead tr:last-of-type th {\n",
       "        text-align: right;\n",
       "    }\n",
       "</style>\n",
       "<table border=\"1\" class=\"dataframe\">\n",
       "  <thead>\n",
       "    <tr>\n",
       "      <th></th>\n",
       "      <th colspan=\"3\" halign=\"left\">survived</th>\n",
       "    </tr>\n",
       "    <tr>\n",
       "      <th>class</th>\n",
       "      <th>First</th>\n",
       "      <th>Second</th>\n",
       "      <th>Third</th>\n",
       "    </tr>\n",
       "    <tr>\n",
       "      <th>sex</th>\n",
       "      <th></th>\n",
       "      <th></th>\n",
       "      <th></th>\n",
       "    </tr>\n",
       "  </thead>\n",
       "  <tbody>\n",
       "    <tr>\n",
       "      <th>female</th>\n",
       "      <td>0.968085</td>\n",
       "      <td>0.921053</td>\n",
       "      <td>0.500000</td>\n",
       "    </tr>\n",
       "    <tr>\n",
       "      <th>male</th>\n",
       "      <td>0.368852</td>\n",
       "      <td>0.157407</td>\n",
       "      <td>0.135447</td>\n",
       "    </tr>\n",
       "  </tbody>\n",
       "</table>\n",
       "</div>"
      ],
      "text/plain": [
       "        survived                    \n",
       "class      First    Second     Third\n",
       "sex                                 \n",
       "female  0.968085  0.921053  0.500000\n",
       "male    0.368852  0.157407  0.135447"
      ]
     },
     "execution_count": 49,
     "metadata": {},
     "output_type": "execute_result"
    }
   ],
   "source": [
    "titanic.groupby([\"sex\",\"class\"])[[\"survived\"]].aggregate(\"mean\").unstack()"
   ]
  },
  {
   "cell_type": "markdown",
   "metadata": {
    "id": "73qZG4YOQhl8"
   },
   "source": [
    "### Using pivot table"
   ]
  },
  {
   "cell_type": "markdown",
   "metadata": {
    "id": "-hbBqt8EQhl8"
   },
   "source": [
    "- Create a spreadsheet-style pivot table as a ``DataFrame``."
   ]
  },
  {
   "cell_type": "code",
   "execution_count": 50,
   "metadata": {
    "id": "dhed5eZCQhl8",
    "outputId": "86d51652-6fd3-4b7f-9526-66f6d8650d12"
   },
   "outputs": [
    {
     "data": {
      "text/html": [
       "<div>\n",
       "<style scoped>\n",
       "    .dataframe tbody tr th:only-of-type {\n",
       "        vertical-align: middle;\n",
       "    }\n",
       "\n",
       "    .dataframe tbody tr th {\n",
       "        vertical-align: top;\n",
       "    }\n",
       "\n",
       "    .dataframe thead th {\n",
       "        text-align: right;\n",
       "    }\n",
       "</style>\n",
       "<table border=\"1\" class=\"dataframe\">\n",
       "  <thead>\n",
       "    <tr style=\"text-align: right;\">\n",
       "      <th>class</th>\n",
       "      <th>First</th>\n",
       "      <th>Second</th>\n",
       "      <th>Third</th>\n",
       "    </tr>\n",
       "    <tr>\n",
       "      <th>sex</th>\n",
       "      <th></th>\n",
       "      <th></th>\n",
       "      <th></th>\n",
       "    </tr>\n",
       "  </thead>\n",
       "  <tbody>\n",
       "    <tr>\n",
       "      <th>female</th>\n",
       "      <td>0.968085</td>\n",
       "      <td>0.921053</td>\n",
       "      <td>0.500000</td>\n",
       "    </tr>\n",
       "    <tr>\n",
       "      <th>male</th>\n",
       "      <td>0.368852</td>\n",
       "      <td>0.157407</td>\n",
       "      <td>0.135447</td>\n",
       "    </tr>\n",
       "  </tbody>\n",
       "</table>\n",
       "</div>"
      ],
      "text/plain": [
       "class      First    Second     Third\n",
       "sex                                 \n",
       "female  0.968085  0.921053  0.500000\n",
       "male    0.368852  0.157407  0.135447"
      ]
     },
     "execution_count": 50,
     "metadata": {},
     "output_type": "execute_result"
    }
   ],
   "source": [
    "titanic.pivot_table('survived',index='sex',columns='class')"
   ]
  },
  {
   "cell_type": "code",
   "execution_count": 52,
   "metadata": {
    "id": "wI_gBfByQhl9",
    "outputId": "94915e2a-08aa-493d-d8f4-8d9d992cdbe5"
   },
   "outputs": [
    {
     "data": {
      "text/html": [
       "<div>\n",
       "<style scoped>\n",
       "    .dataframe tbody tr th:only-of-type {\n",
       "        vertical-align: middle;\n",
       "    }\n",
       "\n",
       "    .dataframe tbody tr th {\n",
       "        vertical-align: top;\n",
       "    }\n",
       "\n",
       "    .dataframe thead th {\n",
       "        text-align: right;\n",
       "    }\n",
       "</style>\n",
       "<table border=\"1\" class=\"dataframe\">\n",
       "  <thead>\n",
       "    <tr style=\"text-align: right;\">\n",
       "      <th></th>\n",
       "      <th>A</th>\n",
       "      <th>B</th>\n",
       "      <th>C</th>\n",
       "      <th>D</th>\n",
       "    </tr>\n",
       "  </thead>\n",
       "  <tbody>\n",
       "    <tr>\n",
       "      <th>0</th>\n",
       "      <td>foo</td>\n",
       "      <td>one</td>\n",
       "      <td>x</td>\n",
       "      <td>1</td>\n",
       "    </tr>\n",
       "    <tr>\n",
       "      <th>1</th>\n",
       "      <td>foo</td>\n",
       "      <td>one</td>\n",
       "      <td>y</td>\n",
       "      <td>3</td>\n",
       "    </tr>\n",
       "    <tr>\n",
       "      <th>2</th>\n",
       "      <td>foo</td>\n",
       "      <td>two</td>\n",
       "      <td>x</td>\n",
       "      <td>2</td>\n",
       "    </tr>\n",
       "    <tr>\n",
       "      <th>3</th>\n",
       "      <td>bar</td>\n",
       "      <td>two</td>\n",
       "      <td>y</td>\n",
       "      <td>5</td>\n",
       "    </tr>\n",
       "    <tr>\n",
       "      <th>4</th>\n",
       "      <td>bar</td>\n",
       "      <td>one</td>\n",
       "      <td>x</td>\n",
       "      <td>4</td>\n",
       "    </tr>\n",
       "    <tr>\n",
       "      <th>5</th>\n",
       "      <td>bar</td>\n",
       "      <td>one</td>\n",
       "      <td>y</td>\n",
       "      <td>1</td>\n",
       "    </tr>\n",
       "  </tbody>\n",
       "</table>\n",
       "</div>"
      ],
      "text/plain": [
       "     A    B  C  D\n",
       "0  foo  one  x  1\n",
       "1  foo  one  y  3\n",
       "2  foo  two  x  2\n",
       "3  bar  two  y  5\n",
       "4  bar  one  x  4\n",
       "5  bar  one  y  1"
      ]
     },
     "execution_count": 52,
     "metadata": {},
     "output_type": "execute_result"
    }
   ],
   "source": [
    "data = {'A':['foo', 'foo', 'foo', 'bar', 'bar', 'bar'],\n",
    "       'B':['one', 'one', 'two', 'two', 'one', 'one'],\n",
    "       'C':['x', 'y', 'x', 'y', 'x', 'y'],\n",
    "       'D':[1, 3, 2, 5, 4, 1]}\n",
    "\n",
    "df5 = pd.DataFrame(data)\n",
    "\n",
    "df5"
   ]
  },
  {
   "cell_type": "code",
   "execution_count": 53,
   "metadata": {
    "id": "BerMa6xZQhl9",
    "outputId": "c57c8360-4c42-420c-d8f4-5e1bf4d214a7"
   },
   "outputs": [
    {
     "data": {
      "text/html": [
       "<div>\n",
       "<style scoped>\n",
       "    .dataframe tbody tr th:only-of-type {\n",
       "        vertical-align: middle;\n",
       "    }\n",
       "\n",
       "    .dataframe tbody tr th {\n",
       "        vertical-align: top;\n",
       "    }\n",
       "\n",
       "    .dataframe thead th {\n",
       "        text-align: right;\n",
       "    }\n",
       "</style>\n",
       "<table border=\"1\" class=\"dataframe\">\n",
       "  <thead>\n",
       "    <tr style=\"text-align: right;\">\n",
       "      <th></th>\n",
       "      <th>C</th>\n",
       "      <th>x</th>\n",
       "      <th>y</th>\n",
       "    </tr>\n",
       "    <tr>\n",
       "      <th>A</th>\n",
       "      <th>B</th>\n",
       "      <th></th>\n",
       "      <th></th>\n",
       "    </tr>\n",
       "  </thead>\n",
       "  <tbody>\n",
       "    <tr>\n",
       "      <th rowspan=\"2\" valign=\"top\">bar</th>\n",
       "      <th>one</th>\n",
       "      <td>4.0</td>\n",
       "      <td>1.0</td>\n",
       "    </tr>\n",
       "    <tr>\n",
       "      <th>two</th>\n",
       "      <td>NaN</td>\n",
       "      <td>5.0</td>\n",
       "    </tr>\n",
       "    <tr>\n",
       "      <th rowspan=\"2\" valign=\"top\">foo</th>\n",
       "      <th>one</th>\n",
       "      <td>1.0</td>\n",
       "      <td>3.0</td>\n",
       "    </tr>\n",
       "    <tr>\n",
       "      <th>two</th>\n",
       "      <td>2.0</td>\n",
       "      <td>NaN</td>\n",
       "    </tr>\n",
       "  </tbody>\n",
       "</table>\n",
       "</div>"
      ],
      "text/plain": [
       "C          x    y\n",
       "A   B            \n",
       "bar one  4.0  1.0\n",
       "    two  NaN  5.0\n",
       "foo one  1.0  3.0\n",
       "    two  2.0  NaN"
      ]
     },
     "execution_count": 53,
     "metadata": {},
     "output_type": "execute_result"
    }
   ],
   "source": [
    "df5.pivot_table(values='D', index=['A', 'B'], columns=['C'])"
   ]
  },
  {
   "cell_type": "markdown",
   "metadata": {
    "id": "3vnM00e0DyzX"
   },
   "source": [
    "# Missing Values & Outliers"
   ]
  },
  {
   "cell_type": "markdown",
   "metadata": {
    "id": "30XgnYRTDyzX"
   },
   "source": [
    "- # Handling with Missing Values"
   ]
  },
  {
   "cell_type": "markdown",
   "metadata": {},
   "source": [
    "**Missing value handling methods**\n",
    "\n",
    " 1. <b>Deleting Rows</b> ----->if it has more than 70-75% of missing values\n",
    "    \n",
    " 2. <b>Replacing With Mean/Median/Mode (Imputation)</b>--->can be applied on a feature which has numeric data\n",
    "\n",
    " 3. <b> Assigning An Unique Category</b>--->If a categorical feature has definite number of classes, we can assign another class\n",
    "    \n",
    " 4. <b>Predicting The Missing Values</b>---> we can predict the nulls with the help of a machine learning algorithm like linear regression\n",
    "\n",
    " 5. <b>Using Algorithms Which Support Missing Values</b>--->KNN is a machine learning algorithm which works on the principle of distance measure.  This algorithm can be used when there are nulls present in the dataset.  KNN considers the missing values by taking the majority of the K nearest values"
   ]
  },
  {
   "cell_type": "code",
   "execution_count": 54,
   "metadata": {
    "id": "pV89ToBWDyzY"
   },
   "outputs": [],
   "source": [
    "df = pd.DataFrame({'A':[4, 6, np.nan],\n",
    "                  'B':[8, np.nan, np.nan],\n",
    "                  'C':[1, 2, 3]})"
   ]
  },
  {
   "cell_type": "code",
   "execution_count": 55,
   "metadata": {
    "id": "YFbaaMMDDyzZ",
    "outputId": "70eca2c6-6aeb-4919-a8be-0a6ceb112572",
    "scrolled": true
   },
   "outputs": [
    {
     "data": {
      "text/html": [
       "<div>\n",
       "<style scoped>\n",
       "    .dataframe tbody tr th:only-of-type {\n",
       "        vertical-align: middle;\n",
       "    }\n",
       "\n",
       "    .dataframe tbody tr th {\n",
       "        vertical-align: top;\n",
       "    }\n",
       "\n",
       "    .dataframe thead th {\n",
       "        text-align: right;\n",
       "    }\n",
       "</style>\n",
       "<table border=\"1\" class=\"dataframe\">\n",
       "  <thead>\n",
       "    <tr style=\"text-align: right;\">\n",
       "      <th></th>\n",
       "      <th>A</th>\n",
       "      <th>B</th>\n",
       "      <th>C</th>\n",
       "    </tr>\n",
       "  </thead>\n",
       "  <tbody>\n",
       "    <tr>\n",
       "      <th>0</th>\n",
       "      <td>4.0</td>\n",
       "      <td>8.0</td>\n",
       "      <td>1</td>\n",
       "    </tr>\n",
       "    <tr>\n",
       "      <th>1</th>\n",
       "      <td>6.0</td>\n",
       "      <td>NaN</td>\n",
       "      <td>2</td>\n",
       "    </tr>\n",
       "    <tr>\n",
       "      <th>2</th>\n",
       "      <td>NaN</td>\n",
       "      <td>NaN</td>\n",
       "      <td>3</td>\n",
       "    </tr>\n",
       "  </tbody>\n",
       "</table>\n",
       "</div>"
      ],
      "text/plain": [
       "     A    B  C\n",
       "0  4.0  8.0  1\n",
       "1  6.0  NaN  2\n",
       "2  NaN  NaN  3"
      ]
     },
     "execution_count": 55,
     "metadata": {},
     "output_type": "execute_result"
    }
   ],
   "source": [
    "df"
   ]
  },
  {
   "cell_type": "markdown",
   "metadata": {},
   "source": [
    "NaN, standing for not a number, is a numeric data type used to represent any value that is undefined or unpresentable.\n",
    "\n",
    "For example, 0/0 is undefined as a real number and is, therefore, represented by NaN. The square root of a negative number is an imaginary number that cannot be represented as a real number, so, it is represented by NaN.\n",
    "\n",
    "NaN is also assigned to variables, in a computation, that do not have values and have yet to be computed."
   ]
  },
  {
   "cell_type": "code",
   "execution_count": 56,
   "metadata": {
    "id": "GYvEi1PDDyzb",
    "outputId": "dc6ac82b-9ec6-45f5-b2f5-4b1aca112805"
   },
   "outputs": [
    {
     "data": {
      "text/html": [
       "<div>\n",
       "<style scoped>\n",
       "    .dataframe tbody tr th:only-of-type {\n",
       "        vertical-align: middle;\n",
       "    }\n",
       "\n",
       "    .dataframe tbody tr th {\n",
       "        vertical-align: top;\n",
       "    }\n",
       "\n",
       "    .dataframe thead th {\n",
       "        text-align: right;\n",
       "    }\n",
       "</style>\n",
       "<table border=\"1\" class=\"dataframe\">\n",
       "  <thead>\n",
       "    <tr style=\"text-align: right;\">\n",
       "      <th></th>\n",
       "      <th>A</th>\n",
       "      <th>C</th>\n",
       "    </tr>\n",
       "  </thead>\n",
       "  <tbody>\n",
       "    <tr>\n",
       "      <th>0</th>\n",
       "      <td>4.0</td>\n",
       "      <td>1</td>\n",
       "    </tr>\n",
       "    <tr>\n",
       "      <th>1</th>\n",
       "      <td>6.0</td>\n",
       "      <td>2</td>\n",
       "    </tr>\n",
       "    <tr>\n",
       "      <th>2</th>\n",
       "      <td>NaN</td>\n",
       "      <td>3</td>\n",
       "    </tr>\n",
       "  </tbody>\n",
       "</table>\n",
       "</div>"
      ],
      "text/plain": [
       "     A  C\n",
       "0  4.0  1\n",
       "1  6.0  2\n",
       "2  NaN  3"
      ]
     },
     "execution_count": 56,
     "metadata": {},
     "output_type": "execute_result"
    }
   ],
   "source": [
    "df.dropna(thresh=2,axis=1)"
   ]
  },
  {
   "cell_type": "code",
   "execution_count": null,
   "metadata": {
    "id": "PXwV6QVJDyzc",
    "outputId": "5b002c71-b5e2-4a0d-dc40-99d62c68a657",
    "scrolled": true
   },
   "outputs": [],
   "source": [
    "df['A'].fillna(value=df['A'].mean())"
   ]
  },
  {
   "cell_type": "code",
   "execution_count": null,
   "metadata": {
    "id": "ZHxKQj-LDyzc",
    "outputId": "ede81598-115d-48d2-cdc2-2d5ba360825c",
    "scrolled": true
   },
   "outputs": [],
   "source": [
    "import numpy as np\n",
    "import pandas as pd\n",
    "V1 = np.array([2,4,6,np.NaN,7,1,np.NaN,10,14])\n",
    "V2 = np.array([8,np.NaN,5,8,11,np.NaN,np.NaN,2,3])\n",
    "V3 = np.array([np.NaN,11,8,5,10,6,np.NaN,4,20])\n",
    "df = pd.DataFrame(\n",
    "        {\"Var1\" : V1,\n",
    "         \"Var2\" : V2,\n",
    "         \"Var3\" : V3}        \n",
    ")\n",
    "\n",
    "df"
   ]
  },
  {
   "cell_type": "code",
   "execution_count": null,
   "metadata": {},
   "outputs": [],
   "source": [
    "#number of missing values in the columns\n",
    "df.isnull().sum()"
   ]
  },
  {
   "cell_type": "code",
   "execution_count": null,
   "metadata": {
    "id": "i8z6BoKxDyzd",
    "outputId": "4ae824ea-3ea7-4c91-aaaa-000148941e41"
   },
   "outputs": [],
   "source": [
    "# what percent of the variables have missing values\n",
    "df.isnull().sum()/len(df)"
   ]
  },
  {
   "cell_type": "code",
   "execution_count": null,
   "metadata": {
    "id": "o5dTO7LmDyze",
    "outputId": "0c06c2c5-1331-4f6e-a9c0-a28028752acf"
   },
   "outputs": [],
   "source": [
    "df.notnull().sum()"
   ]
  },
  {
   "cell_type": "code",
   "execution_count": null,
   "metadata": {
    "id": "FYqUS7HCDyzg",
    "outputId": "5e2d3180-32da-4a81-b15e-682f822b42e6"
   },
   "outputs": [],
   "source": [
    "df.Var1[df.Var1.isnull()]"
   ]
  },
  {
   "cell_type": "code",
   "execution_count": null,
   "metadata": {
    "id": "fcQlSciMDyzh",
    "outputId": "921abb18-2d1e-40d4-c60d-47be71fe79dc"
   },
   "outputs": [],
   "source": [
    "# columns/variables containing any missing values\n",
    "df.isnull().any()"
   ]
  },
  {
   "cell_type": "code",
   "execution_count": null,
   "metadata": {
    "id": "LfmCx15GDyzi",
    "outputId": "2cb88927-2019-4452-f95d-f49e3e9a8d28"
   },
   "outputs": [],
   "source": [
    "df"
   ]
  },
  {
   "cell_type": "code",
   "execution_count": null,
   "metadata": {
    "id": "DV4j5XPYDyzi",
    "outputId": "30932144-70e0-482f-d84d-186e183535fb"
   },
   "outputs": [],
   "source": [
    "df.isnull().any(axis = 1)"
   ]
  },
  {
   "cell_type": "code",
   "execution_count": null,
   "metadata": {
    "id": "EKCjop2FDyzi",
    "outputId": "98a43660-e945-4f3e-a9b5-cb05fca8be64"
   },
   "outputs": [],
   "source": [
    "# rows containing any missing values\n",
    "df[df.isnull().any(axis = 1)]"
   ]
  },
  {
   "cell_type": "code",
   "execution_count": null,
   "metadata": {
    "id": "L8rYhvTNDyzj",
    "outputId": "fe48e358-0f11-4134-f30b-724a89f6308e"
   },
   "outputs": [],
   "source": [
    "# rows containing full of notnull values\n",
    "df[df.notnull().all(axis = 1)]"
   ]
  },
  {
   "cell_type": "markdown",
   "metadata": {
    "id": "x3SpicTADyzk"
   },
   "source": [
    "### Missing Values Handling Methods"
   ]
  },
  {
   "cell_type": "markdown",
   "metadata": {
    "id": "F_0xNPexDyzk"
   },
   "source": [
    " - #### Dropping"
   ]
  },
  {
   "cell_type": "code",
   "execution_count": null,
   "metadata": {
    "id": "rt-TwgHMDyzl",
    "outputId": "4a028814-6eb8-4766-d532-2fd75bafb9ad"
   },
   "outputs": [],
   "source": [
    "df"
   ]
  },
  {
   "cell_type": "code",
   "execution_count": null,
   "metadata": {
    "id": "JTW5DW0KDyzl",
    "outputId": "537a7740-9ed6-42fd-f522-45a0704f81a3"
   },
   "outputs": [],
   "source": [
    "# index 6 is removed since its all values are missing.\n",
    "df.dropna(how = \"all\")"
   ]
  },
  {
   "cell_type": "code",
   "execution_count": null,
   "metadata": {
    "id": "My69-rQiDyzl",
    "outputId": "89d8088f-9417-40cc-e7a1-cdaae2cae67d"
   },
   "outputs": [],
   "source": [
    "# it removes the columns which contains any (at least one missing value)\n",
    "# missing value\n",
    "df.dropna(axis = 1)"
   ]
  },
  {
   "cell_type": "code",
   "execution_count": null,
   "metadata": {
    "id": "PAemIyEhDyzo",
    "outputId": "5e5eb14a-c5ea-4915-9773-c47252a617ff",
    "scrolled": true
   },
   "outputs": [],
   "source": [
    "# there is no dropping column since no column has full of missing value\n",
    "df.dropna(axis = 1, how = \"all\")"
   ]
  },
  {
   "cell_type": "markdown",
   "metadata": {
    "id": "0GmBZxqVDyzq"
   },
   "source": [
    " - #### Filling"
   ]
  },
  {
   "cell_type": "code",
   "execution_count": null,
   "metadata": {
    "id": "-XYHoP-xQJ3H"
   },
   "outputs": [],
   "source": [
    "import numpy as np\n",
    "import pandas as pd\n",
    "V1 = np.array([2,3,5,np.NaN,7,1,np.NaN,10,14])\n",
    "V2 = np.array([8,np.NaN,5,8,11,np.NaN,np.NaN,2,3])\n",
    "V3 = np.array([np.NaN,13,5,6,13,7,np.NaN,3,30])\n",
    "df = pd.DataFrame(\n",
    "        {\"Var1\" : V1,\n",
    "         \"Var2\" : V2,\n",
    "         \"Var3\" : V3}        \n",
    ")\n",
    "\n",
    "df"
   ]
  },
  {
   "cell_type": "code",
   "execution_count": null,
   "metadata": {
    "id": "NTOuQnKKDyzr",
    "outputId": "960cbc88-cd62-4e16-ba09-2d763ec508a4",
    "scrolled": true
   },
   "outputs": [],
   "source": [
    "df"
   ]
  },
  {
   "cell_type": "markdown",
   "metadata": {
    "id": "OdUsVrEVDyzr"
   },
   "source": [
    " - Filling with a specific value"
   ]
  },
  {
   "cell_type": "code",
   "execution_count": null,
   "metadata": {
    "id": "2gTzGNjGDyzs",
    "outputId": "ebf9982a-1c9f-49a2-c3ec-fafa132f9751"
   },
   "outputs": [],
   "source": [
    "df[\"Var1\"].fillna(0)"
   ]
  },
  {
   "cell_type": "markdown",
   "metadata": {
    "id": "f2UjYRTMDyzt"
   },
   "source": [
    " - Filling with any Proper Value"
   ]
  },
  {
   "cell_type": "code",
   "execution_count": null,
   "metadata": {
    "id": "esVMtoW1Dyzt",
    "outputId": "a0271bad-51c4-4c2a-88c0-85fc5cff6771"
   },
   "outputs": [],
   "source": [
    "df[\"Var1\"].mean()"
   ]
  },
  {
   "cell_type": "code",
   "execution_count": null,
   "metadata": {
    "id": "wbt9LmaUDyzt",
    "outputId": "06d4f39d-9036-4584-f1de-8626c30f5c8d"
   },
   "outputs": [],
   "source": [
    "df[\"Var1\"].fillna(df[\"Var1\"].mean())"
   ]
  },
  {
   "cell_type": "code",
   "execution_count": null,
   "metadata": {
    "id": "ufF2DT-eDyzt",
    "outputId": "d6c43398-4671-45a1-f99e-a4af7c9a7dc2"
   },
   "outputs": [],
   "source": [
    "# filling all columns/variables using Method - 1\n",
    "\n",
    "df.apply(lambda x: x.fillna(x.mean()), axis = 0)"
   ]
  },
  {
   "cell_type": "code",
   "execution_count": null,
   "metadata": {
    "id": "206ilxg2Dyzu",
    "outputId": "598a6cee-0129-4b17-c5fc-0b7505eaef93"
   },
   "outputs": [],
   "source": [
    "# filling all columns/variables using Method - 2\n",
    "df.mean()"
   ]
  },
  {
   "cell_type": "code",
   "execution_count": null,
   "metadata": {},
   "outputs": [],
   "source": [
    "df"
   ]
  },
  {
   "cell_type": "code",
   "execution_count": null,
   "metadata": {
    "id": "Ns6qJvWmDyzu",
    "outputId": "4aa120b8-60de-4f58-c250-b319c628d77b"
   },
   "outputs": [],
   "source": [
    "df.fillna(df.mean())"
   ]
  },
  {
   "cell_type": "code",
   "execution_count": null,
   "metadata": {
    "id": "ta0SEkyMDyzu",
    "outputId": "d55bfd94-729c-4f7d-b905-1a357d4cc5b2"
   },
   "outputs": [],
   "source": [
    "# we can fill Var1 with avg of Var1 and fill Var2 with avg of Var2\n",
    "df.mean()[\"Var1\":\"Var2\"]"
   ]
  },
  {
   "cell_type": "code",
   "execution_count": null,
   "metadata": {
    "id": "d5zjWQoUDyzv",
    "outputId": "1cf05587-de5c-4356-d4ee-85ef2a876bdc"
   },
   "outputs": [],
   "source": [
    "df.fillna(df.mean()[\"Var1\":\"Var2\"])"
   ]
  },
  {
   "cell_type": "code",
   "execution_count": null,
   "metadata": {
    "id": "LgqI_hpPDyzv",
    "outputId": "71f11044-5e55-4b58-d6ef-5bd2f271078b"
   },
   "outputs": [],
   "source": [
    "df[\"Var3\"].fillna(df[\"Var3\"].median())"
   ]
  },
  {
   "cell_type": "code",
   "execution_count": null,
   "metadata": {
    "id": "SKuhn2_7Dyzv",
    "outputId": "06a71749-4327-43c4-ad3e-6604f2ca0fca"
   },
   "outputs": [],
   "source": [
    "df"
   ]
  },
  {
   "cell_type": "code",
   "execution_count": null,
   "metadata": {
    "id": "LUQSaJeMDyzw",
    "outputId": "b3f6955a-c844-4d04-aa4e-4808b1691d78"
   },
   "outputs": [],
   "source": [
    "pd.notna(df)"
   ]
  },
  {
   "cell_type": "code",
   "execution_count": null,
   "metadata": {
    "id": "xMhJT_FvDyzw",
    "outputId": "727c2246-b6ad-4844-c847-da05d57b5f47"
   },
   "outputs": [],
   "source": [
    "df.where(pd.notna(df), df.mean(), axis = 1)"
   ]
  },
  {
   "cell_type": "markdown",
   "metadata": {
    "id": "pJ8ijx7RDyzw"
   },
   "source": [
    " - Filling with any Proper Value Regarding to Group of the Categorical Variables "
   ]
  },
  {
   "cell_type": "code",
   "execution_count": null,
   "metadata": {
    "id": "ddKy5cLbDyzx",
    "outputId": "5489fbea-20d0-4c89-f146-f3af790eb1ee",
    "scrolled": true
   },
   "outputs": [],
   "source": [
    "Var1 = np.array([2,3,5,np.NaN,7,8,9,np.NaN,15])\n",
    "Var2 = np.array([6,np.NaN,7,10,12,np.NaN,np.NaN,22,33])\n",
    "Var3 = np.array([np.NaN,10,13,12,14,19,np.NaN,25,35])\n",
    "Var4 = np.array([\"DS\",\"DS\",\"DS\",\"FS\",\"AWS\",\"FS\",\"FS\",\"AWS\",\"AWS\"])\n",
    "\n",
    "df = pd.DataFrame(\n",
    "        {\"salary\" : Var1,\n",
    "         \"Var2\" : Var2,\n",
    "         \"Var3\" : Var3,\n",
    "         \"department\" : Var4}        \n",
    ")\n",
    "\n",
    "df"
   ]
  },
  {
   "cell_type": "code",
   "execution_count": null,
   "metadata": {
    "id": "GC65ySgoDyzx",
    "outputId": "12ae40f7-9c0a-4b5f-d75b-3b632dd03a8a"
   },
   "outputs": [],
   "source": [
    "#regarding to avg of \"salary\" in terms of \"department\"\n",
    "\n",
    "df.groupby(\"department\")[\"salary\"].mean()"
   ]
  },
  {
   "cell_type": "code",
   "execution_count": null,
   "metadata": {
    "id": "YcenUr-NDyzx",
    "outputId": "1075335b-130f-4875-aefb-c376a4683fea"
   },
   "outputs": [],
   "source": [
    "# we transformed the values of \"salary\" column into group average.\n",
    "\n",
    "df.groupby(\"department\")[\"salary\"].transform(\"mean\")  # take a look at the .transform()"
   ]
  },
  {
   "cell_type": "code",
   "execution_count": null,
   "metadata": {},
   "outputs": [],
   "source": [
    "df"
   ]
  },
  {
   "cell_type": "code",
   "execution_count": null,
   "metadata": {
    "id": "oRpKoh9UDyzx",
    "outputId": "bb218498-c1f1-4707-daf7-286cd9679332"
   },
   "outputs": [],
   "source": [
    "df[\"salary\"].fillna(df.groupby(\"department\")[\"salary\"].transform(\"mean\"))\n"
   ]
  },
  {
   "cell_type": "markdown",
   "metadata": {
    "id": "Q7Yy8BDdDyzy"
   },
   "source": [
    " - Filling the Missing Values of Categorical Values"
   ]
  },
  {
   "cell_type": "code",
   "execution_count": null,
   "metadata": {
    "id": "iWk02ikbDyzy",
    "outputId": "6b98d319-ce26-435b-906e-da8b73a97261"
   },
   "outputs": [],
   "source": [
    "import numpy as np\n",
    "import pandas as pd\n",
    "V1 = np.array([5,9,16,np.NaN,17,21,np.NaN,29,35])\n",
    "V4 = np.array([\"FS\",np.nan,\"DS\",\"DS\",\"DS\",\"FS\",np.nan,\"AWS\",\"AWS\"], dtype=object)\n",
    "\n",
    "df = pd.DataFrame(\n",
    "        {\"salary\" : V1,\n",
    "        \"department\" : V4}        \n",
    ")\n",
    "\n",
    "df"
   ]
  },
  {
   "cell_type": "code",
   "execution_count": null,
   "metadata": {
    "id": "DC924XHtDyzy",
    "outputId": "43df0d9c-223c-409c-c6ee-ceafd34f3f2c"
   },
   "outputs": [],
   "source": [
    "df[\"department\"].fillna(df[\"department\"].mode()[0])"
   ]
  },
  {
   "cell_type": "code",
   "execution_count": null,
   "metadata": {
    "id": "5fNG-H-dDyzy",
    "outputId": "404b40fe-0682-4349-d982-45026705b98b"
   },
   "outputs": [],
   "source": [
    "df"
   ]
  },
  {
   "cell_type": "code",
   "execution_count": null,
   "metadata": {
    "id": "XNakv16kDyzy",
    "outputId": "6265433e-3e64-4e94-d4a3-7fe93a287525"
   },
   "outputs": [],
   "source": [
    "df[\"department\"].fillna(method = \"bfill\")"
   ]
  },
  {
   "cell_type": "code",
   "execution_count": null,
   "metadata": {
    "id": "bAtIKT1TDyzz",
    "outputId": "c1ec8b9b-bd93-4cbd-98b2-efbff175f868"
   },
   "outputs": [],
   "source": [
    "df[\"department\"].fillna(method = \"ffill\")"
   ]
  },
  {
   "cell_type": "code",
   "execution_count": null,
   "metadata": {
    "id": "lvz8Cs1JDyzz"
   },
   "outputs": [],
   "source": [
    "df"
   ]
  },
  {
   "cell_type": "code",
   "execution_count": null,
   "metadata": {
    "scrolled": true
   },
   "outputs": [],
   "source": [
    "df.interpolate()\n",
    "#look at numerical columns NaNs"
   ]
  },
  {
   "cell_type": "markdown",
   "metadata": {
    "id": "9epCaloEDyzz"
   },
   "source": [
    " - # Handling with Outliers"
   ]
  },
  {
   "cell_type": "markdown",
   "metadata": {},
   "source": [
    "<b>Outliers</b> are unusual values in your dataset, and they can distort statistical analyses and violate their assumptions. ... Outliers increase the variability in your data, which decreases statistical power. Consequently, excluding outliers can cause your results to become statistically significant. Outliers can have a disproportionate effect on statistical results, such as the mean, which can result in misleading interpretations. In this case, the mean value makes it seem that the data values are higher than they really are"
   ]
  },
  {
   "cell_type": "markdown",
   "metadata": {
    "id": "-ubsHXY6Dyzz"
   },
   "source": [
    "## Catching and Detecting Outliers"
   ]
  },
  {
   "cell_type": "code",
   "execution_count": null,
   "metadata": {
    "id": "3OOBIidWDyz0",
    "outputId": "f2529d03-9fbe-4a3e-9090-57c5aa1c8368"
   },
   "outputs": [],
   "source": [
    "import seaborn as sns\n",
    "df = sns.load_dataset('diamonds')\n",
    "df = df.select_dtypes(include = ['float64', 'int64']) \n",
    "df = df.dropna()\n",
    "df.head()"
   ]
  },
  {
   "cell_type": "code",
   "execution_count": null,
   "metadata": {
    "id": "CzSh-wArDyz0",
    "outputId": "9dfea5e1-dc70-41c6-f95f-331bc453b2dc"
   },
   "outputs": [],
   "source": [
    "# you don't need to know how this plotting happens.\n",
    "# just focus on quarters\n",
    "# remember Statistics lesson IQR\n",
    "\n",
    "sns.boxplot(x = df.table)"
   ]
  },
  {
   "cell_type": "code",
   "execution_count": null,
   "metadata": {
    "id": "OQcJWm_IDyz0"
   },
   "outputs": [],
   "source": [
    "df_table = df[\"table\"]"
   ]
  },
  {
   "cell_type": "markdown",
   "metadata": {
    "id": "NCFNsZEVDyz1"
   },
   "source": [
    "## Tukey's Fences | Tukey's Rule"
   ]
  },
  {
   "cell_type": "markdown",
   "metadata": {
    "id": "6MZF6L2HDyz1"
   },
   "source": [
    "- First way of specifying ``Q1 & Q3`` is using the ``.quantile()`` method"
   ]
  },
  {
   "cell_type": "code",
   "execution_count": null,
   "metadata": {
    "id": "7KYjMMWmDyz1"
   },
   "outputs": [],
   "source": [
    "Q1 = df_table.quantile(0.25)\n",
    "Q3 = df_table.quantile(0.75)\n",
    "IQR = Q3-Q1"
   ]
  },
  {
   "cell_type": "code",
   "execution_count": null,
   "metadata": {
    "id": "5mPep7sBDyz1",
    "outputId": "b7304132-be74-4d65-91e0-ae1795d06230"
   },
   "outputs": [],
   "source": [
    "Q1"
   ]
  },
  {
   "cell_type": "code",
   "execution_count": null,
   "metadata": {
    "id": "jDzjq7aLDyz1",
    "outputId": "8fd7a404-f36b-4fe7-cc98-c35c63394bd8"
   },
   "outputs": [],
   "source": [
    "Q3"
   ]
  },
  {
   "cell_type": "code",
   "execution_count": null,
   "metadata": {
    "id": "jAEx9SCEDyz1",
    "outputId": "86bd153e-a7aa-480b-9753-21f34b2bec87"
   },
   "outputs": [],
   "source": [
    "IQR"
   ]
  },
  {
   "cell_type": "markdown",
   "metadata": {
    "id": "WUIlcKQNDyz2"
   },
   "source": [
    "- Second way of specifying ``Q1 & Q3`` is using the ``.describe()`` method"
   ]
  },
  {
   "cell_type": "code",
   "execution_count": null,
   "metadata": {
    "id": "wxI3qeX4Dyz2"
   },
   "outputs": [],
   "source": [
    "lower_lim = Q1 - 1.5 * IQR\n",
    "upper_lim = Q3 + 1.5 * IQR"
   ]
  },
  {
   "cell_type": "code",
   "execution_count": null,
   "metadata": {
    "id": "QsYKeNZLDyz2",
    "outputId": "8147c22f-1645-48ef-8f8d-2714822d5ebf"
   },
   "outputs": [],
   "source": [
    "lower_lim"
   ]
  },
  {
   "cell_type": "code",
   "execution_count": null,
   "metadata": {
    "id": "cUHLQa-CDyz2",
    "outputId": "a141dca7-1216-4316-cf18-26a423cdb6a3"
   },
   "outputs": [],
   "source": [
    "upper_lim"
   ]
  },
  {
   "cell_type": "code",
   "execution_count": null,
   "metadata": {
    "id": "RyN29g8zDyz3"
   },
   "outputs": [],
   "source": [
    "outliers_15_low = (df_table < lower_lim)"
   ]
  },
  {
   "cell_type": "code",
   "execution_count": null,
   "metadata": {
    "id": "-iL-COMtDyz3"
   },
   "outputs": [],
   "source": [
    "outliers_15_up = (df_table > upper_lim)"
   ]
  },
  {
   "cell_type": "code",
   "execution_count": null,
   "metadata": {
    "id": "l8owFD0dDyz3",
    "outputId": "38aa478c-80ea-4e55-961f-36029fb7a1d5"
   },
   "outputs": [],
   "source": [
    "len(df_table[outliers_15_low])"
   ]
  },
  {
   "cell_type": "code",
   "execution_count": null,
   "metadata": {
    "id": "hFzArSKHDyz3",
    "outputId": "c77655f3-fed6-449b-90c6-6212288a7dff"
   },
   "outputs": [],
   "source": [
    "len(df_table[outliers_15_up])"
   ]
  },
  {
   "cell_type": "code",
   "execution_count": null,
   "metadata": {
    "id": "AtH8QozGDyz3",
    "outputId": "367a5d25-ae79-404b-d476-40c2627fe136"
   },
   "outputs": [],
   "source": [
    "len(df_table) - (len(df_table[outliers_15_low]) + len(df_table[outliers_15_up]))"
   ]
  },
  {
   "cell_type": "code",
   "execution_count": null,
   "metadata": {
    "id": "yqX1urkeDyz4",
    "outputId": "3dc2fa88-fb80-48a3-dbe0-71262ba97486"
   },
   "outputs": [],
   "source": [
    "# the outliers according to the 1.5 \n",
    "\n",
    "df_table[(outliers_15_low | outliers_15_up)]"
   ]
  },
  {
   "cell_type": "code",
   "execution_count": null,
   "metadata": {
    "id": "NP7zCLqcDyz4"
   },
   "outputs": [],
   "source": [
    "lower_lim = Q1 - 2.5 * IQR\n",
    "upper_lim = Q3 + 2.5 * IQR"
   ]
  },
  {
   "cell_type": "code",
   "execution_count": null,
   "metadata": {
    "id": "MR-_EqAQDyz4",
    "outputId": "4745bd15-df0c-44df-c611-3d392fb479a0"
   },
   "outputs": [],
   "source": [
    "lower_lim"
   ]
  },
  {
   "cell_type": "code",
   "execution_count": null,
   "metadata": {
    "id": "MP29_XCYDyz4",
    "outputId": "23eb857c-e274-4aef-f826-10bdffa92a92"
   },
   "outputs": [],
   "source": [
    "upper_lim"
   ]
  },
  {
   "cell_type": "code",
   "execution_count": null,
   "metadata": {
    "id": "ndMKHWv4Dyz4"
   },
   "outputs": [],
   "source": [
    "outliers_25 = (df_table < lower_lim) | (df_table > upper_lim)"
   ]
  },
  {
   "cell_type": "code",
   "execution_count": null,
   "metadata": {
    "id": "lnhdA0bgDyz4",
    "outputId": "8849ce34-ce26-49a3-ab3d-3741e0a3077e"
   },
   "outputs": [],
   "source": [
    "# the outliers according to the 2.5 \n",
    "\n",
    "df_table[outliers_25]"
   ]
  },
  {
   "cell_type": "markdown",
   "metadata": {
    "id": "QK6HFiTiDyz4"
   },
   "source": [
    "### Removing the Outliers"
   ]
  },
  {
   "cell_type": "code",
   "execution_count": null,
   "metadata": {
    "id": "7JGy9ME_Dyz5",
    "outputId": "de61e43c-6304-4d09-aa60-73deae03b615"
   },
   "outputs": [],
   "source": [
    "# \"table\" column without outliers\n",
    "\n",
    "df_table[~(outliers_15_low | outliers_15_up)]"
   ]
  },
  {
   "cell_type": "code",
   "execution_count": null,
   "metadata": {
    "id": "cI9GH10dDyz5"
   },
   "outputs": [],
   "source": [
    "lower_lim = Q1 - 1.5 * IQR\n",
    "upper_lim = Q3 + 1.5 * IQR\n",
    "\n",
    "not_outliers_15 = (df_table >= lower_lim) & (df_table <= upper_lim)"
   ]
  },
  {
   "cell_type": "code",
   "execution_count": null,
   "metadata": {
    "id": "ode2cQfJDyz5",
    "outputId": "48ae3dec-b1e2-4b4d-bd1c-fb1471c65594"
   },
   "outputs": [],
   "source": [
    "df_table[not_outliers_15]"
   ]
  },
  {
   "cell_type": "code",
   "execution_count": null,
   "metadata": {
    "id": "PbxGpAm4Dyz5"
   },
   "outputs": [],
   "source": [
    "cleaned_df = df[not_outliers_15]"
   ]
  },
  {
   "cell_type": "code",
   "execution_count": null,
   "metadata": {
    "id": "nYhcO0FVDyz5",
    "outputId": "9f6ff1f5-11a2-4328-ebcd-e5b569130b5f"
   },
   "outputs": [],
   "source": [
    "cleaned_df"
   ]
  },
  {
   "cell_type": "markdown",
   "metadata": {
    "id": "BoNnVsTADyz5"
   },
   "source": [
    "### Limitation and Transformation of the Outliers"
   ]
  },
  {
   "cell_type": "markdown",
   "metadata": {
    "id": "Cps28shGDyz5"
   },
   "source": [
    "- ### Limitation using ``.winsorize()`` method"
   ]
  },
  {
   "cell_type": "code",
   "execution_count": null,
   "metadata": {
    "id": "LiD8IoKdDyz5"
   },
   "outputs": [],
   "source": [
    "from scipy.stats.mstats import winsorize"
   ]
  },
  {
   "cell_type": "code",
   "execution_count": null,
   "metadata": {
    "id": "IPy160l-Dyz5",
    "outputId": "e85d7315-1f57-404c-a4b2-e918006b0d56"
   },
   "outputs": [],
   "source": [
    "df"
   ]
  },
  {
   "cell_type": "code",
   "execution_count": null,
   "metadata": {
    "id": "WqJejAldDyz6",
    "outputId": "9c41b958-7fef-46ec-a13f-6c4469de87b8"
   },
   "outputs": [],
   "source": [
    "df_table"
   ]
  },
  {
   "cell_type": "code",
   "execution_count": null,
   "metadata": {
    "id": "pTKfMW6xDyz6",
    "outputId": "af968eef-520c-4d28-8574-ba05dbb253cf"
   },
   "outputs": [],
   "source": [
    "sns.boxplot(x = df_table)"
   ]
  },
  {
   "cell_type": "code",
   "execution_count": null,
   "metadata": {
    "id": "77kJdD1iDyz6",
    "outputId": "76c60a84-8571-4076-9ade-9b388d6e1000"
   },
   "outputs": [],
   "source": [
    "sns.displot(df_table, bins = 30, kde = False)"
   ]
  },
  {
   "cell_type": "code",
   "execution_count": null,
   "metadata": {
    "id": "kKSMa2a9Dyz6"
   },
   "outputs": [],
   "source": [
    "df_table_win = winsorize(df_table, (0.01, 0.02))"
   ]
  },
  {
   "cell_type": "code",
   "execution_count": null,
   "metadata": {
    "id": "_mE69jvBDyz6",
    "outputId": "2ebdf248-1aef-43ae-eff0-04561055a514"
   },
   "outputs": [],
   "source": [
    "df_table_win"
   ]
  },
  {
   "cell_type": "code",
   "execution_count": null,
   "metadata": {
    "id": "FyJyjT7-Dyz6",
    "outputId": "52ce46cf-4370-461e-bfa8-086f03a8d75a"
   },
   "outputs": [],
   "source": [
    "sns.boxplot(x = df_table_win);"
   ]
  },
  {
   "cell_type": "code",
   "execution_count": null,
   "metadata": {
    "id": "iwRAAxcoDyz6",
    "outputId": "aeba9e99-f1f4-41b4-be91-8196d979ed52"
   },
   "outputs": [],
   "source": [
    "sns.displot(df_table_win, bins = 11, kde =False)"
   ]
  },
  {
   "cell_type": "code",
   "execution_count": null,
   "metadata": {
    "id": "ea38xQC9Dyz7",
    "outputId": "34e3dfc9-2957-4dfc-a273-348d621cb8aa"
   },
   "outputs": [],
   "source": [
    "pd.DataFrame(df_table_win)"
   ]
  },
  {
   "cell_type": "code",
   "execution_count": null,
   "metadata": {
    "id": "zXqon4DxDyz7",
    "outputId": "9f9a8c9b-bd37-4962-fd39-6a5c93175d30"
   },
   "outputs": [],
   "source": [
    "pd.DataFrame(df_table_win)[0]"
   ]
  },
  {
   "cell_type": "code",
   "execution_count": null,
   "metadata": {
    "id": "mY8cq45xDyz7"
   },
   "outputs": [],
   "source": [
    "df_table_win = pd.DataFrame(df_table_win)[0]"
   ]
  },
  {
   "cell_type": "markdown",
   "metadata": {
    "id": "VGTGG8jVDyz7"
   },
   "source": [
    "- **trimmed_by** =  ``n`` x (1 - ``sum(limit)``)\n",
    "\n",
    "- ``Q1`` - **trimmed by** = new ``min`` value\n",
    "- ``Q3`` + **trimmed by** = new ``max`` value"
   ]
  },
  {
   "cell_type": "code",
   "execution_count": null,
   "metadata": {
    "id": "VJw9SaiJDyz7",
    "outputId": "187d45c6-50c2-4f8e-f381-326386920ace"
   },
   "outputs": [],
   "source": [
    "df_table_win.describe()"
   ]
  },
  {
   "cell_type": "code",
   "execution_count": null,
   "metadata": {
    "id": "dSIt7JcbDyz7",
    "outputId": "37d04543-d13f-46aa-b3ac-982f9b86186d"
   },
   "outputs": [],
   "source": [
    "df_table.describe()"
   ]
  },
  {
   "cell_type": "code",
   "execution_count": null,
   "metadata": {
    "id": "bi6SsPeaDyz7",
    "outputId": "48ef8e31-a328-4bb3-b488-486127504620"
   },
   "outputs": [],
   "source": [
    "df_table.sort_values().head(20)"
   ]
  },
  {
   "cell_type": "code",
   "execution_count": null,
   "metadata": {
    "id": "q9BGWZ9_Dyz7",
    "outputId": "3164e41d-1219-4c18-c2ad-6f96ef55f7af"
   },
   "outputs": [],
   "source": [
    "df_table_win.sort_values().head(20)"
   ]
  },
  {
   "cell_type": "code",
   "execution_count": null,
   "metadata": {
    "id": "2bWKDnm1Dyz7",
    "outputId": "34d21fa2-c71a-4d00-aec3-4d36f95d6726"
   },
   "outputs": [],
   "source": [
    "df_table_win[11368]"
   ]
  },
  {
   "cell_type": "code",
   "execution_count": null,
   "metadata": {
    "id": "1o-uRvNvDyz8",
    "outputId": "104d1804-c054-418c-ac7e-5792bc8158cc"
   },
   "outputs": [],
   "source": [
    "df_table_win[5144]"
   ]
  },
  {
   "cell_type": "code",
   "execution_count": null,
   "metadata": {
    "id": "ccW5yvwIDyz8",
    "outputId": "fa5d6152-5771-4d45-d908-0766e29886ee"
   },
   "outputs": [],
   "source": [
    "df_table_win[df_table_win == 53]"
   ]
  },
  {
   "cell_type": "code",
   "execution_count": null,
   "metadata": {
    "id": "dHQC9EBsDyz8",
    "outputId": "30baee16-1e50-4b7a-cd3f-5babb4c3d7c7"
   },
   "outputs": [],
   "source": [
    "df_table[df_table == 53]"
   ]
  },
  {
   "cell_type": "code",
   "execution_count": null,
   "metadata": {
    "id": "yrpgz6m7Dyz8",
    "outputId": "4f1bcdb2-0f4b-4333-bfc8-418cf18ece62"
   },
   "outputs": [],
   "source": [
    "df_table_win[df_table_win == 63]"
   ]
  },
  {
   "cell_type": "code",
   "execution_count": null,
   "metadata": {
    "id": "_QqSmDQ4Dyz8",
    "outputId": "e666bec3-532f-4ea8-b022-9a5e9f069f74"
   },
   "outputs": [],
   "source": [
    "df_table[df_table == 63]"
   ]
  },
  {
   "cell_type": "code",
   "execution_count": null,
   "metadata": {
    "id": "cPbDxE7CDyz8"
   },
   "outputs": [],
   "source": [
    "Q1 = 56.0\n",
    "Q3 = 59.0"
   ]
  },
  {
   "cell_type": "code",
   "execution_count": null,
   "metadata": {
    "id": "kC5OsO-RDyz9"
   },
   "outputs": [],
   "source": [
    "IQR = Q3 - Q1"
   ]
  },
  {
   "cell_type": "code",
   "execution_count": null,
   "metadata": {
    "id": "vM5m1e25Dyz9"
   },
   "outputs": [],
   "source": [
    "lower_lim = Q1 - 1.5 * IQR\n",
    "upper_lim = Q3 + 1.5 * IQR"
   ]
  },
  {
   "cell_type": "code",
   "execution_count": null,
   "metadata": {
    "id": "SMwzxOl5Dyz9",
    "outputId": "b8679c72-e2a1-43f1-d92a-06ded8a89a1b"
   },
   "outputs": [],
   "source": [
    "lower_lim"
   ]
  },
  {
   "cell_type": "code",
   "execution_count": null,
   "metadata": {
    "id": "4GPEtor8Dyz9",
    "outputId": "5799bd95-a6ec-4389-97c2-407535a58e78"
   },
   "outputs": [],
   "source": [
    "upper_lim"
   ]
  },
  {
   "cell_type": "code",
   "execution_count": null,
   "metadata": {
    "id": "fwerHTEDDyz9",
    "outputId": "92b4ddad-9763-407b-faf7-d33640e8409b"
   },
   "outputs": [],
   "source": [
    "(df_table_win < lower_lim) | (df_table_win > upper_lim)"
   ]
  },
  {
   "cell_type": "code",
   "execution_count": null,
   "metadata": {
    "id": "KzMUOvdbDyz9"
   },
   "outputs": [],
   "source": [
    "outliers_15 = (df_table_win < lower_lim) | (df_table_win > upper_lim)"
   ]
  },
  {
   "cell_type": "code",
   "execution_count": null,
   "metadata": {
    "id": "TaUvNTG_Dyz9",
    "outputId": "63364dc0-230c-4123-97ec-0bd9f6e26d7e"
   },
   "outputs": [],
   "source": [
    "# the outliers according to the 1.5 \n",
    "# there is no outliers\n",
    "df_table[outliers_15]"
   ]
  },
  {
   "cell_type": "code",
   "execution_count": null,
   "metadata": {
    "id": "N6Wz06FlDyz9"
   },
   "outputs": [],
   "source": []
  },
  {
   "cell_type": "markdown",
   "metadata": {
    "id": "b7SA6AuKDyz9"
   },
   "source": [
    "- ### ``log()`` Transformation"
   ]
  },
  {
   "cell_type": "code",
   "execution_count": null,
   "metadata": {},
   "outputs": [],
   "source": [
    "#if distribution is skewed use this"
   ]
  },
  {
   "cell_type": "code",
   "execution_count": null,
   "metadata": {
    "id": "l3L1NNdEDyz-",
    "outputId": "be3acf37-2c8a-44e9-f36a-71948c54596d"
   },
   "outputs": [],
   "source": [
    "df.info()"
   ]
  },
  {
   "cell_type": "code",
   "execution_count": null,
   "metadata": {
    "id": "SKR8YpggDyz-"
   },
   "outputs": [],
   "source": [
    "df_carat = df[\"carat\"]"
   ]
  },
  {
   "cell_type": "code",
   "execution_count": null,
   "metadata": {
    "id": "OsYEntFkDyz-",
    "outputId": "0a5b2c60-7983-48b0-fa01-334e8ef3fec6"
   },
   "outputs": [],
   "source": [
    "df_carat.shape"
   ]
  },
  {
   "cell_type": "code",
   "execution_count": null,
   "metadata": {
    "id": "QRwSYc5kDyz-",
    "outputId": "72cb57a1-8cdd-43bb-bb01-64d0d39d9720"
   },
   "outputs": [],
   "source": [
    "df_carat.head()"
   ]
  },
  {
   "cell_type": "code",
   "execution_count": null,
   "metadata": {
    "id": "miAITF0XDyz-",
    "outputId": "454b27f6-ee17-4167-c6ee-ca214164a5ff"
   },
   "outputs": [],
   "source": [
    "sns.boxplot(x = df_carat);"
   ]
  },
  {
   "cell_type": "code",
   "execution_count": null,
   "metadata": {
    "id": "unCMYzaQDyz-",
    "outputId": "f7e94316-f2dd-4219-8d99-87581d30238e"
   },
   "outputs": [],
   "source": [
    "sns.displot(df_carat, bins = 15, kde = False);"
   ]
  },
  {
   "cell_type": "code",
   "execution_count": null,
   "metadata": {
    "id": "uZrTeSbxDyz-"
   },
   "outputs": [],
   "source": [
    "df_carat_log = np.log(df_carat)"
   ]
  },
  {
   "cell_type": "code",
   "execution_count": null,
   "metadata": {
    "id": "cJ0lGrtpDyz-",
    "outputId": "d3f7d7cd-be14-498c-a162-2ba039644858"
   },
   "outputs": [],
   "source": [
    "df_carat_log"
   ]
  },
  {
   "cell_type": "code",
   "execution_count": null,
   "metadata": {
    "id": "9JWPmUQUDyz_",
    "outputId": "bd0ddce7-a75f-42f0-b097-94b73474d3bc"
   },
   "outputs": [],
   "source": [
    "sns.boxplot(x = df_carat_log);"
   ]
  },
  {
   "cell_type": "code",
   "execution_count": null,
   "metadata": {
    "id": "aWnKtLWFDyz_",
    "outputId": "122b7da9-f9ac-4f57-afaa-ab327565313e"
   },
   "outputs": [],
   "source": [
    "sns.displot(df_carat_log,  bins = 11, kde = False);"
   ]
  },
  {
   "cell_type": "code",
   "execution_count": null,
   "metadata": {
    "id": "rfANY-GJDyz_"
   },
   "outputs": [],
   "source": [
    "Q1 = df_carat.quantile(0.25)\n",
    "Q3 = df_carat.quantile(0.75)\n",
    "IQR = Q3-Q1"
   ]
  },
  {
   "cell_type": "code",
   "execution_count": null,
   "metadata": {
    "id": "zpjJJc67Dyz_",
    "outputId": "9476b5fd-d52f-42ef-bd7e-978e6b563eb7"
   },
   "outputs": [],
   "source": [
    "Q1"
   ]
  },
  {
   "cell_type": "code",
   "execution_count": null,
   "metadata": {
    "id": "YHLlA0zHDyz_",
    "outputId": "e85530a4-d433-44be-b643-fa0c1747ab5a"
   },
   "outputs": [],
   "source": [
    "Q3"
   ]
  },
  {
   "cell_type": "code",
   "execution_count": null,
   "metadata": {
    "id": "cmrhQZJ3Dyz_",
    "outputId": "ef803287-fdba-4fec-b11e-795a54a305f1"
   },
   "outputs": [],
   "source": [
    "IQR"
   ]
  },
  {
   "cell_type": "code",
   "execution_count": null,
   "metadata": {
    "id": "UVTXWnmLDyz_"
   },
   "outputs": [],
   "source": [
    "lower_lim = Q1 - 1.5 * IQR\n",
    "upper_lim = Q3 + 1.5 * IQR"
   ]
  },
  {
   "cell_type": "code",
   "execution_count": null,
   "metadata": {
    "id": "4leCVLIdDyz_",
    "outputId": "8cd6f251-70f4-4fce-d573-3e15344f3742"
   },
   "outputs": [],
   "source": [
    "lower_lim"
   ]
  },
  {
   "cell_type": "code",
   "execution_count": null,
   "metadata": {
    "id": "z1RBi82pDy0A",
    "outputId": "23a52b39-b3e1-4be2-c810-3b49f18d0b23"
   },
   "outputs": [],
   "source": [
    "upper_lim"
   ]
  },
  {
   "cell_type": "code",
   "execution_count": null,
   "metadata": {
    "id": "iNWlE23zDy0A"
   },
   "outputs": [],
   "source": [
    "outliers_15 = (df_carat < lower_lim) | (df_carat > upper_lim)"
   ]
  },
  {
   "cell_type": "code",
   "execution_count": null,
   "metadata": {
    "id": "k7Dz_K2YDy0A",
    "outputId": "ecdc2c2a-54f0-46bb-d862-a08b301ec41c"
   },
   "outputs": [],
   "source": [
    "df_carat[outliers_15]"
   ]
  },
  {
   "cell_type": "code",
   "execution_count": null,
   "metadata": {
    "id": "BMjhBzdLDy0A",
    "outputId": "b0e529aa-b99b-4295-d485-d943f85efac2"
   },
   "outputs": [],
   "source": [
    "df_carat_log"
   ]
  },
  {
   "cell_type": "code",
   "execution_count": null,
   "metadata": {
    "id": "soeM6urhDy0A"
   },
   "outputs": [],
   "source": [
    "Q1_log = df_carat_log.quantile(0.25)\n",
    "Q3_log = df_carat_log.quantile(0.75)\n",
    "IQR_log = Q3_log-Q1_log"
   ]
  },
  {
   "cell_type": "code",
   "execution_count": null,
   "metadata": {
    "id": "A8OTvIgBDy0A"
   },
   "outputs": [],
   "source": [
    "lower_lim_log = Q1_log - 1.5 * IQR_log\n",
    "upper_lim_log = Q3_log + 1.5 * IQR_log"
   ]
  },
  {
   "cell_type": "code",
   "execution_count": null,
   "metadata": {
    "id": "7lvKaz60Dy0A",
    "outputId": "213db0c2-7363-4b75-b3b7-f6a6019cfe7c"
   },
   "outputs": [],
   "source": [
    "lower_lim_log"
   ]
  },
  {
   "cell_type": "code",
   "execution_count": null,
   "metadata": {
    "id": "KNDTnP6gDy0A",
    "outputId": "c6e66238-d393-44ec-b9e0-e1e54c6fde9e"
   },
   "outputs": [],
   "source": [
    "upper_lim_log"
   ]
  },
  {
   "cell_type": "code",
   "execution_count": null,
   "metadata": {
    "id": "gHrAUF-MDy0B"
   },
   "outputs": [],
   "source": [
    "outliers_15_log = (df_carat_log < lower_lim_log) | (df_carat_log > upper_lim_log)"
   ]
  },
  {
   "cell_type": "code",
   "execution_count": null,
   "metadata": {
    "id": "wdsXkKi8Dy0B",
    "outputId": "cf174eb8-36e9-4e77-e425-004956c23fa1"
   },
   "outputs": [],
   "source": [
    "df_carat[outliers_15_log]"
   ]
  },
  {
   "cell_type": "code",
   "execution_count": null,
   "metadata": {
    "id": "9q_we6E1Dy0B"
   },
   "outputs": [],
   "source": [
    "df[\"carat_log\"] = np.log(df[\"carat\"])"
   ]
  },
  {
   "cell_type": "code",
   "execution_count": null,
   "metadata": {
    "id": "138hCbn2Dy0B",
    "outputId": "af03e19e-8a1f-47e1-80f4-4562fbc634ac"
   },
   "outputs": [],
   "source": [
    "df"
   ]
  },
  {
   "cell_type": "code",
   "execution_count": null,
   "metadata": {
    "id": "BjfgcgexDy0B",
    "outputId": "3114d1ab-18f5-43f8-dea6-4151b70041e8"
   },
   "outputs": [],
   "source": [
    "df.drop(\"carat\", axis=1)"
   ]
  },
  {
   "cell_type": "code",
   "execution_count": null,
   "metadata": {
    "id": "nWf1wrmADy0B",
    "outputId": "96a5bee5-5b44-44cc-fa7d-6de69f930b7f"
   },
   "outputs": [],
   "source": [
    "df.drop(\"carat\", axis=1)[outliers_15_log]"
   ]
  },
  {
   "cell_type": "code",
   "execution_count": null,
   "metadata": {
    "id": "OvJR_VicDy0B",
    "outputId": "1d20608d-e1e2-4e11-f3ae-55a7fce18b1c"
   },
   "outputs": [],
   "source": [
    "df.drop(\"carat\", axis=1)[~outliers_15_log]"
   ]
  },
  {
   "cell_type": "code",
   "execution_count": null,
   "metadata": {
    "id": "IyYUi-R4Dy0C",
    "outputId": "4e5847b2-942d-4aa6-e56e-b54ad4eb1c4c"
   },
   "outputs": [],
   "source": [
    "cleaned_df = df.drop(\"carat\", axis=1)[~outliers_15_log]\n",
    "\n",
    "cleaned_df"
   ]
  },
  {
   "cell_type": "code",
   "execution_count": null,
   "metadata": {
    "id": "M71R9nNaQhl9"
   },
   "outputs": [],
   "source": []
  }
 ],
 "metadata": {
  "colab": {
   "name": "Pandas-Session5 (Aggregation, Groupby, Operations).ipynb",
   "provenance": []
  },
  "kernelspec": {
   "display_name": "Python 3",
   "language": "python",
   "name": "python3"
  },
  "language_info": {
   "codemirror_mode": {
    "name": "ipython",
    "version": 3
   },
   "file_extension": ".py",
   "mimetype": "text/x-python",
   "name": "python",
   "nbconvert_exporter": "python",
   "pygments_lexer": "ipython3",
   "version": "3.8.8"
  }
 },
 "nbformat": 4,
 "nbformat_minor": 1
}
