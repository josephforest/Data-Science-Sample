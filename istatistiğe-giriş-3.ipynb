{
 "cells": [
  {
   "cell_type": "code",
   "execution_count": 2,
   "id": "9ac4b53d",
   "metadata": {},
   "outputs": [],
   "source": [
    "import numpy as np\n",
    "import pandas as pd"
   ]
  },
  {
   "cell_type": "code",
   "execution_count": 4,
   "id": "ce257d8c",
   "metadata": {},
   "outputs": [],
   "source": [
    "df = pd.DataFrame(np.random.randint(3,120, size = 15))"
   ]
  },
  {
   "cell_type": "code",
   "execution_count": 5,
   "id": "2d838431",
   "metadata": {},
   "outputs": [
    {
     "data": {
      "text/plain": [
       "0    1151.380952\n",
       "dtype: float64"
      ]
     },
     "execution_count": 5,
     "metadata": {},
     "output_type": "execute_result"
    }
   ],
   "source": [
    "df.var()"
   ]
  },
  {
   "cell_type": "code",
   "execution_count": 6,
   "id": "3844ec20",
   "metadata": {},
   "outputs": [
    {
     "data": {
      "text/plain": [
       "0    33.932005\n",
       "dtype: float64"
      ]
     },
     "execution_count": 6,
     "metadata": {},
     "output_type": "execute_result"
    }
   ],
   "source": [
    "df.std()"
   ]
  },
  {
   "cell_type": "code",
   "execution_count": 7,
   "id": "ecc06603",
   "metadata": {},
   "outputs": [
    {
     "data": {
      "text/plain": [
       "0    53.333333\n",
       "dtype: float64"
      ]
     },
     "execution_count": 7,
     "metadata": {},
     "output_type": "execute_result"
    }
   ],
   "source": [
    "df.mean()"
   ]
  },
  {
   "cell_type": "code",
   "execution_count": null,
   "id": "61fc81a9",
   "metadata": {},
   "outputs": [],
   "source": [
    "# Örneklem:\n",
    "# Ana veriden (big data) ara veri çekmektir. \n",
    "# Örneklem sayısı ne kadar artarsa ana kitleye o kadar analiz yapılır.\n"
   ]
  },
  {
   "cell_type": "code",
   "execution_count": 9,
   "id": "cb1aa259",
   "metadata": {},
   "outputs": [],
   "source": [
    "hasta = np.random.randint(5,80,size = 150000)"
   ]
  },
  {
   "cell_type": "code",
   "execution_count": 10,
   "id": "bb130e33",
   "metadata": {},
   "outputs": [],
   "source": [
    "np.random.seed(210)\n",
    "orneklem1 = np.random.choice(hasta,size = 200)"
   ]
  },
  {
   "cell_type": "code",
   "execution_count": 11,
   "id": "12e126eb",
   "metadata": {},
   "outputs": [
    {
     "data": {
      "text/plain": [
       "39.525"
      ]
     },
     "execution_count": 11,
     "metadata": {},
     "output_type": "execute_result"
    }
   ],
   "source": [
    "orneklem1.mean()"
   ]
  },
  {
   "cell_type": "code",
   "execution_count": 12,
   "id": "bd2906ec",
   "metadata": {},
   "outputs": [],
   "source": [
    "np.random.seed(10)\n",
    "orneklem2 = np.random.choice(hasta,size = 200)\n",
    "orneklem3 = np.random.choice(hasta,size = 200)\n",
    "orneklem4 = np.random.choice(hasta,size = 200)\n",
    "orneklem5 = np.random.choice(hasta,size = 200)\n",
    "orneklem6 = np.random.choice(hasta,size = 200)\n",
    "orneklem7 = np.random.choice(hasta,size = 200)\n",
    "orneklem8 = np.random.choice(hasta,size = 200)\n",
    "orneklem9 = np.random.choice(hasta,size = 200)\n",
    "orneklem10 = np.random.choice(hasta,size = 200)"
   ]
  },
  {
   "cell_type": "code",
   "execution_count": 44,
   "id": "131a4ba7",
   "metadata": {},
   "outputs": [],
   "source": [
    "erkek = pd.DataFrame(np.random.randint(5,80, size = 40000), columns=[\"erkek\"])\n",
    "bayan = pd.DataFrame(np.random.randint(5,80, size = 110000), columns = [\"kadın\"])\n"
   ]
  },
  {
   "cell_type": "code",
   "execution_count": 52,
   "id": "8c9af81e",
   "metadata": {},
   "outputs": [],
   "source": [
    "hasta = pd.concat([erkek,bayan], axis=1)"
   ]
  },
  {
   "cell_type": "code",
   "execution_count": 53,
   "id": "cba0ea54",
   "metadata": {},
   "outputs": [
    {
     "data": {
      "text/html": [
       "<div>\n",
       "<style scoped>\n",
       "    .dataframe tbody tr th:only-of-type {\n",
       "        vertical-align: middle;\n",
       "    }\n",
       "\n",
       "    .dataframe tbody tr th {\n",
       "        vertical-align: top;\n",
       "    }\n",
       "\n",
       "    .dataframe thead th {\n",
       "        text-align: right;\n",
       "    }\n",
       "</style>\n",
       "<table border=\"1\" class=\"dataframe\">\n",
       "  <thead>\n",
       "    <tr style=\"text-align: right;\">\n",
       "      <th></th>\n",
       "      <th>erkek</th>\n",
       "      <th>kadın</th>\n",
       "    </tr>\n",
       "  </thead>\n",
       "  <tbody>\n",
       "    <tr>\n",
       "      <th>0</th>\n",
       "      <td>38.0</td>\n",
       "      <td>41</td>\n",
       "    </tr>\n",
       "    <tr>\n",
       "      <th>1</th>\n",
       "      <td>26.0</td>\n",
       "      <td>51</td>\n",
       "    </tr>\n",
       "    <tr>\n",
       "      <th>2</th>\n",
       "      <td>71.0</td>\n",
       "      <td>8</td>\n",
       "    </tr>\n",
       "    <tr>\n",
       "      <th>3</th>\n",
       "      <td>63.0</td>\n",
       "      <td>65</td>\n",
       "    </tr>\n",
       "    <tr>\n",
       "      <th>4</th>\n",
       "      <td>15.0</td>\n",
       "      <td>19</td>\n",
       "    </tr>\n",
       "  </tbody>\n",
       "</table>\n",
       "</div>"
      ],
      "text/plain": [
       "   erkek  kadın\n",
       "0   38.0     41\n",
       "1   26.0     51\n",
       "2   71.0      8\n",
       "3   63.0     65\n",
       "4   15.0     19"
      ]
     },
     "execution_count": 53,
     "metadata": {},
     "output_type": "execute_result"
    }
   ],
   "source": [
    "hasta.head()"
   ]
  },
  {
   "cell_type": "code",
   "execution_count": 56,
   "id": "7844f701",
   "metadata": {},
   "outputs": [
    {
     "data": {
      "text/html": [
       "<div>\n",
       "<style scoped>\n",
       "    .dataframe tbody tr th:only-of-type {\n",
       "        vertical-align: middle;\n",
       "    }\n",
       "\n",
       "    .dataframe tbody tr th {\n",
       "        vertical-align: top;\n",
       "    }\n",
       "\n",
       "    .dataframe thead th {\n",
       "        text-align: right;\n",
       "    }\n",
       "</style>\n",
       "<table border=\"1\" class=\"dataframe\">\n",
       "  <thead>\n",
       "    <tr style=\"text-align: right;\">\n",
       "      <th></th>\n",
       "      <th>erkek</th>\n",
       "      <th>kadın</th>\n",
       "    </tr>\n",
       "  </thead>\n",
       "  <tbody>\n",
       "    <tr>\n",
       "      <th>0</th>\n",
       "      <td>40</td>\n",
       "      <td>11</td>\n",
       "    </tr>\n",
       "    <tr>\n",
       "      <th>1</th>\n",
       "      <td>34</td>\n",
       "      <td>23</td>\n",
       "    </tr>\n",
       "    <tr>\n",
       "      <th>2</th>\n",
       "      <td>74</td>\n",
       "      <td>56</td>\n",
       "    </tr>\n",
       "    <tr>\n",
       "      <th>3</th>\n",
       "      <td>36</td>\n",
       "      <td>26</td>\n",
       "    </tr>\n",
       "    <tr>\n",
       "      <th>4</th>\n",
       "      <td>13</td>\n",
       "      <td>31</td>\n",
       "    </tr>\n",
       "    <tr>\n",
       "      <th>...</th>\n",
       "      <td>...</td>\n",
       "      <td>...</td>\n",
       "    </tr>\n",
       "    <tr>\n",
       "      <th>95</th>\n",
       "      <td>15</td>\n",
       "      <td>27</td>\n",
       "    </tr>\n",
       "    <tr>\n",
       "      <th>96</th>\n",
       "      <td>58</td>\n",
       "      <td>11</td>\n",
       "    </tr>\n",
       "    <tr>\n",
       "      <th>97</th>\n",
       "      <td>35</td>\n",
       "      <td>50</td>\n",
       "    </tr>\n",
       "    <tr>\n",
       "      <th>98</th>\n",
       "      <td>24</td>\n",
       "      <td>24</td>\n",
       "    </tr>\n",
       "    <tr>\n",
       "      <th>99</th>\n",
       "      <td>8</td>\n",
       "      <td>9</td>\n",
       "    </tr>\n",
       "  </tbody>\n",
       "</table>\n",
       "<p>100 rows × 2 columns</p>\n",
       "</div>"
      ],
      "text/plain": [
       "    erkek  kadın\n",
       "0      40     11\n",
       "1      34     23\n",
       "2      74     56\n",
       "3      36     26\n",
       "4      13     31\n",
       "..    ...    ...\n",
       "95     15     27\n",
       "96     58     11\n",
       "97     35     50\n",
       "98     24     24\n",
       "99      8      9\n",
       "\n",
       "[100 rows x 2 columns]"
      ]
     },
     "execution_count": 56,
     "metadata": {},
     "output_type": "execute_result"
    }
   ],
   "source": [
    "pd.DataFrame({\"erkek\":(np.random.randint(5,80,100)), \"kadın\": (np.random.randint(5,80,100))})"
   ]
  },
  {
   "cell_type": "code",
   "execution_count": 74,
   "id": "ad365293",
   "metadata": {},
   "outputs": [
    {
     "data": {
      "text/html": [
       "<div>\n",
       "<style scoped>\n",
       "    .dataframe tbody tr th:only-of-type {\n",
       "        vertical-align: middle;\n",
       "    }\n",
       "\n",
       "    .dataframe tbody tr th {\n",
       "        vertical-align: top;\n",
       "    }\n",
       "\n",
       "    .dataframe thead th {\n",
       "        text-align: right;\n",
       "    }\n",
       "</style>\n",
       "<table border=\"1\" class=\"dataframe\">\n",
       "  <thead>\n",
       "    <tr style=\"text-align: right;\">\n",
       "      <th></th>\n",
       "      <th>erkek</th>\n",
       "      <th>kadın</th>\n",
       "    </tr>\n",
       "  </thead>\n",
       "  <tbody>\n",
       "    <tr>\n",
       "      <th>0</th>\n",
       "      <td>8</td>\n",
       "      <td>38.0</td>\n",
       "    </tr>\n",
       "    <tr>\n",
       "      <th>1</th>\n",
       "      <td>73</td>\n",
       "      <td>79.0</td>\n",
       "    </tr>\n",
       "    <tr>\n",
       "      <th>2</th>\n",
       "      <td>54</td>\n",
       "      <td>18.0</td>\n",
       "    </tr>\n",
       "    <tr>\n",
       "      <th>3</th>\n",
       "      <td>64</td>\n",
       "      <td>79.0</td>\n",
       "    </tr>\n",
       "    <tr>\n",
       "      <th>4</th>\n",
       "      <td>33</td>\n",
       "      <td>36.0</td>\n",
       "    </tr>\n",
       "  </tbody>\n",
       "</table>\n",
       "</div>"
      ],
      "text/plain": [
       "   erkek  kadın\n",
       "0      8   38.0\n",
       "1     73   79.0\n",
       "2     54   18.0\n",
       "3     64   79.0\n",
       "4     33   36.0"
      ]
     },
     "execution_count": 74,
     "metadata": {},
     "output_type": "execute_result"
    }
   ],
   "source": [
    "erkek = pd.DataFrame(np.random.randint(5,80,40000),columns=[\"erkek\"],dtype=\"int64\")\n",
    "kadın = pd.DataFrame(np.random.randint(5,80,20000),columns=[\"kadın\"])\n",
    "hasta = pd.concat([erkek,kadın],axis=1)\n",
    "hasta.head()"
   ]
  },
  {
   "cell_type": "code",
   "execution_count": 64,
   "id": "41766140",
   "metadata": {},
   "outputs": [
    {
     "data": {
      "text/html": [
       "<div>\n",
       "<style scoped>\n",
       "    .dataframe tbody tr th:only-of-type {\n",
       "        vertical-align: middle;\n",
       "    }\n",
       "\n",
       "    .dataframe tbody tr th {\n",
       "        vertical-align: top;\n",
       "    }\n",
       "\n",
       "    .dataframe thead th {\n",
       "        text-align: right;\n",
       "    }\n",
       "</style>\n",
       "<table border=\"1\" class=\"dataframe\">\n",
       "  <thead>\n",
       "    <tr style=\"text-align: right;\">\n",
       "      <th></th>\n",
       "      <th>erkek</th>\n",
       "      <th>kadın</th>\n",
       "    </tr>\n",
       "  </thead>\n",
       "  <tbody>\n",
       "    <tr>\n",
       "      <th>109995</th>\n",
       "      <td>NaN</td>\n",
       "      <td>17</td>\n",
       "    </tr>\n",
       "    <tr>\n",
       "      <th>109996</th>\n",
       "      <td>NaN</td>\n",
       "      <td>5</td>\n",
       "    </tr>\n",
       "    <tr>\n",
       "      <th>109997</th>\n",
       "      <td>NaN</td>\n",
       "      <td>61</td>\n",
       "    </tr>\n",
       "    <tr>\n",
       "      <th>109998</th>\n",
       "      <td>NaN</td>\n",
       "      <td>38</td>\n",
       "    </tr>\n",
       "    <tr>\n",
       "      <th>109999</th>\n",
       "      <td>NaN</td>\n",
       "      <td>40</td>\n",
       "    </tr>\n",
       "  </tbody>\n",
       "</table>\n",
       "</div>"
      ],
      "text/plain": [
       "        erkek  kadın\n",
       "109995    NaN     17\n",
       "109996    NaN      5\n",
       "109997    NaN     61\n",
       "109998    NaN     38\n",
       "109999    NaN     40"
      ]
     },
     "execution_count": 64,
     "metadata": {},
     "output_type": "execute_result"
    }
   ],
   "source": [
    "hasta.tail()"
   ]
  },
  {
   "cell_type": "code",
   "execution_count": 76,
   "id": "b5031341",
   "metadata": {},
   "outputs": [
    {
     "data": {
      "text/html": [
       "<div>\n",
       "<style scoped>\n",
       "    .dataframe tbody tr th:only-of-type {\n",
       "        vertical-align: middle;\n",
       "    }\n",
       "\n",
       "    .dataframe tbody tr th {\n",
       "        vertical-align: top;\n",
       "    }\n",
       "\n",
       "    .dataframe thead th {\n",
       "        text-align: right;\n",
       "    }\n",
       "</style>\n",
       "<table border=\"1\" class=\"dataframe\">\n",
       "  <thead>\n",
       "    <tr style=\"text-align: right;\">\n",
       "      <th></th>\n",
       "      <th>erkek</th>\n",
       "      <th>kadın</th>\n",
       "    </tr>\n",
       "  </thead>\n",
       "  <tbody>\n",
       "    <tr>\n",
       "      <th>erkek</th>\n",
       "      <td>468.552481</td>\n",
       "      <td>1.078685</td>\n",
       "    </tr>\n",
       "    <tr>\n",
       "      <th>kadın</th>\n",
       "      <td>1.078685</td>\n",
       "      <td>467.525497</td>\n",
       "    </tr>\n",
       "  </tbody>\n",
       "</table>\n",
       "</div>"
      ],
      "text/plain": [
       "            erkek       kadın\n",
       "erkek  468.552481    1.078685\n",
       "kadın    1.078685  467.525497"
      ]
     },
     "execution_count": 76,
     "metadata": {},
     "output_type": "execute_result"
    }
   ],
   "source": [
    "hasta.cov()"
   ]
  },
  {
   "cell_type": "code",
   "execution_count": 78,
   "id": "18635f66",
   "metadata": {},
   "outputs": [],
   "source": [
    "import seaborn as sns"
   ]
  },
  {
   "cell_type": "code",
   "execution_count": 80,
   "id": "6a71b6c6",
   "metadata": {},
   "outputs": [],
   "source": [
    "hasta = np.random.randint(5,80,size = 140000)"
   ]
  },
  {
   "cell_type": "code",
   "execution_count": 87,
   "id": "a8ef4ef7",
   "metadata": {},
   "outputs": [],
   "source": [
    "np.random.seed(102)\n",
    "bayan = np.random.choice(a= hasta, size = 10000)"
   ]
  },
  {
   "cell_type": "code",
   "execution_count": 89,
   "id": "801f0e26",
   "metadata": {},
   "outputs": [],
   "source": [
    "np.random.seed(100)\n",
    "male = np.random.choice(a = hasta, size = 40000)"
   ]
  },
  {
   "cell_type": "code",
   "execution_count": null,
   "id": "06d33236",
   "metadata": {},
   "outputs": [],
   "source": []
  },
  {
   "cell_type": "code",
   "execution_count": null,
   "id": "5d1b2b8b",
   "metadata": {},
   "outputs": [],
   "source": []
  }
 ],
 "metadata": {
  "kernelspec": {
   "display_name": "Python 3",
   "language": "python",
   "name": "python3"
  },
  "language_info": {
   "codemirror_mode": {
    "name": "ipython",
    "version": 3
   },
   "file_extension": ".py",
   "mimetype": "text/x-python",
   "name": "python",
   "nbconvert_exporter": "python",
   "pygments_lexer": "ipython3",
   "version": "3.8.5"
  }
 },
 "nbformat": 4,
 "nbformat_minor": 5
}
