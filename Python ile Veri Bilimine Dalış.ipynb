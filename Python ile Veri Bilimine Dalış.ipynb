{
 "cells": [
  {
   "cell_type": "code",
   "execution_count": null,
   "metadata": {},
   "outputs": [],
   "source": [
    "https://medium.com/deep-learning-turkiye/python-ile-veri-bilimine-dal%C4%B1%C5%9F-3f069260ebda"
   ]
  },
  {
   "cell_type": "markdown",
   "metadata": {},
   "source": [
    "Bir veri bilimi projesinin aşamalarını soyut olarak aşağıdaki gibi 4 adımda tanımlamak mümkündür.\n",
    "Problem Tanımlama\n",
    "Veri Hazırlama\n",
    "Model/Algoritma Seçimi\n",
    "Sonuçları İyileştirme"
   ]
  },
  {
   "cell_type": "code",
   "execution_count": null,
   "metadata": {},
   "outputs": [],
   "source": [
    "NumPy Kütüphanesi\n",
    "Numpy kütüphanesi adını Sayısal Python (Numerical Python) kelimelerinin kısaltmalarından almıştır.\n",
    "Kütüphanenin en önemli özelliği, hızlı matematiksel işlemler yapılabilecek diziler (array) sunmasıdır.\n",
    "Python’un kendi veri yapısında bulunan liste veri yapısına göre oldukça hızlı çalışan Numpy \n",
    "kütüphanesi kullanılarak; rastgele sayı üretme, matris çarpımı ve doğrusal cebir işlemleri gibi\n",
    "birçok matematiksel işlemi gerçekleştirmek mümkündür. Kütüphane kullanımına yönelik; çok boyutlu\n",
    "dizi oluşturma, dizilerin farkını/toplamını/çarpımını hesaplama, belirli bir değerden büyük olan\n",
    "elemanların indislerini bularak elemanları ekranı yazdırma gibi örnekler aşağıda gösterilmiştir."
   ]
  },
  {
   "cell_type": "code",
   "execution_count": 1,
   "metadata": {},
   "outputs": [
    {
     "name": "stdout",
     "output_type": "stream",
     "text": [
      "Fark 1 / d3 -->  [[-2.  -1.   1. ]\n",
      " [-1.5 -2.  -1. ]\n",
      " [-3.5 -7.  -8.9]]\n",
      "Fark 2 / d3 -->  [[ 2.   1.  -1. ]\n",
      " [ 1.5  2.   1. ]\n",
      " [ 3.5  7.   8.9]]\n",
      "Toplam d1 -->  [[ 9.  17.  21. ]\n",
      " [ 9.5 16.  19. ]\n",
      " [ 7.5 11.  11.1]]\n",
      "3'ten büyük elemanlar --> [ 9.  17.  21.   9.5 16.  19.   7.5 11.  11.1]\n",
      "Çarpım d4: [[141.5  233.   275.1 ]\n",
      " [135.25 226.   269.4 ]\n",
      " [ 92.45 159.2  193.71]]\n",
      "Çıkartma d4: [[233.   275.1 ]\n",
      " [226.   269.4 ]\n",
      " [159.2  193.71]]\n"
     ]
    }
   ],
   "source": [
    "import numpy as np\n",
    "\n",
    "#Dizi oluşturma\n",
    "d1 = np.array([5.5,9,10])\n",
    "d2 = np.array([(3.5,8,11), (4,7,9), (2,2,1.1)], dtype=float)\n",
    "\n",
    "#Fark alma 1. Yöntem\n",
    "d3 = d2 - d1\n",
    "print(\"Fark 1 / d3 --> \", d3)\n",
    "\n",
    "#Fark alma 2. Yöntem\n",
    "d3 = np.subtract(d1, d2) \n",
    "print(\"Fark 2 / d3 --> \", d3)\n",
    "\n",
    "#d1 ve d2'yi toplayıp d1 üzerine yazma\n",
    "d1 = d1 + d2\n",
    "print(\"Toplam d1 --> \", d1)\n",
    "\n",
    "#Değeri 3'ten büyük elemanların indislerini bul\n",
    "sonuc = d1 > 3\n",
    "\n",
    "#Bulunan indisleri kullanarak, elemanları ekranra yazdır\n",
    "print(\"3'ten büyük elemanlar -->\", d1[sonuc])\n",
    "\n",
    "#İki matrisin çarpımı\n",
    "d4 = np.dot(d1, d2)\n",
    "print(\"Çarpım d4:\", d4)\n",
    "\n",
    "#Matristen 1.sütunu çıkartma\n",
    "d4 = np.delete(d4,0,1)\n",
    "print(\"Çıkartma d4:\", d4)"
   ]
  },
  {
   "cell_type": "code",
   "execution_count": 2,
   "metadata": {},
   "outputs": [
    {
     "name": "stdout",
     "output_type": "stream",
     "text": [
      "d4 min: 159.2\n",
      "d4 max: 275.1\n",
      "d4 ortalama: 226.06833333333336\n",
      "d4 toplam: 1356.41\n",
      "d4 karekök--> [[15.26433752 16.58613879]\n",
      " [15.03329638 16.41340915]\n",
      " [12.61744824 13.91797399]]\n",
      "d4 logaritma--> [[5.45103845 5.61713467]\n",
      " [5.420535   5.59619726]\n",
      " [5.07016127 5.2663622 ]]\n",
      "d4 transpoz: [[233.   226.   159.2 ]\n",
      " [275.1  269.4  193.71]]\n"
     ]
    }
   ],
   "source": [
    "#Dizideki en küçük eleman bulma\n",
    "print(\"d4 min:\", np.min(d4))\n",
    "\n",
    "#Dizideki en büyük eleman bulma\n",
    "print(\"d4 max:\", np.max(d4))\n",
    "\n",
    "#Dizinin ortalamasını alma\n",
    "print(\"d4 ortalama:\", d4.mean())\n",
    "\n",
    "#Dizinin toplamını bulma\n",
    "print(\"d4 toplam:\", d4.sum())\n",
    "\n",
    "#Karekök alma\n",
    "print(\"d4 karekök-->\", np.sqrt(d4))\n",
    "\n",
    "#Dizinin logaritmasını hesaplama\n",
    "print(\"d4 logaritma-->\", np.log(d4))\n",
    "\n",
    "#Tranpoz alma\n",
    "print(\"d4 transpoz:\", np.transpose(d4))"
   ]
  },
  {
   "cell_type": "code",
   "execution_count": null,
   "metadata": {},
   "outputs": [],
   "source": []
  }
 ],
 "metadata": {
  "kernelspec": {
   "display_name": "Python 3",
   "language": "python",
   "name": "python3"
  },
  "language_info": {
   "codemirror_mode": {
    "name": "ipython",
    "version": 3
   },
   "file_extension": ".py",
   "mimetype": "text/x-python",
   "name": "python",
   "nbconvert_exporter": "python",
   "pygments_lexer": "ipython3",
   "version": "3.8.5"
  }
 },
 "nbformat": 4,
 "nbformat_minor": 4
}
