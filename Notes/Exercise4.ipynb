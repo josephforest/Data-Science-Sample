{
 "cells": [
  {
   "cell_type": "code",
   "execution_count": 1,
   "metadata": {},
   "outputs": [],
   "source": [
    "import numpy as np\n",
    "import pandas as pd"
   ]
  },
  {
   "cell_type": "markdown",
   "metadata": {},
   "source": [
    "# **PANDAS**"
   ]
  },
  {
   "cell_type": "markdown",
   "metadata": {},
   "source": [
    "### **Today's Agenda**:\n",
    "#### **Exercise**  \n",
    "#### **Replace**   \n",
    "#### **str methods**   \n",
    "#### **Missing Data**  \n",
    "\n"
   ]
  },
  {
   "cell_type": "code",
   "execution_count": 2,
   "metadata": {},
   "outputs": [],
   "source": [
    "df = pd.read_csv('world-happiness-report-2021.csv')"
   ]
  },
  {
   "cell_type": "code",
   "execution_count": 3,
   "metadata": {},
   "outputs": [
    {
     "data": {
      "text/html": [
       "<div>\n",
       "<style scoped>\n",
       "    .dataframe tbody tr th:only-of-type {\n",
       "        vertical-align: middle;\n",
       "    }\n",
       "\n",
       "    .dataframe tbody tr th {\n",
       "        vertical-align: top;\n",
       "    }\n",
       "\n",
       "    .dataframe thead th {\n",
       "        text-align: right;\n",
       "    }\n",
       "</style>\n",
       "<table border=\"1\" class=\"dataframe\">\n",
       "  <thead>\n",
       "    <tr style=\"text-align: right;\">\n",
       "      <th></th>\n",
       "      <th>Regional indicator</th>\n",
       "      <th>Ladder score</th>\n",
       "      <th>Logged GDP per capita</th>\n",
       "      <th>Social support</th>\n",
       "      <th>Healthy life expectancy</th>\n",
       "      <th>Freedom to make life choices</th>\n",
       "      <th>Generosity</th>\n",
       "      <th>Perceptions of corruption</th>\n",
       "    </tr>\n",
       "    <tr>\n",
       "      <th>Country name</th>\n",
       "      <th></th>\n",
       "      <th></th>\n",
       "      <th></th>\n",
       "      <th></th>\n",
       "      <th></th>\n",
       "      <th></th>\n",
       "      <th></th>\n",
       "      <th></th>\n",
       "    </tr>\n",
       "  </thead>\n",
       "  <tbody>\n",
       "    <tr>\n",
       "      <th>Finland</th>\n",
       "      <td>Western Europe</td>\n",
       "      <td>7.842</td>\n",
       "      <td>10.775</td>\n",
       "      <td>0.954</td>\n",
       "      <td>72.0</td>\n",
       "      <td>0.949</td>\n",
       "      <td>-0.098</td>\n",
       "      <td>0.186</td>\n",
       "    </tr>\n",
       "    <tr>\n",
       "      <th>Denmark</th>\n",
       "      <td>Western Europe</td>\n",
       "      <td>7.620</td>\n",
       "      <td>10.933</td>\n",
       "      <td>0.954</td>\n",
       "      <td>72.7</td>\n",
       "      <td>0.946</td>\n",
       "      <td>0.030</td>\n",
       "      <td>0.179</td>\n",
       "    </tr>\n",
       "  </tbody>\n",
       "</table>\n",
       "</div>"
      ],
      "text/plain": [
       "             Regional indicator  Ladder score  Logged GDP per capita  \\\n",
       "Country name                                                           \n",
       "Finland          Western Europe         7.842                 10.775   \n",
       "Denmark          Western Europe         7.620                 10.933   \n",
       "\n",
       "              Social support  Healthy life expectancy  \\\n",
       "Country name                                            \n",
       "Finland                0.954                     72.0   \n",
       "Denmark                0.954                     72.7   \n",
       "\n",
       "              Freedom to make life choices  Generosity  \\\n",
       "Country name                                             \n",
       "Finland                              0.949      -0.098   \n",
       "Denmark                              0.946       0.030   \n",
       "\n",
       "              Perceptions of corruption  \n",
       "Country name                             \n",
       "Finland                           0.186  \n",
       "Denmark                           0.179  "
      ]
     },
     "execution_count": 3,
     "metadata": {},
     "output_type": "execute_result"
    }
   ],
   "source": [
    "df1 = df[['Country name', 'Regional indicator', 'Ladder score',\n",
    "       'Logged GDP per capita', 'Social support', 'Healthy life expectancy',\n",
    "       'Freedom to make life choices', 'Generosity',\n",
    "       'Perceptions of corruption']].copy()\n",
    "df1.set_index('Country name', inplace=True)\n",
    "df1.head(2)"
   ]
  },
  {
   "cell_type": "markdown",
   "metadata": {},
   "source": [
    "**Exercise** : We are working as a Data Scientist at an internationally well-known infrastructure company, \n",
    "which makes projects all over the world. Right now, our company's focus areas are: 'Southeast Asia' and 'South Asia'.\n",
    "\n",
    "In the first place, our boss wants us to prepare a descriptive report on the institutional integrity and citizens to trust their governments to see whether it is worthed to start a project idea to invest huge amount of money and time to those regions.\n",
    "\n",
    "We are preparing a descriptive report for our boss, who does not have much knowledge of statistics or reading statistical results. As data scientists, we should prepare something concise and understandable.\n",
    "\n",
    "Let's start with the following steps:\n",
    "\n",
    "-First, decide on which variable would be a good choice to work on \n",
    "\n",
    "-Second give our boss both numbers and also kind of explanatory side (like we did before)\n",
    "\n",
    "-Make a comparison between two regions in the text \n",
    "\n",
    "-Our report should contain \n",
    "\n",
    "--overall regions, \n",
    "\n",
    "--'Southeast Asia' and 'South Asia'\n",
    "\n",
    "--variable and modified version of the variable"
   ]
  },
  {
   "cell_type": "code",
   "execution_count": 6,
   "metadata": {},
   "outputs": [
    {
     "data": {
      "text/html": [
       "<div>\n",
       "<style scoped>\n",
       "    .dataframe tbody tr th:only-of-type {\n",
       "        vertical-align: middle;\n",
       "    }\n",
       "\n",
       "    .dataframe tbody tr th {\n",
       "        vertical-align: top;\n",
       "    }\n",
       "\n",
       "    .dataframe thead th {\n",
       "        text-align: right;\n",
       "    }\n",
       "</style>\n",
       "<table border=\"1\" class=\"dataframe\">\n",
       "  <thead>\n",
       "    <tr style=\"text-align: right;\">\n",
       "      <th></th>\n",
       "      <th>mean</th>\n",
       "      <th>max</th>\n",
       "      <th>min</th>\n",
       "    </tr>\n",
       "    <tr>\n",
       "      <th>Regional indicator</th>\n",
       "      <th></th>\n",
       "      <th></th>\n",
       "      <th></th>\n",
       "    </tr>\n",
       "  </thead>\n",
       "  <tbody>\n",
       "    <tr>\n",
       "      <th>Central and Eastern Europe</th>\n",
       "      <td>0.850529</td>\n",
       "      <td>0.939</td>\n",
       "      <td>0.527</td>\n",
       "    </tr>\n",
       "    <tr>\n",
       "      <th>South Asia</th>\n",
       "      <td>0.797429</td>\n",
       "      <td>0.924</td>\n",
       "      <td>0.682</td>\n",
       "    </tr>\n",
       "    <tr>\n",
       "      <th>Latin America and Caribbean</th>\n",
       "      <td>0.792600</td>\n",
       "      <td>0.891</td>\n",
       "      <td>0.590</td>\n",
       "    </tr>\n",
       "    <tr>\n",
       "      <th>Sub-Saharan Africa</th>\n",
       "      <td>0.765944</td>\n",
       "      <td>0.915</td>\n",
       "      <td>0.167</td>\n",
       "    </tr>\n",
       "    <tr>\n",
       "      <th>Middle East and North Africa</th>\n",
       "      <td>0.762235</td>\n",
       "      <td>0.898</td>\n",
       "      <td>0.589</td>\n",
       "    </tr>\n",
       "    <tr>\n",
       "      <th>Commonwealth of Independent States</th>\n",
       "      <td>0.725083</td>\n",
       "      <td>0.924</td>\n",
       "      <td>0.506</td>\n",
       "    </tr>\n",
       "    <tr>\n",
       "      <th>Southeast Asia</th>\n",
       "      <td>0.709111</td>\n",
       "      <td>0.895</td>\n",
       "      <td>0.082</td>\n",
       "    </tr>\n",
       "    <tr>\n",
       "      <th>East Asia</th>\n",
       "      <td>0.683333</td>\n",
       "      <td>0.856</td>\n",
       "      <td>0.403</td>\n",
       "    </tr>\n",
       "    <tr>\n",
       "      <th>Western Europe</th>\n",
       "      <td>0.523095</td>\n",
       "      <td>0.887</td>\n",
       "      <td>0.179</td>\n",
       "    </tr>\n",
       "    <tr>\n",
       "      <th>North America and ANZ</th>\n",
       "      <td>0.449250</td>\n",
       "      <td>0.698</td>\n",
       "      <td>0.242</td>\n",
       "    </tr>\n",
       "  </tbody>\n",
       "</table>\n",
       "</div>"
      ],
      "text/plain": [
       "                                        mean    max    min\n",
       "Regional indicator                                        \n",
       "Central and Eastern Europe          0.850529  0.939  0.527\n",
       "South Asia                          0.797429  0.924  0.682\n",
       "Latin America and Caribbean         0.792600  0.891  0.590\n",
       "Sub-Saharan Africa                  0.765944  0.915  0.167\n",
       "Middle East and North Africa        0.762235  0.898  0.589\n",
       "Commonwealth of Independent States  0.725083  0.924  0.506\n",
       "Southeast Asia                      0.709111  0.895  0.082\n",
       "East Asia                           0.683333  0.856  0.403\n",
       "Western Europe                      0.523095  0.887  0.179\n",
       "North America and ANZ               0.449250  0.698  0.242"
      ]
     },
     "execution_count": 6,
     "metadata": {},
     "output_type": "execute_result"
    }
   ],
   "source": [
    "df1.groupby('Regional indicator')['Perceptions of corruption'].agg(['mean','max','min']).sort_values(by='mean', ascending=False)"
   ]
  },
  {
   "cell_type": "code",
   "execution_count": 7,
   "metadata": {},
   "outputs": [
    {
     "data": {
      "text/plain": [
       "Country name\n",
       "Thailand       0.895\n",
       "Indonesia      0.867\n",
       "Cambodia       0.843\n",
       "Malaysia       0.839\n",
       "Vietnam        0.796\n",
       "Philippines    0.742\n",
       "Myanmar        0.660\n",
       "Laos           0.658\n",
       "Singapore      0.082\n",
       "Name: Perceptions of corruption, dtype: float64"
      ]
     },
     "execution_count": 7,
     "metadata": {},
     "output_type": "execute_result"
    }
   ],
   "source": [
    "df1.groupby('Regional indicator').get_group('Southeast Asia')['Perceptions of corruption'].sort_values(ascending=False)"
   ]
  },
  {
   "cell_type": "code",
   "execution_count": 8,
   "metadata": {},
   "outputs": [
    {
     "data": {
      "text/plain": [
       "Country name\n",
       "Afghanistan    0.924\n",
       "Sri Lanka      0.863\n",
       "Maldives       0.825\n",
       "Pakistan       0.787\n",
       "India          0.774\n",
       "Nepal          0.727\n",
       "Bangladesh     0.682\n",
       "Name: Perceptions of corruption, dtype: float64"
      ]
     },
     "execution_count": 8,
     "metadata": {},
     "output_type": "execute_result"
    }
   ],
   "source": [
    "df1.groupby('Regional indicator').get_group('South Asia')['Perceptions of corruption'].sort_values(ascending=False)"
   ]
  },
  {
   "cell_type": "code",
   "execution_count": 9,
   "metadata": {},
   "outputs": [
    {
     "data": {
      "text/plain": [
       "count    149.000000\n",
       "mean       0.727450\n",
       "std        0.179226\n",
       "min        0.082000\n",
       "25%        0.667000\n",
       "50%        0.781000\n",
       "75%        0.845000\n",
       "max        0.939000\n",
       "Name: Perceptions of corruption, dtype: float64"
      ]
     },
     "execution_count": 9,
     "metadata": {},
     "output_type": "execute_result"
    }
   ],
   "source": [
    "df1['Perceptions of corruption'].describe()"
   ]
  },
  {
   "cell_type": "code",
   "execution_count": 10,
   "metadata": {},
   "outputs": [],
   "source": [
    "def trust(corrupt):\n",
    "    if corrupt >= 0.845000:\n",
    "        return 'Low trust in institutions'\n",
    "    elif corrupt > 0.781000 and corrupt < 0.845000:\n",
    "        return 'Lower than normal level trust in institutions'\n",
    "    elif corrupt > 0.667000 and corrupt <= 0.781000:\n",
    "        return 'About the normal level trust in institutions'\n",
    "    else:\n",
    "        return 'High level trust in institutions'\n",
    "    "
   ]
  },
  {
   "cell_type": "code",
   "execution_count": 11,
   "metadata": {},
   "outputs": [
    {
     "data": {
      "text/plain": [
       "Country name\n",
       "Finland    High level trust in institutions\n",
       "Denmark    High level trust in institutions\n",
       "Name: trust in institutions, dtype: object"
      ]
     },
     "execution_count": 11,
     "metadata": {},
     "output_type": "execute_result"
    }
   ],
   "source": [
    "df1['trust in institutions'] = df1['Perceptions of corruption'].apply(trust)\n",
    "df1['trust in institutions'].head(2)"
   ]
  },
  {
   "cell_type": "code",
   "execution_count": 12,
   "metadata": {},
   "outputs": [
    {
     "data": {
      "text/plain": [
       "Country name\n",
       "Nepal           About the normal level trust in institutions\n",
       "Maldives       Lower than normal level trust in institutions\n",
       "Bangladesh      About the normal level trust in institutions\n",
       "Pakistan       Lower than normal level trust in institutions\n",
       "Sri Lanka                          Low trust in institutions\n",
       "India           About the normal level trust in institutions\n",
       "Afghanistan                        Low trust in institutions\n",
       "Name: trust in institutions, dtype: object"
      ]
     },
     "execution_count": 12,
     "metadata": {},
     "output_type": "execute_result"
    }
   ],
   "source": [
    "df1.groupby('Regional indicator').get_group('South Asia')['trust in institutions']"
   ]
  },
  {
   "cell_type": "code",
   "execution_count": 13,
   "metadata": {},
   "outputs": [
    {
     "data": {
      "text/plain": [
       "Country name\n",
       "Singapore                   High level trust in institutions\n",
       "Thailand                           Low trust in institutions\n",
       "Philippines     About the normal level trust in institutions\n",
       "Vietnam        Lower than normal level trust in institutions\n",
       "Malaysia       Lower than normal level trust in institutions\n",
       "Indonesia                          Low trust in institutions\n",
       "Laos                        High level trust in institutions\n",
       "Cambodia       Lower than normal level trust in institutions\n",
       "Myanmar                     High level trust in institutions\n",
       "Name: trust in institutions, dtype: object"
      ]
     },
     "execution_count": 13,
     "metadata": {},
     "output_type": "execute_result"
    }
   ],
   "source": [
    "df1.groupby('Regional indicator').get_group('Southeast Asia')['trust in institutions']"
   ]
  },
  {
   "cell_type": "code",
   "execution_count": 14,
   "metadata": {},
   "outputs": [
    {
     "data": {
      "text/html": [
       "<div>\n",
       "<style scoped>\n",
       "    .dataframe tbody tr th:only-of-type {\n",
       "        vertical-align: middle;\n",
       "    }\n",
       "\n",
       "    .dataframe tbody tr th {\n",
       "        vertical-align: top;\n",
       "    }\n",
       "\n",
       "    .dataframe thead th {\n",
       "        text-align: right;\n",
       "    }\n",
       "</style>\n",
       "<table border=\"1\" class=\"dataframe\">\n",
       "  <thead>\n",
       "    <tr style=\"text-align: right;\">\n",
       "      <th></th>\n",
       "      <th>Regional indicator</th>\n",
       "      <th>Ladder score</th>\n",
       "      <th>Logged GDP per capita</th>\n",
       "      <th>Social support</th>\n",
       "      <th>Healthy life expectancy</th>\n",
       "      <th>Freedom to make life choices</th>\n",
       "      <th>Generosity</th>\n",
       "      <th>Perceptions of corruption</th>\n",
       "      <th>trust in institutions</th>\n",
       "    </tr>\n",
       "    <tr>\n",
       "      <th>Country name</th>\n",
       "      <th></th>\n",
       "      <th></th>\n",
       "      <th></th>\n",
       "      <th></th>\n",
       "      <th></th>\n",
       "      <th></th>\n",
       "      <th></th>\n",
       "      <th></th>\n",
       "      <th></th>\n",
       "    </tr>\n",
       "  </thead>\n",
       "  <tbody>\n",
       "    <tr>\n",
       "      <th>Singapore</th>\n",
       "      <td>Southeast Asia</td>\n",
       "      <td>6.377</td>\n",
       "      <td>11.488</td>\n",
       "      <td>0.915</td>\n",
       "      <td>76.953</td>\n",
       "      <td>0.927</td>\n",
       "      <td>-0.018</td>\n",
       "      <td>0.082</td>\n",
       "      <td>High level trust in institutions</td>\n",
       "    </tr>\n",
       "    <tr>\n",
       "      <th>Thailand</th>\n",
       "      <td>Southeast Asia</td>\n",
       "      <td>5.985</td>\n",
       "      <td>9.805</td>\n",
       "      <td>0.888</td>\n",
       "      <td>67.401</td>\n",
       "      <td>0.884</td>\n",
       "      <td>0.287</td>\n",
       "      <td>0.895</td>\n",
       "      <td>Low trust in institutions</td>\n",
       "    </tr>\n",
       "  </tbody>\n",
       "</table>\n",
       "</div>"
      ],
      "text/plain": [
       "             Regional indicator  Ladder score  Logged GDP per capita  \\\n",
       "Country name                                                           \n",
       "Singapore        Southeast Asia         6.377                 11.488   \n",
       "Thailand         Southeast Asia         5.985                  9.805   \n",
       "\n",
       "              Social support  Healthy life expectancy  \\\n",
       "Country name                                            \n",
       "Singapore              0.915                   76.953   \n",
       "Thailand               0.888                   67.401   \n",
       "\n",
       "              Freedom to make life choices  Generosity  \\\n",
       "Country name                                             \n",
       "Singapore                            0.927      -0.018   \n",
       "Thailand                             0.884       0.287   \n",
       "\n",
       "              Perceptions of corruption             trust in institutions  \n",
       "Country name                                                               \n",
       "Singapore                         0.082  High level trust in institutions  \n",
       "Thailand                          0.895         Low trust in institutions  "
      ]
     },
     "execution_count": 14,
     "metadata": {},
     "output_type": "execute_result"
    }
   ],
   "source": [
    "invest_df= df1[(df1['Regional indicator']=='Southeast Asia') | (df1['Regional indicator']=='South Asia')]\n",
    "invest_df.head(2)"
   ]
  },
  {
   "cell_type": "code",
   "execution_count": 15,
   "metadata": {},
   "outputs": [
    {
     "data": {
      "text/html": [
       "<div>\n",
       "<style scoped>\n",
       "    .dataframe tbody tr th:only-of-type {\n",
       "        vertical-align: middle;\n",
       "    }\n",
       "\n",
       "    .dataframe tbody tr th {\n",
       "        vertical-align: top;\n",
       "    }\n",
       "\n",
       "    .dataframe thead th {\n",
       "        text-align: right;\n",
       "    }\n",
       "</style>\n",
       "<table border=\"1\" class=\"dataframe\">\n",
       "  <thead>\n",
       "    <tr style=\"text-align: right;\">\n",
       "      <th></th>\n",
       "      <th>Regional indicator</th>\n",
       "      <th>Perceptions of corruption</th>\n",
       "      <th>trust in institutions</th>\n",
       "    </tr>\n",
       "    <tr>\n",
       "      <th>Country name</th>\n",
       "      <th></th>\n",
       "      <th></th>\n",
       "      <th></th>\n",
       "    </tr>\n",
       "  </thead>\n",
       "  <tbody>\n",
       "    <tr>\n",
       "      <th>Nepal</th>\n",
       "      <td>South Asia</td>\n",
       "      <td>0.727</td>\n",
       "      <td>About the normal level trust in institutions</td>\n",
       "    </tr>\n",
       "    <tr>\n",
       "      <th>Maldives</th>\n",
       "      <td>South Asia</td>\n",
       "      <td>0.825</td>\n",
       "      <td>Lower than normal level trust in institutions</td>\n",
       "    </tr>\n",
       "    <tr>\n",
       "      <th>Bangladesh</th>\n",
       "      <td>South Asia</td>\n",
       "      <td>0.682</td>\n",
       "      <td>About the normal level trust in institutions</td>\n",
       "    </tr>\n",
       "    <tr>\n",
       "      <th>Pakistan</th>\n",
       "      <td>South Asia</td>\n",
       "      <td>0.787</td>\n",
       "      <td>Lower than normal level trust in institutions</td>\n",
       "    </tr>\n",
       "    <tr>\n",
       "      <th>Sri Lanka</th>\n",
       "      <td>South Asia</td>\n",
       "      <td>0.863</td>\n",
       "      <td>Low trust in institutions</td>\n",
       "    </tr>\n",
       "    <tr>\n",
       "      <th>India</th>\n",
       "      <td>South Asia</td>\n",
       "      <td>0.774</td>\n",
       "      <td>About the normal level trust in institutions</td>\n",
       "    </tr>\n",
       "    <tr>\n",
       "      <th>Afghanistan</th>\n",
       "      <td>South Asia</td>\n",
       "      <td>0.924</td>\n",
       "      <td>Low trust in institutions</td>\n",
       "    </tr>\n",
       "    <tr>\n",
       "      <th>Singapore</th>\n",
       "      <td>Southeast Asia</td>\n",
       "      <td>0.082</td>\n",
       "      <td>High level trust in institutions</td>\n",
       "    </tr>\n",
       "    <tr>\n",
       "      <th>Thailand</th>\n",
       "      <td>Southeast Asia</td>\n",
       "      <td>0.895</td>\n",
       "      <td>Low trust in institutions</td>\n",
       "    </tr>\n",
       "    <tr>\n",
       "      <th>Philippines</th>\n",
       "      <td>Southeast Asia</td>\n",
       "      <td>0.742</td>\n",
       "      <td>About the normal level trust in institutions</td>\n",
       "    </tr>\n",
       "    <tr>\n",
       "      <th>Vietnam</th>\n",
       "      <td>Southeast Asia</td>\n",
       "      <td>0.796</td>\n",
       "      <td>Lower than normal level trust in institutions</td>\n",
       "    </tr>\n",
       "    <tr>\n",
       "      <th>Malaysia</th>\n",
       "      <td>Southeast Asia</td>\n",
       "      <td>0.839</td>\n",
       "      <td>Lower than normal level trust in institutions</td>\n",
       "    </tr>\n",
       "    <tr>\n",
       "      <th>Indonesia</th>\n",
       "      <td>Southeast Asia</td>\n",
       "      <td>0.867</td>\n",
       "      <td>Low trust in institutions</td>\n",
       "    </tr>\n",
       "    <tr>\n",
       "      <th>Laos</th>\n",
       "      <td>Southeast Asia</td>\n",
       "      <td>0.658</td>\n",
       "      <td>High level trust in institutions</td>\n",
       "    </tr>\n",
       "    <tr>\n",
       "      <th>Cambodia</th>\n",
       "      <td>Southeast Asia</td>\n",
       "      <td>0.843</td>\n",
       "      <td>Lower than normal level trust in institutions</td>\n",
       "    </tr>\n",
       "    <tr>\n",
       "      <th>Myanmar</th>\n",
       "      <td>Southeast Asia</td>\n",
       "      <td>0.660</td>\n",
       "      <td>High level trust in institutions</td>\n",
       "    </tr>\n",
       "  </tbody>\n",
       "</table>\n",
       "</div>"
      ],
      "text/plain": [
       "             Regional indicator  Perceptions of corruption  \\\n",
       "Country name                                                 \n",
       "Nepal                South Asia                      0.727   \n",
       "Maldives             South Asia                      0.825   \n",
       "Bangladesh           South Asia                      0.682   \n",
       "Pakistan             South Asia                      0.787   \n",
       "Sri Lanka            South Asia                      0.863   \n",
       "India                South Asia                      0.774   \n",
       "Afghanistan          South Asia                      0.924   \n",
       "Singapore        Southeast Asia                      0.082   \n",
       "Thailand         Southeast Asia                      0.895   \n",
       "Philippines      Southeast Asia                      0.742   \n",
       "Vietnam          Southeast Asia                      0.796   \n",
       "Malaysia         Southeast Asia                      0.839   \n",
       "Indonesia        Southeast Asia                      0.867   \n",
       "Laos             Southeast Asia                      0.658   \n",
       "Cambodia         Southeast Asia                      0.843   \n",
       "Myanmar          Southeast Asia                      0.660   \n",
       "\n",
       "                                      trust in institutions  \n",
       "Country name                                                 \n",
       "Nepal          About the normal level trust in institutions  \n",
       "Maldives      Lower than normal level trust in institutions  \n",
       "Bangladesh     About the normal level trust in institutions  \n",
       "Pakistan      Lower than normal level trust in institutions  \n",
       "Sri Lanka                         Low trust in institutions  \n",
       "India          About the normal level trust in institutions  \n",
       "Afghanistan                       Low trust in institutions  \n",
       "Singapore                  High level trust in institutions  \n",
       "Thailand                          Low trust in institutions  \n",
       "Philippines    About the normal level trust in institutions  \n",
       "Vietnam       Lower than normal level trust in institutions  \n",
       "Malaysia      Lower than normal level trust in institutions  \n",
       "Indonesia                         Low trust in institutions  \n",
       "Laos                       High level trust in institutions  \n",
       "Cambodia      Lower than normal level trust in institutions  \n",
       "Myanmar                    High level trust in institutions  "
      ]
     },
     "execution_count": 15,
     "metadata": {},
     "output_type": "execute_result"
    }
   ],
   "source": [
    "#1\n",
    "invest_df[['Regional indicator','Perceptions of corruption','trust in institutions']].sort_values(by='Regional indicator')"
   ]
  },
  {
   "cell_type": "code",
   "execution_count": 16,
   "metadata": {},
   "outputs": [
    {
     "data": {
      "text/html": [
       "<div>\n",
       "<style scoped>\n",
       "    .dataframe tbody tr th:only-of-type {\n",
       "        vertical-align: middle;\n",
       "    }\n",
       "\n",
       "    .dataframe tbody tr th {\n",
       "        vertical-align: top;\n",
       "    }\n",
       "\n",
       "    .dataframe thead tr th {\n",
       "        text-align: left;\n",
       "    }\n",
       "\n",
       "    .dataframe thead tr:last-of-type th {\n",
       "        text-align: right;\n",
       "    }\n",
       "</style>\n",
       "<table border=\"1\" class=\"dataframe\">\n",
       "  <thead>\n",
       "    <tr>\n",
       "      <th></th>\n",
       "      <th colspan=\"8\" halign=\"left\">Perceptions of corruption</th>\n",
       "    </tr>\n",
       "    <tr>\n",
       "      <th></th>\n",
       "      <th>count</th>\n",
       "      <th>mean</th>\n",
       "      <th>std</th>\n",
       "      <th>min</th>\n",
       "      <th>25%</th>\n",
       "      <th>50%</th>\n",
       "      <th>75%</th>\n",
       "      <th>max</th>\n",
       "    </tr>\n",
       "    <tr>\n",
       "      <th>Regional indicator</th>\n",
       "      <th></th>\n",
       "      <th></th>\n",
       "      <th></th>\n",
       "      <th></th>\n",
       "      <th></th>\n",
       "      <th></th>\n",
       "      <th></th>\n",
       "      <th></th>\n",
       "    </tr>\n",
       "  </thead>\n",
       "  <tbody>\n",
       "    <tr>\n",
       "      <th>South Asia</th>\n",
       "      <td>7.0</td>\n",
       "      <td>0.797429</td>\n",
       "      <td>0.081672</td>\n",
       "      <td>0.682</td>\n",
       "      <td>0.7505</td>\n",
       "      <td>0.787</td>\n",
       "      <td>0.844</td>\n",
       "      <td>0.924</td>\n",
       "    </tr>\n",
       "    <tr>\n",
       "      <th>Southeast Asia</th>\n",
       "      <td>9.0</td>\n",
       "      <td>0.709111</td>\n",
       "      <td>0.250301</td>\n",
       "      <td>0.082</td>\n",
       "      <td>0.6600</td>\n",
       "      <td>0.796</td>\n",
       "      <td>0.843</td>\n",
       "      <td>0.895</td>\n",
       "    </tr>\n",
       "  </tbody>\n",
       "</table>\n",
       "</div>"
      ],
      "text/plain": [
       "                   Perceptions of corruption                             \\\n",
       "                                       count      mean       std    min   \n",
       "Regional indicator                                                        \n",
       "South Asia                               7.0  0.797429  0.081672  0.682   \n",
       "Southeast Asia                           9.0  0.709111  0.250301  0.082   \n",
       "\n",
       "                                                 \n",
       "                       25%    50%    75%    max  \n",
       "Regional indicator                               \n",
       "South Asia          0.7505  0.787  0.844  0.924  \n",
       "Southeast Asia      0.6600  0.796  0.843  0.895  "
      ]
     },
     "execution_count": 16,
     "metadata": {},
     "output_type": "execute_result"
    }
   ],
   "source": [
    "#2\n",
    "invest_df.groupby('Regional indicator')[['Perceptions of corruption','trust in institutions']].describe()"
   ]
  },
  {
   "cell_type": "code",
   "execution_count": 19,
   "metadata": {},
   "outputs": [],
   "source": [
    "#3\n",
    "invest_df= invest_df.reset_index()\n",
    "invest_df= invest_df.set_index(['Regional indicator'])\n",
    "invest_df.sort_index(inplace=True)"
   ]
  },
  {
   "cell_type": "code",
   "execution_count": 22,
   "metadata": {},
   "outputs": [
    {
     "data": {
      "text/html": [
       "<div>\n",
       "<style scoped>\n",
       "    .dataframe tbody tr th:only-of-type {\n",
       "        vertical-align: middle;\n",
       "    }\n",
       "\n",
       "    .dataframe tbody tr th {\n",
       "        vertical-align: top;\n",
       "    }\n",
       "\n",
       "    .dataframe thead th {\n",
       "        text-align: right;\n",
       "    }\n",
       "</style>\n",
       "<table border=\"1\" class=\"dataframe\">\n",
       "  <thead>\n",
       "    <tr style=\"text-align: right;\">\n",
       "      <th></th>\n",
       "      <th>Country name</th>\n",
       "      <th>Perceptions of corruption</th>\n",
       "      <th>trust in institutions</th>\n",
       "    </tr>\n",
       "    <tr>\n",
       "      <th>Regional indicator</th>\n",
       "      <th></th>\n",
       "      <th></th>\n",
       "      <th></th>\n",
       "    </tr>\n",
       "  </thead>\n",
       "  <tbody>\n",
       "    <tr>\n",
       "      <th>South Asia</th>\n",
       "      <td>Nepal</td>\n",
       "      <td>0.727</td>\n",
       "      <td>About the normal level trust in institutions</td>\n",
       "    </tr>\n",
       "    <tr>\n",
       "      <th>South Asia</th>\n",
       "      <td>Maldives</td>\n",
       "      <td>0.825</td>\n",
       "      <td>Lower than normal level trust in institutions</td>\n",
       "    </tr>\n",
       "    <tr>\n",
       "      <th>South Asia</th>\n",
       "      <td>Bangladesh</td>\n",
       "      <td>0.682</td>\n",
       "      <td>About the normal level trust in institutions</td>\n",
       "    </tr>\n",
       "    <tr>\n",
       "      <th>South Asia</th>\n",
       "      <td>Pakistan</td>\n",
       "      <td>0.787</td>\n",
       "      <td>Lower than normal level trust in institutions</td>\n",
       "    </tr>\n",
       "    <tr>\n",
       "      <th>South Asia</th>\n",
       "      <td>Sri Lanka</td>\n",
       "      <td>0.863</td>\n",
       "      <td>Low trust in institutions</td>\n",
       "    </tr>\n",
       "    <tr>\n",
       "      <th>South Asia</th>\n",
       "      <td>India</td>\n",
       "      <td>0.774</td>\n",
       "      <td>About the normal level trust in institutions</td>\n",
       "    </tr>\n",
       "    <tr>\n",
       "      <th>South Asia</th>\n",
       "      <td>Afghanistan</td>\n",
       "      <td>0.924</td>\n",
       "      <td>Low trust in institutions</td>\n",
       "    </tr>\n",
       "    <tr>\n",
       "      <th>Southeast Asia</th>\n",
       "      <td>Singapore</td>\n",
       "      <td>0.082</td>\n",
       "      <td>High level trust in institutions</td>\n",
       "    </tr>\n",
       "    <tr>\n",
       "      <th>Southeast Asia</th>\n",
       "      <td>Thailand</td>\n",
       "      <td>0.895</td>\n",
       "      <td>Low trust in institutions</td>\n",
       "    </tr>\n",
       "    <tr>\n",
       "      <th>Southeast Asia</th>\n",
       "      <td>Philippines</td>\n",
       "      <td>0.742</td>\n",
       "      <td>About the normal level trust in institutions</td>\n",
       "    </tr>\n",
       "    <tr>\n",
       "      <th>Southeast Asia</th>\n",
       "      <td>Vietnam</td>\n",
       "      <td>0.796</td>\n",
       "      <td>Lower than normal level trust in institutions</td>\n",
       "    </tr>\n",
       "    <tr>\n",
       "      <th>Southeast Asia</th>\n",
       "      <td>Malaysia</td>\n",
       "      <td>0.839</td>\n",
       "      <td>Lower than normal level trust in institutions</td>\n",
       "    </tr>\n",
       "    <tr>\n",
       "      <th>Southeast Asia</th>\n",
       "      <td>Indonesia</td>\n",
       "      <td>0.867</td>\n",
       "      <td>Low trust in institutions</td>\n",
       "    </tr>\n",
       "    <tr>\n",
       "      <th>Southeast Asia</th>\n",
       "      <td>Laos</td>\n",
       "      <td>0.658</td>\n",
       "      <td>High level trust in institutions</td>\n",
       "    </tr>\n",
       "    <tr>\n",
       "      <th>Southeast Asia</th>\n",
       "      <td>Cambodia</td>\n",
       "      <td>0.843</td>\n",
       "      <td>Lower than normal level trust in institutions</td>\n",
       "    </tr>\n",
       "    <tr>\n",
       "      <th>Southeast Asia</th>\n",
       "      <td>Myanmar</td>\n",
       "      <td>0.660</td>\n",
       "      <td>High level trust in institutions</td>\n",
       "    </tr>\n",
       "  </tbody>\n",
       "</table>\n",
       "</div>"
      ],
      "text/plain": [
       "                   Country name  Perceptions of corruption  \\\n",
       "Regional indicator                                           \n",
       "South Asia                Nepal                      0.727   \n",
       "South Asia             Maldives                      0.825   \n",
       "South Asia           Bangladesh                      0.682   \n",
       "South Asia             Pakistan                      0.787   \n",
       "South Asia            Sri Lanka                      0.863   \n",
       "South Asia                India                      0.774   \n",
       "South Asia          Afghanistan                      0.924   \n",
       "Southeast Asia        Singapore                      0.082   \n",
       "Southeast Asia         Thailand                      0.895   \n",
       "Southeast Asia      Philippines                      0.742   \n",
       "Southeast Asia          Vietnam                      0.796   \n",
       "Southeast Asia         Malaysia                      0.839   \n",
       "Southeast Asia        Indonesia                      0.867   \n",
       "Southeast Asia             Laos                      0.658   \n",
       "Southeast Asia         Cambodia                      0.843   \n",
       "Southeast Asia          Myanmar                      0.660   \n",
       "\n",
       "                                            trust in institutions  \n",
       "Regional indicator                                                 \n",
       "South Asia           About the normal level trust in institutions  \n",
       "South Asia          Lower than normal level trust in institutions  \n",
       "South Asia           About the normal level trust in institutions  \n",
       "South Asia          Lower than normal level trust in institutions  \n",
       "South Asia                              Low trust in institutions  \n",
       "South Asia           About the normal level trust in institutions  \n",
       "South Asia                              Low trust in institutions  \n",
       "Southeast Asia                   High level trust in institutions  \n",
       "Southeast Asia                          Low trust in institutions  \n",
       "Southeast Asia       About the normal level trust in institutions  \n",
       "Southeast Asia      Lower than normal level trust in institutions  \n",
       "Southeast Asia      Lower than normal level trust in institutions  \n",
       "Southeast Asia                          Low trust in institutions  \n",
       "Southeast Asia                   High level trust in institutions  \n",
       "Southeast Asia      Lower than normal level trust in institutions  \n",
       "Southeast Asia                   High level trust in institutions  "
      ]
     },
     "execution_count": 22,
     "metadata": {},
     "output_type": "execute_result"
    }
   ],
   "source": [
    "invest_df[['Country name','Perceptions of corruption','trust in institutions']]"
   ]
  },
  {
   "cell_type": "code",
   "execution_count": 23,
   "metadata": {},
   "outputs": [],
   "source": [
    "#4\n",
    "invest_df= invest_df.reset_index()\n",
    "invest_df= invest_df.set_index(['Regional indicator','Country name'])\n",
    "invest_df.sort_index(inplace=True)"
   ]
  },
  {
   "cell_type": "code",
   "execution_count": 24,
   "metadata": {},
   "outputs": [
    {
     "data": {
      "text/html": [
       "<div>\n",
       "<style scoped>\n",
       "    .dataframe tbody tr th:only-of-type {\n",
       "        vertical-align: middle;\n",
       "    }\n",
       "\n",
       "    .dataframe tbody tr th {\n",
       "        vertical-align: top;\n",
       "    }\n",
       "\n",
       "    .dataframe thead th {\n",
       "        text-align: right;\n",
       "    }\n",
       "</style>\n",
       "<table border=\"1\" class=\"dataframe\">\n",
       "  <thead>\n",
       "    <tr style=\"text-align: right;\">\n",
       "      <th></th>\n",
       "      <th></th>\n",
       "      <th>Perceptions of corruption</th>\n",
       "      <th>trust in institutions</th>\n",
       "    </tr>\n",
       "    <tr>\n",
       "      <th>Regional indicator</th>\n",
       "      <th>Country name</th>\n",
       "      <th></th>\n",
       "      <th></th>\n",
       "    </tr>\n",
       "  </thead>\n",
       "  <tbody>\n",
       "    <tr>\n",
       "      <th rowspan=\"7\" valign=\"top\">South Asia</th>\n",
       "      <th>Afghanistan</th>\n",
       "      <td>0.924</td>\n",
       "      <td>Low trust in institutions</td>\n",
       "    </tr>\n",
       "    <tr>\n",
       "      <th>Bangladesh</th>\n",
       "      <td>0.682</td>\n",
       "      <td>About the normal level trust in institutions</td>\n",
       "    </tr>\n",
       "    <tr>\n",
       "      <th>India</th>\n",
       "      <td>0.774</td>\n",
       "      <td>About the normal level trust in institutions</td>\n",
       "    </tr>\n",
       "    <tr>\n",
       "      <th>Maldives</th>\n",
       "      <td>0.825</td>\n",
       "      <td>Lower than normal level trust in institutions</td>\n",
       "    </tr>\n",
       "    <tr>\n",
       "      <th>Nepal</th>\n",
       "      <td>0.727</td>\n",
       "      <td>About the normal level trust in institutions</td>\n",
       "    </tr>\n",
       "    <tr>\n",
       "      <th>Pakistan</th>\n",
       "      <td>0.787</td>\n",
       "      <td>Lower than normal level trust in institutions</td>\n",
       "    </tr>\n",
       "    <tr>\n",
       "      <th>Sri Lanka</th>\n",
       "      <td>0.863</td>\n",
       "      <td>Low trust in institutions</td>\n",
       "    </tr>\n",
       "    <tr>\n",
       "      <th rowspan=\"9\" valign=\"top\">Southeast Asia</th>\n",
       "      <th>Cambodia</th>\n",
       "      <td>0.843</td>\n",
       "      <td>Lower than normal level trust in institutions</td>\n",
       "    </tr>\n",
       "    <tr>\n",
       "      <th>Indonesia</th>\n",
       "      <td>0.867</td>\n",
       "      <td>Low trust in institutions</td>\n",
       "    </tr>\n",
       "    <tr>\n",
       "      <th>Laos</th>\n",
       "      <td>0.658</td>\n",
       "      <td>High level trust in institutions</td>\n",
       "    </tr>\n",
       "    <tr>\n",
       "      <th>Malaysia</th>\n",
       "      <td>0.839</td>\n",
       "      <td>Lower than normal level trust in institutions</td>\n",
       "    </tr>\n",
       "    <tr>\n",
       "      <th>Myanmar</th>\n",
       "      <td>0.660</td>\n",
       "      <td>High level trust in institutions</td>\n",
       "    </tr>\n",
       "    <tr>\n",
       "      <th>Philippines</th>\n",
       "      <td>0.742</td>\n",
       "      <td>About the normal level trust in institutions</td>\n",
       "    </tr>\n",
       "    <tr>\n",
       "      <th>Singapore</th>\n",
       "      <td>0.082</td>\n",
       "      <td>High level trust in institutions</td>\n",
       "    </tr>\n",
       "    <tr>\n",
       "      <th>Thailand</th>\n",
       "      <td>0.895</td>\n",
       "      <td>Low trust in institutions</td>\n",
       "    </tr>\n",
       "    <tr>\n",
       "      <th>Vietnam</th>\n",
       "      <td>0.796</td>\n",
       "      <td>Lower than normal level trust in institutions</td>\n",
       "    </tr>\n",
       "  </tbody>\n",
       "</table>\n",
       "</div>"
      ],
      "text/plain": [
       "                                 Perceptions of corruption  \\\n",
       "Regional indicator Country name                              \n",
       "South Asia         Afghanistan                       0.924   \n",
       "                   Bangladesh                        0.682   \n",
       "                   India                             0.774   \n",
       "                   Maldives                          0.825   \n",
       "                   Nepal                             0.727   \n",
       "                   Pakistan                          0.787   \n",
       "                   Sri Lanka                         0.863   \n",
       "Southeast Asia     Cambodia                          0.843   \n",
       "                   Indonesia                         0.867   \n",
       "                   Laos                              0.658   \n",
       "                   Malaysia                          0.839   \n",
       "                   Myanmar                           0.660   \n",
       "                   Philippines                       0.742   \n",
       "                   Singapore                         0.082   \n",
       "                   Thailand                          0.895   \n",
       "                   Vietnam                           0.796   \n",
       "\n",
       "                                                         trust in institutions  \n",
       "Regional indicator Country name                                                 \n",
       "South Asia         Afghanistan                       Low trust in institutions  \n",
       "                   Bangladesh     About the normal level trust in institutions  \n",
       "                   India          About the normal level trust in institutions  \n",
       "                   Maldives      Lower than normal level trust in institutions  \n",
       "                   Nepal          About the normal level trust in institutions  \n",
       "                   Pakistan      Lower than normal level trust in institutions  \n",
       "                   Sri Lanka                         Low trust in institutions  \n",
       "Southeast Asia     Cambodia      Lower than normal level trust in institutions  \n",
       "                   Indonesia                         Low trust in institutions  \n",
       "                   Laos                       High level trust in institutions  \n",
       "                   Malaysia      Lower than normal level trust in institutions  \n",
       "                   Myanmar                    High level trust in institutions  \n",
       "                   Philippines    About the normal level trust in institutions  \n",
       "                   Singapore                  High level trust in institutions  \n",
       "                   Thailand                          Low trust in institutions  \n",
       "                   Vietnam       Lower than normal level trust in institutions  "
      ]
     },
     "execution_count": 24,
     "metadata": {},
     "output_type": "execute_result"
    }
   ],
   "source": [
    "invest_df[['Perceptions of corruption','trust in institutions']]"
   ]
  },
  {
   "cell_type": "code",
   "execution_count": null,
   "metadata": {},
   "outputs": [],
   "source": []
  },
  {
   "cell_type": "code",
   "execution_count": null,
   "metadata": {},
   "outputs": [],
   "source": []
  },
  {
   "cell_type": "code",
   "execution_count": null,
   "metadata": {},
   "outputs": [],
   "source": []
  },
  {
   "cell_type": "code",
   "execution_count": null,
   "metadata": {},
   "outputs": [],
   "source": []
  },
  {
   "cell_type": "code",
   "execution_count": null,
   "metadata": {},
   "outputs": [],
   "source": []
  },
  {
   "cell_type": "code",
   "execution_count": null,
   "metadata": {},
   "outputs": [],
   "source": []
  },
  {
   "cell_type": "markdown",
   "metadata": {},
   "source": [
    "##### **replace()**"
   ]
  },
  {
   "cell_type": "code",
   "execution_count": 25,
   "metadata": {},
   "outputs": [
    {
     "data": {
      "text/html": [
       "<div>\n",
       "<style scoped>\n",
       "    .dataframe tbody tr th:only-of-type {\n",
       "        vertical-align: middle;\n",
       "    }\n",
       "\n",
       "    .dataframe tbody tr th {\n",
       "        vertical-align: top;\n",
       "    }\n",
       "\n",
       "    .dataframe thead th {\n",
       "        text-align: right;\n",
       "    }\n",
       "</style>\n",
       "<table border=\"1\" class=\"dataframe\">\n",
       "  <thead>\n",
       "    <tr style=\"text-align: right;\">\n",
       "      <th></th>\n",
       "      <th>Regional indicator</th>\n",
       "      <th>Ladder score</th>\n",
       "      <th>Logged GDP per capita</th>\n",
       "      <th>Social support</th>\n",
       "      <th>Healthy life expectancy</th>\n",
       "      <th>Freedom to make life choices</th>\n",
       "      <th>Generosity</th>\n",
       "      <th>Perceptions of corruption</th>\n",
       "      <th>trust in institutions</th>\n",
       "    </tr>\n",
       "    <tr>\n",
       "      <th>Country name</th>\n",
       "      <th></th>\n",
       "      <th></th>\n",
       "      <th></th>\n",
       "      <th></th>\n",
       "      <th></th>\n",
       "      <th></th>\n",
       "      <th></th>\n",
       "      <th></th>\n",
       "      <th></th>\n",
       "    </tr>\n",
       "  </thead>\n",
       "  <tbody>\n",
       "    <tr>\n",
       "      <th>Finland</th>\n",
       "      <td>Western Europe</td>\n",
       "      <td>7.842</td>\n",
       "      <td>10.775</td>\n",
       "      <td>0.954</td>\n",
       "      <td>72.0</td>\n",
       "      <td>0.949</td>\n",
       "      <td>-0.098</td>\n",
       "      <td>0.186</td>\n",
       "      <td>High level trust in institutions</td>\n",
       "    </tr>\n",
       "    <tr>\n",
       "      <th>Denmark</th>\n",
       "      <td>Western Europe</td>\n",
       "      <td>7.620</td>\n",
       "      <td>10.933</td>\n",
       "      <td>0.954</td>\n",
       "      <td>72.7</td>\n",
       "      <td>0.946</td>\n",
       "      <td>0.030</td>\n",
       "      <td>0.179</td>\n",
       "      <td>High level trust in institutions</td>\n",
       "    </tr>\n",
       "  </tbody>\n",
       "</table>\n",
       "</div>"
      ],
      "text/plain": [
       "             Regional indicator  Ladder score  Logged GDP per capita  \\\n",
       "Country name                                                           \n",
       "Finland          Western Europe         7.842                 10.775   \n",
       "Denmark          Western Europe         7.620                 10.933   \n",
       "\n",
       "              Social support  Healthy life expectancy  \\\n",
       "Country name                                            \n",
       "Finland                0.954                     72.0   \n",
       "Denmark                0.954                     72.7   \n",
       "\n",
       "              Freedom to make life choices  Generosity  \\\n",
       "Country name                                             \n",
       "Finland                              0.949      -0.098   \n",
       "Denmark                              0.946       0.030   \n",
       "\n",
       "              Perceptions of corruption             trust in institutions  \n",
       "Country name                                                               \n",
       "Finland                           0.186  High level trust in institutions  \n",
       "Denmark                           0.179  High level trust in institutions  "
      ]
     },
     "execution_count": 25,
     "metadata": {},
     "output_type": "execute_result"
    }
   ],
   "source": [
    "df1.head(2)"
   ]
  },
  {
   "cell_type": "code",
   "execution_count": 26,
   "metadata": {},
   "outputs": [
    {
     "data": {
      "text/plain": [
       "Sub-Saharan Africa                    36\n",
       "Western Europe                        21\n",
       "Latin America and Caribbean           20\n",
       "Middle East and North Africa          17\n",
       "Central and Eastern Europe            17\n",
       "Commonwealth of Independent States    12\n",
       "Southeast Asia                         9\n",
       "South Asia                             7\n",
       "East Asia                              6\n",
       "North America and ANZ                  4\n",
       "Name: Regional indicator, dtype: int64"
      ]
     },
     "execution_count": 26,
     "metadata": {},
     "output_type": "execute_result"
    }
   ],
   "source": [
    "df1['Regional indicator'].value_counts()"
   ]
  },
  {
   "cell_type": "code",
   "execution_count": 27,
   "metadata": {},
   "outputs": [
    {
     "data": {
      "text/plain": [
       "Country name\n",
       "Finland               West Europe\n",
       "Denmark               West Europe\n",
       "Switzerland           West Europe\n",
       "Iceland               West Europe\n",
       "Netherlands           West Europe\n",
       "                      ...        \n",
       "Lesotho        Sub-Saharan Africa\n",
       "Botswana       Sub-Saharan Africa\n",
       "Rwanda         Sub-Saharan Africa\n",
       "Zimbabwe       Sub-Saharan Africa\n",
       "Afghanistan            South Asia\n",
       "Name: Regional indicator, Length: 149, dtype: object"
      ]
     },
     "execution_count": 27,
     "metadata": {},
     "output_type": "execute_result"
    }
   ],
   "source": [
    "df1['Regional indicator'].replace({'Western Europe':'West Europe'})"
   ]
  },
  {
   "cell_type": "markdown",
   "metadata": {},
   "source": [
    "#### **str()**"
   ]
  },
  {
   "cell_type": "code",
   "execution_count": 28,
   "metadata": {},
   "outputs": [],
   "source": [
    "# long method:\n",
    "df2 = df1.copy()"
   ]
  },
  {
   "cell_type": "code",
   "execution_count": 29,
   "metadata": {},
   "outputs": [
    {
     "data": {
      "text/plain": [
       "Index(['Regional indicator', 'Ladder score', 'Logged GDP per capita',\n",
       "       'Social support', 'Healthy life expectancy',\n",
       "       'Freedom to make life choices', 'Generosity',\n",
       "       'Perceptions of corruption', 'trust in institutions'],\n",
       "      dtype='object')"
      ]
     },
     "execution_count": 29,
     "metadata": {},
     "output_type": "execute_result"
    }
   ],
   "source": [
    "df2.columns"
   ]
  },
  {
   "cell_type": "code",
   "execution_count": 30,
   "metadata": {},
   "outputs": [
    {
     "data": {
      "text/html": [
       "<div>\n",
       "<style scoped>\n",
       "    .dataframe tbody tr th:only-of-type {\n",
       "        vertical-align: middle;\n",
       "    }\n",
       "\n",
       "    .dataframe tbody tr th {\n",
       "        vertical-align: top;\n",
       "    }\n",
       "\n",
       "    .dataframe thead th {\n",
       "        text-align: right;\n",
       "    }\n",
       "</style>\n",
       "<table border=\"1\" class=\"dataframe\">\n",
       "  <thead>\n",
       "    <tr style=\"text-align: right;\">\n",
       "      <th></th>\n",
       "      <th>REGIONAL INDICATOR</th>\n",
       "      <th>LADDER SCORE</th>\n",
       "      <th>LOGGED GDP PER CAPITA</th>\n",
       "      <th>SOCIAL SUPPORT</th>\n",
       "      <th>HEALTHY LIFE EXPECTANCY</th>\n",
       "      <th>FREEDOM TO MAKE LIFE CHOICES</th>\n",
       "      <th>GENEROSITY</th>\n",
       "      <th>PERCEPTIONS OF CORRUPTION</th>\n",
       "      <th>TRUST IN INSTITUTIONS</th>\n",
       "    </tr>\n",
       "    <tr>\n",
       "      <th>Country name</th>\n",
       "      <th></th>\n",
       "      <th></th>\n",
       "      <th></th>\n",
       "      <th></th>\n",
       "      <th></th>\n",
       "      <th></th>\n",
       "      <th></th>\n",
       "      <th></th>\n",
       "      <th></th>\n",
       "    </tr>\n",
       "  </thead>\n",
       "  <tbody>\n",
       "    <tr>\n",
       "      <th>Finland</th>\n",
       "      <td>Western Europe</td>\n",
       "      <td>7.842</td>\n",
       "      <td>10.775</td>\n",
       "      <td>0.954</td>\n",
       "      <td>72.0</td>\n",
       "      <td>0.949</td>\n",
       "      <td>-0.098</td>\n",
       "      <td>0.186</td>\n",
       "      <td>High level trust in institutions</td>\n",
       "    </tr>\n",
       "    <tr>\n",
       "      <th>Denmark</th>\n",
       "      <td>Western Europe</td>\n",
       "      <td>7.620</td>\n",
       "      <td>10.933</td>\n",
       "      <td>0.954</td>\n",
       "      <td>72.7</td>\n",
       "      <td>0.946</td>\n",
       "      <td>0.030</td>\n",
       "      <td>0.179</td>\n",
       "      <td>High level trust in institutions</td>\n",
       "    </tr>\n",
       "  </tbody>\n",
       "</table>\n",
       "</div>"
      ],
      "text/plain": [
       "             REGIONAL INDICATOR  LADDER SCORE  LOGGED GDP PER CAPITA  \\\n",
       "Country name                                                           \n",
       "Finland          Western Europe         7.842                 10.775   \n",
       "Denmark          Western Europe         7.620                 10.933   \n",
       "\n",
       "              SOCIAL SUPPORT  HEALTHY LIFE EXPECTANCY  \\\n",
       "Country name                                            \n",
       "Finland                0.954                     72.0   \n",
       "Denmark                0.954                     72.7   \n",
       "\n",
       "              FREEDOM TO MAKE LIFE CHOICES  GENEROSITY  \\\n",
       "Country name                                             \n",
       "Finland                              0.949      -0.098   \n",
       "Denmark                              0.946       0.030   \n",
       "\n",
       "              PERCEPTIONS OF CORRUPTION             TRUST IN INSTITUTIONS  \n",
       "Country name                                                               \n",
       "Finland                           0.186  High level trust in institutions  \n",
       "Denmark                           0.179  High level trust in institutions  "
      ]
     },
     "execution_count": 30,
     "metadata": {},
     "output_type": "execute_result"
    }
   ],
   "source": [
    "df2.columns=[x.upper() for x in df2.columns]\n",
    "df2.head(2)"
   ]
  },
  {
   "cell_type": "code",
   "execution_count": 31,
   "metadata": {},
   "outputs": [
    {
     "data": {
      "text/html": [
       "<div>\n",
       "<style scoped>\n",
       "    .dataframe tbody tr th:only-of-type {\n",
       "        vertical-align: middle;\n",
       "    }\n",
       "\n",
       "    .dataframe tbody tr th {\n",
       "        vertical-align: top;\n",
       "    }\n",
       "\n",
       "    .dataframe thead th {\n",
       "        text-align: right;\n",
       "    }\n",
       "</style>\n",
       "<table border=\"1\" class=\"dataframe\">\n",
       "  <thead>\n",
       "    <tr style=\"text-align: right;\">\n",
       "      <th></th>\n",
       "      <th>Regional Indicator</th>\n",
       "      <th>Ladder Score</th>\n",
       "      <th>Logged Gdp Per Capita</th>\n",
       "      <th>Social Support</th>\n",
       "      <th>Healthy Life Expectancy</th>\n",
       "      <th>Freedom To Make Life Choices</th>\n",
       "      <th>Generosity</th>\n",
       "      <th>Perceptions Of Corruption</th>\n",
       "      <th>Trust In Institutions</th>\n",
       "    </tr>\n",
       "    <tr>\n",
       "      <th>Country name</th>\n",
       "      <th></th>\n",
       "      <th></th>\n",
       "      <th></th>\n",
       "      <th></th>\n",
       "      <th></th>\n",
       "      <th></th>\n",
       "      <th></th>\n",
       "      <th></th>\n",
       "      <th></th>\n",
       "    </tr>\n",
       "  </thead>\n",
       "  <tbody>\n",
       "    <tr>\n",
       "      <th>Finland</th>\n",
       "      <td>Western Europe</td>\n",
       "      <td>7.842</td>\n",
       "      <td>10.775</td>\n",
       "      <td>0.954</td>\n",
       "      <td>72.0</td>\n",
       "      <td>0.949</td>\n",
       "      <td>-0.098</td>\n",
       "      <td>0.186</td>\n",
       "      <td>High level trust in institutions</td>\n",
       "    </tr>\n",
       "    <tr>\n",
       "      <th>Denmark</th>\n",
       "      <td>Western Europe</td>\n",
       "      <td>7.620</td>\n",
       "      <td>10.933</td>\n",
       "      <td>0.954</td>\n",
       "      <td>72.7</td>\n",
       "      <td>0.946</td>\n",
       "      <td>0.030</td>\n",
       "      <td>0.179</td>\n",
       "      <td>High level trust in institutions</td>\n",
       "    </tr>\n",
       "  </tbody>\n",
       "</table>\n",
       "</div>"
      ],
      "text/plain": [
       "             Regional Indicator  Ladder Score  Logged Gdp Per Capita  \\\n",
       "Country name                                                           \n",
       "Finland          Western Europe         7.842                 10.775   \n",
       "Denmark          Western Europe         7.620                 10.933   \n",
       "\n",
       "              Social Support  Healthy Life Expectancy  \\\n",
       "Country name                                            \n",
       "Finland                0.954                     72.0   \n",
       "Denmark                0.954                     72.7   \n",
       "\n",
       "              Freedom To Make Life Choices  Generosity  \\\n",
       "Country name                                             \n",
       "Finland                              0.949      -0.098   \n",
       "Denmark                              0.946       0.030   \n",
       "\n",
       "              Perceptions Of Corruption             Trust In Institutions  \n",
       "Country name                                                               \n",
       "Finland                           0.186  High level trust in institutions  \n",
       "Denmark                           0.179  High level trust in institutions  "
      ]
     },
     "execution_count": 31,
     "metadata": {},
     "output_type": "execute_result"
    }
   ],
   "source": [
    "df2.columns= df2.columns.str.title()\n",
    "df2.head(2)  "
   ]
  },
  {
   "cell_type": "code",
   "execution_count": 33,
   "metadata": {},
   "outputs": [
    {
     "data": {
      "text/plain": [
       "Sub-Saharan Africa                    36\n",
       "Western Europe                        21\n",
       "Latin America and Caribbean           20\n",
       "Middle East and North Africa          17\n",
       "Central and Eastern Europe            17\n",
       "Commonwealth of Independent States    12\n",
       "Southeast Asia                         9\n",
       "South Asia                             7\n",
       "East Asia                              6\n",
       "North America and ANZ                  4\n",
       "Name: Regional Indicator, dtype: int64"
      ]
     },
     "execution_count": 33,
     "metadata": {},
     "output_type": "execute_result"
    }
   ],
   "source": [
    "df2['Regional Indicator'].value_counts()"
   ]
  },
  {
   "cell_type": "code",
   "execution_count": 34,
   "metadata": {},
   "outputs": [
    {
     "data": {
      "text/plain": [
       "Country name\n",
       "Finland        False\n",
       "Denmark        False\n",
       "Switzerland    False\n",
       "Iceland        False\n",
       "Netherlands    False\n",
       "               ...  \n",
       "Lesotho        False\n",
       "Botswana       False\n",
       "Rwanda         False\n",
       "Zimbabwe       False\n",
       "Afghanistan     True\n",
       "Name: Regional Indicator, Length: 149, dtype: bool"
      ]
     },
     "execution_count": 34,
     "metadata": {},
     "output_type": "execute_result"
    }
   ],
   "source": [
    "df2['Regional Indicator'].str.contains('Asia', na=False, case=False)"
   ]
  },
  {
   "cell_type": "code",
   "execution_count": null,
   "metadata": {},
   "outputs": [],
   "source": []
  },
  {
   "cell_type": "code",
   "execution_count": null,
   "metadata": {},
   "outputs": [],
   "source": []
  },
  {
   "cell_type": "markdown",
   "metadata": {},
   "source": [
    "### Exercise\n",
    "\n",
    "- By using 'Working Language.csv' sample data,\n",
    "- How many developers use Python as a working language in their jobs\n",
    "- Number of people in each country uses Python as a working language in their jobs\n",
    "- How many people in your country of interest uses Python as a working language in their jobs"
   ]
  },
  {
   "cell_type": "code",
   "execution_count": null,
   "metadata": {},
   "outputs": [],
   "source": []
  },
  {
   "cell_type": "code",
   "execution_count": null,
   "metadata": {},
   "outputs": [],
   "source": []
  },
  {
   "cell_type": "code",
   "execution_count": null,
   "metadata": {},
   "outputs": [],
   "source": []
  },
  {
   "cell_type": "code",
   "execution_count": null,
   "metadata": {},
   "outputs": [],
   "source": []
  },
  {
   "cell_type": "code",
   "execution_count": 2,
   "metadata": {},
   "outputs": [],
   "source": [
    "#nlargest\n"
   ]
  },
  {
   "cell_type": "code",
   "execution_count": 3,
   "metadata": {},
   "outputs": [],
   "source": [
    "# nsmallest"
   ]
  },
  {
   "cell_type": "code",
   "execution_count": null,
   "metadata": {},
   "outputs": [],
   "source": []
  },
  {
   "cell_type": "code",
   "execution_count": null,
   "metadata": {},
   "outputs": [],
   "source": []
  },
  {
   "cell_type": "code",
   "execution_count": null,
   "metadata": {},
   "outputs": [],
   "source": []
  },
  {
   "cell_type": "code",
   "execution_count": null,
   "metadata": {},
   "outputs": [],
   "source": []
  },
  {
   "cell_type": "code",
   "execution_count": null,
   "metadata": {},
   "outputs": [],
   "source": []
  },
  {
   "cell_type": "code",
   "execution_count": null,
   "metadata": {},
   "outputs": [],
   "source": []
  },
  {
   "cell_type": "code",
   "execution_count": null,
   "metadata": {},
   "outputs": [],
   "source": []
  },
  {
   "cell_type": "markdown",
   "metadata": {},
   "source": [
    "### Missing DATA"
   ]
  },
  {
   "cell_type": "code",
   "execution_count": 37,
   "metadata": {},
   "outputs": [],
   "source": [
    "friends = {\n",
    "    'first': ['Mike', 'Kevin', 'Mary', 'John', np.nan, None, 'NA'], \n",
    "    'last': ['Brown', 'Cline', 'Sunderland', 'Cliff', np.nan, np.nan, 'Missing'], \n",
    "    'email': ['mikebrown@gmail.com', 'kevincline@email.com', 'Johncliff@email.com', None, np.nan, 'private@email.com', 'NA'],\n",
    "    'age': ['27', '45', '54', '37', None, None, 'Missing']\n",
    "}"
   ]
  },
  {
   "cell_type": "code",
   "execution_count": 38,
   "metadata": {},
   "outputs": [
    {
     "data": {
      "text/html": [
       "<div>\n",
       "<style scoped>\n",
       "    .dataframe tbody tr th:only-of-type {\n",
       "        vertical-align: middle;\n",
       "    }\n",
       "\n",
       "    .dataframe tbody tr th {\n",
       "        vertical-align: top;\n",
       "    }\n",
       "\n",
       "    .dataframe thead th {\n",
       "        text-align: right;\n",
       "    }\n",
       "</style>\n",
       "<table border=\"1\" class=\"dataframe\">\n",
       "  <thead>\n",
       "    <tr style=\"text-align: right;\">\n",
       "      <th></th>\n",
       "      <th>first</th>\n",
       "      <th>last</th>\n",
       "      <th>email</th>\n",
       "      <th>age</th>\n",
       "    </tr>\n",
       "  </thead>\n",
       "  <tbody>\n",
       "    <tr>\n",
       "      <th>0</th>\n",
       "      <td>Mike</td>\n",
       "      <td>Brown</td>\n",
       "      <td>mikebrown@gmail.com</td>\n",
       "      <td>27</td>\n",
       "    </tr>\n",
       "    <tr>\n",
       "      <th>1</th>\n",
       "      <td>Kevin</td>\n",
       "      <td>Cline</td>\n",
       "      <td>kevincline@email.com</td>\n",
       "      <td>45</td>\n",
       "    </tr>\n",
       "    <tr>\n",
       "      <th>2</th>\n",
       "      <td>Mary</td>\n",
       "      <td>Sunderland</td>\n",
       "      <td>Johncliff@email.com</td>\n",
       "      <td>54</td>\n",
       "    </tr>\n",
       "    <tr>\n",
       "      <th>3</th>\n",
       "      <td>John</td>\n",
       "      <td>Cliff</td>\n",
       "      <td>None</td>\n",
       "      <td>37</td>\n",
       "    </tr>\n",
       "    <tr>\n",
       "      <th>4</th>\n",
       "      <td>NaN</td>\n",
       "      <td>NaN</td>\n",
       "      <td>NaN</td>\n",
       "      <td>None</td>\n",
       "    </tr>\n",
       "    <tr>\n",
       "      <th>5</th>\n",
       "      <td>None</td>\n",
       "      <td>NaN</td>\n",
       "      <td>private@email.com</td>\n",
       "      <td>None</td>\n",
       "    </tr>\n",
       "    <tr>\n",
       "      <th>6</th>\n",
       "      <td>NA</td>\n",
       "      <td>Missing</td>\n",
       "      <td>NA</td>\n",
       "      <td>Missing</td>\n",
       "    </tr>\n",
       "  </tbody>\n",
       "</table>\n",
       "</div>"
      ],
      "text/plain": [
       "   first        last                 email      age\n",
       "0   Mike       Brown   mikebrown@gmail.com       27\n",
       "1  Kevin       Cline  kevincline@email.com       45\n",
       "2   Mary  Sunderland   Johncliff@email.com       54\n",
       "3   John       Cliff                  None       37\n",
       "4    NaN         NaN                   NaN     None\n",
       "5   None         NaN     private@email.com     None\n",
       "6     NA     Missing                    NA  Missing"
      ]
     },
     "execution_count": 38,
     "metadata": {},
     "output_type": "execute_result"
    }
   ],
   "source": [
    "df_2= pd.DataFrame(friends)\n",
    "df_2"
   ]
  },
  {
   "cell_type": "code",
   "execution_count": 39,
   "metadata": {},
   "outputs": [
    {
     "data": {
      "text/plain": [
       "first    2\n",
       "last     2\n",
       "email    2\n",
       "age      2\n",
       "dtype: int64"
      ]
     },
     "execution_count": 39,
     "metadata": {},
     "output_type": "execute_result"
    }
   ],
   "source": [
    "df_2.isnull().sum()"
   ]
  },
  {
   "cell_type": "code",
   "execution_count": null,
   "metadata": {},
   "outputs": [],
   "source": []
  },
  {
   "cell_type": "markdown",
   "metadata": {},
   "source": [
    "`dropna()`"
   ]
  },
  {
   "cell_type": "code",
   "execution_count": 40,
   "metadata": {},
   "outputs": [
    {
     "data": {
      "text/html": [
       "<div>\n",
       "<style scoped>\n",
       "    .dataframe tbody tr th:only-of-type {\n",
       "        vertical-align: middle;\n",
       "    }\n",
       "\n",
       "    .dataframe tbody tr th {\n",
       "        vertical-align: top;\n",
       "    }\n",
       "\n",
       "    .dataframe thead th {\n",
       "        text-align: right;\n",
       "    }\n",
       "</style>\n",
       "<table border=\"1\" class=\"dataframe\">\n",
       "  <thead>\n",
       "    <tr style=\"text-align: right;\">\n",
       "      <th></th>\n",
       "      <th>first</th>\n",
       "      <th>last</th>\n",
       "      <th>email</th>\n",
       "      <th>age</th>\n",
       "    </tr>\n",
       "  </thead>\n",
       "  <tbody>\n",
       "    <tr>\n",
       "      <th>0</th>\n",
       "      <td>Mike</td>\n",
       "      <td>Brown</td>\n",
       "      <td>mikebrown@gmail.com</td>\n",
       "      <td>27</td>\n",
       "    </tr>\n",
       "    <tr>\n",
       "      <th>1</th>\n",
       "      <td>Kevin</td>\n",
       "      <td>Cline</td>\n",
       "      <td>kevincline@email.com</td>\n",
       "      <td>45</td>\n",
       "    </tr>\n",
       "    <tr>\n",
       "      <th>2</th>\n",
       "      <td>Mary</td>\n",
       "      <td>Sunderland</td>\n",
       "      <td>Johncliff@email.com</td>\n",
       "      <td>54</td>\n",
       "    </tr>\n",
       "    <tr>\n",
       "      <th>6</th>\n",
       "      <td>NA</td>\n",
       "      <td>Missing</td>\n",
       "      <td>NA</td>\n",
       "      <td>Missing</td>\n",
       "    </tr>\n",
       "  </tbody>\n",
       "</table>\n",
       "</div>"
      ],
      "text/plain": [
       "   first        last                 email      age\n",
       "0   Mike       Brown   mikebrown@gmail.com       27\n",
       "1  Kevin       Cline  kevincline@email.com       45\n",
       "2   Mary  Sunderland   Johncliff@email.com       54\n",
       "6     NA     Missing                    NA  Missing"
      ]
     },
     "execution_count": 40,
     "metadata": {},
     "output_type": "execute_result"
    }
   ],
   "source": [
    "df_2.dropna()"
   ]
  },
  {
   "cell_type": "code",
   "execution_count": 41,
   "metadata": {},
   "outputs": [
    {
     "data": {
      "text/html": [
       "<div>\n",
       "<style scoped>\n",
       "    .dataframe tbody tr th:only-of-type {\n",
       "        vertical-align: middle;\n",
       "    }\n",
       "\n",
       "    .dataframe tbody tr th {\n",
       "        vertical-align: top;\n",
       "    }\n",
       "\n",
       "    .dataframe thead th {\n",
       "        text-align: right;\n",
       "    }\n",
       "</style>\n",
       "<table border=\"1\" class=\"dataframe\">\n",
       "  <thead>\n",
       "    <tr style=\"text-align: right;\">\n",
       "      <th></th>\n",
       "      <th>first</th>\n",
       "      <th>last</th>\n",
       "      <th>email</th>\n",
       "      <th>age</th>\n",
       "    </tr>\n",
       "  </thead>\n",
       "  <tbody>\n",
       "    <tr>\n",
       "      <th>0</th>\n",
       "      <td>Mike</td>\n",
       "      <td>Brown</td>\n",
       "      <td>mikebrown@gmail.com</td>\n",
       "      <td>27</td>\n",
       "    </tr>\n",
       "    <tr>\n",
       "      <th>1</th>\n",
       "      <td>Kevin</td>\n",
       "      <td>Cline</td>\n",
       "      <td>kevincline@email.com</td>\n",
       "      <td>45</td>\n",
       "    </tr>\n",
       "    <tr>\n",
       "      <th>2</th>\n",
       "      <td>Mary</td>\n",
       "      <td>Sunderland</td>\n",
       "      <td>Johncliff@email.com</td>\n",
       "      <td>54</td>\n",
       "    </tr>\n",
       "    <tr>\n",
       "      <th>5</th>\n",
       "      <td>None</td>\n",
       "      <td>NaN</td>\n",
       "      <td>private@email.com</td>\n",
       "      <td>None</td>\n",
       "    </tr>\n",
       "    <tr>\n",
       "      <th>6</th>\n",
       "      <td>NA</td>\n",
       "      <td>Missing</td>\n",
       "      <td>NA</td>\n",
       "      <td>Missing</td>\n",
       "    </tr>\n",
       "  </tbody>\n",
       "</table>\n",
       "</div>"
      ],
      "text/plain": [
       "   first        last                 email      age\n",
       "0   Mike       Brown   mikebrown@gmail.com       27\n",
       "1  Kevin       Cline  kevincline@email.com       45\n",
       "2   Mary  Sunderland   Johncliff@email.com       54\n",
       "5   None         NaN     private@email.com     None\n",
       "6     NA     Missing                    NA  Missing"
      ]
     },
     "execution_count": 41,
     "metadata": {},
     "output_type": "execute_result"
    }
   ],
   "source": [
    "df_2.dropna(subset=['email'])"
   ]
  },
  {
   "cell_type": "code",
   "execution_count": null,
   "metadata": {},
   "outputs": [],
   "source": [
    "('NA','Missing')--> np.nan"
   ]
  },
  {
   "cell_type": "code",
   "execution_count": 42,
   "metadata": {},
   "outputs": [],
   "source": [
    "df_2.replace('NA', np.nan, inplace=True)\n",
    "df_2.replace('Missing', np.nan, inplace=True)"
   ]
  },
  {
   "cell_type": "code",
   "execution_count": null,
   "metadata": {},
   "outputs": [],
   "source": [
    "# Or we can make new list and put it to the at front of the dataframing proceses.\n",
    "na_vals = ['Missing','NA']\n",
    "\n",
    "df = pd.read_csv('cvs file name', na_values=na_vals)"
   ]
  },
  {
   "cell_type": "code",
   "execution_count": 44,
   "metadata": {},
   "outputs": [
    {
     "data": {
      "text/plain": [
       "first    3\n",
       "last     3\n",
       "email    3\n",
       "age      3\n",
       "dtype: int64"
      ]
     },
     "execution_count": 44,
     "metadata": {},
     "output_type": "execute_result"
    }
   ],
   "source": [
    "df_2.isnull().sum()"
   ]
  },
  {
   "cell_type": "code",
   "execution_count": 45,
   "metadata": {},
   "outputs": [
    {
     "data": {
      "text/plain": [
       "0      27\n",
       "1      45\n",
       "2      54\n",
       "3      37\n",
       "4    None\n",
       "5    None\n",
       "6     NaN\n",
       "Name: age, dtype: object"
      ]
     },
     "execution_count": 45,
     "metadata": {},
     "output_type": "execute_result"
    }
   ],
   "source": [
    "df_2['age']"
   ]
  },
  {
   "cell_type": "code",
   "execution_count": null,
   "metadata": {},
   "outputs": [],
   "source": []
  },
  {
   "cell_type": "code",
   "execution_count": null,
   "metadata": {},
   "outputs": [],
   "source": []
  },
  {
   "cell_type": "markdown",
   "metadata": {},
   "source": [
    "`fillna()`"
   ]
  },
  {
   "cell_type": "code",
   "execution_count": 46,
   "metadata": {},
   "outputs": [
    {
     "data": {
      "text/plain": [
       "first    object\n",
       "last     object\n",
       "email    object\n",
       "age      object\n",
       "dtype: object"
      ]
     },
     "execution_count": 46,
     "metadata": {},
     "output_type": "execute_result"
    }
   ],
   "source": [
    "df_2.dtypes"
   ]
  },
  {
   "cell_type": "code",
   "execution_count": 47,
   "metadata": {},
   "outputs": [],
   "source": [
    "df_2['age'] = df_2['age'].astype(float)  \n"
   ]
  },
  {
   "cell_type": "code",
   "execution_count": 48,
   "metadata": {},
   "outputs": [
    {
     "data": {
      "text/plain": [
       "40.75"
      ]
     },
     "execution_count": 48,
     "metadata": {},
     "output_type": "execute_result"
    }
   ],
   "source": [
    "df_2['age'].mean()"
   ]
  },
  {
   "cell_type": "code",
   "execution_count": 49,
   "metadata": {},
   "outputs": [
    {
     "data": {
      "text/plain": [
       "0    27.00\n",
       "1    45.00\n",
       "2    54.00\n",
       "3    37.00\n",
       "4    40.75\n",
       "5    40.75\n",
       "6    40.75\n",
       "Name: age, dtype: float64"
      ]
     },
     "execution_count": 49,
     "metadata": {},
     "output_type": "execute_result"
    }
   ],
   "source": [
    "df_2['age'].fillna(40.75)"
   ]
  },
  {
   "cell_type": "code",
   "execution_count": null,
   "metadata": {},
   "outputs": [],
   "source": []
  },
  {
   "cell_type": "code",
   "execution_count": null,
   "metadata": {},
   "outputs": [],
   "source": []
  },
  {
   "cell_type": "code",
   "execution_count": null,
   "metadata": {},
   "outputs": [],
   "source": []
  },
  {
   "cell_type": "markdown",
   "metadata": {},
   "source": [
    "### **Exercise**\n",
    "#Let's make \n",
    "- Afghanistan's and Pakistan's Freedom to make life choices are missing\n",
    "- Uzbekistan's and Kyrgyzstan's ''Perceptions of corruption' are missing\n",
    "- Albania's and Croatia's 'Social support'are missing\n",
    "- Use your knowledge to solve how todeal with the missing values.\n"
   ]
  },
  {
   "cell_type": "code",
   "execution_count": 52,
   "metadata": {},
   "outputs": [],
   "source": [
    "df1.loc['Afghanistan','Freedom to make life choices']=np.nan"
   ]
  },
  {
   "cell_type": "code",
   "execution_count": 53,
   "metadata": {},
   "outputs": [
    {
     "data": {
      "text/plain": [
       "nan"
      ]
     },
     "execution_count": 53,
     "metadata": {},
     "output_type": "execute_result"
    }
   ],
   "source": [
    "df1.loc['Afghanistan','Freedom to make life choices']"
   ]
  },
  {
   "cell_type": "code",
   "execution_count": null,
   "metadata": {},
   "outputs": [],
   "source": []
  },
  {
   "cell_type": "code",
   "execution_count": null,
   "metadata": {},
   "outputs": [],
   "source": []
  },
  {
   "cell_type": "code",
   "execution_count": 65,
   "metadata": {},
   "outputs": [
    {
     "data": {
      "text/plain": [
       "'Afghanistan'"
      ]
     },
     "execution_count": 65,
     "metadata": {},
     "output_type": "execute_result"
    }
   ],
   "source": [
    "df1['Ladder score'].idxmin()"
   ]
  },
  {
   "cell_type": "code",
   "execution_count": 66,
   "metadata": {},
   "outputs": [
    {
     "data": {
      "text/plain": [
       "Regional indicator              South Asia\n",
       "Ladder score                         2.523\n",
       "Logged GDP per capita                7.695\n",
       "Social support                       0.463\n",
       "Healthy life expectancy             52.493\n",
       "Freedom to make life choices         0.382\n",
       "Generosity                          -0.102\n",
       "Perceptions of corruption            0.924\n",
       "Name: Afghanistan, dtype: object"
      ]
     },
     "execution_count": 66,
     "metadata": {},
     "output_type": "execute_result"
    }
   ],
   "source": [
    "df1.loc['Afghanistan']"
   ]
  },
  {
   "cell_type": "code",
   "execution_count": null,
   "metadata": {},
   "outputs": [],
   "source": [
    "df1.loc['Afghanistan']"
   ]
  },
  {
   "cell_type": "code",
   "execution_count": 67,
   "metadata": {},
   "outputs": [
    {
     "data": {
      "text/plain": [
       "Ladder score                     4.441857\n",
       "Logged GDP per capita            8.682571\n",
       "Social support                   0.703429\n",
       "Healthy life expectancy         62.681000\n",
       "Freedom to make life choices     0.765000\n",
       "Generosity                       0.042714\n",
       "Perceptions of corruption        0.797429\n",
       "dtype: float64"
      ]
     },
     "execution_count": 67,
     "metadata": {},
     "output_type": "execute_result"
    }
   ],
   "source": [
    "df1.groupby('Regional indicator').get_group('South Asia').mean()"
   ]
  },
  {
   "cell_type": "code",
   "execution_count": 68,
   "metadata": {},
   "outputs": [
    {
     "data": {
      "text/html": [
       "<div>\n",
       "<style scoped>\n",
       "    .dataframe tbody tr th:only-of-type {\n",
       "        vertical-align: middle;\n",
       "    }\n",
       "\n",
       "    .dataframe tbody tr th {\n",
       "        vertical-align: top;\n",
       "    }\n",
       "\n",
       "    .dataframe thead th {\n",
       "        text-align: right;\n",
       "    }\n",
       "</style>\n",
       "<table border=\"1\" class=\"dataframe\">\n",
       "  <thead>\n",
       "    <tr style=\"text-align: right;\">\n",
       "      <th></th>\n",
       "      <th>Regional indicator</th>\n",
       "      <th>Ladder score</th>\n",
       "      <th>Logged GDP per capita</th>\n",
       "      <th>Social support</th>\n",
       "      <th>Healthy life expectancy</th>\n",
       "      <th>Freedom to make life choices</th>\n",
       "      <th>Generosity</th>\n",
       "      <th>Perceptions of corruption</th>\n",
       "    </tr>\n",
       "    <tr>\n",
       "      <th>Country name</th>\n",
       "      <th></th>\n",
       "      <th></th>\n",
       "      <th></th>\n",
       "      <th></th>\n",
       "      <th></th>\n",
       "      <th></th>\n",
       "      <th></th>\n",
       "      <th></th>\n",
       "    </tr>\n",
       "  </thead>\n",
       "  <tbody>\n",
       "    <tr>\n",
       "      <th>India</th>\n",
       "      <td>South Asia</td>\n",
       "      <td>3.819</td>\n",
       "      <td>8.755</td>\n",
       "      <td>0.603</td>\n",
       "      <td>60.633</td>\n",
       "      <td>0.893</td>\n",
       "      <td>0.089</td>\n",
       "      <td>0.774</td>\n",
       "    </tr>\n",
       "    <tr>\n",
       "      <th>Bangladesh</th>\n",
       "      <td>South Asia</td>\n",
       "      <td>5.025</td>\n",
       "      <td>8.454</td>\n",
       "      <td>0.693</td>\n",
       "      <td>64.800</td>\n",
       "      <td>0.877</td>\n",
       "      <td>-0.041</td>\n",
       "      <td>0.682</td>\n",
       "    </tr>\n",
       "    <tr>\n",
       "      <th>Maldives</th>\n",
       "      <td>South Asia</td>\n",
       "      <td>5.198</td>\n",
       "      <td>9.826</td>\n",
       "      <td>0.913</td>\n",
       "      <td>70.600</td>\n",
       "      <td>0.854</td>\n",
       "      <td>0.024</td>\n",
       "      <td>0.825</td>\n",
       "    </tr>\n",
       "    <tr>\n",
       "      <th>Sri Lanka</th>\n",
       "      <td>South Asia</td>\n",
       "      <td>4.325</td>\n",
       "      <td>9.470</td>\n",
       "      <td>0.827</td>\n",
       "      <td>67.299</td>\n",
       "      <td>0.841</td>\n",
       "      <td>0.079</td>\n",
       "      <td>0.863</td>\n",
       "    </tr>\n",
       "    <tr>\n",
       "      <th>Nepal</th>\n",
       "      <td>South Asia</td>\n",
       "      <td>5.269</td>\n",
       "      <td>8.120</td>\n",
       "      <td>0.774</td>\n",
       "      <td>64.233</td>\n",
       "      <td>0.782</td>\n",
       "      <td>0.152</td>\n",
       "      <td>0.727</td>\n",
       "    </tr>\n",
       "    <tr>\n",
       "      <th>Pakistan</th>\n",
       "      <td>South Asia</td>\n",
       "      <td>4.934</td>\n",
       "      <td>8.458</td>\n",
       "      <td>0.651</td>\n",
       "      <td>58.709</td>\n",
       "      <td>0.726</td>\n",
       "      <td>0.098</td>\n",
       "      <td>0.787</td>\n",
       "    </tr>\n",
       "    <tr>\n",
       "      <th>Afghanistan</th>\n",
       "      <td>South Asia</td>\n",
       "      <td>2.523</td>\n",
       "      <td>7.695</td>\n",
       "      <td>0.463</td>\n",
       "      <td>52.493</td>\n",
       "      <td>0.382</td>\n",
       "      <td>-0.102</td>\n",
       "      <td>0.924</td>\n",
       "    </tr>\n",
       "  </tbody>\n",
       "</table>\n",
       "</div>"
      ],
      "text/plain": [
       "             Regional indicator  Ladder score  Logged GDP per capita  \\\n",
       "Country name                                                           \n",
       "India                South Asia         3.819                  8.755   \n",
       "Bangladesh           South Asia         5.025                  8.454   \n",
       "Maldives             South Asia         5.198                  9.826   \n",
       "Sri Lanka            South Asia         4.325                  9.470   \n",
       "Nepal                South Asia         5.269                  8.120   \n",
       "Pakistan             South Asia         4.934                  8.458   \n",
       "Afghanistan          South Asia         2.523                  7.695   \n",
       "\n",
       "              Social support  Healthy life expectancy  \\\n",
       "Country name                                            \n",
       "India                  0.603                   60.633   \n",
       "Bangladesh             0.693                   64.800   \n",
       "Maldives               0.913                   70.600   \n",
       "Sri Lanka              0.827                   67.299   \n",
       "Nepal                  0.774                   64.233   \n",
       "Pakistan               0.651                   58.709   \n",
       "Afghanistan            0.463                   52.493   \n",
       "\n",
       "              Freedom to make life choices  Generosity  \\\n",
       "Country name                                             \n",
       "India                                0.893       0.089   \n",
       "Bangladesh                           0.877      -0.041   \n",
       "Maldives                             0.854       0.024   \n",
       "Sri Lanka                            0.841       0.079   \n",
       "Nepal                                0.782       0.152   \n",
       "Pakistan                             0.726       0.098   \n",
       "Afghanistan                          0.382      -0.102   \n",
       "\n",
       "              Perceptions of corruption  \n",
       "Country name                             \n",
       "India                             0.774  \n",
       "Bangladesh                        0.682  \n",
       "Maldives                          0.825  \n",
       "Sri Lanka                         0.863  \n",
       "Nepal                             0.727  \n",
       "Pakistan                          0.787  \n",
       "Afghanistan                       0.924  "
      ]
     },
     "execution_count": 68,
     "metadata": {},
     "output_type": "execute_result"
    }
   ],
   "source": [
    "df1.groupby('Regional indicator').get_group('South Asia').sort_values(by='Freedom to make life choices', ascending=False)"
   ]
  },
  {
   "cell_type": "code",
   "execution_count": null,
   "metadata": {},
   "outputs": [],
   "source": []
  },
  {
   "cell_type": "code",
   "execution_count": null,
   "metadata": {},
   "outputs": [],
   "source": []
  },
  {
   "cell_type": "code",
   "execution_count": null,
   "metadata": {},
   "outputs": [],
   "source": []
  }
 ],
 "metadata": {
  "kernelspec": {
   "display_name": "Python 3",
   "language": "python",
   "name": "python3"
  },
  "language_info": {
   "codemirror_mode": {
    "name": "ipython",
    "version": 3
   },
   "file_extension": ".py",
   "mimetype": "text/x-python",
   "name": "python",
   "nbconvert_exporter": "python",
   "pygments_lexer": "ipython3",
   "version": "3.8.5"
  }
 },
 "nbformat": 4,
 "nbformat_minor": 5
}
