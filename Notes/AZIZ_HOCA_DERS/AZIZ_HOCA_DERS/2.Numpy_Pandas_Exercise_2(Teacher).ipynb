{
 "cells": [
  {
   "cell_type": "code",
   "execution_count": 1,
   "id": "e2627ad6-bbb3-41b6-9a26-67e9a42ec848",
   "metadata": {},
   "outputs": [],
   "source": [
    "import numpy as np\n",
    "import pandas as pd"
   ]
  },
  {
   "cell_type": "markdown",
   "id": "72b5380a-1aa6-49e8-b8f5-4c93100c5fb1",
   "metadata": {},
   "source": [
    "## **NUMPY**"
   ]
  },
  {
   "cell_type": "markdown",
   "id": "bd2814b6-5327-4f00-99e8-d337be49ed66",
   "metadata": {},
   "source": [
    "#### **Making a Numpy Array** (From the list, Arrange, Zeros, Ones, Linspace, Random)\n",
    "#### **Methods with Nump Arrays**  \n",
    "#### **Indexing & Slicing**   \n",
    "#### **Conditional Selection**   \n",
    "#### **Numpy Operations**"
   ]
  },
  {
   "cell_type": "markdown",
   "id": "252413ff-43a5-407a-a1e5-c52d3a676536",
   "metadata": {},
   "source": [
    "#### **Making a Numpy Array**"
   ]
  },
  {
   "cell_type": "markdown",
   "id": "665fdbe2-a313-47dd-b2d6-780cc2e4248d",
   "metadata": {},
   "source": [
    "##### -From the list"
   ]
  },
  {
   "cell_type": "code",
   "execution_count": 53,
   "id": "40eae9af-b883-4720-95d5-1f51c5cf6c2e",
   "metadata": {},
   "outputs": [
    {
     "data": {
      "text/plain": [
       "array([1, 2, 3, 4, 5])"
      ]
     },
     "execution_count": 53,
     "metadata": {},
     "output_type": "execute_result"
    }
   ],
   "source": [
    "my_list = [1,2,3,4,5]\n",
    "\n",
    "my_arr = np.array(my_list)\n",
    "my_arr"
   ]
  },
  {
   "cell_type": "code",
   "execution_count": 54,
   "id": "e895eeaf-bcc6-4086-845b-44d6a78f18ba",
   "metadata": {},
   "outputs": [
    {
     "data": {
      "text/plain": [
       "numpy.ndarray"
      ]
     },
     "execution_count": 54,
     "metadata": {},
     "output_type": "execute_result"
    }
   ],
   "source": [
    "type(my_arr)"
   ]
  },
  {
   "cell_type": "code",
   "execution_count": 55,
   "id": "76b22110-9628-4f35-99c5-8fd71d9feb9a",
   "metadata": {},
   "outputs": [
    {
     "data": {
      "text/plain": [
       "array([[ 1,  2,  3],\n",
       "       [ 4,  5,  6],\n",
       "       [ 7,  8,  9],\n",
       "       [10, 11, 12]])"
      ]
     },
     "execution_count": 55,
     "metadata": {},
     "output_type": "execute_result"
    }
   ],
   "source": [
    "my_matrix_list = [[1,2,3],[4,5,6],[7,8,9],[10,11,12]]\n",
    "\n",
    "my_matrix_arr = np.array(my_matrix_list)\n",
    "\n",
    "my_matrix_arr"
   ]
  },
  {
   "cell_type": "code",
   "execution_count": 56,
   "id": "9b2d3f13-1577-4ebb-ac53-31faae3f162d",
   "metadata": {},
   "outputs": [
    {
     "data": {
      "text/plain": [
       "numpy.ndarray"
      ]
     },
     "execution_count": 56,
     "metadata": {},
     "output_type": "execute_result"
    }
   ],
   "source": [
    "type(my_matrix_arr)"
   ]
  },
  {
   "cell_type": "markdown",
   "id": "ef073c1f-40f3-48de-b06a-dceadb138c7a",
   "metadata": {},
   "source": [
    "#### -Arrange ile Numpy Array olusturma"
   ]
  },
  {
   "cell_type": "code",
   "execution_count": 57,
   "id": "1324607d-a066-4bd3-a891-801256f1eda6",
   "metadata": {},
   "outputs": [
    {
     "data": {
      "text/plain": [
       "array([ 0,  2,  4,  6,  8, 10, 12, 14, 16, 18, 20, 22, 24, 26, 28])"
      ]
     },
     "execution_count": 57,
     "metadata": {},
     "output_type": "execute_result"
    }
   ],
   "source": [
    "np.arange(0,30,2)"
   ]
  },
  {
   "cell_type": "markdown",
   "id": "81a7cb1b-f0cc-4e48-89e5-67ce2491c60a",
   "metadata": {},
   "source": [
    "#### -Zeros ile Numpy Array olusturma"
   ]
  },
  {
   "cell_type": "code",
   "execution_count": 58,
   "id": "ad6d8594-d6ca-432f-ac6b-62b844b8e860",
   "metadata": {},
   "outputs": [
    {
     "data": {
      "text/plain": [
       "array([[0., 0., 0.],\n",
       "       [0., 0., 0.],\n",
       "       [0., 0., 0.],\n",
       "       [0., 0., 0.]])"
      ]
     },
     "execution_count": 58,
     "metadata": {},
     "output_type": "execute_result"
    }
   ],
   "source": [
    "np.zeros((4,3))"
   ]
  },
  {
   "cell_type": "markdown",
   "id": "9cc9a3bf-89ce-475a-b78b-4745bf097794",
   "metadata": {},
   "source": [
    "#### -Ones ile Numpy Array olusturma"
   ]
  },
  {
   "cell_type": "code",
   "execution_count": 59,
   "id": "bfb556ca-8949-488f-81c0-ef538311bec6",
   "metadata": {},
   "outputs": [
    {
     "data": {
      "text/plain": [
       "array([[1., 1., 1., 1., 1.],\n",
       "       [1., 1., 1., 1., 1.]])"
      ]
     },
     "execution_count": 59,
     "metadata": {},
     "output_type": "execute_result"
    }
   ],
   "source": [
    "np.ones ((2,5))"
   ]
  },
  {
   "cell_type": "markdown",
   "id": "590519a6-c4e1-4738-b271-5043d61bf401",
   "metadata": {},
   "source": [
    "#### -Linspace ile Numpy Array olusturma"
   ]
  },
  {
   "cell_type": "code",
   "execution_count": 61,
   "id": "08bcdf8b-4210-4191-a544-a1ab60a33aa3",
   "metadata": {},
   "outputs": [
    {
     "data": {
      "text/plain": [
       "array([ 0. ,  2.5,  5. ,  7.5, 10. ])"
      ]
     },
     "execution_count": 61,
     "metadata": {},
     "output_type": "execute_result"
    }
   ],
   "source": [
    "# Gives us evenly space between start and stop(inclusive)  numbers by given number. In our example we want 4 linearly spaced even number\n",
    "\n",
    "np.linspace (0,10,5)"
   ]
  },
  {
   "cell_type": "markdown",
   "id": "b56f6840-727e-4ea9-a41d-1f0e330d7759",
   "metadata": {},
   "source": [
    "#### -Random ile Numpy Array olusturma"
   ]
  },
  {
   "cell_type": "code",
   "execution_count": 62,
   "id": "23c6cb8b-d689-4c3a-83f7-4d09cbdf24b7",
   "metadata": {},
   "outputs": [
    {
     "data": {
      "text/plain": [
       "array([[0.28450595, 0.95354676, 0.47130458, 0.90762052, 0.43187303],\n",
       "       [0.94959952, 0.66429008, 0.19741991, 0.35968128, 0.41359316],\n",
       "       [0.38574343, 0.57022827, 0.25029541, 0.1443937 , 0.82981232],\n",
       "       [0.60773232, 0.88965575, 0.67183685, 0.49264186, 0.33502823]])"
      ]
     },
     "execution_count": 62,
     "metadata": {},
     "output_type": "execute_result"
    }
   ],
   "source": [
    "# Gives us random numbers between given row and column number.\n",
    "\n",
    "np.random.rand (4,5)"
   ]
  },
  {
   "cell_type": "code",
   "execution_count": 63,
   "id": "5a2f32cf-3795-444a-9796-c56d11c63fd0",
   "metadata": {},
   "outputs": [
    {
     "data": {
      "text/plain": [
       "array([[-0.84031369, -0.49738333,  0.40537678],\n",
       "       [ 1.7072363 , -1.67890346,  0.06545052]])"
      ]
     },
     "execution_count": 63,
     "metadata": {},
     "output_type": "execute_result"
    }
   ],
   "source": [
    "# Gives us a number in the normal distribution, for that number mostly close to 0\n",
    "\n",
    "np.random.randn(2,3)"
   ]
  },
  {
   "cell_type": "code",
   "execution_count": 64,
   "id": "45d9a6f3-31ae-482e-8599-a103ee293b94",
   "metadata": {},
   "outputs": [
    {
     "data": {
      "text/plain": [
       "array([50, 62, 20, 31, 26])"
      ]
     },
     "execution_count": 64,
     "metadata": {},
     "output_type": "execute_result"
    }
   ],
   "source": [
    "# Gives us randomly chosen integer between the given numbers, stop is exclusive by requested number\n",
    "# In our case, we want number between 0 and 101, not inclusive, 5 random integer numbers\n",
    "\n",
    "np.random.randint(0,101,5)"
   ]
  },
  {
   "cell_type": "code",
   "execution_count": 65,
   "id": "50dd7217-1b85-4968-8e04-ffa1b316cc1c",
   "metadata": {},
   "outputs": [
    {
     "data": {
      "text/plain": [
       "array([[ 81,  25, 100,  44,  79],\n",
       "       [ 76,  53,  82,  24,  20],\n",
       "       [  7,   1,  38,  50,  91],\n",
       "       [ 74,   6,  88,  75,  46]])"
      ]
     },
     "execution_count": 65,
     "metadata": {},
     "output_type": "execute_result"
    }
   ],
   "source": [
    "# Same logic, but this time gives us 4 by 5 array with random numbers\n",
    "\n",
    "np.random.randint(0,101,(4,5))"
   ]
  },
  {
   "cell_type": "code",
   "execution_count": 66,
   "id": "9c704738-9c0c-4459-9573-b44c94e5c9d1",
   "metadata": {},
   "outputs": [
    {
     "data": {
      "text/plain": [
       "array([51, 92, 14, 71, 60, 20, 82])"
      ]
     },
     "execution_count": 66,
     "metadata": {},
     "output_type": "execute_result"
    }
   ],
   "source": [
    "# If we want to get same random set we use seed  with the random number in the same jupyter cell\n",
    "\n",
    "np.random.seed(42)\n",
    "\n",
    "np.random.randint(0, 101,7)"
   ]
  },
  {
   "cell_type": "code",
   "execution_count": 67,
   "id": "ae69b493-fb03-445f-a6ec-4c4872fc3bc3",
   "metadata": {},
   "outputs": [],
   "source": [
    "# As seen above, as long as we use seed and random number request in the same cell we get same set of numbers."
   ]
  },
  {
   "cell_type": "markdown",
   "id": "a97007c9-c85c-4b03-b1a2-a9fa9ee611f8",
   "metadata": {},
   "source": [
    "### **Methods with Numpy Arrays**"
   ]
  },
  {
   "cell_type": "markdown",
   "id": "b4400b0b-1c21-4f59-85d0-63ab1cac7c0e",
   "metadata": {},
   "source": [
    "#### **reshape**"
   ]
  },
  {
   "cell_type": "code",
   "execution_count": 68,
   "id": "eb44eed2-5fb3-407e-a9e1-2be6a4224cda",
   "metadata": {},
   "outputs": [
    {
     "data": {
      "text/plain": [
       "array([ 0,  1,  2,  3,  4,  5,  6,  7,  8,  9, 10, 11, 12, 13, 14, 15, 16,\n",
       "       17, 18, 19, 20, 21, 22, 23, 24])"
      ]
     },
     "execution_count": 68,
     "metadata": {},
     "output_type": "execute_result"
    }
   ],
   "source": [
    "arr = np.arange(0,25)\n",
    "arr"
   ]
  },
  {
   "cell_type": "code",
   "execution_count": 69,
   "id": "3bffa841-f464-48fb-8ce7-14bba68f652f",
   "metadata": {},
   "outputs": [
    {
     "data": {
      "text/plain": [
       "array([[ 0,  1,  2,  3,  4],\n",
       "       [ 5,  6,  7,  8,  9],\n",
       "       [10, 11, 12, 13, 14],\n",
       "       [15, 16, 17, 18, 19],\n",
       "       [20, 21, 22, 23, 24]])"
      ]
     },
     "execution_count": 69,
     "metadata": {},
     "output_type": "execute_result"
    }
   ],
   "source": [
    "arr.reshape(5,5)"
   ]
  },
  {
   "cell_type": "markdown",
   "id": "797031f2-0eae-4c2c-a467-b53c3db50471",
   "metadata": {},
   "source": [
    "#### **max** , **min**, **argmax**, **argmin**"
   ]
  },
  {
   "cell_type": "code",
   "execution_count": 71,
   "id": "685eb33d-5bc2-48e5-8512-3f9f46b688f2",
   "metadata": {},
   "outputs": [
    {
     "data": {
      "text/plain": [
       "array([22, 10, 10, 23, 35, 39, 23,  2, 21,  1, 23, 43, 29, 37,  1, 20, 32,\n",
       "       11])"
      ]
     },
     "execution_count": 71,
     "metadata": {},
     "output_type": "execute_result"
    }
   ],
   "source": [
    "arr = np.random.randint(0,50,18)\n",
    "arr"
   ]
  },
  {
   "cell_type": "code",
   "execution_count": 72,
   "id": "ae49b506-5f96-4894-8fa8-19c5e5e191da",
   "metadata": {},
   "outputs": [
    {
     "data": {
      "text/plain": [
       "43"
      ]
     },
     "execution_count": 72,
     "metadata": {},
     "output_type": "execute_result"
    }
   ],
   "source": [
    "arr.max()"
   ]
  },
  {
   "cell_type": "code",
   "execution_count": 73,
   "id": "05f67cec-1efc-4673-961b-ff3f560b5400",
   "metadata": {},
   "outputs": [
    {
     "data": {
      "text/plain": [
       "1"
      ]
     },
     "execution_count": 73,
     "metadata": {},
     "output_type": "execute_result"
    }
   ],
   "source": [
    "arr.min()"
   ]
  },
  {
   "cell_type": "code",
   "execution_count": 74,
   "id": "10fcf25f-93ad-4955-8674-b86ff32726eb",
   "metadata": {},
   "outputs": [
    {
     "data": {
      "text/plain": [
       "11"
      ]
     },
     "execution_count": 74,
     "metadata": {},
     "output_type": "execute_result"
    }
   ],
   "source": [
    "arr.argmax()"
   ]
  },
  {
   "cell_type": "code",
   "execution_count": 75,
   "id": "3bcf1215-acb7-4f79-b12b-702558dcbe27",
   "metadata": {},
   "outputs": [
    {
     "data": {
      "text/plain": [
       "9"
      ]
     },
     "execution_count": 75,
     "metadata": {},
     "output_type": "execute_result"
    }
   ],
   "source": [
    "arr.argmin()"
   ]
  },
  {
   "cell_type": "markdown",
   "id": "e6311be2-361c-4809-a11d-5053e2492b4b",
   "metadata": {},
   "source": [
    "#### **dtype**,  **shape**"
   ]
  },
  {
   "cell_type": "code",
   "execution_count": 76,
   "id": "dbf5d875-6c2f-4e14-900d-5134a1cc450a",
   "metadata": {},
   "outputs": [
    {
     "data": {
      "text/plain": [
       "dtype('int64')"
      ]
     },
     "execution_count": 76,
     "metadata": {},
     "output_type": "execute_result"
    }
   ],
   "source": [
    "arr.dtype"
   ]
  },
  {
   "cell_type": "code",
   "execution_count": 77,
   "id": "42f4424d-7937-4fd4-a498-5dc5f7846cdf",
   "metadata": {},
   "outputs": [
    {
     "data": {
      "text/plain": [
       "(18,)"
      ]
     },
     "execution_count": 77,
     "metadata": {},
     "output_type": "execute_result"
    }
   ],
   "source": [
    "arr.shape"
   ]
  },
  {
   "cell_type": "code",
   "execution_count": 82,
   "id": "a5aa218e-5c13-4b4a-ab2e-c2a54376d6fe",
   "metadata": {},
   "outputs": [
    {
     "data": {
      "text/plain": [
       "array([[22, 10, 10, 23, 35, 39],\n",
       "       [23,  2, 21,  1, 23, 43],\n",
       "       [29, 37,  1, 20, 32, 11]])"
      ]
     },
     "execution_count": 82,
     "metadata": {},
     "output_type": "execute_result"
    }
   ],
   "source": [
    "arr =arr.reshape(3,6)\n",
    "arr"
   ]
  },
  {
   "cell_type": "code",
   "execution_count": 83,
   "id": "b757f78e-17a2-4b36-b2bc-b96e1340730d",
   "metadata": {},
   "outputs": [
    {
     "data": {
      "text/plain": [
       "(3, 6)"
      ]
     },
     "execution_count": 83,
     "metadata": {},
     "output_type": "execute_result"
    }
   ],
   "source": [
    "arr.shape"
   ]
  },
  {
   "cell_type": "markdown",
   "id": "a771eeae-8a37-498c-a2b3-6df78a8dbc99",
   "metadata": {},
   "source": [
    "### **Indexing** & **Slicing**"
   ]
  },
  {
   "cell_type": "code",
   "execution_count": 86,
   "id": "42d9c376-4028-4879-87d2-c90e4b7554d2",
   "metadata": {},
   "outputs": [
    {
     "data": {
      "text/plain": [
       "array([ 0,  1,  2,  3,  4,  5,  6,  7,  8,  9, 10, 11, 12, 13, 14])"
      ]
     },
     "execution_count": 86,
     "metadata": {},
     "output_type": "execute_result"
    }
   ],
   "source": [
    "arr = np.arange(0,15)\n",
    "arr"
   ]
  },
  {
   "cell_type": "code",
   "execution_count": 87,
   "id": "af367e33-fc06-4284-9e82-878437554d20",
   "metadata": {},
   "outputs": [
    {
     "data": {
      "text/plain": [
       "array([2, 3, 4, 5, 6])"
      ]
     },
     "execution_count": 87,
     "metadata": {},
     "output_type": "execute_result"
    }
   ],
   "source": [
    "arr[2:7]"
   ]
  },
  {
   "cell_type": "markdown",
   "id": "fdd0aa6e-2034-4ecf-b25a-598c1f0f2a82",
   "metadata": {},
   "source": [
    "##### **Broadcasting**"
   ]
  },
  {
   "cell_type": "code",
   "execution_count": 88,
   "id": "84da26a6-dafa-4298-8764-a35926de2974",
   "metadata": {},
   "outputs": [
    {
     "data": {
      "text/plain": [
       "array([35, 35, 35, 35, 35,  5,  6,  7,  8,  9, 10, 11, 12, 13, 14])"
      ]
     },
     "execution_count": 88,
     "metadata": {},
     "output_type": "execute_result"
    }
   ],
   "source": [
    "arr[0:5] = 35   # Assigns first 5 numbers as a given number\n",
    "\n",
    "arr"
   ]
  },
  {
   "cell_type": "code",
   "execution_count": 89,
   "id": "e439c8a2-c908-4bb9-a23c-23f696bfc885",
   "metadata": {},
   "outputs": [
    {
     "data": {
      "text/plain": [
       "array([[1, 2, 3],\n",
       "       [4, 5, 6],\n",
       "       [7, 8, 9]])"
      ]
     },
     "execution_count": 89,
     "metadata": {},
     "output_type": "execute_result"
    }
   ],
   "source": [
    "arr_2 = np.array([[1,2,3],[4,5,6],[7,8,9]])\n",
    "arr_2"
   ]
  },
  {
   "cell_type": "code",
   "execution_count": 91,
   "id": "c824ffaf-4816-4673-b939-2ca0a73991dc",
   "metadata": {},
   "outputs": [
    {
     "data": {
      "text/plain": [
       "5"
      ]
     },
     "execution_count": 91,
     "metadata": {},
     "output_type": "execute_result"
    }
   ],
   "source": [
    "arr_2 [1,1] # row one , column one"
   ]
  },
  {
   "cell_type": "code",
   "execution_count": 92,
   "id": "613c2924-f8af-486b-a10d-068f0efdaef3",
   "metadata": {},
   "outputs": [
    {
     "data": {
      "text/plain": [
       "array([[1, 2],\n",
       "       [4, 5]])"
      ]
     },
     "execution_count": 92,
     "metadata": {},
     "output_type": "execute_result"
    }
   ],
   "source": [
    "arr_2 [0:2,0:2] # first two rows, with first two column"
   ]
  },
  {
   "cell_type": "markdown",
   "id": "edf16fd1-caba-4313-959b-588b8ba74dad",
   "metadata": {},
   "source": [
    "### **Conditional Selection**"
   ]
  },
  {
   "cell_type": "code",
   "execution_count": 96,
   "id": "df75b67f-239f-4d41-830e-d2245afa2f2c",
   "metadata": {},
   "outputs": [
    {
     "data": {
      "text/plain": [
       "array([ 0,  1,  2,  3,  4,  5,  6,  7,  8,  9, 10])"
      ]
     },
     "execution_count": 96,
     "metadata": {},
     "output_type": "execute_result"
    }
   ],
   "source": [
    "arr = np.arange(0,11)\n",
    "arr"
   ]
  },
  {
   "cell_type": "code",
   "execution_count": 97,
   "id": "acadcd53-8ac6-4e7d-95bf-7c338bdd59ea",
   "metadata": {},
   "outputs": [
    {
     "data": {
      "text/plain": [
       "array([False, False, False, False, False,  True,  True,  True,  True,\n",
       "        True,  True])"
      ]
     },
     "execution_count": 97,
     "metadata": {},
     "output_type": "execute_result"
    }
   ],
   "source": [
    "arr > 4"
   ]
  },
  {
   "cell_type": "code",
   "execution_count": 101,
   "id": "fc60d06b-3e70-4c36-82ae-b546c39f7a01",
   "metadata": {},
   "outputs": [
    {
     "data": {
      "text/plain": [
       "array([5, 6, 7, 8, 9])"
      ]
     },
     "execution_count": 101,
     "metadata": {},
     "output_type": "execute_result"
    }
   ],
   "source": [
    "arr[arr>4]"
   ]
  },
  {
   "cell_type": "markdown",
   "id": "93940258-5e81-4c71-947c-5503566855c6",
   "metadata": {},
   "source": [
    "### **Numpy Operations**"
   ]
  },
  {
   "cell_type": "code",
   "execution_count": 100,
   "id": "15422739-d0e6-4a33-a8a5-3e3e27571b03",
   "metadata": {},
   "outputs": [
    {
     "data": {
      "text/plain": [
       "array([0, 1, 2, 3, 4, 5, 6, 7, 8, 9])"
      ]
     },
     "execution_count": 100,
     "metadata": {},
     "output_type": "execute_result"
    }
   ],
   "source": [
    "arr = np.arange(0,10)\n",
    "arr"
   ]
  },
  {
   "cell_type": "code",
   "execution_count": 102,
   "id": "8906ce6c-14f7-45d1-b3f7-fa73a1bab25b",
   "metadata": {},
   "outputs": [
    {
     "data": {
      "text/plain": [
       "array([ 2,  3,  4,  5,  6,  7,  8,  9, 10, 11])"
      ]
     },
     "execution_count": 102,
     "metadata": {},
     "output_type": "execute_result"
    }
   ],
   "source": [
    "arr+2"
   ]
  },
  {
   "cell_type": "code",
   "execution_count": 103,
   "id": "a9ea34e8-dee6-4ddb-bdf0-1bf3a96b038b",
   "metadata": {},
   "outputs": [
    {
     "data": {
      "text/plain": [
       "array([ 0,  3,  6,  9, 12, 15, 18, 21, 24, 27])"
      ]
     },
     "execution_count": 103,
     "metadata": {},
     "output_type": "execute_result"
    }
   ],
   "source": [
    "arr*3"
   ]
  },
  {
   "cell_type": "code",
   "execution_count": 104,
   "id": "82f02331-a1cc-477e-9fa2-81f993b3baca",
   "metadata": {},
   "outputs": [
    {
     "data": {
      "text/plain": [
       "array([0. , 0.5, 1. , 1.5, 2. , 2.5, 3. , 3.5, 4. , 4.5])"
      ]
     },
     "execution_count": 104,
     "metadata": {},
     "output_type": "execute_result"
    }
   ],
   "source": [
    "arr/2"
   ]
  },
  {
   "cell_type": "code",
   "execution_count": 105,
   "id": "7008e7e0-2e1f-4a0f-8093-2dd085775a86",
   "metadata": {},
   "outputs": [
    {
     "data": {
      "text/plain": [
       "45"
      ]
     },
     "execution_count": 105,
     "metadata": {},
     "output_type": "execute_result"
    }
   ],
   "source": [
    "arr.sum()"
   ]
  },
  {
   "cell_type": "code",
   "execution_count": 106,
   "id": "aacb7079-2f19-4470-a45e-0009571d511c",
   "metadata": {},
   "outputs": [
    {
     "data": {
      "text/plain": [
       "4.5"
      ]
     },
     "execution_count": 106,
     "metadata": {},
     "output_type": "execute_result"
    }
   ],
   "source": [
    "arr.mean()"
   ]
  },
  {
   "cell_type": "code",
   "execution_count": 107,
   "id": "241e7706-4ce4-455f-817a-0a32174fea04",
   "metadata": {},
   "outputs": [
    {
     "data": {
      "text/plain": [
       "2.8722813232690143"
      ]
     },
     "execution_count": 107,
     "metadata": {},
     "output_type": "execute_result"
    }
   ],
   "source": [
    "arr.std()"
   ]
  },
  {
   "cell_type": "code",
   "execution_count": 108,
   "id": "58fb29e1-f351-487d-9c77-0461f9ec3715",
   "metadata": {},
   "outputs": [
    {
     "data": {
      "text/plain": [
       "array([[ 0,  1,  2,  3,  4,  5],\n",
       "       [ 6,  7,  8,  9, 10, 11],\n",
       "       [12, 13, 14, 15, 16, 17],\n",
       "       [18, 19, 20, 21, 22, 23],\n",
       "       [24, 25, 26, 27, 28, 29]])"
      ]
     },
     "execution_count": 108,
     "metadata": {},
     "output_type": "execute_result"
    }
   ],
   "source": [
    "# Operations with two dimesnional array in Numpy\n",
    "\n",
    "arr_2= np.arange(0,30).reshape(5,6)\n",
    "arr_2"
   ]
  },
  {
   "cell_type": "code",
   "execution_count": 110,
   "id": "f365d9c7-ea04-4496-a48d-8380bb881166",
   "metadata": {},
   "outputs": [
    {
     "data": {
      "text/plain": [
       "435"
      ]
     },
     "execution_count": 110,
     "metadata": {},
     "output_type": "execute_result"
    }
   ],
   "source": [
    "arr_2.sum()"
   ]
  },
  {
   "cell_type": "code",
   "execution_count": 112,
   "id": "5bef9aeb-1b8c-45de-a381-5805ed3fa982",
   "metadata": {},
   "outputs": [
    {
     "data": {
      "text/plain": [
       "array([60, 65, 70, 75, 80, 85])"
      ]
     },
     "execution_count": 112,
     "metadata": {},
     "output_type": "execute_result"
    }
   ],
   "source": [
    "## this part is interesting:\n",
    "\n",
    "arr_2.sum(axis=0)  # which means sum of the rows across. In our case first one: 0+6+12+18+24 = 60\n",
    "\n",
    "# which actually, sum of the first column, but we specify axis=0, which means we are taking into account rows. "
   ]
  },
  {
   "cell_type": "code",
   "execution_count": null,
   "id": "5f76972e-4b53-4408-8a32-a5f0d52c38c2",
   "metadata": {},
   "outputs": [],
   "source": []
  },
  {
   "cell_type": "code",
   "execution_count": null,
   "id": "60fba2fb-70ea-4963-9987-caba6dcb00ae",
   "metadata": {},
   "outputs": [],
   "source": []
  },
  {
   "cell_type": "markdown",
   "id": "5c5297e6-88ab-4d98-9f3d-7a6ed2179b78",
   "metadata": {},
   "source": [
    "# **PANDAS**"
   ]
  },
  {
   "cell_type": "markdown",
   "id": "5656f92a-e0a2-421d-ba9a-c89040c156a5",
   "metadata": {},
   "source": [
    "### **Today's Agenda**:\n",
    "#### **First look to the DataFrame**\n",
    "#### **Reaching to Columns & Rows and Columns&Rows Together**  \n",
    "#### **Adding and Dropping Columns and Rows**  \n",
    "#### **Index methods**   \n",
    "#### **Conditional Filtering with Exercise**   \n"
   ]
  },
  {
   "cell_type": "markdown",
   "id": "a7cb3016-bbed-4230-a4e4-d8a715b4fac0",
   "metadata": {},
   "source": [
    "#### Reading From CSV"
   ]
  },
  {
   "cell_type": "code",
   "execution_count": 2,
   "id": "90824472-8357-4c32-88e8-4050a5445d84",
   "metadata": {},
   "outputs": [],
   "source": [
    "#read_csv\n",
    "\n",
    "df= pd.read_csv('world-happiness-report-2021.csv')"
   ]
  },
  {
   "cell_type": "markdown",
   "id": "184afa99-012a-46c9-93cf-a1175e25da98",
   "metadata": {},
   "source": [
    "#### **df.shape**    --> Gives up how many rows and columns in the dataframe (df)\n",
    "#### **df.head()**   --> Gives us top 5 or if we specify number, that number of rows.\n",
    "#### **df.tail()**   --> Gives us bottom 5 or if we specify number, that number of rows.\n",
    "#### **df.sample()**   --> Gives us 5 random row from the DF.\n",
    "#### **df.info()**   --> Gives us number of rows and columns and all the data types in the columns as well.\n",
    "#### **df.describe()**--> Gives us some basic statistical details(such as; mean, std, percentiles).\n",
    "#### **df.columns**  --> Gives us column names in the df.\n",
    "#### **value_counts()**   --> Gives us value counts of the categorical variable.\n"
   ]
  },
  {
   "cell_type": "code",
   "execution_count": 3,
   "id": "2784105e-13cb-4134-96f7-1d851feca8c2",
   "metadata": {},
   "outputs": [
    {
     "data": {
      "text/plain": [
       "(149, 20)"
      ]
     },
     "execution_count": 3,
     "metadata": {},
     "output_type": "execute_result"
    }
   ],
   "source": [
    "#shape\n",
    "df.shape"
   ]
  },
  {
   "cell_type": "code",
   "execution_count": 4,
   "id": "5094a4de-f36f-45a7-8225-5c5f175b24b2",
   "metadata": {},
   "outputs": [
    {
     "data": {
      "text/html": [
       "<div>\n",
       "<style scoped>\n",
       "    .dataframe tbody tr th:only-of-type {\n",
       "        vertical-align: middle;\n",
       "    }\n",
       "\n",
       "    .dataframe tbody tr th {\n",
       "        vertical-align: top;\n",
       "    }\n",
       "\n",
       "    .dataframe thead th {\n",
       "        text-align: right;\n",
       "    }\n",
       "</style>\n",
       "<table border=\"1\" class=\"dataframe\">\n",
       "  <thead>\n",
       "    <tr style=\"text-align: right;\">\n",
       "      <th></th>\n",
       "      <th>Country name</th>\n",
       "      <th>Regional indicator</th>\n",
       "      <th>Ladder score</th>\n",
       "      <th>Standard error of ladder score</th>\n",
       "      <th>upperwhisker</th>\n",
       "      <th>lowerwhisker</th>\n",
       "      <th>Logged GDP per capita</th>\n",
       "      <th>Social support</th>\n",
       "      <th>Healthy life expectancy</th>\n",
       "      <th>Freedom to make life choices</th>\n",
       "      <th>Generosity</th>\n",
       "      <th>Perceptions of corruption</th>\n",
       "      <th>Ladder score in Dystopia</th>\n",
       "      <th>Explained by: Log GDP per capita</th>\n",
       "      <th>Explained by: Social support</th>\n",
       "      <th>Explained by: Healthy life expectancy</th>\n",
       "      <th>Explained by: Freedom to make life choices</th>\n",
       "      <th>Explained by: Generosity</th>\n",
       "      <th>Explained by: Perceptions of corruption</th>\n",
       "      <th>Dystopia + residual</th>\n",
       "    </tr>\n",
       "  </thead>\n",
       "  <tbody>\n",
       "    <tr>\n",
       "      <th>0</th>\n",
       "      <td>Finland</td>\n",
       "      <td>Western Europe</td>\n",
       "      <td>7.842</td>\n",
       "      <td>0.032</td>\n",
       "      <td>7.904</td>\n",
       "      <td>7.780</td>\n",
       "      <td>10.775</td>\n",
       "      <td>0.954</td>\n",
       "      <td>72.0</td>\n",
       "      <td>0.949</td>\n",
       "      <td>-0.098</td>\n",
       "      <td>0.186</td>\n",
       "      <td>2.43</td>\n",
       "      <td>1.446</td>\n",
       "      <td>1.106</td>\n",
       "      <td>0.741</td>\n",
       "      <td>0.691</td>\n",
       "      <td>0.124</td>\n",
       "      <td>0.481</td>\n",
       "      <td>3.253</td>\n",
       "    </tr>\n",
       "    <tr>\n",
       "      <th>1</th>\n",
       "      <td>Denmark</td>\n",
       "      <td>Western Europe</td>\n",
       "      <td>7.620</td>\n",
       "      <td>0.035</td>\n",
       "      <td>7.687</td>\n",
       "      <td>7.552</td>\n",
       "      <td>10.933</td>\n",
       "      <td>0.954</td>\n",
       "      <td>72.7</td>\n",
       "      <td>0.946</td>\n",
       "      <td>0.030</td>\n",
       "      <td>0.179</td>\n",
       "      <td>2.43</td>\n",
       "      <td>1.502</td>\n",
       "      <td>1.108</td>\n",
       "      <td>0.763</td>\n",
       "      <td>0.686</td>\n",
       "      <td>0.208</td>\n",
       "      <td>0.485</td>\n",
       "      <td>2.868</td>\n",
       "    </tr>\n",
       "    <tr>\n",
       "      <th>2</th>\n",
       "      <td>Switzerland</td>\n",
       "      <td>Western Europe</td>\n",
       "      <td>7.571</td>\n",
       "      <td>0.036</td>\n",
       "      <td>7.643</td>\n",
       "      <td>7.500</td>\n",
       "      <td>11.117</td>\n",
       "      <td>0.942</td>\n",
       "      <td>74.4</td>\n",
       "      <td>0.919</td>\n",
       "      <td>0.025</td>\n",
       "      <td>0.292</td>\n",
       "      <td>2.43</td>\n",
       "      <td>1.566</td>\n",
       "      <td>1.079</td>\n",
       "      <td>0.816</td>\n",
       "      <td>0.653</td>\n",
       "      <td>0.204</td>\n",
       "      <td>0.413</td>\n",
       "      <td>2.839</td>\n",
       "    </tr>\n",
       "    <tr>\n",
       "      <th>3</th>\n",
       "      <td>Iceland</td>\n",
       "      <td>Western Europe</td>\n",
       "      <td>7.554</td>\n",
       "      <td>0.059</td>\n",
       "      <td>7.670</td>\n",
       "      <td>7.438</td>\n",
       "      <td>10.878</td>\n",
       "      <td>0.983</td>\n",
       "      <td>73.0</td>\n",
       "      <td>0.955</td>\n",
       "      <td>0.160</td>\n",
       "      <td>0.673</td>\n",
       "      <td>2.43</td>\n",
       "      <td>1.482</td>\n",
       "      <td>1.172</td>\n",
       "      <td>0.772</td>\n",
       "      <td>0.698</td>\n",
       "      <td>0.293</td>\n",
       "      <td>0.170</td>\n",
       "      <td>2.967</td>\n",
       "    </tr>\n",
       "    <tr>\n",
       "      <th>4</th>\n",
       "      <td>Netherlands</td>\n",
       "      <td>Western Europe</td>\n",
       "      <td>7.464</td>\n",
       "      <td>0.027</td>\n",
       "      <td>7.518</td>\n",
       "      <td>7.410</td>\n",
       "      <td>10.932</td>\n",
       "      <td>0.942</td>\n",
       "      <td>72.4</td>\n",
       "      <td>0.913</td>\n",
       "      <td>0.175</td>\n",
       "      <td>0.338</td>\n",
       "      <td>2.43</td>\n",
       "      <td>1.501</td>\n",
       "      <td>1.079</td>\n",
       "      <td>0.753</td>\n",
       "      <td>0.647</td>\n",
       "      <td>0.302</td>\n",
       "      <td>0.384</td>\n",
       "      <td>2.798</td>\n",
       "    </tr>\n",
       "  </tbody>\n",
       "</table>\n",
       "</div>"
      ],
      "text/plain": [
       "  Country name Regional indicator  Ladder score  \\\n",
       "0      Finland     Western Europe         7.842   \n",
       "1      Denmark     Western Europe         7.620   \n",
       "2  Switzerland     Western Europe         7.571   \n",
       "3      Iceland     Western Europe         7.554   \n",
       "4  Netherlands     Western Europe         7.464   \n",
       "\n",
       "   Standard error of ladder score  upperwhisker  lowerwhisker  \\\n",
       "0                           0.032         7.904         7.780   \n",
       "1                           0.035         7.687         7.552   \n",
       "2                           0.036         7.643         7.500   \n",
       "3                           0.059         7.670         7.438   \n",
       "4                           0.027         7.518         7.410   \n",
       "\n",
       "   Logged GDP per capita  Social support  Healthy life expectancy  \\\n",
       "0                 10.775           0.954                     72.0   \n",
       "1                 10.933           0.954                     72.7   \n",
       "2                 11.117           0.942                     74.4   \n",
       "3                 10.878           0.983                     73.0   \n",
       "4                 10.932           0.942                     72.4   \n",
       "\n",
       "   Freedom to make life choices  Generosity  Perceptions of corruption  \\\n",
       "0                         0.949      -0.098                      0.186   \n",
       "1                         0.946       0.030                      0.179   \n",
       "2                         0.919       0.025                      0.292   \n",
       "3                         0.955       0.160                      0.673   \n",
       "4                         0.913       0.175                      0.338   \n",
       "\n",
       "   Ladder score in Dystopia  Explained by: Log GDP per capita  \\\n",
       "0                      2.43                             1.446   \n",
       "1                      2.43                             1.502   \n",
       "2                      2.43                             1.566   \n",
       "3                      2.43                             1.482   \n",
       "4                      2.43                             1.501   \n",
       "\n",
       "   Explained by: Social support  Explained by: Healthy life expectancy  \\\n",
       "0                         1.106                                  0.741   \n",
       "1                         1.108                                  0.763   \n",
       "2                         1.079                                  0.816   \n",
       "3                         1.172                                  0.772   \n",
       "4                         1.079                                  0.753   \n",
       "\n",
       "   Explained by: Freedom to make life choices  Explained by: Generosity  \\\n",
       "0                                       0.691                     0.124   \n",
       "1                                       0.686                     0.208   \n",
       "2                                       0.653                     0.204   \n",
       "3                                       0.698                     0.293   \n",
       "4                                       0.647                     0.302   \n",
       "\n",
       "   Explained by: Perceptions of corruption  Dystopia + residual  \n",
       "0                                    0.481                3.253  \n",
       "1                                    0.485                2.868  \n",
       "2                                    0.413                2.839  \n",
       "3                                    0.170                2.967  \n",
       "4                                    0.384                2.798  "
      ]
     },
     "execution_count": 4,
     "metadata": {},
     "output_type": "execute_result"
    }
   ],
   "source": [
    "#head()\n",
    "df.head()"
   ]
  },
  {
   "cell_type": "code",
   "execution_count": 5,
   "id": "5004bcc7-1687-449e-831d-ca9c5ec80ee8",
   "metadata": {},
   "outputs": [
    {
     "data": {
      "text/html": [
       "<div>\n",
       "<style scoped>\n",
       "    .dataframe tbody tr th:only-of-type {\n",
       "        vertical-align: middle;\n",
       "    }\n",
       "\n",
       "    .dataframe tbody tr th {\n",
       "        vertical-align: top;\n",
       "    }\n",
       "\n",
       "    .dataframe thead th {\n",
       "        text-align: right;\n",
       "    }\n",
       "</style>\n",
       "<table border=\"1\" class=\"dataframe\">\n",
       "  <thead>\n",
       "    <tr style=\"text-align: right;\">\n",
       "      <th></th>\n",
       "      <th>Country name</th>\n",
       "      <th>Regional indicator</th>\n",
       "      <th>Ladder score</th>\n",
       "      <th>Standard error of ladder score</th>\n",
       "      <th>upperwhisker</th>\n",
       "      <th>lowerwhisker</th>\n",
       "      <th>Logged GDP per capita</th>\n",
       "      <th>Social support</th>\n",
       "      <th>Healthy life expectancy</th>\n",
       "      <th>Freedom to make life choices</th>\n",
       "      <th>Generosity</th>\n",
       "      <th>Perceptions of corruption</th>\n",
       "      <th>Ladder score in Dystopia</th>\n",
       "      <th>Explained by: Log GDP per capita</th>\n",
       "      <th>Explained by: Social support</th>\n",
       "      <th>Explained by: Healthy life expectancy</th>\n",
       "      <th>Explained by: Freedom to make life choices</th>\n",
       "      <th>Explained by: Generosity</th>\n",
       "      <th>Explained by: Perceptions of corruption</th>\n",
       "      <th>Dystopia + residual</th>\n",
       "    </tr>\n",
       "  </thead>\n",
       "  <tbody>\n",
       "    <tr>\n",
       "      <th>144</th>\n",
       "      <td>Lesotho</td>\n",
       "      <td>Sub-Saharan Africa</td>\n",
       "      <td>3.512</td>\n",
       "      <td>0.120</td>\n",
       "      <td>3.748</td>\n",
       "      <td>3.276</td>\n",
       "      <td>7.926</td>\n",
       "      <td>0.787</td>\n",
       "      <td>48.700</td>\n",
       "      <td>0.715</td>\n",
       "      <td>-0.131</td>\n",
       "      <td>0.915</td>\n",
       "      <td>2.43</td>\n",
       "      <td>0.451</td>\n",
       "      <td>0.731</td>\n",
       "      <td>0.007</td>\n",
       "      <td>0.405</td>\n",
       "      <td>0.103</td>\n",
       "      <td>0.015</td>\n",
       "      <td>1.800</td>\n",
       "    </tr>\n",
       "    <tr>\n",
       "      <th>145</th>\n",
       "      <td>Botswana</td>\n",
       "      <td>Sub-Saharan Africa</td>\n",
       "      <td>3.467</td>\n",
       "      <td>0.074</td>\n",
       "      <td>3.611</td>\n",
       "      <td>3.322</td>\n",
       "      <td>9.782</td>\n",
       "      <td>0.784</td>\n",
       "      <td>59.269</td>\n",
       "      <td>0.824</td>\n",
       "      <td>-0.246</td>\n",
       "      <td>0.801</td>\n",
       "      <td>2.43</td>\n",
       "      <td>1.099</td>\n",
       "      <td>0.724</td>\n",
       "      <td>0.340</td>\n",
       "      <td>0.539</td>\n",
       "      <td>0.027</td>\n",
       "      <td>0.088</td>\n",
       "      <td>0.648</td>\n",
       "    </tr>\n",
       "    <tr>\n",
       "      <th>146</th>\n",
       "      <td>Rwanda</td>\n",
       "      <td>Sub-Saharan Africa</td>\n",
       "      <td>3.415</td>\n",
       "      <td>0.068</td>\n",
       "      <td>3.548</td>\n",
       "      <td>3.282</td>\n",
       "      <td>7.676</td>\n",
       "      <td>0.552</td>\n",
       "      <td>61.400</td>\n",
       "      <td>0.897</td>\n",
       "      <td>0.061</td>\n",
       "      <td>0.167</td>\n",
       "      <td>2.43</td>\n",
       "      <td>0.364</td>\n",
       "      <td>0.202</td>\n",
       "      <td>0.407</td>\n",
       "      <td>0.627</td>\n",
       "      <td>0.227</td>\n",
       "      <td>0.493</td>\n",
       "      <td>1.095</td>\n",
       "    </tr>\n",
       "    <tr>\n",
       "      <th>147</th>\n",
       "      <td>Zimbabwe</td>\n",
       "      <td>Sub-Saharan Africa</td>\n",
       "      <td>3.145</td>\n",
       "      <td>0.058</td>\n",
       "      <td>3.259</td>\n",
       "      <td>3.030</td>\n",
       "      <td>7.943</td>\n",
       "      <td>0.750</td>\n",
       "      <td>56.201</td>\n",
       "      <td>0.677</td>\n",
       "      <td>-0.047</td>\n",
       "      <td>0.821</td>\n",
       "      <td>2.43</td>\n",
       "      <td>0.457</td>\n",
       "      <td>0.649</td>\n",
       "      <td>0.243</td>\n",
       "      <td>0.359</td>\n",
       "      <td>0.157</td>\n",
       "      <td>0.075</td>\n",
       "      <td>1.205</td>\n",
       "    </tr>\n",
       "    <tr>\n",
       "      <th>148</th>\n",
       "      <td>Afghanistan</td>\n",
       "      <td>South Asia</td>\n",
       "      <td>2.523</td>\n",
       "      <td>0.038</td>\n",
       "      <td>2.596</td>\n",
       "      <td>2.449</td>\n",
       "      <td>7.695</td>\n",
       "      <td>0.463</td>\n",
       "      <td>52.493</td>\n",
       "      <td>0.382</td>\n",
       "      <td>-0.102</td>\n",
       "      <td>0.924</td>\n",
       "      <td>2.43</td>\n",
       "      <td>0.370</td>\n",
       "      <td>0.000</td>\n",
       "      <td>0.126</td>\n",
       "      <td>0.000</td>\n",
       "      <td>0.122</td>\n",
       "      <td>0.010</td>\n",
       "      <td>1.895</td>\n",
       "    </tr>\n",
       "  </tbody>\n",
       "</table>\n",
       "</div>"
      ],
      "text/plain": [
       "    Country name  Regional indicator  Ladder score  \\\n",
       "144      Lesotho  Sub-Saharan Africa         3.512   \n",
       "145     Botswana  Sub-Saharan Africa         3.467   \n",
       "146       Rwanda  Sub-Saharan Africa         3.415   \n",
       "147     Zimbabwe  Sub-Saharan Africa         3.145   \n",
       "148  Afghanistan          South Asia         2.523   \n",
       "\n",
       "     Standard error of ladder score  upperwhisker  lowerwhisker  \\\n",
       "144                           0.120         3.748         3.276   \n",
       "145                           0.074         3.611         3.322   \n",
       "146                           0.068         3.548         3.282   \n",
       "147                           0.058         3.259         3.030   \n",
       "148                           0.038         2.596         2.449   \n",
       "\n",
       "     Logged GDP per capita  Social support  Healthy life expectancy  \\\n",
       "144                  7.926           0.787                   48.700   \n",
       "145                  9.782           0.784                   59.269   \n",
       "146                  7.676           0.552                   61.400   \n",
       "147                  7.943           0.750                   56.201   \n",
       "148                  7.695           0.463                   52.493   \n",
       "\n",
       "     Freedom to make life choices  Generosity  Perceptions of corruption  \\\n",
       "144                         0.715      -0.131                      0.915   \n",
       "145                         0.824      -0.246                      0.801   \n",
       "146                         0.897       0.061                      0.167   \n",
       "147                         0.677      -0.047                      0.821   \n",
       "148                         0.382      -0.102                      0.924   \n",
       "\n",
       "     Ladder score in Dystopia  Explained by: Log GDP per capita  \\\n",
       "144                      2.43                             0.451   \n",
       "145                      2.43                             1.099   \n",
       "146                      2.43                             0.364   \n",
       "147                      2.43                             0.457   \n",
       "148                      2.43                             0.370   \n",
       "\n",
       "     Explained by: Social support  Explained by: Healthy life expectancy  \\\n",
       "144                         0.731                                  0.007   \n",
       "145                         0.724                                  0.340   \n",
       "146                         0.202                                  0.407   \n",
       "147                         0.649                                  0.243   \n",
       "148                         0.000                                  0.126   \n",
       "\n",
       "     Explained by: Freedom to make life choices  Explained by: Generosity  \\\n",
       "144                                       0.405                     0.103   \n",
       "145                                       0.539                     0.027   \n",
       "146                                       0.627                     0.227   \n",
       "147                                       0.359                     0.157   \n",
       "148                                       0.000                     0.122   \n",
       "\n",
       "     Explained by: Perceptions of corruption  Dystopia + residual  \n",
       "144                                    0.015                1.800  \n",
       "145                                    0.088                0.648  \n",
       "146                                    0.493                1.095  \n",
       "147                                    0.075                1.205  \n",
       "148                                    0.010                1.895  "
      ]
     },
     "execution_count": 5,
     "metadata": {},
     "output_type": "execute_result"
    }
   ],
   "source": [
    "#tail()\n",
    "df.tail()"
   ]
  },
  {
   "cell_type": "code",
   "execution_count": 6,
   "id": "490fd4ea-599f-4f82-ad3d-95057be728eb",
   "metadata": {},
   "outputs": [
    {
     "data": {
      "text/html": [
       "<div>\n",
       "<style scoped>\n",
       "    .dataframe tbody tr th:only-of-type {\n",
       "        vertical-align: middle;\n",
       "    }\n",
       "\n",
       "    .dataframe tbody tr th {\n",
       "        vertical-align: top;\n",
       "    }\n",
       "\n",
       "    .dataframe thead th {\n",
       "        text-align: right;\n",
       "    }\n",
       "</style>\n",
       "<table border=\"1\" class=\"dataframe\">\n",
       "  <thead>\n",
       "    <tr style=\"text-align: right;\">\n",
       "      <th></th>\n",
       "      <th>Country name</th>\n",
       "      <th>Regional indicator</th>\n",
       "      <th>Ladder score</th>\n",
       "      <th>Standard error of ladder score</th>\n",
       "      <th>upperwhisker</th>\n",
       "      <th>lowerwhisker</th>\n",
       "      <th>Logged GDP per capita</th>\n",
       "      <th>Social support</th>\n",
       "      <th>Healthy life expectancy</th>\n",
       "      <th>Freedom to make life choices</th>\n",
       "      <th>Generosity</th>\n",
       "      <th>Perceptions of corruption</th>\n",
       "      <th>Ladder score in Dystopia</th>\n",
       "      <th>Explained by: Log GDP per capita</th>\n",
       "      <th>Explained by: Social support</th>\n",
       "      <th>Explained by: Healthy life expectancy</th>\n",
       "      <th>Explained by: Freedom to make life choices</th>\n",
       "      <th>Explained by: Generosity</th>\n",
       "      <th>Explained by: Perceptions of corruption</th>\n",
       "      <th>Dystopia + residual</th>\n",
       "    </tr>\n",
       "  </thead>\n",
       "  <tbody>\n",
       "    <tr>\n",
       "      <th>137</th>\n",
       "      <td>Sierra Leone</td>\n",
       "      <td>Sub-Saharan Africa</td>\n",
       "      <td>3.849</td>\n",
       "      <td>0.077</td>\n",
       "      <td>4.001</td>\n",
       "      <td>3.698</td>\n",
       "      <td>7.434</td>\n",
       "      <td>0.630</td>\n",
       "      <td>51.651</td>\n",
       "      <td>0.717</td>\n",
       "      <td>0.084</td>\n",
       "      <td>0.866</td>\n",
       "      <td>2.43</td>\n",
       "      <td>0.279</td>\n",
       "      <td>0.377</td>\n",
       "      <td>0.100</td>\n",
       "      <td>0.408</td>\n",
       "      <td>0.243</td>\n",
       "      <td>0.047</td>\n",
       "      <td>2.396</td>\n",
       "    </tr>\n",
       "    <tr>\n",
       "      <th>35</th>\n",
       "      <td>Mexico</td>\n",
       "      <td>Latin America and Caribbean</td>\n",
       "      <td>6.317</td>\n",
       "      <td>0.053</td>\n",
       "      <td>6.420</td>\n",
       "      <td>6.213</td>\n",
       "      <td>9.859</td>\n",
       "      <td>0.831</td>\n",
       "      <td>68.597</td>\n",
       "      <td>0.862</td>\n",
       "      <td>-0.147</td>\n",
       "      <td>0.799</td>\n",
       "      <td>2.43</td>\n",
       "      <td>1.126</td>\n",
       "      <td>0.830</td>\n",
       "      <td>0.634</td>\n",
       "      <td>0.585</td>\n",
       "      <td>0.092</td>\n",
       "      <td>0.089</td>\n",
       "      <td>2.961</td>\n",
       "    </tr>\n",
       "    <tr>\n",
       "      <th>32</th>\n",
       "      <td>Kosovo</td>\n",
       "      <td>Central and Eastern Europe</td>\n",
       "      <td>6.372</td>\n",
       "      <td>0.059</td>\n",
       "      <td>6.487</td>\n",
       "      <td>6.257</td>\n",
       "      <td>9.318</td>\n",
       "      <td>0.821</td>\n",
       "      <td>63.813</td>\n",
       "      <td>0.869</td>\n",
       "      <td>0.257</td>\n",
       "      <td>0.917</td>\n",
       "      <td>2.43</td>\n",
       "      <td>0.937</td>\n",
       "      <td>0.807</td>\n",
       "      <td>0.483</td>\n",
       "      <td>0.593</td>\n",
       "      <td>0.356</td>\n",
       "      <td>0.014</td>\n",
       "      <td>3.182</td>\n",
       "    </tr>\n",
       "  </tbody>\n",
       "</table>\n",
       "</div>"
      ],
      "text/plain": [
       "     Country name           Regional indicator  Ladder score  \\\n",
       "137  Sierra Leone           Sub-Saharan Africa         3.849   \n",
       "35         Mexico  Latin America and Caribbean         6.317   \n",
       "32         Kosovo   Central and Eastern Europe         6.372   \n",
       "\n",
       "     Standard error of ladder score  upperwhisker  lowerwhisker  \\\n",
       "137                           0.077         4.001         3.698   \n",
       "35                            0.053         6.420         6.213   \n",
       "32                            0.059         6.487         6.257   \n",
       "\n",
       "     Logged GDP per capita  Social support  Healthy life expectancy  \\\n",
       "137                  7.434           0.630                   51.651   \n",
       "35                   9.859           0.831                   68.597   \n",
       "32                   9.318           0.821                   63.813   \n",
       "\n",
       "     Freedom to make life choices  Generosity  Perceptions of corruption  \\\n",
       "137                         0.717       0.084                      0.866   \n",
       "35                          0.862      -0.147                      0.799   \n",
       "32                          0.869       0.257                      0.917   \n",
       "\n",
       "     Ladder score in Dystopia  Explained by: Log GDP per capita  \\\n",
       "137                      2.43                             0.279   \n",
       "35                       2.43                             1.126   \n",
       "32                       2.43                             0.937   \n",
       "\n",
       "     Explained by: Social support  Explained by: Healthy life expectancy  \\\n",
       "137                         0.377                                  0.100   \n",
       "35                          0.830                                  0.634   \n",
       "32                          0.807                                  0.483   \n",
       "\n",
       "     Explained by: Freedom to make life choices  Explained by: Generosity  \\\n",
       "137                                       0.408                     0.243   \n",
       "35                                        0.585                     0.092   \n",
       "32                                        0.593                     0.356   \n",
       "\n",
       "     Explained by: Perceptions of corruption  Dystopia + residual  \n",
       "137                                    0.047                2.396  \n",
       "35                                     0.089                2.961  \n",
       "32                                     0.014                3.182  "
      ]
     },
     "execution_count": 6,
     "metadata": {},
     "output_type": "execute_result"
    }
   ],
   "source": [
    "#sample()\n",
    "df.sample(3)"
   ]
  },
  {
   "cell_type": "code",
   "execution_count": 7,
   "id": "50f8d823-75b6-4c47-9314-1366c6a3a97f",
   "metadata": {},
   "outputs": [
    {
     "name": "stdout",
     "output_type": "stream",
     "text": [
      "<class 'pandas.core.frame.DataFrame'>\n",
      "RangeIndex: 149 entries, 0 to 148\n",
      "Data columns (total 20 columns):\n",
      " #   Column                                      Non-Null Count  Dtype  \n",
      "---  ------                                      --------------  -----  \n",
      " 0   Country name                                149 non-null    object \n",
      " 1   Regional indicator                          149 non-null    object \n",
      " 2   Ladder score                                149 non-null    float64\n",
      " 3   Standard error of ladder score              149 non-null    float64\n",
      " 4   upperwhisker                                149 non-null    float64\n",
      " 5   lowerwhisker                                149 non-null    float64\n",
      " 6   Logged GDP per capita                       149 non-null    float64\n",
      " 7   Social support                              149 non-null    float64\n",
      " 8   Healthy life expectancy                     149 non-null    float64\n",
      " 9   Freedom to make life choices                149 non-null    float64\n",
      " 10  Generosity                                  149 non-null    float64\n",
      " 11  Perceptions of corruption                   149 non-null    float64\n",
      " 12  Ladder score in Dystopia                    149 non-null    float64\n",
      " 13  Explained by: Log GDP per capita            149 non-null    float64\n",
      " 14  Explained by: Social support                149 non-null    float64\n",
      " 15  Explained by: Healthy life expectancy       149 non-null    float64\n",
      " 16  Explained by: Freedom to make life choices  149 non-null    float64\n",
      " 17  Explained by: Generosity                    149 non-null    float64\n",
      " 18  Explained by: Perceptions of corruption     149 non-null    float64\n",
      " 19  Dystopia + residual                         149 non-null    float64\n",
      "dtypes: float64(18), object(2)\n",
      "memory usage: 23.4+ KB\n"
     ]
    }
   ],
   "source": [
    "#info()\n",
    "df.info()"
   ]
  },
  {
   "cell_type": "code",
   "execution_count": 8,
   "id": "ee59ee1f-1826-4a56-a1a1-df9e76c23e2b",
   "metadata": {},
   "outputs": [
    {
     "data": {
      "text/html": [
       "<div>\n",
       "<style scoped>\n",
       "    .dataframe tbody tr th:only-of-type {\n",
       "        vertical-align: middle;\n",
       "    }\n",
       "\n",
       "    .dataframe tbody tr th {\n",
       "        vertical-align: top;\n",
       "    }\n",
       "\n",
       "    .dataframe thead th {\n",
       "        text-align: right;\n",
       "    }\n",
       "</style>\n",
       "<table border=\"1\" class=\"dataframe\">\n",
       "  <thead>\n",
       "    <tr style=\"text-align: right;\">\n",
       "      <th></th>\n",
       "      <th>Ladder score</th>\n",
       "      <th>Standard error of ladder score</th>\n",
       "      <th>upperwhisker</th>\n",
       "      <th>lowerwhisker</th>\n",
       "      <th>Logged GDP per capita</th>\n",
       "      <th>Social support</th>\n",
       "      <th>Healthy life expectancy</th>\n",
       "      <th>Freedom to make life choices</th>\n",
       "      <th>Generosity</th>\n",
       "      <th>Perceptions of corruption</th>\n",
       "      <th>Ladder score in Dystopia</th>\n",
       "      <th>Explained by: Log GDP per capita</th>\n",
       "      <th>Explained by: Social support</th>\n",
       "      <th>Explained by: Healthy life expectancy</th>\n",
       "      <th>Explained by: Freedom to make life choices</th>\n",
       "      <th>Explained by: Generosity</th>\n",
       "      <th>Explained by: Perceptions of corruption</th>\n",
       "      <th>Dystopia + residual</th>\n",
       "    </tr>\n",
       "  </thead>\n",
       "  <tbody>\n",
       "    <tr>\n",
       "      <th>count</th>\n",
       "      <td>149.000000</td>\n",
       "      <td>149.000000</td>\n",
       "      <td>149.000000</td>\n",
       "      <td>149.000000</td>\n",
       "      <td>149.000000</td>\n",
       "      <td>149.000000</td>\n",
       "      <td>149.000000</td>\n",
       "      <td>149.000000</td>\n",
       "      <td>149.000000</td>\n",
       "      <td>149.000000</td>\n",
       "      <td>149.00</td>\n",
       "      <td>149.000000</td>\n",
       "      <td>149.000000</td>\n",
       "      <td>149.000000</td>\n",
       "      <td>149.000000</td>\n",
       "      <td>149.000000</td>\n",
       "      <td>149.000000</td>\n",
       "      <td>149.000000</td>\n",
       "    </tr>\n",
       "    <tr>\n",
       "      <th>mean</th>\n",
       "      <td>5.532839</td>\n",
       "      <td>0.058752</td>\n",
       "      <td>5.648007</td>\n",
       "      <td>5.417631</td>\n",
       "      <td>9.432208</td>\n",
       "      <td>0.814745</td>\n",
       "      <td>64.992799</td>\n",
       "      <td>0.791597</td>\n",
       "      <td>-0.015134</td>\n",
       "      <td>0.727450</td>\n",
       "      <td>2.43</td>\n",
       "      <td>0.977161</td>\n",
       "      <td>0.793315</td>\n",
       "      <td>0.520161</td>\n",
       "      <td>0.498711</td>\n",
       "      <td>0.178047</td>\n",
       "      <td>0.135141</td>\n",
       "      <td>2.430329</td>\n",
       "    </tr>\n",
       "    <tr>\n",
       "      <th>std</th>\n",
       "      <td>1.073924</td>\n",
       "      <td>0.022001</td>\n",
       "      <td>1.054330</td>\n",
       "      <td>1.094879</td>\n",
       "      <td>1.158601</td>\n",
       "      <td>0.114889</td>\n",
       "      <td>6.762043</td>\n",
       "      <td>0.113332</td>\n",
       "      <td>0.150657</td>\n",
       "      <td>0.179226</td>\n",
       "      <td>0.00</td>\n",
       "      <td>0.404740</td>\n",
       "      <td>0.258871</td>\n",
       "      <td>0.213019</td>\n",
       "      <td>0.137888</td>\n",
       "      <td>0.098270</td>\n",
       "      <td>0.114361</td>\n",
       "      <td>0.537645</td>\n",
       "    </tr>\n",
       "    <tr>\n",
       "      <th>min</th>\n",
       "      <td>2.523000</td>\n",
       "      <td>0.026000</td>\n",
       "      <td>2.596000</td>\n",
       "      <td>2.449000</td>\n",
       "      <td>6.635000</td>\n",
       "      <td>0.463000</td>\n",
       "      <td>48.478000</td>\n",
       "      <td>0.382000</td>\n",
       "      <td>-0.288000</td>\n",
       "      <td>0.082000</td>\n",
       "      <td>2.43</td>\n",
       "      <td>0.000000</td>\n",
       "      <td>0.000000</td>\n",
       "      <td>0.000000</td>\n",
       "      <td>0.000000</td>\n",
       "      <td>0.000000</td>\n",
       "      <td>0.000000</td>\n",
       "      <td>0.648000</td>\n",
       "    </tr>\n",
       "    <tr>\n",
       "      <th>25%</th>\n",
       "      <td>4.852000</td>\n",
       "      <td>0.043000</td>\n",
       "      <td>4.991000</td>\n",
       "      <td>4.706000</td>\n",
       "      <td>8.541000</td>\n",
       "      <td>0.750000</td>\n",
       "      <td>59.802000</td>\n",
       "      <td>0.718000</td>\n",
       "      <td>-0.126000</td>\n",
       "      <td>0.667000</td>\n",
       "      <td>2.43</td>\n",
       "      <td>0.666000</td>\n",
       "      <td>0.647000</td>\n",
       "      <td>0.357000</td>\n",
       "      <td>0.409000</td>\n",
       "      <td>0.105000</td>\n",
       "      <td>0.060000</td>\n",
       "      <td>2.138000</td>\n",
       "    </tr>\n",
       "    <tr>\n",
       "      <th>50%</th>\n",
       "      <td>5.534000</td>\n",
       "      <td>0.054000</td>\n",
       "      <td>5.625000</td>\n",
       "      <td>5.413000</td>\n",
       "      <td>9.569000</td>\n",
       "      <td>0.832000</td>\n",
       "      <td>66.603000</td>\n",
       "      <td>0.804000</td>\n",
       "      <td>-0.036000</td>\n",
       "      <td>0.781000</td>\n",
       "      <td>2.43</td>\n",
       "      <td>1.025000</td>\n",
       "      <td>0.832000</td>\n",
       "      <td>0.571000</td>\n",
       "      <td>0.514000</td>\n",
       "      <td>0.164000</td>\n",
       "      <td>0.101000</td>\n",
       "      <td>2.509000</td>\n",
       "    </tr>\n",
       "    <tr>\n",
       "      <th>75%</th>\n",
       "      <td>6.255000</td>\n",
       "      <td>0.070000</td>\n",
       "      <td>6.344000</td>\n",
       "      <td>6.128000</td>\n",
       "      <td>10.421000</td>\n",
       "      <td>0.905000</td>\n",
       "      <td>69.600000</td>\n",
       "      <td>0.877000</td>\n",
       "      <td>0.079000</td>\n",
       "      <td>0.845000</td>\n",
       "      <td>2.43</td>\n",
       "      <td>1.323000</td>\n",
       "      <td>0.996000</td>\n",
       "      <td>0.665000</td>\n",
       "      <td>0.603000</td>\n",
       "      <td>0.239000</td>\n",
       "      <td>0.174000</td>\n",
       "      <td>2.794000</td>\n",
       "    </tr>\n",
       "    <tr>\n",
       "      <th>max</th>\n",
       "      <td>7.842000</td>\n",
       "      <td>0.173000</td>\n",
       "      <td>7.904000</td>\n",
       "      <td>7.780000</td>\n",
       "      <td>11.647000</td>\n",
       "      <td>0.983000</td>\n",
       "      <td>76.953000</td>\n",
       "      <td>0.970000</td>\n",
       "      <td>0.542000</td>\n",
       "      <td>0.939000</td>\n",
       "      <td>2.43</td>\n",
       "      <td>1.751000</td>\n",
       "      <td>1.172000</td>\n",
       "      <td>0.897000</td>\n",
       "      <td>0.716000</td>\n",
       "      <td>0.541000</td>\n",
       "      <td>0.547000</td>\n",
       "      <td>3.482000</td>\n",
       "    </tr>\n",
       "  </tbody>\n",
       "</table>\n",
       "</div>"
      ],
      "text/plain": [
       "       Ladder score  Standard error of ladder score  upperwhisker  \\\n",
       "count    149.000000                      149.000000    149.000000   \n",
       "mean       5.532839                        0.058752      5.648007   \n",
       "std        1.073924                        0.022001      1.054330   \n",
       "min        2.523000                        0.026000      2.596000   \n",
       "25%        4.852000                        0.043000      4.991000   \n",
       "50%        5.534000                        0.054000      5.625000   \n",
       "75%        6.255000                        0.070000      6.344000   \n",
       "max        7.842000                        0.173000      7.904000   \n",
       "\n",
       "       lowerwhisker  Logged GDP per capita  Social support  \\\n",
       "count    149.000000             149.000000      149.000000   \n",
       "mean       5.417631               9.432208        0.814745   \n",
       "std        1.094879               1.158601        0.114889   \n",
       "min        2.449000               6.635000        0.463000   \n",
       "25%        4.706000               8.541000        0.750000   \n",
       "50%        5.413000               9.569000        0.832000   \n",
       "75%        6.128000              10.421000        0.905000   \n",
       "max        7.780000              11.647000        0.983000   \n",
       "\n",
       "       Healthy life expectancy  Freedom to make life choices  Generosity  \\\n",
       "count               149.000000                    149.000000  149.000000   \n",
       "mean                 64.992799                      0.791597   -0.015134   \n",
       "std                   6.762043                      0.113332    0.150657   \n",
       "min                  48.478000                      0.382000   -0.288000   \n",
       "25%                  59.802000                      0.718000   -0.126000   \n",
       "50%                  66.603000                      0.804000   -0.036000   \n",
       "75%                  69.600000                      0.877000    0.079000   \n",
       "max                  76.953000                      0.970000    0.542000   \n",
       "\n",
       "       Perceptions of corruption  Ladder score in Dystopia  \\\n",
       "count                 149.000000                    149.00   \n",
       "mean                    0.727450                      2.43   \n",
       "std                     0.179226                      0.00   \n",
       "min                     0.082000                      2.43   \n",
       "25%                     0.667000                      2.43   \n",
       "50%                     0.781000                      2.43   \n",
       "75%                     0.845000                      2.43   \n",
       "max                     0.939000                      2.43   \n",
       "\n",
       "       Explained by: Log GDP per capita  Explained by: Social support  \\\n",
       "count                        149.000000                    149.000000   \n",
       "mean                           0.977161                      0.793315   \n",
       "std                            0.404740                      0.258871   \n",
       "min                            0.000000                      0.000000   \n",
       "25%                            0.666000                      0.647000   \n",
       "50%                            1.025000                      0.832000   \n",
       "75%                            1.323000                      0.996000   \n",
       "max                            1.751000                      1.172000   \n",
       "\n",
       "       Explained by: Healthy life expectancy  \\\n",
       "count                             149.000000   \n",
       "mean                                0.520161   \n",
       "std                                 0.213019   \n",
       "min                                 0.000000   \n",
       "25%                                 0.357000   \n",
       "50%                                 0.571000   \n",
       "75%                                 0.665000   \n",
       "max                                 0.897000   \n",
       "\n",
       "       Explained by: Freedom to make life choices  Explained by: Generosity  \\\n",
       "count                                  149.000000                149.000000   \n",
       "mean                                     0.498711                  0.178047   \n",
       "std                                      0.137888                  0.098270   \n",
       "min                                      0.000000                  0.000000   \n",
       "25%                                      0.409000                  0.105000   \n",
       "50%                                      0.514000                  0.164000   \n",
       "75%                                      0.603000                  0.239000   \n",
       "max                                      0.716000                  0.541000   \n",
       "\n",
       "       Explained by: Perceptions of corruption  Dystopia + residual  \n",
       "count                               149.000000           149.000000  \n",
       "mean                                  0.135141             2.430329  \n",
       "std                                   0.114361             0.537645  \n",
       "min                                   0.000000             0.648000  \n",
       "25%                                   0.060000             2.138000  \n",
       "50%                                   0.101000             2.509000  \n",
       "75%                                   0.174000             2.794000  \n",
       "max                                   0.547000             3.482000  "
      ]
     },
     "execution_count": 8,
     "metadata": {},
     "output_type": "execute_result"
    }
   ],
   "source": [
    "#describe()\n",
    "df.describe()"
   ]
  },
  {
   "cell_type": "code",
   "execution_count": 9,
   "id": "e0cff10a-a5d0-402a-aa0f-a96a6bf8b78d",
   "metadata": {},
   "outputs": [
    {
     "data": {
      "text/plain": [
       "Country name                                  0\n",
       "Regional indicator                            0\n",
       "Ladder score                                  0\n",
       "Standard error of ladder score                0\n",
       "upperwhisker                                  0\n",
       "lowerwhisker                                  0\n",
       "Logged GDP per capita                         0\n",
       "Social support                                0\n",
       "Healthy life expectancy                       0\n",
       "Freedom to make life choices                  0\n",
       "Generosity                                    0\n",
       "Perceptions of corruption                     0\n",
       "Ladder score in Dystopia                      0\n",
       "Explained by: Log GDP per capita              0\n",
       "Explained by: Social support                  0\n",
       "Explained by: Healthy life expectancy         0\n",
       "Explained by: Freedom to make life choices    0\n",
       "Explained by: Generosity                      0\n",
       "Explained by: Perceptions of corruption       0\n",
       "Dystopia + residual                           0\n",
       "dtype: int64"
      ]
     },
     "execution_count": 9,
     "metadata": {},
     "output_type": "execute_result"
    }
   ],
   "source": [
    "# isnull().sum()\n",
    "df.isnull().sum()"
   ]
  },
  {
   "cell_type": "code",
   "execution_count": 10,
   "id": "e7fbb985-0a15-4c87-aedd-172cb16140c9",
   "metadata": {},
   "outputs": [
    {
     "data": {
      "text/plain": [
       "Index(['Country name', 'Regional indicator', 'Ladder score',\n",
       "       'Standard error of ladder score', 'upperwhisker', 'lowerwhisker',\n",
       "       'Logged GDP per capita', 'Social support', 'Healthy life expectancy',\n",
       "       'Freedom to make life choices', 'Generosity',\n",
       "       'Perceptions of corruption', 'Ladder score in Dystopia',\n",
       "       'Explained by: Log GDP per capita', 'Explained by: Social support',\n",
       "       'Explained by: Healthy life expectancy',\n",
       "       'Explained by: Freedom to make life choices',\n",
       "       'Explained by: Generosity', 'Explained by: Perceptions of corruption',\n",
       "       'Dystopia + residual'],\n",
       "      dtype='object')"
      ]
     },
     "execution_count": 10,
     "metadata": {},
     "output_type": "execute_result"
    }
   ],
   "source": [
    "# columns\n",
    "df.columns"
   ]
  },
  {
   "cell_type": "code",
   "execution_count": 11,
   "id": "e4b95147-0226-45cd-b2ab-4f0f67972e26",
   "metadata": {},
   "outputs": [
    {
     "data": {
      "text/plain": [
       "Sub-Saharan Africa                    36\n",
       "Western Europe                        21\n",
       "Latin America and Caribbean           20\n",
       "Central and Eastern Europe            17\n",
       "Middle East and North Africa          17\n",
       "Commonwealth of Independent States    12\n",
       "Southeast Asia                         9\n",
       "South Asia                             7\n",
       "East Asia                              6\n",
       "North America and ANZ                  4\n",
       "Name: Regional indicator, dtype: int64"
      ]
     },
     "execution_count": 11,
     "metadata": {},
     "output_type": "execute_result"
    }
   ],
   "source": [
    "#value_counts()\n",
    "df['Regional indicator'].value_counts()"
   ]
  },
  {
   "cell_type": "code",
   "execution_count": null,
   "id": "e91f4ed9-7d84-422f-8017-cfd23d018bec",
   "metadata": {},
   "outputs": [],
   "source": [
    "#GDP, life expectancy, generosity, social support, freedom, and corruption --> ladder score"
   ]
  },
  {
   "cell_type": "markdown",
   "id": "da94b0a6-7a07-42a8-a1ef-5073c457f068",
   "metadata": {},
   "source": [
    "### **Reaching to Columns**\n",
    "\n",
    "##### To reach the single column  --> df ['column name'] or df.columnname\n",
    "##### To reach the more than one column -> df [['column1','column2']] <-- Remember to include 2 squarebracket"
   ]
  },
  {
   "cell_type": "code",
   "execution_count": 14,
   "id": "b5ac721f-7098-41ee-b464-24e57b57d32f",
   "metadata": {},
   "outputs": [
    {
     "data": {
      "text/plain": [
       "pandas.core.series.Series"
      ]
     },
     "execution_count": 14,
     "metadata": {},
     "output_type": "execute_result"
    }
   ],
   "source": [
    "# Single column\n",
    "type(df['Ladder score'])"
   ]
  },
  {
   "cell_type": "code",
   "execution_count": 17,
   "id": "bba939a6-29a9-42da-9504-4672cb252bd9",
   "metadata": {},
   "outputs": [
    {
     "data": {
      "text/plain": [
       "pandas.core.frame.DataFrame"
      ]
     },
     "execution_count": 17,
     "metadata": {},
     "output_type": "execute_result"
    }
   ],
   "source": [
    "# multiple columns\n",
    "type(df[['Social support','Generosity']])"
   ]
  },
  {
   "cell_type": "code",
   "execution_count": null,
   "id": "c13cd1f9-e3cd-47e1-b546-066ae6345881",
   "metadata": {},
   "outputs": [],
   "source": [
    "# New DataFrame for further analysis"
   ]
  },
  {
   "cell_type": "code",
   "execution_count": 18,
   "id": "fe05681c-6f46-4cb7-b8d2-9fa026d1aa76",
   "metadata": {},
   "outputs": [
    {
     "data": {
      "text/html": [
       "<div>\n",
       "<style scoped>\n",
       "    .dataframe tbody tr th:only-of-type {\n",
       "        vertical-align: middle;\n",
       "    }\n",
       "\n",
       "    .dataframe tbody tr th {\n",
       "        vertical-align: top;\n",
       "    }\n",
       "\n",
       "    .dataframe thead th {\n",
       "        text-align: right;\n",
       "    }\n",
       "</style>\n",
       "<table border=\"1\" class=\"dataframe\">\n",
       "  <thead>\n",
       "    <tr style=\"text-align: right;\">\n",
       "      <th></th>\n",
       "      <th>Regional indicator</th>\n",
       "      <th>Ladder score</th>\n",
       "      <th>Logged GDP per capita</th>\n",
       "      <th>Social support</th>\n",
       "      <th>Healthy life expectancy</th>\n",
       "      <th>Freedom to make life choices</th>\n",
       "      <th>Generosity</th>\n",
       "      <th>Perceptions of corruption</th>\n",
       "    </tr>\n",
       "    <tr>\n",
       "      <th>Country name</th>\n",
       "      <th></th>\n",
       "      <th></th>\n",
       "      <th></th>\n",
       "      <th></th>\n",
       "      <th></th>\n",
       "      <th></th>\n",
       "      <th></th>\n",
       "      <th></th>\n",
       "    </tr>\n",
       "  </thead>\n",
       "  <tbody>\n",
       "    <tr>\n",
       "      <th>Finland</th>\n",
       "      <td>Western Europe</td>\n",
       "      <td>7.842</td>\n",
       "      <td>10.775</td>\n",
       "      <td>0.954</td>\n",
       "      <td>72.000</td>\n",
       "      <td>0.949</td>\n",
       "      <td>-0.098</td>\n",
       "      <td>0.186</td>\n",
       "    </tr>\n",
       "    <tr>\n",
       "      <th>Denmark</th>\n",
       "      <td>Western Europe</td>\n",
       "      <td>7.620</td>\n",
       "      <td>10.933</td>\n",
       "      <td>0.954</td>\n",
       "      <td>72.700</td>\n",
       "      <td>0.946</td>\n",
       "      <td>0.030</td>\n",
       "      <td>0.179</td>\n",
       "    </tr>\n",
       "    <tr>\n",
       "      <th>Switzerland</th>\n",
       "      <td>Western Europe</td>\n",
       "      <td>7.571</td>\n",
       "      <td>11.117</td>\n",
       "      <td>0.942</td>\n",
       "      <td>74.400</td>\n",
       "      <td>0.919</td>\n",
       "      <td>0.025</td>\n",
       "      <td>0.292</td>\n",
       "    </tr>\n",
       "    <tr>\n",
       "      <th>Iceland</th>\n",
       "      <td>Western Europe</td>\n",
       "      <td>7.554</td>\n",
       "      <td>10.878</td>\n",
       "      <td>0.983</td>\n",
       "      <td>73.000</td>\n",
       "      <td>0.955</td>\n",
       "      <td>0.160</td>\n",
       "      <td>0.673</td>\n",
       "    </tr>\n",
       "    <tr>\n",
       "      <th>Netherlands</th>\n",
       "      <td>Western Europe</td>\n",
       "      <td>7.464</td>\n",
       "      <td>10.932</td>\n",
       "      <td>0.942</td>\n",
       "      <td>72.400</td>\n",
       "      <td>0.913</td>\n",
       "      <td>0.175</td>\n",
       "      <td>0.338</td>\n",
       "    </tr>\n",
       "    <tr>\n",
       "      <th>...</th>\n",
       "      <td>...</td>\n",
       "      <td>...</td>\n",
       "      <td>...</td>\n",
       "      <td>...</td>\n",
       "      <td>...</td>\n",
       "      <td>...</td>\n",
       "      <td>...</td>\n",
       "      <td>...</td>\n",
       "    </tr>\n",
       "    <tr>\n",
       "      <th>Lesotho</th>\n",
       "      <td>Sub-Saharan Africa</td>\n",
       "      <td>3.512</td>\n",
       "      <td>7.926</td>\n",
       "      <td>0.787</td>\n",
       "      <td>48.700</td>\n",
       "      <td>0.715</td>\n",
       "      <td>-0.131</td>\n",
       "      <td>0.915</td>\n",
       "    </tr>\n",
       "    <tr>\n",
       "      <th>Botswana</th>\n",
       "      <td>Sub-Saharan Africa</td>\n",
       "      <td>3.467</td>\n",
       "      <td>9.782</td>\n",
       "      <td>0.784</td>\n",
       "      <td>59.269</td>\n",
       "      <td>0.824</td>\n",
       "      <td>-0.246</td>\n",
       "      <td>0.801</td>\n",
       "    </tr>\n",
       "    <tr>\n",
       "      <th>Rwanda</th>\n",
       "      <td>Sub-Saharan Africa</td>\n",
       "      <td>3.415</td>\n",
       "      <td>7.676</td>\n",
       "      <td>0.552</td>\n",
       "      <td>61.400</td>\n",
       "      <td>0.897</td>\n",
       "      <td>0.061</td>\n",
       "      <td>0.167</td>\n",
       "    </tr>\n",
       "    <tr>\n",
       "      <th>Zimbabwe</th>\n",
       "      <td>Sub-Saharan Africa</td>\n",
       "      <td>3.145</td>\n",
       "      <td>7.943</td>\n",
       "      <td>0.750</td>\n",
       "      <td>56.201</td>\n",
       "      <td>0.677</td>\n",
       "      <td>-0.047</td>\n",
       "      <td>0.821</td>\n",
       "    </tr>\n",
       "    <tr>\n",
       "      <th>Afghanistan</th>\n",
       "      <td>South Asia</td>\n",
       "      <td>2.523</td>\n",
       "      <td>7.695</td>\n",
       "      <td>0.463</td>\n",
       "      <td>52.493</td>\n",
       "      <td>0.382</td>\n",
       "      <td>-0.102</td>\n",
       "      <td>0.924</td>\n",
       "    </tr>\n",
       "  </tbody>\n",
       "</table>\n",
       "<p>149 rows × 8 columns</p>\n",
       "</div>"
      ],
      "text/plain": [
       "              Regional indicator  Ladder score  Logged GDP per capita  \\\n",
       "Country name                                                            \n",
       "Finland           Western Europe         7.842                 10.775   \n",
       "Denmark           Western Europe         7.620                 10.933   \n",
       "Switzerland       Western Europe         7.571                 11.117   \n",
       "Iceland           Western Europe         7.554                 10.878   \n",
       "Netherlands       Western Europe         7.464                 10.932   \n",
       "...                          ...           ...                    ...   \n",
       "Lesotho       Sub-Saharan Africa         3.512                  7.926   \n",
       "Botswana      Sub-Saharan Africa         3.467                  9.782   \n",
       "Rwanda        Sub-Saharan Africa         3.415                  7.676   \n",
       "Zimbabwe      Sub-Saharan Africa         3.145                  7.943   \n",
       "Afghanistan           South Asia         2.523                  7.695   \n",
       "\n",
       "              Social support  Healthy life expectancy  \\\n",
       "Country name                                            \n",
       "Finland                0.954                   72.000   \n",
       "Denmark                0.954                   72.700   \n",
       "Switzerland            0.942                   74.400   \n",
       "Iceland                0.983                   73.000   \n",
       "Netherlands            0.942                   72.400   \n",
       "...                      ...                      ...   \n",
       "Lesotho                0.787                   48.700   \n",
       "Botswana               0.784                   59.269   \n",
       "Rwanda                 0.552                   61.400   \n",
       "Zimbabwe               0.750                   56.201   \n",
       "Afghanistan            0.463                   52.493   \n",
       "\n",
       "              Freedom to make life choices  Generosity  \\\n",
       "Country name                                             \n",
       "Finland                              0.949      -0.098   \n",
       "Denmark                              0.946       0.030   \n",
       "Switzerland                          0.919       0.025   \n",
       "Iceland                              0.955       0.160   \n",
       "Netherlands                          0.913       0.175   \n",
       "...                                    ...         ...   \n",
       "Lesotho                              0.715      -0.131   \n",
       "Botswana                             0.824      -0.246   \n",
       "Rwanda                               0.897       0.061   \n",
       "Zimbabwe                             0.677      -0.047   \n",
       "Afghanistan                          0.382      -0.102   \n",
       "\n",
       "              Perceptions of corruption  \n",
       "Country name                             \n",
       "Finland                           0.186  \n",
       "Denmark                           0.179  \n",
       "Switzerland                       0.292  \n",
       "Iceland                           0.673  \n",
       "Netherlands                       0.338  \n",
       "...                                 ...  \n",
       "Lesotho                           0.915  \n",
       "Botswana                          0.801  \n",
       "Rwanda                            0.167  \n",
       "Zimbabwe                          0.821  \n",
       "Afghanistan                       0.924  \n",
       "\n",
       "[149 rows x 8 columns]"
      ]
     },
     "execution_count": 18,
     "metadata": {},
     "output_type": "execute_result"
    }
   ],
   "source": [
    "df1 = df[['Country name', 'Regional indicator', 'Ladder score',\n",
    "       'Logged GDP per capita', 'Social support', 'Healthy life expectancy',\n",
    "       'Freedom to make life choices', 'Generosity',\n",
    "       'Perceptions of corruption']].copy()\n",
    "df1.set_index('Country name', inplace=True)\n",
    "df1"
   ]
  },
  {
   "cell_type": "code",
   "execution_count": null,
   "id": "cb045c0f-5ae4-47fa-8d3b-ed4051649d43",
   "metadata": {},
   "outputs": [],
   "source": []
  },
  {
   "cell_type": "markdown",
   "id": "40be4500-cdfd-42be-984f-ceb8537fd025",
   "metadata": {},
   "source": [
    "### **Reaching to Rows   loc  & iloc**\n",
    "\n",
    "##### To reach the  single row  --> df.iloc[index number of the row] <-- iloc= integer location\n",
    "##### To reach the  single row  --> df.loc[label of the row] <-- loc = label location\n",
    "\n",
    "##### To reach more than one row --> df.iloc[[row1,row2]] or df.loc[[rowname1, rowname2]]<-- Remember to include 2 squarebracket"
   ]
  },
  {
   "cell_type": "code",
   "execution_count": 21,
   "id": "e1893e18-6cf5-4a1f-a9e8-3f214fc906bc",
   "metadata": {},
   "outputs": [
    {
     "data": {
      "text/html": [
       "<div>\n",
       "<style scoped>\n",
       "    .dataframe tbody tr th:only-of-type {\n",
       "        vertical-align: middle;\n",
       "    }\n",
       "\n",
       "    .dataframe tbody tr th {\n",
       "        vertical-align: top;\n",
       "    }\n",
       "\n",
       "    .dataframe thead th {\n",
       "        text-align: right;\n",
       "    }\n",
       "</style>\n",
       "<table border=\"1\" class=\"dataframe\">\n",
       "  <thead>\n",
       "    <tr style=\"text-align: right;\">\n",
       "      <th></th>\n",
       "      <th>Regional indicator</th>\n",
       "      <th>Ladder score</th>\n",
       "      <th>Logged GDP per capita</th>\n",
       "      <th>Social support</th>\n",
       "      <th>Healthy life expectancy</th>\n",
       "      <th>Freedom to make life choices</th>\n",
       "      <th>Generosity</th>\n",
       "      <th>Perceptions of corruption</th>\n",
       "    </tr>\n",
       "    <tr>\n",
       "      <th>Country name</th>\n",
       "      <th></th>\n",
       "      <th></th>\n",
       "      <th></th>\n",
       "      <th></th>\n",
       "      <th></th>\n",
       "      <th></th>\n",
       "      <th></th>\n",
       "      <th></th>\n",
       "    </tr>\n",
       "  </thead>\n",
       "  <tbody>\n",
       "    <tr>\n",
       "      <th>Finland</th>\n",
       "      <td>Western Europe</td>\n",
       "      <td>7.842</td>\n",
       "      <td>10.775</td>\n",
       "      <td>0.954</td>\n",
       "      <td>72.0</td>\n",
       "      <td>0.949</td>\n",
       "      <td>-0.098</td>\n",
       "      <td>0.186</td>\n",
       "    </tr>\n",
       "    <tr>\n",
       "      <th>Denmark</th>\n",
       "      <td>Western Europe</td>\n",
       "      <td>7.620</td>\n",
       "      <td>10.933</td>\n",
       "      <td>0.954</td>\n",
       "      <td>72.7</td>\n",
       "      <td>0.946</td>\n",
       "      <td>0.030</td>\n",
       "      <td>0.179</td>\n",
       "    </tr>\n",
       "    <tr>\n",
       "      <th>Switzerland</th>\n",
       "      <td>Western Europe</td>\n",
       "      <td>7.571</td>\n",
       "      <td>11.117</td>\n",
       "      <td>0.942</td>\n",
       "      <td>74.4</td>\n",
       "      <td>0.919</td>\n",
       "      <td>0.025</td>\n",
       "      <td>0.292</td>\n",
       "    </tr>\n",
       "  </tbody>\n",
       "</table>\n",
       "</div>"
      ],
      "text/plain": [
       "             Regional indicator  Ladder score  Logged GDP per capita  \\\n",
       "Country name                                                           \n",
       "Finland          Western Europe         7.842                 10.775   \n",
       "Denmark          Western Europe         7.620                 10.933   \n",
       "Switzerland      Western Europe         7.571                 11.117   \n",
       "\n",
       "              Social support  Healthy life expectancy  \\\n",
       "Country name                                            \n",
       "Finland                0.954                     72.0   \n",
       "Denmark                0.954                     72.7   \n",
       "Switzerland            0.942                     74.4   \n",
       "\n",
       "              Freedom to make life choices  Generosity  \\\n",
       "Country name                                             \n",
       "Finland                              0.949      -0.098   \n",
       "Denmark                              0.946       0.030   \n",
       "Switzerland                          0.919       0.025   \n",
       "\n",
       "              Perceptions of corruption  \n",
       "Country name                             \n",
       "Finland                           0.186  \n",
       "Denmark                           0.179  \n",
       "Switzerland                       0.292  "
      ]
     },
     "execution_count": 21,
     "metadata": {},
     "output_type": "execute_result"
    }
   ],
   "source": [
    "df1.head(3)"
   ]
  },
  {
   "cell_type": "code",
   "execution_count": 23,
   "id": "7ed393b0-f75e-4d4f-b6c9-eac37286a4cf",
   "metadata": {},
   "outputs": [
    {
     "data": {
      "text/plain": [
       "Regional indicator              Western Europe\n",
       "Ladder score                              7.62\n",
       "Logged GDP per capita                   10.933\n",
       "Social support                           0.954\n",
       "Healthy life expectancy                   72.7\n",
       "Freedom to make life choices             0.946\n",
       "Generosity                                0.03\n",
       "Perceptions of corruption                0.179\n",
       "Name: Denmark, dtype: object"
      ]
     },
     "execution_count": 23,
     "metadata": {},
     "output_type": "execute_result"
    }
   ],
   "source": [
    "#iloc\n",
    "\n",
    "df1.iloc[1]"
   ]
  },
  {
   "cell_type": "code",
   "execution_count": 24,
   "id": "c84b5a19-ad2f-4ce5-b8d4-29ee9ca8bd7b",
   "metadata": {},
   "outputs": [
    {
     "data": {
      "text/plain": [
       "Regional indicator              Western Europe\n",
       "Ladder score                             7.155\n",
       "Logged GDP per capita                   10.873\n",
       "Social support                           0.903\n",
       "Healthy life expectancy                   72.5\n",
       "Freedom to make life choices             0.875\n",
       "Generosity                               0.011\n",
       "Perceptions of corruption                 0.46\n",
       "Name: Germany, dtype: object"
      ]
     },
     "execution_count": 24,
     "metadata": {},
     "output_type": "execute_result"
    }
   ],
   "source": [
    "#loc\n",
    "df1.loc['Germany']"
   ]
  },
  {
   "cell_type": "code",
   "execution_count": 25,
   "id": "7bbfb7cf-10c2-474a-a280-1c2592ea6cf1",
   "metadata": {},
   "outputs": [
    {
     "data": {
      "text/html": [
       "<div>\n",
       "<style scoped>\n",
       "    .dataframe tbody tr th:only-of-type {\n",
       "        vertical-align: middle;\n",
       "    }\n",
       "\n",
       "    .dataframe tbody tr th {\n",
       "        vertical-align: top;\n",
       "    }\n",
       "\n",
       "    .dataframe thead th {\n",
       "        text-align: right;\n",
       "    }\n",
       "</style>\n",
       "<table border=\"1\" class=\"dataframe\">\n",
       "  <thead>\n",
       "    <tr style=\"text-align: right;\">\n",
       "      <th></th>\n",
       "      <th>Regional indicator</th>\n",
       "      <th>Ladder score</th>\n",
       "      <th>Logged GDP per capita</th>\n",
       "      <th>Social support</th>\n",
       "      <th>Healthy life expectancy</th>\n",
       "      <th>Freedom to make life choices</th>\n",
       "      <th>Generosity</th>\n",
       "      <th>Perceptions of corruption</th>\n",
       "    </tr>\n",
       "    <tr>\n",
       "      <th>Country name</th>\n",
       "      <th></th>\n",
       "      <th></th>\n",
       "      <th></th>\n",
       "      <th></th>\n",
       "      <th></th>\n",
       "      <th></th>\n",
       "      <th></th>\n",
       "      <th></th>\n",
       "    </tr>\n",
       "  </thead>\n",
       "  <tbody>\n",
       "    <tr>\n",
       "      <th>South Africa</th>\n",
       "      <td>Sub-Saharan Africa</td>\n",
       "      <td>4.956</td>\n",
       "      <td>9.403</td>\n",
       "      <td>0.860</td>\n",
       "      <td>56.904</td>\n",
       "      <td>0.749</td>\n",
       "      <td>-0.067</td>\n",
       "      <td>0.860</td>\n",
       "    </tr>\n",
       "    <tr>\n",
       "      <th>Turkey</th>\n",
       "      <td>Middle East and North Africa</td>\n",
       "      <td>4.948</td>\n",
       "      <td>10.240</td>\n",
       "      <td>0.822</td>\n",
       "      <td>67.199</td>\n",
       "      <td>0.576</td>\n",
       "      <td>-0.139</td>\n",
       "      <td>0.776</td>\n",
       "    </tr>\n",
       "    <tr>\n",
       "      <th>Pakistan</th>\n",
       "      <td>South Asia</td>\n",
       "      <td>4.934</td>\n",
       "      <td>8.458</td>\n",
       "      <td>0.651</td>\n",
       "      <td>58.709</td>\n",
       "      <td>0.726</td>\n",
       "      <td>0.098</td>\n",
       "      <td>0.787</td>\n",
       "    </tr>\n",
       "    <tr>\n",
       "      <th>Morocco</th>\n",
       "      <td>Middle East and North Africa</td>\n",
       "      <td>4.918</td>\n",
       "      <td>8.903</td>\n",
       "      <td>0.560</td>\n",
       "      <td>66.208</td>\n",
       "      <td>0.774</td>\n",
       "      <td>-0.236</td>\n",
       "      <td>0.801</td>\n",
       "    </tr>\n",
       "    <tr>\n",
       "      <th>Venezuela</th>\n",
       "      <td>Latin America and Caribbean</td>\n",
       "      <td>4.892</td>\n",
       "      <td>9.073</td>\n",
       "      <td>0.861</td>\n",
       "      <td>66.700</td>\n",
       "      <td>0.615</td>\n",
       "      <td>-0.169</td>\n",
       "      <td>0.827</td>\n",
       "    </tr>\n",
       "    <tr>\n",
       "      <th>Georgia</th>\n",
       "      <td>Commonwealth of Independent States</td>\n",
       "      <td>4.891</td>\n",
       "      <td>9.585</td>\n",
       "      <td>0.671</td>\n",
       "      <td>64.300</td>\n",
       "      <td>0.783</td>\n",
       "      <td>-0.238</td>\n",
       "      <td>0.655</td>\n",
       "    </tr>\n",
       "    <tr>\n",
       "      <th>Algeria</th>\n",
       "      <td>Middle East and North Africa</td>\n",
       "      <td>4.887</td>\n",
       "      <td>9.342</td>\n",
       "      <td>0.802</td>\n",
       "      <td>66.005</td>\n",
       "      <td>0.480</td>\n",
       "      <td>-0.067</td>\n",
       "      <td>0.752</td>\n",
       "    </tr>\n",
       "  </tbody>\n",
       "</table>\n",
       "</div>"
      ],
      "text/plain": [
       "                              Regional indicator  Ladder score  \\\n",
       "Country name                                                     \n",
       "South Africa                  Sub-Saharan Africa         4.956   \n",
       "Turkey              Middle East and North Africa         4.948   \n",
       "Pakistan                              South Asia         4.934   \n",
       "Morocco             Middle East and North Africa         4.918   \n",
       "Venezuela            Latin America and Caribbean         4.892   \n",
       "Georgia       Commonwealth of Independent States         4.891   \n",
       "Algeria             Middle East and North Africa         4.887   \n",
       "\n",
       "              Logged GDP per capita  Social support  Healthy life expectancy  \\\n",
       "Country name                                                                   \n",
       "South Africa                  9.403           0.860                   56.904   \n",
       "Turkey                       10.240           0.822                   67.199   \n",
       "Pakistan                      8.458           0.651                   58.709   \n",
       "Morocco                       8.903           0.560                   66.208   \n",
       "Venezuela                     9.073           0.861                   66.700   \n",
       "Georgia                       9.585           0.671                   64.300   \n",
       "Algeria                       9.342           0.802                   66.005   \n",
       "\n",
       "              Freedom to make life choices  Generosity  \\\n",
       "Country name                                             \n",
       "South Africa                         0.749      -0.067   \n",
       "Turkey                               0.576      -0.139   \n",
       "Pakistan                             0.726       0.098   \n",
       "Morocco                              0.774      -0.236   \n",
       "Venezuela                            0.615      -0.169   \n",
       "Georgia                              0.783      -0.238   \n",
       "Algeria                              0.480      -0.067   \n",
       "\n",
       "              Perceptions of corruption  \n",
       "Country name                             \n",
       "South Africa                      0.860  \n",
       "Turkey                            0.776  \n",
       "Pakistan                          0.787  \n",
       "Morocco                           0.801  \n",
       "Venezuela                         0.827  \n",
       "Georgia                           0.655  \n",
       "Algeria                           0.752  "
      ]
     },
     "execution_count": 25,
     "metadata": {},
     "output_type": "execute_result"
    }
   ],
   "source": [
    "# iloc\n",
    "\n",
    "df1.iloc[102:109]\n"
   ]
  },
  {
   "cell_type": "code",
   "execution_count": 26,
   "id": "0630980d-92a3-44dc-b87c-a63b4331aeb8",
   "metadata": {},
   "outputs": [
    {
     "data": {
      "text/html": [
       "<div>\n",
       "<style scoped>\n",
       "    .dataframe tbody tr th:only-of-type {\n",
       "        vertical-align: middle;\n",
       "    }\n",
       "\n",
       "    .dataframe tbody tr th {\n",
       "        vertical-align: top;\n",
       "    }\n",
       "\n",
       "    .dataframe thead th {\n",
       "        text-align: right;\n",
       "    }\n",
       "</style>\n",
       "<table border=\"1\" class=\"dataframe\">\n",
       "  <thead>\n",
       "    <tr style=\"text-align: right;\">\n",
       "      <th></th>\n",
       "      <th>Regional indicator</th>\n",
       "      <th>Ladder score</th>\n",
       "      <th>Logged GDP per capita</th>\n",
       "      <th>Social support</th>\n",
       "      <th>Healthy life expectancy</th>\n",
       "      <th>Freedom to make life choices</th>\n",
       "      <th>Generosity</th>\n",
       "      <th>Perceptions of corruption</th>\n",
       "    </tr>\n",
       "    <tr>\n",
       "      <th>Country name</th>\n",
       "      <th></th>\n",
       "      <th></th>\n",
       "      <th></th>\n",
       "      <th></th>\n",
       "      <th></th>\n",
       "      <th></th>\n",
       "      <th></th>\n",
       "      <th></th>\n",
       "    </tr>\n",
       "  </thead>\n",
       "  <tbody>\n",
       "    <tr>\n",
       "      <th>South Africa</th>\n",
       "      <td>Sub-Saharan Africa</td>\n",
       "      <td>4.956</td>\n",
       "      <td>9.403</td>\n",
       "      <td>0.860</td>\n",
       "      <td>56.904</td>\n",
       "      <td>0.749</td>\n",
       "      <td>-0.067</td>\n",
       "      <td>0.860</td>\n",
       "    </tr>\n",
       "    <tr>\n",
       "      <th>Turkey</th>\n",
       "      <td>Middle East and North Africa</td>\n",
       "      <td>4.948</td>\n",
       "      <td>10.240</td>\n",
       "      <td>0.822</td>\n",
       "      <td>67.199</td>\n",
       "      <td>0.576</td>\n",
       "      <td>-0.139</td>\n",
       "      <td>0.776</td>\n",
       "    </tr>\n",
       "    <tr>\n",
       "      <th>Pakistan</th>\n",
       "      <td>South Asia</td>\n",
       "      <td>4.934</td>\n",
       "      <td>8.458</td>\n",
       "      <td>0.651</td>\n",
       "      <td>58.709</td>\n",
       "      <td>0.726</td>\n",
       "      <td>0.098</td>\n",
       "      <td>0.787</td>\n",
       "    </tr>\n",
       "    <tr>\n",
       "      <th>Morocco</th>\n",
       "      <td>Middle East and North Africa</td>\n",
       "      <td>4.918</td>\n",
       "      <td>8.903</td>\n",
       "      <td>0.560</td>\n",
       "      <td>66.208</td>\n",
       "      <td>0.774</td>\n",
       "      <td>-0.236</td>\n",
       "      <td>0.801</td>\n",
       "    </tr>\n",
       "    <tr>\n",
       "      <th>Venezuela</th>\n",
       "      <td>Latin America and Caribbean</td>\n",
       "      <td>4.892</td>\n",
       "      <td>9.073</td>\n",
       "      <td>0.861</td>\n",
       "      <td>66.700</td>\n",
       "      <td>0.615</td>\n",
       "      <td>-0.169</td>\n",
       "      <td>0.827</td>\n",
       "    </tr>\n",
       "    <tr>\n",
       "      <th>Georgia</th>\n",
       "      <td>Commonwealth of Independent States</td>\n",
       "      <td>4.891</td>\n",
       "      <td>9.585</td>\n",
       "      <td>0.671</td>\n",
       "      <td>64.300</td>\n",
       "      <td>0.783</td>\n",
       "      <td>-0.238</td>\n",
       "      <td>0.655</td>\n",
       "    </tr>\n",
       "    <tr>\n",
       "      <th>Algeria</th>\n",
       "      <td>Middle East and North Africa</td>\n",
       "      <td>4.887</td>\n",
       "      <td>9.342</td>\n",
       "      <td>0.802</td>\n",
       "      <td>66.005</td>\n",
       "      <td>0.480</td>\n",
       "      <td>-0.067</td>\n",
       "      <td>0.752</td>\n",
       "    </tr>\n",
       "  </tbody>\n",
       "</table>\n",
       "</div>"
      ],
      "text/plain": [
       "                              Regional indicator  Ladder score  \\\n",
       "Country name                                                     \n",
       "South Africa                  Sub-Saharan Africa         4.956   \n",
       "Turkey              Middle East and North Africa         4.948   \n",
       "Pakistan                              South Asia         4.934   \n",
       "Morocco             Middle East and North Africa         4.918   \n",
       "Venezuela            Latin America and Caribbean         4.892   \n",
       "Georgia       Commonwealth of Independent States         4.891   \n",
       "Algeria             Middle East and North Africa         4.887   \n",
       "\n",
       "              Logged GDP per capita  Social support  Healthy life expectancy  \\\n",
       "Country name                                                                   \n",
       "South Africa                  9.403           0.860                   56.904   \n",
       "Turkey                       10.240           0.822                   67.199   \n",
       "Pakistan                      8.458           0.651                   58.709   \n",
       "Morocco                       8.903           0.560                   66.208   \n",
       "Venezuela                     9.073           0.861                   66.700   \n",
       "Georgia                       9.585           0.671                   64.300   \n",
       "Algeria                       9.342           0.802                   66.005   \n",
       "\n",
       "              Freedom to make life choices  Generosity  \\\n",
       "Country name                                             \n",
       "South Africa                         0.749      -0.067   \n",
       "Turkey                               0.576      -0.139   \n",
       "Pakistan                             0.726       0.098   \n",
       "Morocco                              0.774      -0.236   \n",
       "Venezuela                            0.615      -0.169   \n",
       "Georgia                              0.783      -0.238   \n",
       "Algeria                              0.480      -0.067   \n",
       "\n",
       "              Perceptions of corruption  \n",
       "Country name                             \n",
       "South Africa                      0.860  \n",
       "Turkey                            0.776  \n",
       "Pakistan                          0.787  \n",
       "Morocco                           0.801  \n",
       "Venezuela                         0.827  \n",
       "Georgia                           0.655  \n",
       "Algeria                           0.752  "
      ]
     },
     "execution_count": 26,
     "metadata": {},
     "output_type": "execute_result"
    }
   ],
   "source": [
    "# loc\n",
    "df1.loc['South Africa':'Algeria']"
   ]
  },
  {
   "cell_type": "markdown",
   "id": "8722a4b3-c29f-4917-a7a8-cc84a342b67c",
   "metadata": {},
   "source": [
    "### **Reaching to Columns and Rows Together**\n",
    "\n",
    "\n",
    "##### To reach both rows and columns --> df.iloc[[row1,row2], [column1,column2]] or df.loc[[rowname1, rowname2],['columnname1','columnname2']]\n",
    "\n",
    "##### df.loc[0:3,'Hobbyist':'ConvertedComp']  # <--- It gives us first 3 rows and columns between given two column names. We don't use second square bracket."
   ]
  },
  {
   "cell_type": "code",
   "execution_count": 27,
   "id": "93868e41-d4ff-4ae3-a5a8-6fa73d70ada6",
   "metadata": {},
   "outputs": [
    {
     "data": {
      "text/html": [
       "<div>\n",
       "<style scoped>\n",
       "    .dataframe tbody tr th:only-of-type {\n",
       "        vertical-align: middle;\n",
       "    }\n",
       "\n",
       "    .dataframe tbody tr th {\n",
       "        vertical-align: top;\n",
       "    }\n",
       "\n",
       "    .dataframe thead th {\n",
       "        text-align: right;\n",
       "    }\n",
       "</style>\n",
       "<table border=\"1\" class=\"dataframe\">\n",
       "  <thead>\n",
       "    <tr style=\"text-align: right;\">\n",
       "      <th></th>\n",
       "      <th>Regional indicator</th>\n",
       "      <th>Ladder score</th>\n",
       "      <th>Logged GDP per capita</th>\n",
       "      <th>Social support</th>\n",
       "      <th>Healthy life expectancy</th>\n",
       "      <th>Freedom to make life choices</th>\n",
       "      <th>Generosity</th>\n",
       "      <th>Perceptions of corruption</th>\n",
       "    </tr>\n",
       "    <tr>\n",
       "      <th>Country name</th>\n",
       "      <th></th>\n",
       "      <th></th>\n",
       "      <th></th>\n",
       "      <th></th>\n",
       "      <th></th>\n",
       "      <th></th>\n",
       "      <th></th>\n",
       "      <th></th>\n",
       "    </tr>\n",
       "  </thead>\n",
       "  <tbody>\n",
       "    <tr>\n",
       "      <th>Finland</th>\n",
       "      <td>Western Europe</td>\n",
       "      <td>7.842</td>\n",
       "      <td>10.775</td>\n",
       "      <td>0.954</td>\n",
       "      <td>72.0</td>\n",
       "      <td>0.949</td>\n",
       "      <td>-0.098</td>\n",
       "      <td>0.186</td>\n",
       "    </tr>\n",
       "    <tr>\n",
       "      <th>Denmark</th>\n",
       "      <td>Western Europe</td>\n",
       "      <td>7.620</td>\n",
       "      <td>10.933</td>\n",
       "      <td>0.954</td>\n",
       "      <td>72.7</td>\n",
       "      <td>0.946</td>\n",
       "      <td>0.030</td>\n",
       "      <td>0.179</td>\n",
       "    </tr>\n",
       "    <tr>\n",
       "      <th>Switzerland</th>\n",
       "      <td>Western Europe</td>\n",
       "      <td>7.571</td>\n",
       "      <td>11.117</td>\n",
       "      <td>0.942</td>\n",
       "      <td>74.4</td>\n",
       "      <td>0.919</td>\n",
       "      <td>0.025</td>\n",
       "      <td>0.292</td>\n",
       "    </tr>\n",
       "    <tr>\n",
       "      <th>Iceland</th>\n",
       "      <td>Western Europe</td>\n",
       "      <td>7.554</td>\n",
       "      <td>10.878</td>\n",
       "      <td>0.983</td>\n",
       "      <td>73.0</td>\n",
       "      <td>0.955</td>\n",
       "      <td>0.160</td>\n",
       "      <td>0.673</td>\n",
       "    </tr>\n",
       "    <tr>\n",
       "      <th>Netherlands</th>\n",
       "      <td>Western Europe</td>\n",
       "      <td>7.464</td>\n",
       "      <td>10.932</td>\n",
       "      <td>0.942</td>\n",
       "      <td>72.4</td>\n",
       "      <td>0.913</td>\n",
       "      <td>0.175</td>\n",
       "      <td>0.338</td>\n",
       "    </tr>\n",
       "  </tbody>\n",
       "</table>\n",
       "</div>"
      ],
      "text/plain": [
       "             Regional indicator  Ladder score  Logged GDP per capita  \\\n",
       "Country name                                                           \n",
       "Finland          Western Europe         7.842                 10.775   \n",
       "Denmark          Western Europe         7.620                 10.933   \n",
       "Switzerland      Western Europe         7.571                 11.117   \n",
       "Iceland          Western Europe         7.554                 10.878   \n",
       "Netherlands      Western Europe         7.464                 10.932   \n",
       "\n",
       "              Social support  Healthy life expectancy  \\\n",
       "Country name                                            \n",
       "Finland                0.954                     72.0   \n",
       "Denmark                0.954                     72.7   \n",
       "Switzerland            0.942                     74.4   \n",
       "Iceland                0.983                     73.0   \n",
       "Netherlands            0.942                     72.4   \n",
       "\n",
       "              Freedom to make life choices  Generosity  \\\n",
       "Country name                                             \n",
       "Finland                              0.949      -0.098   \n",
       "Denmark                              0.946       0.030   \n",
       "Switzerland                          0.919       0.025   \n",
       "Iceland                              0.955       0.160   \n",
       "Netherlands                          0.913       0.175   \n",
       "\n",
       "              Perceptions of corruption  \n",
       "Country name                             \n",
       "Finland                           0.186  \n",
       "Denmark                           0.179  \n",
       "Switzerland                       0.292  \n",
       "Iceland                           0.673  \n",
       "Netherlands                       0.338  "
      ]
     },
     "execution_count": 27,
     "metadata": {},
     "output_type": "execute_result"
    }
   ],
   "source": [
    "df1.head()"
   ]
  },
  {
   "cell_type": "code",
   "execution_count": 34,
   "id": "efbb7e4d-54f1-40fe-8050-a842de90e8d0",
   "metadata": {},
   "outputs": [
    {
     "data": {
      "text/html": [
       "<div>\n",
       "<style scoped>\n",
       "    .dataframe tbody tr th:only-of-type {\n",
       "        vertical-align: middle;\n",
       "    }\n",
       "\n",
       "    .dataframe tbody tr th {\n",
       "        vertical-align: top;\n",
       "    }\n",
       "\n",
       "    .dataframe thead th {\n",
       "        text-align: right;\n",
       "    }\n",
       "</style>\n",
       "<table border=\"1\" class=\"dataframe\">\n",
       "  <thead>\n",
       "    <tr style=\"text-align: right;\">\n",
       "      <th></th>\n",
       "      <th>Ladder score</th>\n",
       "      <th>Generosity</th>\n",
       "      <th>Perceptions of corruption</th>\n",
       "    </tr>\n",
       "    <tr>\n",
       "      <th>Country name</th>\n",
       "      <th></th>\n",
       "      <th></th>\n",
       "      <th></th>\n",
       "    </tr>\n",
       "  </thead>\n",
       "  <tbody>\n",
       "    <tr>\n",
       "      <th>Germany</th>\n",
       "      <td>7.155</td>\n",
       "      <td>0.011</td>\n",
       "      <td>0.460</td>\n",
       "    </tr>\n",
       "    <tr>\n",
       "      <th>Costa Rica</th>\n",
       "      <td>7.069</td>\n",
       "      <td>-0.126</td>\n",
       "      <td>0.809</td>\n",
       "    </tr>\n",
       "    <tr>\n",
       "      <th>Estonia</th>\n",
       "      <td>6.189</td>\n",
       "      <td>-0.106</td>\n",
       "      <td>0.527</td>\n",
       "    </tr>\n",
       "  </tbody>\n",
       "</table>\n",
       "</div>"
      ],
      "text/plain": [
       "              Ladder score  Generosity  Perceptions of corruption\n",
       "Country name                                                     \n",
       "Germany              7.155       0.011                      0.460\n",
       "Costa Rica           7.069      -0.126                      0.809\n",
       "Estonia              6.189      -0.106                      0.527"
      ]
     },
     "execution_count": 34,
     "metadata": {},
     "output_type": "execute_result"
    }
   ],
   "source": [
    "# iloc\n",
    "\n",
    "df1.iloc[[12,15,39],[1,6,7]]\n"
   ]
  },
  {
   "cell_type": "code",
   "execution_count": 35,
   "id": "73923075-daf6-42d4-868a-ec3c195973a8",
   "metadata": {},
   "outputs": [
    {
     "data": {
      "text/html": [
       "<div>\n",
       "<style scoped>\n",
       "    .dataframe tbody tr th:only-of-type {\n",
       "        vertical-align: middle;\n",
       "    }\n",
       "\n",
       "    .dataframe tbody tr th {\n",
       "        vertical-align: top;\n",
       "    }\n",
       "\n",
       "    .dataframe thead th {\n",
       "        text-align: right;\n",
       "    }\n",
       "</style>\n",
       "<table border=\"1\" class=\"dataframe\">\n",
       "  <thead>\n",
       "    <tr style=\"text-align: right;\">\n",
       "      <th></th>\n",
       "      <th>Ladder score</th>\n",
       "      <th>Generosity</th>\n",
       "      <th>Perceptions of corruption</th>\n",
       "    </tr>\n",
       "    <tr>\n",
       "      <th>Country name</th>\n",
       "      <th></th>\n",
       "      <th></th>\n",
       "      <th></th>\n",
       "    </tr>\n",
       "  </thead>\n",
       "  <tbody>\n",
       "    <tr>\n",
       "      <th>Germany</th>\n",
       "      <td>7.155</td>\n",
       "      <td>0.011</td>\n",
       "      <td>0.460</td>\n",
       "    </tr>\n",
       "    <tr>\n",
       "      <th>Costa Rica</th>\n",
       "      <td>7.069</td>\n",
       "      <td>-0.126</td>\n",
       "      <td>0.809</td>\n",
       "    </tr>\n",
       "    <tr>\n",
       "      <th>Estonia</th>\n",
       "      <td>6.189</td>\n",
       "      <td>-0.106</td>\n",
       "      <td>0.527</td>\n",
       "    </tr>\n",
       "  </tbody>\n",
       "</table>\n",
       "</div>"
      ],
      "text/plain": [
       "              Ladder score  Generosity  Perceptions of corruption\n",
       "Country name                                                     \n",
       "Germany              7.155       0.011                      0.460\n",
       "Costa Rica           7.069      -0.126                      0.809\n",
       "Estonia              6.189      -0.106                      0.527"
      ]
     },
     "execution_count": 35,
     "metadata": {},
     "output_type": "execute_result"
    }
   ],
   "source": [
    "# loc\n",
    "df1.loc[['Germany','Costa Rica','Estonia'],['Ladder score','Generosity','Perceptions of corruption']]"
   ]
  },
  {
   "cell_type": "markdown",
   "id": "cb99750d-e51c-4604-a230-a71b1250b856",
   "metadata": {},
   "source": [
    "#### Pandas Series & Numpy Arrays"
   ]
  },
  {
   "cell_type": "code",
   "execution_count": 36,
   "id": "7f7cab1f-f3b3-4eca-9462-7edcc2cf5517",
   "metadata": {},
   "outputs": [
    {
     "data": {
      "text/plain": [
       "Country name\n",
       "Finland       -0.098\n",
       "Denmark        0.030\n",
       "Switzerland    0.025\n",
       "Iceland        0.160\n",
       "Netherlands    0.175\n",
       "               ...  \n",
       "Lesotho       -0.131\n",
       "Botswana      -0.246\n",
       "Rwanda         0.061\n",
       "Zimbabwe      -0.047\n",
       "Afghanistan   -0.102\n",
       "Name: Generosity, Length: 149, dtype: float64"
      ]
     },
     "execution_count": 36,
     "metadata": {},
     "output_type": "execute_result"
    }
   ],
   "source": [
    "ser = df1['Generosity'].copy()\n",
    "ser"
   ]
  },
  {
   "cell_type": "code",
   "execution_count": 37,
   "id": "3e0bbc34-6d0e-40c4-a389-a4d3d3c25966",
   "metadata": {},
   "outputs": [
    {
     "data": {
      "text/plain": [
       "pandas.core.series.Series"
      ]
     },
     "execution_count": 37,
     "metadata": {},
     "output_type": "execute_result"
    }
   ],
   "source": [
    "type(ser)"
   ]
  },
  {
   "cell_type": "code",
   "execution_count": 38,
   "id": "2ee308bd-d367-464b-9670-2f25c5ede038",
   "metadata": {},
   "outputs": [
    {
     "data": {
      "text/plain": [
       "Country name\n",
       "Finland       -0.098\n",
       "Denmark        0.030\n",
       "Switzerland    0.025\n",
       "Name: Generosity, dtype: float64"
      ]
     },
     "execution_count": 38,
     "metadata": {},
     "output_type": "execute_result"
    }
   ],
   "source": [
    "ser.head(3)"
   ]
  },
  {
   "cell_type": "code",
   "execution_count": 39,
   "id": "78acda7e-3b1b-4986-ab72-6644fe785730",
   "metadata": {},
   "outputs": [
    {
     "data": {
      "text/plain": [
       "-0.015134228187919463"
      ]
     },
     "execution_count": 39,
     "metadata": {},
     "output_type": "execute_result"
    }
   ],
   "source": [
    "ser.mean()"
   ]
  },
  {
   "cell_type": "code",
   "execution_count": 40,
   "id": "c2393db5-8bb6-4d5b-857b-6be00603ffe9",
   "metadata": {},
   "outputs": [
    {
     "data": {
      "text/plain": [
       "-0.288"
      ]
     },
     "execution_count": 40,
     "metadata": {},
     "output_type": "execute_result"
    }
   ],
   "source": [
    "ser.min()"
   ]
  },
  {
   "cell_type": "code",
   "execution_count": 41,
   "id": "e677e421-eca8-42c4-9457-b0dcd5e6d2b3",
   "metadata": {},
   "outputs": [
    {
     "data": {
      "text/plain": [
       "Country name\n",
       "France                      100.0\n",
       "Bahrain                     100.0\n",
       "Malta                       100.0\n",
       "Taiwan Province of China    100.0\n",
       "United Arab Emirates        100.0\n",
       "                            ...  \n",
       "Turkmenistan                100.0\n",
       "Gambia                      100.0\n",
       "Benin                       100.0\n",
       "Laos                        100.0\n",
       "Bangladesh                  100.0\n",
       "Name: Generosity, Length: 81, dtype: float64"
      ]
     },
     "execution_count": 41,
     "metadata": {},
     "output_type": "execute_result"
    }
   ],
   "source": [
    "ser[20:101] = 100\n",
    "\n",
    "ser[20:101]\n"
   ]
  },
  {
   "cell_type": "markdown",
   "id": "a15a741f-06be-4521-8317-867880b0fad6",
   "metadata": {},
   "source": [
    "### Conditional Filtering"
   ]
  },
  {
   "cell_type": "code",
   "execution_count": null,
   "id": "454cfd30-9100-44cb-8df9-c5441d86696d",
   "metadata": {},
   "outputs": [],
   "source": [
    "# Exercise\n",
    "\n",
    "1. Get the number of countries where perceptions of corruption is EQUAL or HIGHER than \n",
    "mean score of the level of perceptions of corruption\n",
    "\n",
    "2.Get the number of countries where perceptions of corruption is LOWER than \n",
    "mean score of the level of perceptions of corruption\n",
    "\n",
    "3. Print a result sentence similar to follwoing one:\n",
    "\n",
    "Out of 149 countries; Citizens of 95 countries perceive above the mean level of perceptions of corruption in their countries.\n",
    "On the other hand citizens of 54 countries perceive below the mean level of perceptions of corruption in their countries."
   ]
  },
  {
   "cell_type": "code",
   "execution_count": null,
   "id": "d4473fb3-191c-4842-abdf-3f51cbc3a36a",
   "metadata": {},
   "outputs": [],
   "source": []
  },
  {
   "cell_type": "code",
   "execution_count": 42,
   "id": "9d0175eb-310a-4120-bcf6-48b8e5110ab7",
   "metadata": {},
   "outputs": [
    {
     "data": {
      "text/plain": [
       "count    149.000000\n",
       "mean       0.727450\n",
       "std        0.179226\n",
       "min        0.082000\n",
       "25%        0.667000\n",
       "50%        0.781000\n",
       "75%        0.845000\n",
       "max        0.939000\n",
       "Name: Perceptions of corruption, dtype: float64"
      ]
     },
     "execution_count": 42,
     "metadata": {},
     "output_type": "execute_result"
    }
   ],
   "source": [
    "df1['Perceptions of corruption'].describe()"
   ]
  },
  {
   "cell_type": "code",
   "execution_count": 46,
   "id": "830c4433-f4e6-4c07-8d65-a08d7cca2cd6",
   "metadata": {},
   "outputs": [
    {
     "data": {
      "text/plain": [
       "Country name\n",
       "Finland        0.186\n",
       "Denmark        0.179\n",
       "Switzerland    0.292\n",
       "Iceland        0.673\n",
       "Netherlands    0.338\n",
       "               ...  \n",
       "Lesotho        0.915\n",
       "Botswana       0.801\n",
       "Rwanda         0.167\n",
       "Zimbabwe       0.821\n",
       "Afghanistan    0.924\n",
       "Name: Perceptions of corruption, Length: 149, dtype: float64"
      ]
     },
     "execution_count": 46,
     "metadata": {},
     "output_type": "execute_result"
    }
   ],
   "source": [
    "df1['Perceptions of corruption']"
   ]
  },
  {
   "cell_type": "code",
   "execution_count": 43,
   "id": "f265dade-0323-438d-8aba-71b49b9647c1",
   "metadata": {},
   "outputs": [
    {
     "data": {
      "text/plain": [
       "(95, 8)"
      ]
     },
     "execution_count": 43,
     "metadata": {},
     "output_type": "execute_result"
    }
   ],
   "source": [
    "high_corruption = df1[(df1['Perceptions of corruption']>=df1['Perceptions of corruption'].mean())]\n",
    "\n",
    "high_corruption.shape"
   ]
  },
  {
   "cell_type": "code",
   "execution_count": 47,
   "id": "69e7d992-3f38-43fc-a628-d0bfecae416c",
   "metadata": {},
   "outputs": [
    {
     "data": {
      "text/html": [
       "<div>\n",
       "<style scoped>\n",
       "    .dataframe tbody tr th:only-of-type {\n",
       "        vertical-align: middle;\n",
       "    }\n",
       "\n",
       "    .dataframe tbody tr th {\n",
       "        vertical-align: top;\n",
       "    }\n",
       "\n",
       "    .dataframe thead th {\n",
       "        text-align: right;\n",
       "    }\n",
       "</style>\n",
       "<table border=\"1\" class=\"dataframe\">\n",
       "  <thead>\n",
       "    <tr style=\"text-align: right;\">\n",
       "      <th></th>\n",
       "      <th>Regional indicator</th>\n",
       "      <th>Ladder score</th>\n",
       "      <th>Logged GDP per capita</th>\n",
       "      <th>Social support</th>\n",
       "      <th>Healthy life expectancy</th>\n",
       "      <th>Freedom to make life choices</th>\n",
       "      <th>Generosity</th>\n",
       "      <th>Perceptions of corruption</th>\n",
       "    </tr>\n",
       "    <tr>\n",
       "      <th>Country name</th>\n",
       "      <th></th>\n",
       "      <th></th>\n",
       "      <th></th>\n",
       "      <th></th>\n",
       "      <th></th>\n",
       "      <th></th>\n",
       "      <th></th>\n",
       "      <th></th>\n",
       "    </tr>\n",
       "  </thead>\n",
       "  <tbody>\n",
       "    <tr>\n",
       "      <th>Israel</th>\n",
       "      <td>Middle East and North Africa</td>\n",
       "      <td>7.157</td>\n",
       "      <td>10.575</td>\n",
       "      <td>0.939</td>\n",
       "      <td>73.503</td>\n",
       "      <td>0.800</td>\n",
       "      <td>0.031</td>\n",
       "      <td>0.753</td>\n",
       "    </tr>\n",
       "    <tr>\n",
       "      <th>Costa Rica</th>\n",
       "      <td>Latin America and Caribbean</td>\n",
       "      <td>7.069</td>\n",
       "      <td>9.880</td>\n",
       "      <td>0.891</td>\n",
       "      <td>71.400</td>\n",
       "      <td>0.934</td>\n",
       "      <td>-0.126</td>\n",
       "      <td>0.809</td>\n",
       "    </tr>\n",
       "    <tr>\n",
       "      <th>Czech Republic</th>\n",
       "      <td>Central and Eastern Europe</td>\n",
       "      <td>6.965</td>\n",
       "      <td>10.556</td>\n",
       "      <td>0.947</td>\n",
       "      <td>70.807</td>\n",
       "      <td>0.858</td>\n",
       "      <td>-0.208</td>\n",
       "      <td>0.868</td>\n",
       "    </tr>\n",
       "    <tr>\n",
       "      <th>Spain</th>\n",
       "      <td>Western Europe</td>\n",
       "      <td>6.491</td>\n",
       "      <td>10.571</td>\n",
       "      <td>0.932</td>\n",
       "      <td>74.700</td>\n",
       "      <td>0.761</td>\n",
       "      <td>-0.081</td>\n",
       "      <td>0.745</td>\n",
       "    </tr>\n",
       "    <tr>\n",
       "      <th>Italy</th>\n",
       "      <td>Western Europe</td>\n",
       "      <td>6.483</td>\n",
       "      <td>10.623</td>\n",
       "      <td>0.880</td>\n",
       "      <td>73.800</td>\n",
       "      <td>0.693</td>\n",
       "      <td>-0.084</td>\n",
       "      <td>0.866</td>\n",
       "    </tr>\n",
       "    <tr>\n",
       "      <th>Slovenia</th>\n",
       "      <td>Central and Eastern Europe</td>\n",
       "      <td>6.461</td>\n",
       "      <td>10.529</td>\n",
       "      <td>0.948</td>\n",
       "      <td>71.400</td>\n",
       "      <td>0.949</td>\n",
       "      <td>-0.101</td>\n",
       "      <td>0.806</td>\n",
       "    </tr>\n",
       "    <tr>\n",
       "      <th>Guatemala</th>\n",
       "      <td>Latin America and Caribbean</td>\n",
       "      <td>6.435</td>\n",
       "      <td>9.053</td>\n",
       "      <td>0.813</td>\n",
       "      <td>64.958</td>\n",
       "      <td>0.906</td>\n",
       "      <td>-0.038</td>\n",
       "      <td>0.775</td>\n",
       "    </tr>\n",
       "    <tr>\n",
       "      <th>Kosovo</th>\n",
       "      <td>Central and Eastern Europe</td>\n",
       "      <td>6.372</td>\n",
       "      <td>9.318</td>\n",
       "      <td>0.821</td>\n",
       "      <td>63.813</td>\n",
       "      <td>0.869</td>\n",
       "      <td>0.257</td>\n",
       "      <td>0.917</td>\n",
       "    </tr>\n",
       "    <tr>\n",
       "      <th>Slovakia</th>\n",
       "      <td>Central and Eastern Europe</td>\n",
       "      <td>6.331</td>\n",
       "      <td>10.369</td>\n",
       "      <td>0.936</td>\n",
       "      <td>69.201</td>\n",
       "      <td>0.766</td>\n",
       "      <td>-0.124</td>\n",
       "      <td>0.911</td>\n",
       "    </tr>\n",
       "    <tr>\n",
       "      <th>Brazil</th>\n",
       "      <td>Latin America and Caribbean</td>\n",
       "      <td>6.330</td>\n",
       "      <td>9.577</td>\n",
       "      <td>0.882</td>\n",
       "      <td>66.601</td>\n",
       "      <td>0.804</td>\n",
       "      <td>-0.071</td>\n",
       "      <td>0.756</td>\n",
       "    </tr>\n",
       "  </tbody>\n",
       "</table>\n",
       "</div>"
      ],
      "text/plain": [
       "                          Regional indicator  Ladder score  \\\n",
       "Country name                                                 \n",
       "Israel          Middle East and North Africa         7.157   \n",
       "Costa Rica       Latin America and Caribbean         7.069   \n",
       "Czech Republic    Central and Eastern Europe         6.965   \n",
       "Spain                         Western Europe         6.491   \n",
       "Italy                         Western Europe         6.483   \n",
       "Slovenia          Central and Eastern Europe         6.461   \n",
       "Guatemala        Latin America and Caribbean         6.435   \n",
       "Kosovo            Central and Eastern Europe         6.372   \n",
       "Slovakia          Central and Eastern Europe         6.331   \n",
       "Brazil           Latin America and Caribbean         6.330   \n",
       "\n",
       "                Logged GDP per capita  Social support  \\\n",
       "Country name                                            \n",
       "Israel                         10.575           0.939   \n",
       "Costa Rica                      9.880           0.891   \n",
       "Czech Republic                 10.556           0.947   \n",
       "Spain                          10.571           0.932   \n",
       "Italy                          10.623           0.880   \n",
       "Slovenia                       10.529           0.948   \n",
       "Guatemala                       9.053           0.813   \n",
       "Kosovo                          9.318           0.821   \n",
       "Slovakia                       10.369           0.936   \n",
       "Brazil                          9.577           0.882   \n",
       "\n",
       "                Healthy life expectancy  Freedom to make life choices  \\\n",
       "Country name                                                            \n",
       "Israel                           73.503                         0.800   \n",
       "Costa Rica                       71.400                         0.934   \n",
       "Czech Republic                   70.807                         0.858   \n",
       "Spain                            74.700                         0.761   \n",
       "Italy                            73.800                         0.693   \n",
       "Slovenia                         71.400                         0.949   \n",
       "Guatemala                        64.958                         0.906   \n",
       "Kosovo                           63.813                         0.869   \n",
       "Slovakia                         69.201                         0.766   \n",
       "Brazil                           66.601                         0.804   \n",
       "\n",
       "                Generosity  Perceptions of corruption  \n",
       "Country name                                           \n",
       "Israel               0.031                      0.753  \n",
       "Costa Rica          -0.126                      0.809  \n",
       "Czech Republic      -0.208                      0.868  \n",
       "Spain               -0.081                      0.745  \n",
       "Italy               -0.084                      0.866  \n",
       "Slovenia            -0.101                      0.806  \n",
       "Guatemala           -0.038                      0.775  \n",
       "Kosovo               0.257                      0.917  \n",
       "Slovakia            -0.124                      0.911  \n",
       "Brazil              -0.071                      0.756  "
      ]
     },
     "execution_count": 47,
     "metadata": {},
     "output_type": "execute_result"
    }
   ],
   "source": [
    "high_corruption.head(10)"
   ]
  },
  {
   "cell_type": "code",
   "execution_count": 44,
   "id": "e1f8a750-26e1-40de-9454-275571cf80a0",
   "metadata": {},
   "outputs": [
    {
     "data": {
      "text/plain": [
       "(54, 8)"
      ]
     },
     "execution_count": 44,
     "metadata": {},
     "output_type": "execute_result"
    }
   ],
   "source": [
    "low_corruption = df1[(df1['Perceptions of corruption']<df1['Perceptions of corruption'].mean())]\n",
    "\n",
    "low_corruption.shape"
   ]
  },
  {
   "cell_type": "code",
   "execution_count": 49,
   "id": "d134326d-d3cd-4b76-8851-42f8fe15ebfc",
   "metadata": {},
   "outputs": [
    {
     "data": {
      "text/html": [
       "<div>\n",
       "<style scoped>\n",
       "    .dataframe tbody tr th:only-of-type {\n",
       "        vertical-align: middle;\n",
       "    }\n",
       "\n",
       "    .dataframe tbody tr th {\n",
       "        vertical-align: top;\n",
       "    }\n",
       "\n",
       "    .dataframe thead th {\n",
       "        text-align: right;\n",
       "    }\n",
       "</style>\n",
       "<table border=\"1\" class=\"dataframe\">\n",
       "  <thead>\n",
       "    <tr style=\"text-align: right;\">\n",
       "      <th></th>\n",
       "      <th>Regional indicator</th>\n",
       "      <th>Ladder score</th>\n",
       "      <th>Logged GDP per capita</th>\n",
       "      <th>Social support</th>\n",
       "      <th>Healthy life expectancy</th>\n",
       "      <th>Freedom to make life choices</th>\n",
       "      <th>Generosity</th>\n",
       "      <th>Perceptions of corruption</th>\n",
       "    </tr>\n",
       "    <tr>\n",
       "      <th>Country name</th>\n",
       "      <th></th>\n",
       "      <th></th>\n",
       "      <th></th>\n",
       "      <th></th>\n",
       "      <th></th>\n",
       "      <th></th>\n",
       "      <th></th>\n",
       "      <th></th>\n",
       "    </tr>\n",
       "  </thead>\n",
       "  <tbody>\n",
       "    <tr>\n",
       "      <th>New Zealand</th>\n",
       "      <td>North America and ANZ</td>\n",
       "      <td>7.277</td>\n",
       "      <td>10.643</td>\n",
       "      <td>0.948</td>\n",
       "      <td>73.400</td>\n",
       "      <td>0.929</td>\n",
       "      <td>0.134</td>\n",
       "      <td>0.242</td>\n",
       "    </tr>\n",
       "    <tr>\n",
       "      <th>United States</th>\n",
       "      <td>North America and ANZ</td>\n",
       "      <td>6.951</td>\n",
       "      <td>11.023</td>\n",
       "      <td>0.920</td>\n",
       "      <td>68.200</td>\n",
       "      <td>0.837</td>\n",
       "      <td>0.098</td>\n",
       "      <td>0.698</td>\n",
       "    </tr>\n",
       "    <tr>\n",
       "      <th>Switzerland</th>\n",
       "      <td>Western Europe</td>\n",
       "      <td>7.571</td>\n",
       "      <td>11.117</td>\n",
       "      <td>0.942</td>\n",
       "      <td>74.400</td>\n",
       "      <td>0.919</td>\n",
       "      <td>0.025</td>\n",
       "      <td>0.292</td>\n",
       "    </tr>\n",
       "    <tr>\n",
       "      <th>United Arab Emirates</th>\n",
       "      <td>Middle East and North Africa</td>\n",
       "      <td>6.561</td>\n",
       "      <td>11.085</td>\n",
       "      <td>0.844</td>\n",
       "      <td>67.333</td>\n",
       "      <td>0.932</td>\n",
       "      <td>0.074</td>\n",
       "      <td>0.589</td>\n",
       "    </tr>\n",
       "    <tr>\n",
       "      <th>Nepal</th>\n",
       "      <td>South Asia</td>\n",
       "      <td>5.269</td>\n",
       "      <td>8.120</td>\n",
       "      <td>0.774</td>\n",
       "      <td>64.233</td>\n",
       "      <td>0.782</td>\n",
       "      <td>0.152</td>\n",
       "      <td>0.727</td>\n",
       "    </tr>\n",
       "    <tr>\n",
       "      <th>Saudi Arabia</th>\n",
       "      <td>Middle East and North Africa</td>\n",
       "      <td>6.494</td>\n",
       "      <td>10.743</td>\n",
       "      <td>0.891</td>\n",
       "      <td>66.603</td>\n",
       "      <td>0.877</td>\n",
       "      <td>-0.149</td>\n",
       "      <td>0.684</td>\n",
       "    </tr>\n",
       "    <tr>\n",
       "      <th>Singapore</th>\n",
       "      <td>Southeast Asia</td>\n",
       "      <td>6.377</td>\n",
       "      <td>11.488</td>\n",
       "      <td>0.915</td>\n",
       "      <td>76.953</td>\n",
       "      <td>0.927</td>\n",
       "      <td>-0.018</td>\n",
       "      <td>0.082</td>\n",
       "    </tr>\n",
       "    <tr>\n",
       "      <th>Laos</th>\n",
       "      <td>Southeast Asia</td>\n",
       "      <td>5.030</td>\n",
       "      <td>8.947</td>\n",
       "      <td>0.728</td>\n",
       "      <td>58.968</td>\n",
       "      <td>0.910</td>\n",
       "      <td>0.123</td>\n",
       "      <td>0.658</td>\n",
       "    </tr>\n",
       "    <tr>\n",
       "      <th>Belarus</th>\n",
       "      <td>Commonwealth of Independent States</td>\n",
       "      <td>5.534</td>\n",
       "      <td>9.853</td>\n",
       "      <td>0.910</td>\n",
       "      <td>66.253</td>\n",
       "      <td>0.650</td>\n",
       "      <td>-0.180</td>\n",
       "      <td>0.627</td>\n",
       "    </tr>\n",
       "    <tr>\n",
       "      <th>Denmark</th>\n",
       "      <td>Western Europe</td>\n",
       "      <td>7.620</td>\n",
       "      <td>10.933</td>\n",
       "      <td>0.954</td>\n",
       "      <td>72.700</td>\n",
       "      <td>0.946</td>\n",
       "      <td>0.030</td>\n",
       "      <td>0.179</td>\n",
       "    </tr>\n",
       "  </tbody>\n",
       "</table>\n",
       "</div>"
      ],
      "text/plain": [
       "                                      Regional indicator  Ladder score  \\\n",
       "Country name                                                             \n",
       "New Zealand                        North America and ANZ         7.277   \n",
       "United States                      North America and ANZ         6.951   \n",
       "Switzerland                               Western Europe         7.571   \n",
       "United Arab Emirates        Middle East and North Africa         6.561   \n",
       "Nepal                                         South Asia         5.269   \n",
       "Saudi Arabia                Middle East and North Africa         6.494   \n",
       "Singapore                                 Southeast Asia         6.377   \n",
       "Laos                                      Southeast Asia         5.030   \n",
       "Belarus               Commonwealth of Independent States         5.534   \n",
       "Denmark                                   Western Europe         7.620   \n",
       "\n",
       "                      Logged GDP per capita  Social support  \\\n",
       "Country name                                                  \n",
       "New Zealand                          10.643           0.948   \n",
       "United States                        11.023           0.920   \n",
       "Switzerland                          11.117           0.942   \n",
       "United Arab Emirates                 11.085           0.844   \n",
       "Nepal                                 8.120           0.774   \n",
       "Saudi Arabia                         10.743           0.891   \n",
       "Singapore                            11.488           0.915   \n",
       "Laos                                  8.947           0.728   \n",
       "Belarus                               9.853           0.910   \n",
       "Denmark                              10.933           0.954   \n",
       "\n",
       "                      Healthy life expectancy  Freedom to make life choices  \\\n",
       "Country name                                                                  \n",
       "New Zealand                            73.400                         0.929   \n",
       "United States                          68.200                         0.837   \n",
       "Switzerland                            74.400                         0.919   \n",
       "United Arab Emirates                   67.333                         0.932   \n",
       "Nepal                                  64.233                         0.782   \n",
       "Saudi Arabia                           66.603                         0.877   \n",
       "Singapore                              76.953                         0.927   \n",
       "Laos                                   58.968                         0.910   \n",
       "Belarus                                66.253                         0.650   \n",
       "Denmark                                72.700                         0.946   \n",
       "\n",
       "                      Generosity  Perceptions of corruption  \n",
       "Country name                                                 \n",
       "New Zealand                0.134                      0.242  \n",
       "United States              0.098                      0.698  \n",
       "Switzerland                0.025                      0.292  \n",
       "United Arab Emirates       0.074                      0.589  \n",
       "Nepal                      0.152                      0.727  \n",
       "Saudi Arabia              -0.149                      0.684  \n",
       "Singapore                 -0.018                      0.082  \n",
       "Laos                       0.123                      0.658  \n",
       "Belarus                   -0.180                      0.627  \n",
       "Denmark                    0.030                      0.179  "
      ]
     },
     "execution_count": 49,
     "metadata": {},
     "output_type": "execute_result"
    }
   ],
   "source": [
    "low_corruption.sample(10)"
   ]
  },
  {
   "cell_type": "code",
   "execution_count": 45,
   "id": "3fbcdc1b-6d6e-4bad-8de4-88ea0143f1f5",
   "metadata": {},
   "outputs": [
    {
     "name": "stdout",
     "output_type": "stream",
     "text": [
      "Out of 149 countries; Citizens of 95 countries perceive above the mean level of perceptions of corruption in their countries.\n",
      "On the other hand citizens of 54 countries perceive below the mean level of perceptions of corruption in their countries.\n"
     ]
    }
   ],
   "source": [
    "print(f'Out of {df1.shape[0]} countries; Citizens of {high_corruption.shape[0]} countries perceive above the mean level of perceptions of corruption in their countries.\\nOn the other hand citizens of {low_corruption.shape[0]} countries perceive below the mean level of perceptions of corruption in their countries.')"
   ]
  },
  {
   "cell_type": "code",
   "execution_count": null,
   "id": "54aef8bf-6a9e-4963-be50-b74f297d29bf",
   "metadata": {},
   "outputs": [],
   "source": []
  },
  {
   "cell_type": "code",
   "execution_count": null,
   "id": "03aed218-2202-4db4-be58-7d16b109c136",
   "metadata": {},
   "outputs": [],
   "source": []
  },
  {
   "cell_type": "code",
   "execution_count": null,
   "id": "e27de6e7-4a51-4d79-ae5f-8321e7abdc4c",
   "metadata": {},
   "outputs": [],
   "source": []
  },
  {
   "cell_type": "code",
   "execution_count": null,
   "id": "7f3992dd-91a1-445b-8a5d-6c8d26f5c3c4",
   "metadata": {},
   "outputs": [],
   "source": []
  },
  {
   "cell_type": "code",
   "execution_count": null,
   "id": "5b08fc2d-34fd-4c81-96ba-997ba813d83c",
   "metadata": {},
   "outputs": [],
   "source": []
  }
 ],
 "metadata": {
  "kernelspec": {
   "display_name": "Python 3",
   "language": "python",
   "name": "python3"
  },
  "language_info": {
   "codemirror_mode": {
    "name": "ipython",
    "version": 3
   },
   "file_extension": ".py",
   "mimetype": "text/x-python",
   "name": "python",
   "nbconvert_exporter": "python",
   "pygments_lexer": "ipython3",
   "version": "3.8.8"
  }
 },
 "nbformat": 4,
 "nbformat_minor": 5
}
