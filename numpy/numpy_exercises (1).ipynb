{
 "cells": [
  {
   "cell_type": "code",
   "execution_count": null,
   "id": "3487e079",
   "metadata": {},
   "outputs": [],
   "source": [
    "Exercise 1: Create a 4X2 integer array and Prints its attributes\n",
    "Note: The element must be a type of unsigned int16. And print the following Attributes: –\n",
    "\n",
    "The shape of an array.\n",
    "Array dimensions.\n",
    "The Length of each element of the array in bytes.\n",
    "Expected Output:\n",
    "\n",
    "Printing Array\n",
    "\n",
    "[[64392 31655]\n",
    " [32579     0]\n",
    " [49248   462]\n",
    " [    0     0]]\n",
    "\n",
    "Printing NumPy array Attributes\n",
    "\n",
    "Array Shape is:  (4, 2)\n",
    "Array dimensions are  2\n",
    "Length of each element of array in bytes is  2"
   ]
  },
  {
   "cell_type": "code",
   "execution_count": null,
   "id": "48f78244",
   "metadata": {},
   "outputs": [],
   "source": [
    "import numpy as np"
   ]
  },
  {
   "cell_type": "code",
   "execution_count": null,
   "id": "8f5c8dd2",
   "metadata": {},
   "outputs": [],
   "source": [
    "a = np.arange(2,20, dtype = float).reshape(3,6)\n",
    "a"
   ]
  },
  {
   "cell_type": "code",
   "execution_count": null,
   "id": "59c3ebfe",
   "metadata": {},
   "outputs": [],
   "source": [
    "print(\"Array Shape is: \",a.shape)"
   ]
  },
  {
   "cell_type": "code",
   "execution_count": null,
   "id": "8ebaa0aa",
   "metadata": {},
   "outputs": [],
   "source": [
    "print(\"Array dimensions are : \", a.ndim)"
   ]
  },
  {
   "cell_type": "code",
   "execution_count": null,
   "id": "638dd082",
   "metadata": {},
   "outputs": [],
   "source": [
    "print(\"Array number of elements: \", a.size)"
   ]
  },
  {
   "cell_type": "code",
   "execution_count": null,
   "id": "490b5ab9",
   "metadata": {},
   "outputs": [],
   "source": [
    "print(\"Length of each element of array in bytes is \", a.itemsize)"
   ]
  },
  {
   "cell_type": "code",
   "execution_count": null,
   "id": "c3a66cab",
   "metadata": {},
   "outputs": [],
   "source": [
    "print(\"type of array \",a.dtype)"
   ]
  },
  {
   "cell_type": "code",
   "execution_count": null,
   "id": "7e049c24",
   "metadata": {},
   "outputs": [],
   "source": [
    "Exercise 2: Create a 5X2 integer array from a range between 100 to 200 \n",
    "such that the difference between each element is 10\n",
    "Expected Output:\n",
    "\n",
    "Creating 5X2 array using numpy.arange\n",
    "[[100 110]\n",
    " [120 130]\n",
    " [140 150]\n",
    " [160 170]\n",
    " [180 190]]"
   ]
  },
  {
   "cell_type": "code",
   "execution_count": null,
   "id": "d83e5786",
   "metadata": {},
   "outputs": [],
   "source": [
    "a = np.arange(100,200,10).reshape(5,2)\n",
    "a"
   ]
  },
  {
   "cell_type": "code",
   "execution_count": null,
   "id": "0fb0a75d",
   "metadata": {},
   "outputs": [],
   "source": [
    "Exercise 3: Following is the provided numPy array. \n",
    "return array of items in the third column from all rows\n",
    "\n",
    "sampleArray = numpy.array([[11 ,22, 33], [44, 55, 66], [77, 88, 99]])"
   ]
  },
  {
   "cell_type": "code",
   "execution_count": null,
   "id": "91964f35",
   "metadata": {},
   "outputs": [],
   "source": [
    "sampleArray = np.array([[11 ,22, 33], [44, 55, 66], [77, 88, 99]])\n",
    "sampleArray[:,2]"
   ]
  },
  {
   "cell_type": "code",
   "execution_count": null,
   "id": "dadf9c24",
   "metadata": {},
   "outputs": [],
   "source": [
    "Exercise 4: Return array of odd rows and even columns from below numpy array\n",
    "sampleArray = numpy.array([[3 ,6, 9, 12], [15 ,18, 21, 24], \n",
    "[27 ,30, 33, 36], [39 ,42, 45, 48], [51 ,54, 57, 60]])\n",
    "Expected Output:\n",
    "Printing Input Array\n",
    "[[ 3  6  9 12]\n",
    " [15 18 21 24]\n",
    " [27 30 33 36]\n",
    " [39 42 45 48]\n",
    " [51 54 57 60]]\n",
    "\n",
    "Printing array of odd rows and even columns\n",
    "[[ 6 12]\n",
    " [30 36]\n",
    " [54 60]]"
   ]
  },
  {
   "cell_type": "code",
   "execution_count": null,
   "id": "e3977612",
   "metadata": {},
   "outputs": [],
   "source": [
    "a = np.array([[3 ,6, 9, 12], [15 ,18, 21, 24], \n",
    "[27 ,30, 33, 36], [39 ,42, 45, 48], [51 ,54, 57, 60]])\n",
    "a"
   ]
  },
  {
   "cell_type": "code",
   "execution_count": null,
   "id": "f4bb16fa",
   "metadata": {},
   "outputs": [],
   "source": [
    "a[::2,1::2]"
   ]
  },
  {
   "cell_type": "code",
   "execution_count": null,
   "id": "58f18ad4",
   "metadata": {},
   "outputs": [],
   "source": [
    "Exercise 5: Create a result array by adding the following two NumPy arrays.\n",
    "Next, modify the result array by calculating the square of each element\n",
    "arrayOne = numpy.array([[5, 6, 9], [21 ,18, 27]])\n",
    "arrayTwo = numpy.array([[15 ,33, 24], [4 ,7, 1]])\n",
    "Expected Output:\n",
    "\n",
    "addition of two arrays is \n",
    "\n",
    "[[20 39 33]\n",
    " [25 25 28]]\n",
    "\n",
    "Result array after calculating the square root of all elements\n",
    "\n",
    "[[ 400 1521 1089]\n",
    " [ 625  625  784]]"
   ]
  },
  {
   "cell_type": "code",
   "execution_count": null,
   "id": "b1ec8c49",
   "metadata": {},
   "outputs": [],
   "source": [
    "arrayOne = np.array([[5, 6, 9], [21 ,18, 27]])\n",
    "arrayTwo = np.array([[15 ,33, 24], [4 ,7, 1]])\n",
    "c = arrayOne+arrayTwo\n",
    "c"
   ]
  },
  {
   "cell_type": "code",
   "execution_count": null,
   "id": "c9fd5043",
   "metadata": {},
   "outputs": [],
   "source": [
    "np.sqrt(c)"
   ]
  },
  {
   "cell_type": "code",
   "execution_count": null,
   "id": "b7433a29",
   "metadata": {},
   "outputs": [],
   "source": [
    "np.power(c,2)"
   ]
  },
  {
   "cell_type": "code",
   "execution_count": null,
   "id": "793d84e6",
   "metadata": {},
   "outputs": [],
   "source": [
    "Exercise 6: Split the array into four equal-sized sub-arrays\n",
    "Note: Create an 8X3 integer array from a range between 10 to 34 such \n",
    "that the difference between each element is 1 and then \n",
    "Split the array into four equal-sized sub-arrays.\n",
    "\n",
    "Expected Output:\n",
    "Creating 8X3 array using numpy.arange\n",
    "[[10 11 12]\n",
    " [13 14 15]\n",
    " [16 17 18]\n",
    " [19 20 21]\n",
    " [22 23 24]\n",
    " [25 26 27]\n",
    " [28 29 30]\n",
    " [31 32 33]]\n",
    "\n",
    "Dividing 8X3 array into 4 sub array\n",
    "\n",
    "[array([[10, 11, 12],[13, 14, 15]]), \n",
    "array([[16, 17, 18],[19, 20, 21]]), \n",
    "array([[22, 23, 24],[25, 26, 27]]), \n",
    "array([[28, 29, 30],[31, 32, 33]])]"
   ]
  },
  {
   "cell_type": "code",
   "execution_count": null,
   "id": "69a33737",
   "metadata": {},
   "outputs": [],
   "source": [
    "a = np.arange(10,34).reshape(8,3)\n",
    "np.split(a,4)"
   ]
  },
  {
   "cell_type": "code",
   "execution_count": null,
   "id": "33a30482",
   "metadata": {},
   "outputs": [],
   "source": [
    "Exercise 7: Sort following NumPy array\n",
    "Case 1: Sort array by the second row\n",
    "Case 2: Sort the array by the second column\n",
    "    \n",
    "sampleArray = numpy.array([[34,43,73],[82,22,12],[53,94,66]])\n",
    "Expected Output:\n",
    "\n",
    "Printing Original array\n",
    "[[34 43 73]\n",
    " [82 22 12]\n",
    " [53 94 66]]\n",
    "\n",
    "Sorting Original array by second row\n",
    "[[73 43 34]\n",
    " [12 22 82]\n",
    " [66 94 53]]\n",
    "\n",
    "Sorting Original array by second column\n",
    "[[82 22 12]\n",
    " [34 43 73]\n",
    " [53 94 66]]"
   ]
  },
  {
   "cell_type": "code",
   "execution_count": null,
   "id": "b9f3596b",
   "metadata": {},
   "outputs": [],
   "source": [
    "a = np.array([[34,43,73],[82,22,12],[53,94,66]])\n",
    "a\n"
   ]
  },
  {
   "cell_type": "code",
   "execution_count": null,
   "id": "6c8060c4",
   "metadata": {},
   "outputs": [],
   "source": [
    "np.sort(a[1])"
   ]
  },
  {
   "cell_type": "code",
   "execution_count": null,
   "id": "386c97bd",
   "metadata": {},
   "outputs": [],
   "source": [
    "a[1]=np.sort(a[1])\n",
    "a"
   ]
  },
  {
   "cell_type": "code",
   "execution_count": 5,
   "id": "c5aeb638",
   "metadata": {},
   "outputs": [],
   "source": [
    "sampleArray = np.array([[34,43,73],[82,22,12],[53,94,66]])\n",
    "sortArrayByRow = sampleArray[:,sampleArray[1,:].argsort()]\n"
   ]
  },
  {
   "cell_type": "code",
   "execution_count": 6,
   "id": "c24ef800",
   "metadata": {},
   "outputs": [],
   "source": [
    "sortArrayByRow = sampleArray[:,sampleArray[1,:].argsort()]"
   ]
  },
  {
   "cell_type": "code",
   "execution_count": 3,
   "id": "42d664c0",
   "metadata": {},
   "outputs": [
    {
     "data": {
      "text/plain": [
       "array([1, 2, 0], dtype=int64)"
      ]
     },
     "execution_count": 3,
     "metadata": {},
     "output_type": "execute_result"
    }
   ],
   "source": [
    "sampleArray[1,:].argsort()"
   ]
  },
  {
   "cell_type": "code",
   "execution_count": null,
   "id": "81eabb7f",
   "metadata": {},
   "outputs": [],
   "source": [
    "Exercise 8: Print max from axis 0 and min from axis 1 from the following 2-D array.\n",
    "sampleArray = numpy.array([[34,43,73],[82,22,12],[53,94,66]])\n",
    "Expected Output:\n",
    "\n",
    "Printing Original array\n",
    "[[34 43 73]\n",
    " [82 22 12]\n",
    " [53 94 66]]\n",
    "\n",
    "Printing amin Of Axis 1\n",
    "[34 12 53]\n",
    "\n",
    "Printing amax Of Axis 0\n",
    "[82 94 73]"
   ]
  },
  {
   "cell_type": "code",
   "execution_count": 18,
   "id": "fb533b5c",
   "metadata": {},
   "outputs": [
    {
     "data": {
      "text/plain": [
       "array([[34, 43, 73],\n",
       "       [82, 22, 12],\n",
       "       [53, 65, 66]])"
      ]
     },
     "execution_count": 18,
     "metadata": {},
     "output_type": "execute_result"
    }
   ],
   "source": [
    "sampleArray = np.array([[34,43,73],[82,22,12],[53,65,66]])\n",
    "sampleArray\n"
   ]
  },
  {
   "cell_type": "code",
   "execution_count": 20,
   "id": "0e144cdc",
   "metadata": {},
   "outputs": [
    {
     "data": {
      "text/plain": [
       "array([34, 22, 12])"
      ]
     },
     "execution_count": 20,
     "metadata": {},
     "output_type": "execute_result"
    }
   ],
   "source": [
    "np.min(sampleArray,axis=0)  # y ekseni yani sütunlardan en küçükleri aldık\n"
   ]
  },
  {
   "cell_type": "code",
   "execution_count": 19,
   "id": "55c58f42",
   "metadata": {},
   "outputs": [
    {
     "data": {
      "text/plain": [
       "array([73, 82, 66])"
      ]
     },
     "execution_count": 19,
     "metadata": {},
     "output_type": "execute_result"
    }
   ],
   "source": [
    "np.max(sampleArray,axis=1) # x ekseni yani satırların en büyükleri aldık"
   ]
  },
  {
   "cell_type": "code",
   "execution_count": null,
   "id": "8e7a3b09",
   "metadata": {},
   "outputs": [],
   "source": [
    "Exercise 9: Delete the second column from a given array and insert the following \n",
    "new column in its place.\n",
    "sampleArray = numpy.array([[34,43,73],[82,22,12],[53,94,66]]) \n",
    "newColumn = numpy.array([[10,10,10]])\n",
    "\n",
    "Expected Output:\n",
    "\n",
    "Printing Original array\n",
    "[[34 43 73]\n",
    " [82 22 12]\n",
    " [53 94 66]]\n",
    "\n",
    "Array after deleting column 2 on axis 1\n",
    "[[34 73]\n",
    " [82 12]\n",
    " [53 66]]\n",
    "\n",
    "Array after inserting column 2 on axis 1\n",
    "[[34 10 73]\n",
    " [82 10 12]\n",
    " [53 10 66]]"
   ]
  },
  {
   "cell_type": "code",
   "execution_count": 21,
   "id": "71199072",
   "metadata": {},
   "outputs": [
    {
     "data": {
      "text/plain": [
       "array([[34, 43, 73],\n",
       "       [82, 22, 12],\n",
       "       [53, 94, 66]])"
      ]
     },
     "execution_count": 21,
     "metadata": {},
     "output_type": "execute_result"
    }
   ],
   "source": [
    "a = np.array([[34,43,73],[82,22,12],[53,94,66]]) \n",
    "\n",
    "a"
   ]
  },
  {
   "cell_type": "code",
   "execution_count": 22,
   "id": "2e9c98c4",
   "metadata": {},
   "outputs": [
    {
     "data": {
      "text/plain": [
       "array([[34, 73],\n",
       "       [82, 12],\n",
       "       [53, 66]])"
      ]
     },
     "execution_count": 22,
     "metadata": {},
     "output_type": "execute_result"
    }
   ],
   "source": [
    "np.delete(a , 1, axis = 1)  # her satırdaki 1. indexleri sildik"
   ]
  },
  {
   "cell_type": "code",
   "execution_count": 25,
   "id": "dbd9b4b6",
   "metadata": {},
   "outputs": [
    {
     "data": {
      "text/plain": [
       "array([[34, 10, 43, 73],\n",
       "       [82, 10, 22, 12],\n",
       "       [53, 10, 94, 66]])"
      ]
     },
     "execution_count": 25,
     "metadata": {},
     "output_type": "execute_result"
    }
   ],
   "source": [
    "arr = np.array([[10,10,10]])   \n",
    "np.insert(a,1,arr,axis= 1)  # her bir satırın 1. indexlerine ekleme yaptık."
   ]
  },
  {
   "cell_type": "code",
   "execution_count": 23,
   "id": "ef3272b7",
   "metadata": {},
   "outputs": [
    {
     "data": {
      "text/plain": [
       "array([[34, 43, 73],\n",
       "       [53, 94, 66]])"
      ]
     },
     "execution_count": 23,
     "metadata": {},
     "output_type": "execute_result"
    }
   ],
   "source": [
    "a = np.array([[34,43,73],[82,22,12],[53,94,66]]) # her sütundaki 1. indexleri sildik\n",
    "np.delete(a,1,axis=0)\n"
   ]
  },
  {
   "cell_type": "code",
   "execution_count": null,
   "id": "3b7f1b49",
   "metadata": {},
   "outputs": [],
   "source": [
    "Exercise 10: Create two 2-D arrays and Plot them using matplotlib\n"
   ]
  },
  {
   "cell_type": "code",
   "execution_count": 27,
   "id": "3102795d",
   "metadata": {},
   "outputs": [
    {
     "data": {
      "text/plain": [
       "array([[ 3, 10, 12],\n",
       "       [10, 18,  5]])"
      ]
     },
     "execution_count": 27,
     "metadata": {},
     "output_type": "execute_result"
    }
   ],
   "source": [
    "a = np.random.randint(2,20, size= (2,3))\n",
    "a"
   ]
  },
  {
   "cell_type": "code",
   "execution_count": 29,
   "id": "9d08a64d",
   "metadata": {},
   "outputs": [
    {
     "data": {
      "text/plain": [
       "array([[100, 110],\n",
       "       [120, 130],\n",
       "       [140, 150],\n",
       "       [160, 170],\n",
       "       [180, 190]])"
      ]
     },
     "execution_count": 29,
     "metadata": {},
     "output_type": "execute_result"
    }
   ],
   "source": [
    "import numpy as np\n",
    "import matplotlib.pyplot as plt\n",
    "\n",
    "samplear=np.arange(100,200,10)\n",
    "samplear=samplear.reshape(5,2)\n",
    "samplear\n"
   ]
  },
  {
   "cell_type": "code",
   "execution_count": 31,
   "id": "85f7ae95",
   "metadata": {},
   "outputs": [
    {
     "data": {
      "text/plain": [
       "array([[110],\n",
       "       [130],\n",
       "       [150],\n",
       "       [170],\n",
       "       [190]])"
      ]
     },
     "execution_count": 31,
     "metadata": {},
     "output_type": "execute_result"
    }
   ],
   "source": [
    "x=samplear[:,0:1]\n",
    "y=samplear[:,1:2]\n",
    "\n"
   ]
  },
  {
   "cell_type": "code",
   "execution_count": 32,
   "id": "d7e25077",
   "metadata": {},
   "outputs": [
    {
     "data": {
      "image/png": "[encoded data removed]",
      "text/plain": [
       "<Figure size 432x288 with 1 Axes>"
      ]
     },
     "metadata": {
      "needs_background": "light"
     },
     "output_type": "display_data"
    }
   ],
   "source": [
    "plt.plot(x,y)\n",
    "plt.show()"
   ]
  }
 ],
 "metadata": {
  "kernelspec": {
   "display_name": "Python 3",
   "language": "python",
   "name": "python3"
  },
  "language_info": {
   "codemirror_mode": {
    "name": "ipython",
    "version": 3
   },
   "file_extension": ".py",
   "mimetype": "text/x-python",
   "name": "python",
   "nbconvert_exporter": "python",
   "pygments_lexer": "ipython3",
   "version": "3.8.5"
  }
 },
 "nbformat": 4,
 "nbformat_minor": 5
}
