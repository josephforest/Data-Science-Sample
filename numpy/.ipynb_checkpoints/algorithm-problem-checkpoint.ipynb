{
 "cells": [
  {
   "cell_type": "code",
   "execution_count": null,
   "metadata": {},
   "outputs": [],
   "source": [
    "12 saatlik formatta verilen stringi 24 saatlik formata, \n",
    "eğer 24 saatlik verilmişse 12 saate çeviren fonksiyon yazalım.\n",
    "print(saat_cevir(\"12:00 am\")) -->00:00\n",
    "print(saat_cevir(\"15:15\")) --> 3:15 pm\n",
    "print(saat_cevir(\"2:00\")) --> 2:00 am\n",
    "print(saat_cevir(\"2:00 pm\")) -->14:00"
   ]
  },
  {
   "cell_type": "code",
   "execution_count": 36,
   "metadata": {},
   "outputs": [],
   "source": [
    "def saat_cevir(args):\n",
    "    data = args.split(\":\")\n",
    "    result = \"\"\n",
    "    if int(data[0]) == 12:\n",
    "        data[0] = \"00\"\n",
    "        print(data[0]+\":\"+data[1])\n",
    "        \n",
    "    elif int(data[0]) > 12:\n",
    "        data[0] =  int(data[0]) - 12\n",
    "        data[0] = str(data[0])\n",
    "        result = data[0]+\":\"+data[1]+\" pm\"\n",
    "        return result\n",
    "    \n",
    "    elif int(data[0]) < 12:\n",
    "        print(args,\"am\")"
   ]
  },
  {
   "cell_type": "code",
   "execution_count": 38,
   "metadata": {},
   "outputs": [
    {
     "data": {
      "text/plain": [
       "'10:00 pm'"
      ]
     },
     "execution_count": 38,
     "metadata": {},
     "output_type": "execute_result"
    }
   ],
   "source": [
    "saat_cevir(\"22:00\")"
   ]
  },
  {
   "cell_type": "code",
   "execution_count": null,
   "metadata": {},
   "outputs": [],
   "source": []
  }
 ],
 "metadata": {
  "kernelspec": {
   "display_name": "Python 3",
   "language": "python",
   "name": "python3"
  },
  "language_info": {
   "codemirror_mode": {
    "name": "ipython",
    "version": 3
   },
   "file_extension": ".py",
   "mimetype": "text/x-python",
   "name": "python",
   "nbconvert_exporter": "python",
   "pygments_lexer": "ipython3",
   "version": "3.8.5"
  }
 },
 "nbformat": 4,
 "nbformat_minor": 4
}
